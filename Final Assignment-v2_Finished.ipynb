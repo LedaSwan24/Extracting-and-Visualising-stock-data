{
 "cells": [
  {
   "cell_type": "markdown",
   "id": "d4e7b519-2ad3-409c-8724-2eece4fe5ff7",
   "metadata": {},
   "source": [
    "<p style=\"text-align:center\">\n",
    "    <a href=\"https://skills.network/?utm_medium=Exinfluencer&utm_source=Exinfluencer&utm_content=000026UJ&utm_term=10006555&utm_id=NA-SkillsNetwork-Channel-SkillsNetworkCoursesIBMDeveloperSkillsNetworkPY0220ENSkillsNetwork900-2022-01-01\" target=\"_blank\">\n",
    "    <img src=\"https://cf-courses-data.s3.us.cloud-object-storage.appdomain.cloud/assets/logos/SN_web_lightmode.png\" width=\"200\" alt=\"Skills Network Logo\">\n",
    "    </a>\n",
    "</p>\n"
   ]
  },
  {
   "cell_type": "markdown",
   "id": "f0b12464-256c-414d-9987-67b703e13ecf",
   "metadata": {},
   "source": [
    "<h1>Extracting and Visualizing Stock Data</h1>\n",
    "<h2>Description</h2>\n"
   ]
  },
  {
   "cell_type": "markdown",
   "id": "9cde37b1-5bf2-461c-8fad-9036ca9019be",
   "metadata": {},
   "source": [
    "Extracting essential data from a dataset and displaying it is a necessary part of data science; therefore individuals can make correct decisions based on the data. In this assignment, you will extract some stock data, you will then display this data in a graph.\n"
   ]
  },
  {
   "cell_type": "markdown",
   "id": "59b09da9-0a10-4af8-8b3b-d3f7da09e03b",
   "metadata": {},
   "source": [
    "<h2>Table of Contents</h2>\n",
    "<div class=\"alert alert-block alert-info\" style=\"margin-top: 20px\">\n",
    "    <ul>\n",
    "        <li>Define a Function that Makes a Graph</li>\n",
    "        <li>Question 1: Use yfinance to Extract Stock Data</li>\n",
    "        <li>Question 2: Use Webscraping to Extract Tesla Revenue Data</li>\n",
    "        <li>Question 3: Use yfinance to Extract Stock Data</li>\n",
    "        <li>Question 4: Use Webscraping to Extract GME Revenue Data</li>\n",
    "        <li>Question 5: Plot Tesla Stock Graph</li>\n",
    "        <li>Question 6: Plot GameStop Stock Graph</li>\n",
    "    </ul>\n",
    "<p>\n",
    "    Estimated Time Needed: <strong>30 min</strong></p>\n",
    "</div>\n",
    "\n",
    "<hr>\n"
   ]
  },
  {
   "cell_type": "markdown",
   "id": "37b13b17-e7a0-43eb-ac94-9aa58aa6ce37",
   "metadata": {},
   "source": [
    "***Note***:- If you are working Locally using anaconda, please uncomment the following code and execute it.\n",
    "Use the version as per your python version.\n"
   ]
  },
  {
   "cell_type": "code",
   "execution_count": 2,
   "id": "8bccd341-3044-4bfc-b82a-d653d49b37e8",
   "metadata": {},
   "outputs": [
    {
     "name": "stdout",
     "output_type": "stream",
     "text": [
      "Requirement already satisfied: yfinance in c:\\users\\joanna\\appdata\\local\\programs\\python\\python312\\lib\\site-packages (0.2.49)\n",
      "Requirement already satisfied: pandas>=1.3.0 in c:\\users\\joanna\\appdata\\local\\programs\\python\\python312\\lib\\site-packages (from yfinance) (2.2.3)\n",
      "Requirement already satisfied: numpy>=1.16.5 in c:\\users\\joanna\\appdata\\local\\programs\\python\\python312\\lib\\site-packages (from yfinance) (2.1.3)\n",
      "Requirement already satisfied: requests>=2.31 in c:\\users\\joanna\\appdata\\local\\programs\\python\\python312\\lib\\site-packages (from yfinance) (2.32.3)\n",
      "Requirement already satisfied: multitasking>=0.0.7 in c:\\users\\joanna\\appdata\\local\\programs\\python\\python312\\lib\\site-packages (from yfinance) (0.0.11)\n",
      "Requirement already satisfied: lxml>=4.9.1 in c:\\users\\joanna\\appdata\\local\\programs\\python\\python312\\lib\\site-packages (from yfinance) (5.3.0)\n",
      "Requirement already satisfied: platformdirs>=2.0.0 in c:\\users\\joanna\\appdata\\roaming\\python\\python312\\site-packages (from yfinance) (4.3.6)\n",
      "Requirement already satisfied: pytz>=2022.5 in c:\\users\\joanna\\appdata\\local\\programs\\python\\python312\\lib\\site-packages (from yfinance) (2024.2)\n",
      "Requirement already satisfied: frozendict>=2.3.4 in c:\\users\\joanna\\appdata\\local\\programs\\python\\python312\\lib\\site-packages (from yfinance) (2.4.6)\n",
      "Requirement already satisfied: peewee>=3.16.2 in c:\\users\\joanna\\appdata\\local\\programs\\python\\python312\\lib\\site-packages (from yfinance) (3.17.8)\n",
      "Requirement already satisfied: beautifulsoup4>=4.11.1 in c:\\users\\joanna\\appdata\\local\\programs\\python\\python312\\lib\\site-packages (from yfinance) (4.12.3)\n",
      "Requirement already satisfied: html5lib>=1.1 in c:\\users\\joanna\\appdata\\local\\programs\\python\\python312\\lib\\site-packages (from yfinance) (1.1)\n",
      "Requirement already satisfied: soupsieve>1.2 in c:\\users\\joanna\\appdata\\local\\programs\\python\\python312\\lib\\site-packages (from beautifulsoup4>=4.11.1->yfinance) (2.6)\n",
      "Requirement already satisfied: six>=1.9 in c:\\users\\joanna\\appdata\\roaming\\python\\python312\\site-packages (from html5lib>=1.1->yfinance) (1.16.0)\n",
      "Requirement already satisfied: webencodings in c:\\users\\joanna\\appdata\\local\\programs\\python\\python312\\lib\\site-packages (from html5lib>=1.1->yfinance) (0.5.1)\n",
      "Requirement already satisfied: python-dateutil>=2.8.2 in c:\\users\\joanna\\appdata\\roaming\\python\\python312\\site-packages (from pandas>=1.3.0->yfinance) (2.9.0.post0)\n",
      "Requirement already satisfied: tzdata>=2022.7 in c:\\users\\joanna\\appdata\\local\\programs\\python\\python312\\lib\\site-packages (from pandas>=1.3.0->yfinance) (2024.2)\n",
      "Requirement already satisfied: charset-normalizer<4,>=2 in c:\\users\\joanna\\appdata\\local\\programs\\python\\python312\\lib\\site-packages (from requests>=2.31->yfinance) (3.4.0)\n",
      "Requirement already satisfied: idna<4,>=2.5 in c:\\users\\joanna\\appdata\\local\\programs\\python\\python312\\lib\\site-packages (from requests>=2.31->yfinance) (3.10)\n",
      "Requirement already satisfied: urllib3<3,>=1.21.1 in c:\\users\\joanna\\appdata\\local\\programs\\python\\python312\\lib\\site-packages (from requests>=2.31->yfinance) (2.2.3)\n",
      "Requirement already satisfied: certifi>=2017.4.17 in c:\\users\\joanna\\appdata\\local\\programs\\python\\python312\\lib\\site-packages (from requests>=2.31->yfinance) (2024.8.30)\n"
     ]
    },
    {
     "name": "stderr",
     "output_type": "stream",
     "text": [
      "\n",
      "[notice] A new release of pip is available: 24.0 -> 24.3.1\n",
      "[notice] To update, run: python.exe -m pip install --upgrade pip\n"
     ]
    },
    {
     "name": "stdout",
     "output_type": "stream",
     "text": [
      "Requirement already satisfied: bs4 in c:\\users\\joanna\\appdata\\local\\programs\\python\\python312\\lib\\site-packages (0.0.2)\n",
      "Requirement already satisfied: beautifulsoup4 in c:\\users\\joanna\\appdata\\local\\programs\\python\\python312\\lib\\site-packages (from bs4) (4.12.3)\n",
      "Requirement already satisfied: soupsieve>1.2 in c:\\users\\joanna\\appdata\\local\\programs\\python\\python312\\lib\\site-packages (from beautifulsoup4->bs4) (2.6)\n"
     ]
    },
    {
     "name": "stderr",
     "output_type": "stream",
     "text": [
      "\n",
      "[notice] A new release of pip is available: 24.0 -> 24.3.1\n",
      "[notice] To update, run: python.exe -m pip install --upgrade pip\n"
     ]
    },
    {
     "name": "stdout",
     "output_type": "stream",
     "text": [
      "Requirement already satisfied: nbformat in c:\\users\\joanna\\appdata\\local\\programs\\python\\python312\\lib\\site-packages (5.10.4)\n",
      "Requirement already satisfied: fastjsonschema>=2.15 in c:\\users\\joanna\\appdata\\local\\programs\\python\\python312\\lib\\site-packages (from nbformat) (2.20.0)\n",
      "Requirement already satisfied: jsonschema>=2.6 in c:\\users\\joanna\\appdata\\local\\programs\\python\\python312\\lib\\site-packages (from nbformat) (4.23.0)\n",
      "Requirement already satisfied: jupyter-core!=5.0.*,>=4.12 in c:\\users\\joanna\\appdata\\roaming\\python\\python312\\site-packages (from nbformat) (5.7.2)\n",
      "Requirement already satisfied: traitlets>=5.1 in c:\\users\\joanna\\appdata\\roaming\\python\\python312\\site-packages (from nbformat) (5.14.3)\n",
      "Requirement already satisfied: attrs>=22.2.0 in c:\\users\\joanna\\appdata\\local\\programs\\python\\python312\\lib\\site-packages (from jsonschema>=2.6->nbformat) (24.2.0)\n",
      "Requirement already satisfied: jsonschema-specifications>=2023.03.6 in c:\\users\\joanna\\appdata\\local\\programs\\python\\python312\\lib\\site-packages (from jsonschema>=2.6->nbformat) (2024.10.1)\n",
      "Requirement already satisfied: referencing>=0.28.4 in c:\\users\\joanna\\appdata\\local\\programs\\python\\python312\\lib\\site-packages (from jsonschema>=2.6->nbformat) (0.35.1)\n",
      "Requirement already satisfied: rpds-py>=0.7.1 in c:\\users\\joanna\\appdata\\local\\programs\\python\\python312\\lib\\site-packages (from jsonschema>=2.6->nbformat) (0.21.0)\n",
      "Requirement already satisfied: platformdirs>=2.5 in c:\\users\\joanna\\appdata\\roaming\\python\\python312\\site-packages (from jupyter-core!=5.0.*,>=4.12->nbformat) (4.3.6)\n",
      "Requirement already satisfied: pywin32>=300 in c:\\users\\joanna\\appdata\\roaming\\python\\python312\\site-packages (from jupyter-core!=5.0.*,>=4.12->nbformat) (308)\n"
     ]
    },
    {
     "name": "stderr",
     "output_type": "stream",
     "text": [
      "\n",
      "[notice] A new release of pip is available: 24.0 -> 24.3.1\n",
      "[notice] To update, run: python.exe -m pip install --upgrade pip\n"
     ]
    }
   ],
   "source": [
    "!pip install yfinance\n",
    "!pip install bs4\n",
    "!pip install nbformat"
   ]
  },
  {
   "cell_type": "code",
   "execution_count": 3,
   "id": "92287dc6-83a8-4512-b381-56990ce011ca",
   "metadata": {},
   "outputs": [],
   "source": [
    "import yfinance as yf\n",
    "import pandas as pd\n",
    "import requests\n",
    "from bs4 import BeautifulSoup\n",
    "import plotly.graph_objects as go\n",
    "from plotly.subplots import make_subplots"
   ]
  },
  {
   "cell_type": "markdown",
   "id": "6e767261-293a-493a-b54e-ff250049703f",
   "metadata": {},
   "source": [
    "In Python, you can ignore warnings using the warnings module. You can use the filterwarnings function to filter or ignore specific warning messages or categories.\n"
   ]
  },
  {
   "cell_type": "code",
   "execution_count": 4,
   "id": "486d32a3-a561-41d4-984a-03514a3e8ea7",
   "metadata": {},
   "outputs": [],
   "source": [
    "import warnings\n",
    "# Ignore all warnings\n",
    "warnings.filterwarnings(\"ignore\", category=FutureWarning)"
   ]
  },
  {
   "cell_type": "markdown",
   "id": "78af4ada-3617-440e-b91f-0ae9984e5161",
   "metadata": {},
   "source": [
    "## Define Graphing Function\n"
   ]
  },
  {
   "cell_type": "markdown",
   "id": "2ca06fcb-f63a-439e-aea5-d89ca01d8115",
   "metadata": {},
   "source": [
    "In this section, we define the function `make_graph`. **You don't have to know how the function works, you should only care about the inputs. It takes a dataframe with stock data (dataframe must contain Date and Close columns), a dataframe with revenue data (dataframe must contain Date and Revenue columns), and the name of the stock.**\n"
   ]
  },
  {
   "cell_type": "code",
   "execution_count": 5,
   "id": "f29cf71b-f90c-4fce-9561-6b8e0eff7c5a",
   "metadata": {},
   "outputs": [],
   "source": [
    "def make_graph(stock_data, revenue_data, stock):\n",
    "    fig = make_subplots(rows=2, cols=1, shared_xaxes=True, subplot_titles=(\"Historical Share Price\", \"Historical Revenue\"), vertical_spacing = .3)\n",
    "    stock_data_specific = stock_data[stock_data.Date <= '2021--06-14']\n",
    "    revenue_data_specific = revenue_data[revenue_data.Date <= '2021-04-30']\n",
    "    fig.add_trace(go.Scatter(x=pd.to_datetime(stock_data_specific.Date, infer_datetime_format=True), y=stock_data_specific.Close.astype(\"float\"), name=\"Share Price\"), row=1, col=1)\n",
    "    fig.add_trace(go.Scatter(x=pd.to_datetime(revenue_data_specific.Date, infer_datetime_format=True), y=revenue_data_specific.Revenue.astype(\"float\"), name=\"Revenue\"), row=2, col=1)\n",
    "    fig.update_xaxes(title_text=\"Date\", row=1, col=1)\n",
    "    fig.update_xaxes(title_text=\"Date\", row=2, col=1)\n",
    "    fig.update_yaxes(title_text=\"Price ($US)\", row=1, col=1)\n",
    "    fig.update_yaxes(title_text=\"Revenue ($US Millions)\", row=2, col=1)\n",
    "    fig.update_layout(showlegend=False,\n",
    "    height=900,\n",
    "    title=stock,\n",
    "    xaxis_rangeslider_visible=True)\n",
    "    fig.show()"
   ]
  },
  {
   "cell_type": "markdown",
   "id": "cbe74f75-7aee-4ed7-96ac-380273f15624",
   "metadata": {},
   "source": [
    "Use the make_graph function that we’ve already defined. You’ll need to invoke it in questions 5 and 6 to display the graphs and create the dashboard. \n",
    "> **Note: You don’t need to redefine the function for plotting graphs anywhere else in this notebook; just use the existing function.**\n"
   ]
  },
  {
   "cell_type": "markdown",
   "id": "409874a9-79c3-435b-b3ae-f42be1e8c4bf",
   "metadata": {},
   "source": [
    "## Question 1: Use yfinance to Extract Stock Data\n"
   ]
  },
  {
   "cell_type": "markdown",
   "id": "cf42c752-7805-419b-ac37-5b3e36398cbc",
   "metadata": {},
   "source": [
    "Using the `Ticker` function enter the ticker symbol of the stock we want to extract data on to create a ticker object. The stock is Tesla and its ticker symbol is `TSLA`.\n"
   ]
  },
  {
   "cell_type": "code",
   "execution_count": 6,
   "id": "1c4194a0-16ca-40d2-8a42-2535de349564",
   "metadata": {},
   "outputs": [],
   "source": [
    "Tesla = yf.Ticker(\"TSLA\")\n"
   ]
  },
  {
   "cell_type": "markdown",
   "id": "3e5ea3e2-304e-4722-8a21-af1dbfe131ff",
   "metadata": {},
   "source": [
    "Using the ticker object and the function `history` extract stock information and save it in a dataframe named `tesla_data`. Set the `period` parameter to ` \"max\" ` so we get information for the maximum amount of time.\n"
   ]
  },
  {
   "cell_type": "code",
   "execution_count": 7,
   "id": "411ac083-2c75-4ad8-8c2a-48f393b78682",
   "metadata": {},
   "outputs": [
    {
     "name": "stdout",
     "output_type": "stream",
     "text": [
      "                               Open      High       Low     Close     Volume  \\\n",
      "Date                                                                           \n",
      "2010-06-29 00:00:00-04:00  1.266667  1.666667  1.169333  1.592667  281494500   \n",
      "2010-06-30 00:00:00-04:00  1.719333  2.028000  1.553333  1.588667  257806500   \n",
      "2010-07-01 00:00:00-04:00  1.666667  1.728000  1.351333  1.464000  123282000   \n",
      "2010-07-02 00:00:00-04:00  1.533333  1.540000  1.247333  1.280000   77097000   \n",
      "2010-07-06 00:00:00-04:00  1.333333  1.333333  1.055333  1.074000  103003500   \n",
      "\n",
      "                           Dividends  Stock Splits  \n",
      "Date                                                \n",
      "2010-06-29 00:00:00-04:00        0.0           0.0  \n",
      "2010-06-30 00:00:00-04:00        0.0           0.0  \n",
      "2010-07-01 00:00:00-04:00        0.0           0.0  \n",
      "2010-07-02 00:00:00-04:00        0.0           0.0  \n",
      "2010-07-06 00:00:00-04:00        0.0           0.0  \n"
     ]
    }
   ],
   "source": [
    "tesla_data=Tesla.history(period=\"max\")\n",
    "print (tesla_data.head())\n"
   ]
  },
  {
   "cell_type": "markdown",
   "id": "38953786-7fc6-4622-9581-05cfea716323",
   "metadata": {},
   "source": [
    "**Reset the index** using the `reset_index(inplace=True)` function on the tesla_data DataFrame and display the first five rows of the `tesla_data` dataframe using the `head` function. Take a screenshot of the results and code from the beginning of Question 1 to the results below.\n"
   ]
  },
  {
   "cell_type": "code",
   "execution_count": 8,
   "id": "92a55e72-17d7-4cc2-a5b6-ba74ef82f743",
   "metadata": {},
   "outputs": [
    {
     "name": "stdout",
     "output_type": "stream",
     "text": [
      "                       Date      Open      High       Low     Close  \\\n",
      "0 2010-06-29 00:00:00-04:00  1.266667  1.666667  1.169333  1.592667   \n",
      "1 2010-06-30 00:00:00-04:00  1.719333  2.028000  1.553333  1.588667   \n",
      "2 2010-07-01 00:00:00-04:00  1.666667  1.728000  1.351333  1.464000   \n",
      "3 2010-07-02 00:00:00-04:00  1.533333  1.540000  1.247333  1.280000   \n",
      "4 2010-07-06 00:00:00-04:00  1.333333  1.333333  1.055333  1.074000   \n",
      "\n",
      "      Volume  Dividends  Stock Splits  \n",
      "0  281494500        0.0           0.0  \n",
      "1  257806500        0.0           0.0  \n",
      "2  123282000        0.0           0.0  \n",
      "3   77097000        0.0           0.0  \n",
      "4  103003500        0.0           0.0  \n"
     ]
    }
   ],
   "source": [
    "tesla_data.reset_index(inplace=True)\n",
    "print (tesla_data.head())"
   ]
  },
  {
   "cell_type": "markdown",
   "id": "444c885d-931e-4a62-be1c-f47a825cadba",
   "metadata": {},
   "source": [
    "## Question 2: Use Webscraping to Extract Tesla Revenue Data\n"
   ]
  },
  {
   "cell_type": "markdown",
   "id": "1d8362bc-5c20-4f49-a1e6-68471bef14dc",
   "metadata": {},
   "source": [
    "Use the `requests` library to download the webpage https://cf-courses-data.s3.us.cloud-object-storage.appdomain.cloud/IBMDeveloperSkillsNetwork-PY0220EN-SkillsNetwork/labs/project/revenue.htm Save the text of the response as a variable named `html_data`.\n"
   ]
  },
  {
   "cell_type": "code",
   "execution_count": 9,
   "id": "99ac9f47-a4d1-472d-9f8f-f1efaca19f9c",
   "metadata": {},
   "outputs": [
    {
     "name": "stdout",
     "output_type": "stream",
     "text": [
      "\n",
      "<!DOCTYPE html>\n",
      "<!--[if lt IE 7]>      <html class=\"no-js lt-ie9 lt-ie8 lt-ie7\"> <![endif]-->\n",
      "<!--[if IE 7]>         <html class=\"no-js lt-ie9 lt-ie8\"> <![endif]-->\n",
      "<!--[if IE 8]>         <html class=\"no-js lt-ie9\"> <![endif]-->\n",
      "<!--[if gt IE 8]><!--> <html class=\"no-js\"> <!--<![endif]-->\n",
      "    <head>\n",
      "        <meta charset=\"utf-8\">\n",
      "        <meta http-equiv=\"X-UA-Compatible\" content=\"IE=edge,chrome=1\">\n",
      "\t\t<link rel=\"canonical\" href=\"https://www.macrotrends.net/stocks/charts/TSLA/tesla/revenue\" />\n",
      "\t\t<title>Tesla Revenue 2010-2022 | TSLA | MacroTrends</title>\n",
      "\t\t<meta name=\"description\" content=\"Tesla annual/quarterly revenue history and growth rate from 2010 to 2022. Revenue can be defined as the amount of money a company receives from its customers in exchange for the sales of goods or services.  Revenue is the top line item on an income statement from which all costs and expenses are subtracted to arrive at net income.    \n",
      "\t\t\t\t\n",
      "\t\t\t\t&lt;ul style='margin-top:10px;'&gt;\n",
      "\t\t\t\t&lt;li&gt;Tesla revenue for the quarter ending September 30, 2022 was &lt;strong&gt;$21.454B&lt;/strong&gt;, a &lt;strong&gt;55.95% increase&lt;/strong&gt; year-over-year.&lt;/li&gt;\n",
      "\t\t\t\t&lt;li&gt;Tesla revenue for the twelve months ending September 30, 2022 was &lt;strong&gt;$74.863B&lt;/strong&gt;, a &lt;strong&gt;59.8% increase&lt;/strong&gt; year-over-year.&lt;/li&gt;\n",
      "\t\t\t\t&lt;li&gt;Tesla annual revenue for 2021 was &lt;strong&gt;$53.823B&lt;/strong&gt;, a &lt;strong&gt;70.67% increase&lt;/strong&gt; from 2020.&lt;/li&gt;\n",
      "\t\t\t\t&lt;li&gt;Tesla annual revenue for 2020 was &lt;strong&gt;$31.536B&lt;/strong&gt;, a &lt;strong&gt;28.31% increase&lt;/strong&gt; from 2019.&lt;/li&gt;\n",
      "\t\t\t\t&lt;li&gt;Tesla annual revenue for 2019 was &lt;strong&gt;$24.578B&lt;/strong&gt;, a &lt;strong&gt;14.52% increase&lt;/strong&gt; from 2018.&lt;/li&gt;\n",
      "\t\t\t\t&lt;/ul&gt;\" />\n",
      "\t\t<meta name=\"robots\" content=\"\" />\n",
      "\t\t\t\t\n",
      "\t\t<link rel=\"shortcut icon\" href=\"/assets/images/icons/FAVICON/macro-trends_favicon.ico\" type=\"image/x-icon\">\n",
      "\n",
      "\t\t<meta name=\"msvalidate.01\" content=\"1228954C688F5907894001CD8E5E624B\" />\n",
      "\t\t<meta name=\"google-site-verification\" content=\"6MnD_3iDtAP1ZyoGK1YMyVIVck4r5Ws80I9xD3ue4_A\" />\n",
      "\n",
      "\t\t<!-- Load in Roboto Font -->\n",
      "\t\t<link rel='stylesheet' href='https://fonts.googleapis.com/css?family=Roboto:400,600,700'>\n",
      "\n",
      "\t\t<!-- Bootstrap -->\n",
      "\t\t<link rel=\"stylesheet\" href=\"//maxcdn.bootstrapcdn.com/bootstrap/3.3.7/css/bootstrap.min.css\"> <!--for Bootstrap CDN version-->\n",
      "\t\t<link rel=\"stylesheet\" href=\"//maxcdn.bootstrapcdn.com/bootstrap/3.3.7/css/bootstrap-theme.min.css\">\n",
      "\n",
      "\t\t<!-- Font Awesome -->\n",
      "\t\t<link rel=\"stylesheet\" href=\"//stackpath.bootstrapcdn.com/font-awesome/4.7.0/css/font-awesome.min.css\"> <!--for Font Awesome CDN version-->\n",
      "    \t\t\n",
      "\t\t<!-- Jquery, Bootstrap and Menu Javascript -->\t\n",
      "\t\t<script src=\"//code.jquery.com/jquery-1.12.4.min.js\" integrity=\"sha256-ZosEbRLbNQzLpnKIkEdrPv7lOy9C27hHQ+Xp8a4MxAQ=\" crossorigin=\"anonymous\"></script>\n",
      "\t\t<script src=\"//maxcdn.bootstrapcdn.com/bootstrap/3.3.7/js/bootstrap.min.js\"></script>\n",
      "\t\t\t\t\n",
      "\t\t<!-- Modernizr for cross-browser support -->\t\t\n",
      "\t\t<script type=\"text/javascript\" src=\"/assets/javascript/modernizr-2.6.2-respond-1.1.0.min.js\"></script>\n",
      "\n",
      "\t\t<!-- Latest compiled and minified CSS -->\n",
      "\t\t<link rel=\"stylesheet\" href=\"//www.fuelcdn.com/fuelux/3.13.0/css/fuelux.min.css\">\n",
      "\n",
      "\t\t<!-- Latest compiled and minified JavaScript -->\n",
      "\t\t<script src=\"//www.fuelcdn.com/fuelux/3.13.0/js/fuelux.min.js\"></script>\n",
      "\t\t\n",
      "\t\t\n",
      "\t\t <!-- Twitter Card data -->\n",
      "\t\t  <meta name=\"twitter:card\" content=\"summary_large_image\">\n",
      "\t\t  <meta name=\"twitter:site\" content=\"@tmacrotrends\">\n",
      "\t\t  <meta name=\"twitter:title\" content=\"Tesla Revenue 2010-2022 | TSLA\">\n",
      "\t\t  <meta name=\"twitter:description\" content=\"Tesla annual/quarterly revenue history and growth rate from 2010 to 2022. Revenue can be defined as the amount of money a company receives from its customers in exchange for the sales of goods or services.  Revenue is the top line item on an income statement from which all costs and expenses are subtracted to arrive at net income.    \n",
      "\t\t\t\t\n",
      "\t\t\t\t<ul style='margin-top:10px;'>\n",
      "\t\t\t\t<li>Tesla revenue for the quarter ending September 30, 2022 was <strong>$21.454B</strong>, a <strong>55.95% increase</strong> year-over-year.</li>\n",
      "\t\t\t\t<li>Tesla revenue for the twelve months ending September 30, 2022 was <strong>$74.863B</strong>, a <strong>59.8% increase</strong> year-over-year.</li>\n",
      "\t\t\t\t<li>Tesla annual revenue for 2021 was <strong>$53.823B</strong>, a <strong>70.67% increase</strong> from 2020.</li>\n",
      "\t\t\t\t<li>Tesla annual revenue for 2020 was <strong>$31.536B</strong>, a <strong>28.31% increase</strong> from 2019.</li>\n",
      "\t\t\t\t<li>Tesla annual revenue for 2019 was <strong>$24.578B</strong>, a <strong>14.52% increase</strong> from 2018.</li>\n",
      "\t\t\t\t</ul>\">\n",
      "\n",
      "\t\t  <!-- Open Graph data -->\n",
      "\t\t  <meta property=\"og:url\" content=\"https://www.macrotrends.net/stocks/charts/TSLA/tesla/revenue\" />  \n",
      "\t\t  <meta property=\"og:title\" content=\"Tesla Revenue 2010-2022 | TSLA\" />\n",
      "\t\t  <meta property=\"og:description\" content=\"Tesla annual/quarterly revenue history and growth rate from 2010 to 2022. Revenue can be defined as the amount of money a company receives from its customers in exchange for the sales of goods or services.  Revenue is the top line item on an income statement from which all costs and expenses are subtracted to arrive at net income.    \n",
      "\t\t\t\t\n",
      "\t\t\t\t<ul style='margin-top:10px;'>\n",
      "\t\t\t\t<li>Tesla revenue for the quarter ending September 30, 2022 was <strong>$21.454B</strong>, a <strong>55.95% increase</strong> year-over-year.</li>\n",
      "\t\t\t\t<li>Tesla revenue for the twelve months ending September 30, 2022 was <strong>$74.863B</strong>, a <strong>59.8% increase</strong> year-over-year.</li>\n",
      "\t\t\t\t<li>Tesla annual revenue for 2021 was <strong>$53.823B</strong>, a <strong>70.67% increase</strong> from 2020.</li>\n",
      "\t\t\t\t<li>Tesla annual revenue for 2020 was <strong>$31.536B</strong>, a <strong>28.31% increase</strong> from 2019.</li>\n",
      "\t\t\t\t<li>Tesla annual revenue for 2019 was <strong>$24.578B</strong>, a <strong>14.52% increase</strong> from 2018.</li>\n",
      "\t\t\t\t</ul>\" />\n",
      "\n",
      "\t\t<!-- JQXGRID STYLES AND JAVASCRIPT -->\n",
      "\t\t<link rel=\"stylesheet\" href=\"/assets/php/jqfiles/jqwidgets/styles/jqx.base.css\" type=\"text/css\" />\n",
      "\t\t<link rel=\"stylesheet\" href=\"/assets/php/jqfiles/jqwidgets/styles/jqx.bootstrap.css\" type=\"text/css\" />\n",
      "\n",
      "\t\t<!-- LOAD THESE SCRIPTS EARLY SO THE TICKER INPUT FIELD IS STYLED INSTANTLY -->\n",
      "\t\t<script type=\"text/javascript\" src=\"/assets/php/jqfiles/jqwidgets/jqxcore.js\"></script>\n",
      "\t\t<script type=\"text/javascript\" src=\"/assets/php/jqfiles/jqwidgets/jqxdata.js\"></script> \n",
      "\t\t<script type=\"text/javascript\" src=\"/assets/php/jqfiles/jqwidgets/jqxinput.js\"></script> \n",
      "\n",
      "\t\t<!-- Styling for search box -->\t\n",
      "\t\t<link rel=\"stylesheet\" type=\"text/css\" href=\"/assets/php/jquery-typeahead/jquery.typeahead_pages.css\">\n",
      "\n",
      "\t\t<!-- Search box javascript -->\n",
      "\t\t<script src=\"/assets/php/jquery-typeahead/jquery.typeahead.min.js\"></script>\n",
      "\t\t\n",
      "\n",
      "\t\t<link href=\"//cdnjs.cloudflare.com/ajax/libs/select2/4.0.3/css/select2.min.css\" rel=\"stylesheet\" />\n",
      "\t\t<script src=\"//cdnjs.cloudflare.com/ajax/libs/select2/4.0.3/js/select2.min.js\"></script>\n",
      "\t\n",
      "\t<!-- ToolTips -->\t\n",
      "\t\t<script src=\"/assets/php/tipped-4.6.1/js/tipped/tipped.js\"></script>\n",
      "\t\t<link rel=\"stylesheet\" href=\"/assets/php/tipped-4.6.1/css/tipped/tipped.css\">\n",
      "\t\t\n",
      "\t\t\t\n",
      "\t\t<!-- START IC AD INSERT -->\n",
      "\t\t\n",
      "    <script>InvestingChannelQueue = window.InvestingChannelQueue || [];</script>\n",
      "\n",
      "\t<script async src=\"https://u5.investingchannel.com/static/uat.js\"></script>\n",
      "\n",
      "    <script type=\"text/javascript\">\n",
      "    \n",
      "        //Push Run command with the API-Key, so that UAT will start processing publishers request.\n",
      "        InvestingChannelQueue.push(function() {\n",
      "            ic_page = InvestingChannel.UAT.Run(\"df17ac1e-cc7f-11e8-82a5-0abbb61c4a6a\");        \n",
      "        });\n",
      "\t\t\n",
      "\t\tvar tickerValue = 'TSLA';\t\t\t\n",
      "        var oopDivTag;\n",
      "\t\tvar subLeaderboardTag;\n",
      "\t\tvar rightSidebarTag1;\n",
      "\t\tvar rightSidebarTag2;\n",
      "\t\tvar searchButtonTag;\n",
      "\t\tvar partner_center_tag;\n",
      "\t\tvar videoTag;\n",
      "\t\tvar ic_3x7_1;\n",
      " \t\t//var IC_D_300x250_BCC;\n",
      "\t\t//var IC_D_3x7_BCC;\n",
      "   \n",
      "        //To define new tags/out of page tags.\n",
      "        InvestingChannelQueue.push(function() {\n",
      "\t\t\t\n",
      "\t\t\tic_page.setKval({'t': tickerValue});\n",
      "\t\t\t\n",
      "            //videoTag = ic_page.defineNativeTag(\"Macrotrends/fundamentalanalysis\",\"3x6, 728x90, Fluid\",\"IC_D_3x6\",35);\n",
      "\t\t\t\n",
      "            oopDivTag = ic_page.defineOutOfPageTag(\"Macrotrends/fundamentalanalysis\",\"oopDivTag_1\");\n",
      "\t\t\toopDivTag.setKval({\"adslot\":\"IC_OOP_1\"});\n",
      "            \n",
      "\t\t\t\n",
      "\t\t\tLeaderboardTag = ic_page.defineTag(\"Macrotrends/fundamentalanalysis\",\"970x250,728x90,970x90,fluid\", \"IC_D_970x250_1\");\n",
      "\t\t\tLeaderboardTag.setKval({\"adslot\":\"IC_D_970x250_1\"});\n",
      "\n",
      "\n",
      "\t\t\tsubLeaderboardTag = ic_page.defineTag(\"Macrotrends/fundamentalanalysis\",\"728x90\",\"ic_728x90_1\");\n",
      "\t\t\tsubLeaderboardTag.setKval({\"adslot\":\"IC_728x90_1\"});\n",
      "\t\t\t\n",
      "\t\t\t\n",
      "\t\t\trightSidebarTag1 = ic_page.defineTag(\"Macrotrends/fundamentalanalysis\",\"300x250,Fluid\",\"ic_300x250_1\");\n",
      "\t\t\trightSidebarTag1.setKval({\"adslot\":\"IC_300x250_1\"});\n",
      "\t\t\t\n",
      "\t\t\t\n",
      "\t\t\trightSidebarTag2 = ic_page.defineTag(\"Macrotrends/fundamentalanalysis\",\"300x600,300x250,160x600,300x1050,Fluid\",\"ic_300x600_1\");\n",
      "\t\t\trightSidebarTag2.setKval({\"adslot\":\"IC_300x600_1\"});\n",
      "\t\t\t\n",
      "\t\t\t\n",
      "\t\t\tsearchButtonTag = ic_page.defineTag(\"Macrotrends/fundamentalanalysis\",\"88x31\",\"ic_88x31_1\");\n",
      "\t\t\tsearchButtonTag.setKval({\"pc\":\"pc\",\"adslot\":\"IC_88x31\"});\n",
      "\t\t\t\n",
      "\t\t\tpartner_center_tag = ic_page.defineTag(\"macrotrends/fundamentalanalysis\",\"728x214, 728x90\",\"IC_728x214_1\");\n",
      "\t\t\tpartner_center_tag.setKval({\"pc\":\"pc\",\"adslot\":\"d_728x90_2\"});\n",
      "\n",
      "\t\t\tic_3x7_1 = ic_page.defineNativeTag(\"macrotrends/fundamentalanalysis\",\"3x7,728x90,Fluid\",\"IC_3x7_1\", 35);\n",
      "\t\t\t\n",
      "\t\t\t//IC_D_300x250_BCC = ic_page.defineTag(adCategory,\"300x250,Fluid\",\"IC_D_300x250_BCC\");\n",
      "\t\t\t//IC_D_300x250_BCC.setKval({\"adslot\":\"IC_D_300x250_BCC\"});\n",
      "\n",
      "\t\t\t//IC_D_3x7_BCC = ic_page.defineTag(adCategory,\"3x7, Fluid\",\"IC_D_3x7_BCC\");\n",
      "\t\t\t//IC_D_3x7_BCC.setKval({\"adslot\":\"IC_D_3x7_BCC\"});\n",
      "\t\t\t\n",
      "\n",
      "        });\n",
      "    \n",
      "        //To render tags.\n",
      "\t\t\tInvestingChannelQueue.push(function() {\n",
      "            ic_page.renderTags();\n",
      "        });\n",
      "        \n",
      "    </script>\n",
      "\n",
      "\t\t<!-- END IC AD INSERT -->\n",
      "\t\t\n",
      "\n",
      "\t\t<!-- Global site tag (gtag.js) - Google Analytics -->\n",
      "\t\t<script async src=\"https://www.googletagmanager.com/gtag/js?id=UA-62099500-1\"></script>\n",
      "\t\t<script>\n",
      "\t\t  window.dataLayer = window.dataLayer || [];\n",
      "\t\t  function gtag(){dataLayer.push(arguments);}\n",
      "\t\t  gtag('js', new Date());\n",
      "\n",
      "\t\t  gtag('config', 'UA-62099500-1');\n",
      "\t\t</script>\n",
      "\t\t\n",
      "\t\t<!-- Google tag (gtag.js) -->\n",
      "\t\t<script async src=\"https://www.googletagmanager.com/gtag/js?id=G-3KL0LYERBH\"></script>\n",
      "\t\t<script>\n",
      "\t\t  window.dataLayer = window.dataLayer || [];\n",
      "\t\t  function gtag(){dataLayer.push(arguments);}\n",
      "\t\t  gtag('js', new Date());\n",
      "\n",
      "\t\t  gtag('config', 'G-3KL0LYERBH');\n",
      "\t\t</script>\t\n",
      "\n",
      "\n",
      "\t\t<!--<script>\n",
      "\t\t\t(function(i,s,o,g,r,a,m){i['GoogleAnalyticsObject']=r;i[r]=i[r]||function(){\n",
      "\t\t\t(i[r].q=i[r].q||[]).push(arguments)},i[r].l=1*new Date();a=s.createElement(o),\n",
      "\t\t\tm=s.getElementsByTagName(o)[0];a.async=1;a.src=g;m.parentNode.insertBefore(a,m)\n",
      "\t\t\t})(window,document,'script','//www.google-analytics.com/analytics.js','ga');\n",
      "\n",
      "\t\t\tga('create', 'UA-62099500-1', 'auto');\n",
      "\t\t\tga('send', 'pageview');\n",
      "\t\t\t\n",
      "\t\t\t\n",
      "\t\t\t\n",
      "\t\t   \n",
      "\t\t\t//Send one event to GA at 30 seconds to control bounce rate\n",
      "\t\t\tsetTimeout(\"ga('send','event','Engaged User','30 Second Engagement')\",30000); \n",
      "\n",
      "\n",
      "\t\t  //This code sends events to ga every 30 seconds when the window is in focus\n",
      "\t\t\tvar count = 0;\n",
      "\t\t\tvar myInterval;\n",
      "\t\t\t\t\t\n",
      "\t\t\t// Active\n",
      "\t\t\twindow.addEventListener('load', startTimer);\n",
      "\t\t\twindow.addEventListener('focus', startTimer);\n",
      "\n",
      "\t\t\t// Inactive\n",
      "\t\t\twindow.addEventListener('blur', stopTimer);\n",
      "\n",
      "\t\t\tfunction timerHandler() {\n",
      "\t\t\t\tcount++;\n",
      "\t\t\t\t\n",
      "\t\t\t\tif(count % 60 == 0 && count <= 1800) {\n",
      "\t\t\t\t\t\n",
      "\t\t\t\t\tvar interval = (count/60);\n",
      "\t\t\t\t\tinterval = interval.toFixed(0);\n",
      "\t\t\t\t\t\n",
      "\t\t\t\t\tvar action = interval + \" Minute Engagement\";\n",
      "\t\t\t\t\t\n",
      "\t\t\t\t\tga('send','event','Engaged User',action);\n",
      "\n",
      "\t\t\t\t\t\n",
      "\t\t\t\t}\n",
      "\t\t\t\n",
      "\t\t\t}\n",
      "\n",
      "\t\t\t// Start timer\n",
      "\t\t\tfunction startTimer() {\n",
      "\t\t\tmyInterval = window.setInterval(timerHandler, 1000);\n",
      "\t\t\t}\n",
      "\n",
      "\t\t\t// Stop timer\n",
      "\t\t\tfunction stopTimer() {\n",
      "\t\t\twindow.clearInterval(myInterval);\n",
      "\t\t\t}\n",
      "\t\t\t\n",
      "\t\t\t\n",
      "\n",
      "\t\t</script>-->\n",
      "\t\t\n",
      "<style> \n",
      "\n",
      "#style-1::-webkit-scrollbar-track\n",
      "{\n",
      "\t-webkit-box-shadow: inset 0 0 6px rgba(0,0,0,0.3);\n",
      "\tborder-radius: 3px;\n",
      "\tbackground-color: #F5F5F5;\n",
      "}\n",
      "\n",
      "#style-1::-webkit-scrollbar\n",
      "{\n",
      "\twidth: 18px;\n",
      "\tbackground-color: #F5F5F5;\n",
      "}\n",
      "\n",
      "#style-1::-webkit-scrollbar-thumb\n",
      "{\n",
      "\tborder-radius: 3px;\n",
      "\t-webkit-box-shadow: inset 0 0 6px rgba(0,0,0,.3);\n",
      "\tbackground-color: #5B9BD5;\n",
      "}\n",
      "\n",
      "html {\n",
      "\twidth:100%;\n",
      "\tposition: relative;\n",
      "\tmin-height: 100%;\n",
      "}\n",
      "\n",
      "body {\n",
      "\t\n",
      "\twidth:100%;\n",
      "\n",
      "\t/* Margin bottom by footer height */\n",
      "\t  margin-bottom: 80px;\n",
      "\t  color: #444;\n",
      "\t  background-color:#fff;\n",
      "\t  font-family: 'Roboto', sans-serif;\n",
      "\t  font-size:14px;\n",
      "}\n",
      "\n",
      "\n",
      "\n",
      "\n",
      "\n",
      ".header_content_container {\n",
      "\t\n",
      "\tmin-width: 1280px;\n",
      "\tpadding: 0px;\n",
      "}\n",
      "\n",
      ".main_content_container {\n",
      "\t\n",
      "\tmin-width: 1280px;\n",
      "\tmax-width: 1280px;\n",
      "\tpadding: 0px 30px 100px 30px;\n",
      "\t\n",
      "}\n",
      "\n",
      ".sub_main_content_container {\n",
      "\t\n",
      "\t\n",
      "}\n",
      "\n",
      "\n",
      "\n",
      "#main_content {\n",
      "\t\n",
      "\tpadding:0px 20px 0px 0px;\n",
      "\twidth:826px;\n",
      "    float:left;\n",
      "\t\n",
      "}\n",
      "\n",
      "#right_sidebar {\n",
      "\t\n",
      "  width: 300px;\n",
      "  float:left;\n",
      "  height:3200px;\n",
      "\t\n",
      "}\n",
      "\n",
      "#sticky_ad_left {\n",
      "\t\n",
      "  position: -webkit-sticky;\n",
      "  position: sticky;\n",
      "  top: 30px;\n",
      "\t\n",
      "\t\n",
      "}\n",
      "\n",
      "#sticky_ad_right {\n",
      "\t\n",
      "  position: -webkit-sticky;\n",
      "  position: sticky;\n",
      "  top: 30px;\n",
      "\t\n",
      "\t\n",
      "}\n",
      "\n",
      "\n",
      "\n",
      "\n",
      "\n",
      ".footer {\n",
      "  position: absolute;\n",
      "  bottom: 0;\n",
      "  width: 100%;\n",
      "  /* Set the fixed height of the footer here */\n",
      "  height: 100px;\n",
      "  margin-top: 10px;\t\n",
      "  padding: 30px 20px 20px 20px;\n",
      "  color:#fff !important;\n",
      "  background-color:#444;\n",
      "  text-align: center;\n",
      "  font-size:16px;\n",
      "}\n",
      "\n",
      ".footer a {\n",
      "  color:#fff !important;\n",
      "}\n",
      "\n",
      ".ticker_search_box {\n",
      "\t\n",
      "\tbackground-color:#F5F5F5;\n",
      "\tborder: 1px solid #E0E0E0;\n",
      "\tborder-bottom:none;\n",
      "\tpadding:10px 30px 10px 10px;\n",
      "\tmargin:0px 0px 0px 0px;\n",
      "\ttext-align:center;\n",
      "\t\n",
      "}\n",
      "\n",
      ".related_tickers {\n",
      "\t\n",
      "\twidth:100%;\n",
      "\tbackground-color:#F5F5F5;\n",
      "\tborder: 1px solid #E0E0E0;\n",
      "\tborder-top: 0px;\n",
      "\tpadding:3px 30px 3px 10px;\n",
      "\tmargin:0px 0px 0px 0px;\n",
      "\ttext-align:center;\n",
      "\t\n",
      "}\n",
      "\n",
      ".statement_type_select {\n",
      "\n",
      "\twidth:100%;\n",
      "\theight:28px;\n",
      "\t\n",
      "}\n",
      "\n",
      ".frequency_select {\n",
      "\n",
      "\twidth:100%;\n",
      "\theight:28px;\n",
      "\tfont-weight:600;\n",
      "\t\n",
      "}\n",
      "\n",
      "\n",
      ".select2 {\n",
      "\t\n",
      "\ttext-align:left;\n",
      "\tfont-weight:600;\n",
      "\t\n",
      "\t}\n",
      "\t\n",
      "#jqxInput {\n",
      "\n",
      "\t\twidth:100%;\n",
      "\t\theight:28px;\n",
      "\t\t\n",
      "}\n",
      "\n",
      "\n",
      "\n",
      ".header__parent_container {\n",
      "\n",
      "\twidth:100%;\n",
      "\theight:50px;\n",
      "\tpadding:15px 0px 10px -20px; \n",
      "\tmargin:0px 0px 0px 0px;\n",
      "\tbackground-color:#444;\n",
      "\n",
      "}\n",
      "\n",
      ".header_container {\n",
      "\n",
      "\twidth:100%;\n",
      "\theight:50px;\n",
      "\tpadding:15px 0px 10px -20px; \n",
      "\tmargin:0px 0px 0px 0px;\n",
      "\tbackground-color:#444;\n",
      "\n",
      "}\n",
      "\n",
      ".header_logo {\n",
      "\t\n",
      "\tpadding-top:10px;\n",
      "\tmargin-left:50px;\n",
      "\t\n",
      "}\n",
      "\n",
      ".menu_parent_container {\n",
      "\t\n",
      "\twidth:100%;\n",
      "\theight:34px;\n",
      "\tfont-size:16px;\n",
      "\tpadding:15px 0px 10px -20px; \n",
      "\tmargin:0px 0px 0px 0px;\n",
      "\tbackground-color:#0089de;\n",
      "}\n",
      "\n",
      ".menu_container {\n",
      "\t\n",
      "\twidth:1280px;\n",
      "\theight:34px;\n",
      "\tfont-size:16px;\n",
      "\tpadding:11px 0px 0px -20px; \n",
      "\tmargin: 0 auto;\n",
      "\tbackground-color:#0089de;\n",
      "\tz-index:1000;\n",
      "}\n",
      "\n",
      ".menu_item {\n",
      "\n",
      "\theight:34px;\n",
      "\tfloat:left;\n",
      "\tfont-size:14px;\n",
      "\tfont-weight:bold;\n",
      "\tcolor:#fff;\n",
      "\ttext-align:center;\n",
      "\tpadding:7px 16px 0px 16px;\t\n",
      "\n",
      "}\n",
      "\n",
      ".menu_item:hover\n",
      "{\n",
      "\tbackground-color:#32a0e4;\n",
      "\tcursor: pointer;\n",
      "}\n",
      "\n",
      ".menu_item a\n",
      "{\n",
      "\tcolor:#fff;\n",
      "\tcursor: pointer;\n",
      "}\n",
      "\n",
      ".menu_item a:hover\n",
      "{\n",
      "\ttext-decoration:none;\n",
      "\tcursor: pointer;\n",
      "}\n",
      "\n",
      ".leaderboard_ad {\n",
      "\n",
      "\tmargin-top:20px;\n",
      "\tmargin-bottom:20px;\n",
      "\ttext-align:center;\n",
      "\tmin-height:100px;\n",
      "\n",
      "}\n",
      "\n",
      "#filter_result_count {\n",
      "\t\n",
      "\twidth:100%;\n",
      "\ttext-align:center;\n",
      "\tfont-size:24px;\n",
      "\tfont-weight:bold;\n",
      "\tpadding:10px 15px;\n",
      "\tbackground-color:#efefef;\n",
      "\tborder: 1px solid #dfdfdf;\n",
      "\tmargin:20px;\n",
      "\t\n",
      "}\n",
      "\n",
      "\n",
      "select {\n",
      "  color: #444;\n",
      "  background-color: #FFF;\n",
      "  border: 1px solid #AAA;\n",
      "  border-radius: 4px;\n",
      "  box-sizing: border-box;\n",
      "  cursor: pointer;\n",
      "  display: block;\n",
      "  height:40px;\n",
      "  line-height: 40px;\n",
      "}\n",
      "\n",
      ".historical_data_table  {\n",
      "    table-layout: fixed;\n",
      "\tmargin:20px;\n",
      "}\n",
      "\n",
      ".historical_data_table tbody tr td {\n",
      "\t\n",
      "\tpadding:6px;\n",
      "\tvertical-align: middle !important;\n",
      "\n",
      "}\n",
      "\n",
      "\n",
      ".descriptors {\n",
      "\t\n",
      "\ttext-align:center;\n",
      "\tfont-size:14px;\n",
      "\tpadding:15px;\n",
      "\t\n",
      "}\n",
      "\n",
      ".td_metric_name {\n",
      "\t\n",
      "\twidth:110px;\n",
      "\tpadding-top:17px;\n",
      "\t\n",
      "}\n",
      "\n",
      ".metric_link {\n",
      "\t\n",
      "\tfont-size:14px;\n",
      "\tfont-weight:bold;\n",
      "\n",
      "}\n",
      "\n",
      ".help_icon {\n",
      "\t\n",
      "\twidth:15px;\n",
      "\theight:18px; \n",
      "\tpadding-bottom:3px;\n",
      "\t\n",
      "}\n",
      "\n",
      ".td_min_value {\n",
      "\t\n",
      "\twidth:75px;\n",
      "\ttext-align:center;\n",
      "\tfont-size:13px;\n",
      "\t\n",
      "}\n",
      "\n",
      ".td_max_value {\n",
      "\t\n",
      "\twidth:75px;\n",
      "\ttext-align:center;\n",
      "\tfont-size:13px;\n",
      "\t\n",
      "}\n",
      "\n",
      "#myCombobox .form-control {\n",
      "\t\n",
      "\tbackground-color: #99d5ff;\n",
      "\n",
      "\t\n",
      "}\n",
      "\n",
      ".dropdown-toggle {\n",
      "\t\n",
      "\theight:24px;\n",
      "\tpadding-top:0px;\n",
      "\tpadding-left:7px;\n",
      "\twidth:24px;\n",
      "\t\n",
      "}\n",
      "\n",
      ".dropdown-menu-right {\n",
      "\t\n",
      "\tmin-width:75px;\n",
      "\tfont-size:13px;\n",
      "\t\n",
      "}\n",
      "\n",
      ".form-control {\n",
      "\t\n",
      "\tfont-size:12px;\t\n",
      "\tpadding:5px 10px;\n",
      "\theight:24px;\n",
      "\n",
      "\t\n",
      "}\n",
      "\n",
      "#myPills1 {\n",
      "\t\n",
      "\tmargin:0px 15px 10px 0px;\n",
      "\t\n",
      "}\n",
      "\n",
      "#jqxgrid {\n",
      "\t\n",
      "\tborder-radius:0px;\n",
      "\t\n",
      "}\n",
      "\n",
      ".jqx-widget-header {\n",
      "\t\n",
      "    font-family: 'Roboto', sans-serif;\n",
      "\tfont-size:13px;\t\n",
      "\t\n",
      "}\n",
      "\n",
      ".jqx-item {\n",
      "\t\n",
      "    font-family: 'Roboto', sans-serif;\n",
      "\tfont-size: 13px;\n",
      "\t\n",
      "}\n",
      "\n",
      ".jqx-widget-content {\n",
      "\t\n",
      "\tborder-color: #E0E0E0;\n",
      "\t\n",
      "}\n",
      "\n",
      "#jqxgrid .jqx-grid-cell {\n",
      "\t\n",
      "\tborder-color: #E0E0E0;\n",
      "\t\n",
      "}\n",
      "\n",
      "#jqxgrid .jqx-grid-cell-pinned {\n",
      "\t\n",
      "\tborder-color: #E0E0E0;\n",
      "\tbackground-color: #F5F5F5;\n",
      "\t\n",
      "}\n",
      "\n",
      "#jqxgrid .jqx-grid-column-header {\n",
      "\t\n",
      "\tborder-color: #E0E0E0;\n",
      "\tbackground-color: #F5F5F5;\n",
      "\t\n",
      "}\n",
      "\n",
      ".clear_zero {\n",
      "\n",
      "\theight:0px;\n",
      "\n",
      "}\n",
      "\n",
      "\n",
      "\n",
      "/* Styles for Popup Charts */\n",
      "\n",
      ".tpd-size-large {\n",
      "\t\n",
      "\tmargin:0px;\t\n",
      "\tpadding: 0px;\n",
      "}\n",
      "\n",
      ".popup_window_wrapper {\n",
      "\t\n",
      "\tmargin:15px;\n",
      "\t\n",
      "}\n",
      "\n",
      ".popup_stock_name {\n",
      "\n",
      "\tfont-size:16px;\n",
      "\tfont-weight:bold;\n",
      "\tmargin:5px;\n",
      "\n",
      "}\n",
      "\n",
      ".popup_stock_attributes {\n",
      "\n",
      "\tfont-size:13px;\n",
      "\tfont-weight:bold;\n",
      "\tmargin:5px;\n",
      "\n",
      "}\n",
      "\n",
      ".popup_stock_description {\n",
      "\n",
      "\tfont-size:12px;\n",
      "\tmargin:5px;\n",
      "\n",
      "}\n",
      "\n",
      ".jqx-input {\n",
      "\t\n",
      "\tfont-size:14px;\n",
      "\t\n",
      "} \n",
      "\n",
      ".jqx-menu-item {\n",
      "\t\n",
      "\tfont-size:14px;\n",
      "\t\n",
      "}\n",
      "\n",
      ".jqx-input {\n",
      "\t\n",
      "\tpadding:5px 10px;\n",
      "\t\n",
      "}\n",
      "\n",
      ".nav-tabs {\n",
      "    border: 1px solid #E0E0E0;\n",
      "\tbackground-color:#F5F5F5;\n",
      "\tpadding: 3px 5px 0px 5px;\n",
      "\tmargin: 0px 0px 10px 0px;\n",
      "}\n",
      "\n",
      ".nav-tabs>li>a {\n",
      "\tfont-size:13px;\n",
      "\tpadding:7px 11px;\n",
      "\tfont-weight:600;\n",
      "    margin-right: 0px;\n",
      "    line-height: 1.42857143;\n",
      "    border: 0px;\n",
      "    border-radius: 0px 0px 0 0;\n",
      "\tbackground-color:#F5F5F5;\n",
      "\n",
      "}\n",
      "\n",
      ".nav-tabs>li>a .active {\n",
      "    margin-right: 0px;\n",
      "    line-height: 1.42857143;\n",
      "    border: 1px solid #E0E0E0;\n",
      "    border-radius: 0px 0px 0 0;\n",
      "\tbackground-color:#F5F5F5;\n",
      "\n",
      "}\n",
      "\n",
      ".nav-tabs>li>a:hover { \n",
      "    background-color: #F5F5F5;\n",
      "\ttext-decoration: underline;\n",
      "\n",
      "}\n",
      "\n",
      ".donate_buttons {\n",
      "\n",
      "\tmargin-left:20px;\n",
      "\t\n",
      "\t}\n",
      "\n",
      ".modal-body {\n",
      "\n",
      "\tmargin:10px 40px 20px 40px;\n",
      "\ttext-align:left;\n",
      "\tfont-size:18px;\n",
      "\n",
      "}\n",
      "\n",
      ".modal-body li {\n",
      "\n",
      "\tmargin-top:20px;\n",
      "\tfont-size:14px;\n",
      "\n",
      "}\n",
      "\n",
      "\n",
      ".modal_title {\n",
      "\n",
      "\n",
      "\ttext-align:center;\n",
      "\tmargin-bottom:30px;\n",
      "\n",
      "}\n",
      "\n",
      ".modal-body th{\n",
      "\n",
      "\tmargin-left:10px;\n",
      "\tfont-size:14px;\n",
      "}\n",
      "\n",
      ".modal-body td {\n",
      "\n",
      "\tcolor: #337ab7;\n",
      "\tmargin-left:10px;\n",
      "\tfont-size:14px;\n",
      "}\n",
      "\n",
      ".modal_button {\n",
      "\n",
      "\tmargin-top:50px;\n",
      "\ttext-align:center;\n",
      "\tfont-size:16px;\n",
      "\n",
      "}\t\n",
      "\n",
      "\n",
      "</style>\t\n",
      "\n",
      "\n",
      "</head>\n",
      "\t<body class=\"fuelux\">\n",
      "        <!--[if lt IE 7]>\n",
      "            <p class=\"browsehappy\">You are using an <strong>outdated</strong> browser. Please <a href=\"https://browsehappy.com/\">upgrade your browser</a> to improve your experience.</p>\n",
      "        <![endif]-->\n",
      "\n",
      "<div class=\"header_content_container container-fluid\">\n",
      "\n",
      "\n",
      "<div class=\"header_parent_container\">\n",
      "\n",
      "<div class=\"header_container\">\n",
      "\n",
      "\t<div class=\"header_logo col-xs-2\">\n",
      "\t\t<a class=\"logo\" href=\"https://www.macrotrends.net\" title=\"MacroTrends Home Page\"><img src=\"/assets/images/logo_bright1.png\"/></a>\n",
      "\t</div>\n",
      "\n",
      "\n",
      "\t  <div class=\"col-xs-1 pull-right\" style=\"padding-top:8px; margin-right:10px; margin-left:0px; padding-left:0px;\">\n",
      "\t  \t \t\t\t\t\t\n",
      "\t\t<div id=\"ic_88x31_1\">\n",
      "\n",
      "\t\t\t\t\t\n",
      "\t\t</div> \n",
      "\t  \n",
      "\t  </div>\n",
      "\t  \n",
      "\n",
      "\t  <div class=\"col-xs-5 pull-right\" style=\"padding-top:8px;\">\n",
      "       <form>\n",
      "        <div class=\"typeahead__container\">\n",
      "            <div class=\"typeahead__field\">\n",
      "\n",
      "            <span class=\"typeahead__query\">\n",
      "                <input class=\"js-typeahead\"\n",
      "                       name=\"q\"\n",
      "                       type=\"search\"\n",
      "\t\t\t\t\t   placeholder=\"Search over 200,000 charts...\"\n",
      "                       autofocus\n",
      "                       autocomplete=\"off\">\n",
      "            </span>\n",
      "            <span class=\"typeahead__button\">\n",
      "                <button type=\"submit\">\n",
      "                    <span class=\"typeahead__search-icon\"></span>\n",
      "                </button>\n",
      "            </span>\n",
      "\n",
      "            </div>\n",
      "        </div>\n",
      "    </form>\n",
      "\t\t\n",
      "\t  </div>\n",
      "\t  \n",
      "\t  </div>\n",
      "\n",
      "\n",
      "\n",
      "</div>\n",
      "\n",
      "<div class=\"menu_parent_container\">\n",
      "\n",
      "<div class=\"menu_container\">\n",
      "\t\t\n",
      "\t<a href=\"/stocks/stock-screener\"><div class=\"menu_item\">Stock Screener</div></a>\n",
      "\t<a href=\"/stocks/research\"><div class=\"menu_item\">Stock Research</div></a>\n",
      "\t<a href=\"/charts/stock-indexes\"><div class=\"menu_item\">Market Indexes</div></a>\n",
      "\t<a href=\"/charts/precious-metals\"><div class=\"menu_item\">Precious Metals</div></a>\n",
      "\t<a href=\"/charts/energy\"><div class=\"menu_item\">Energy</div></a>\n",
      "\t<a href=\"/charts/commodities\"><div class=\"menu_item\">Commodities</div></a>\n",
      "\t<a href=\"/charts/exchange-rates\"><div class=\"menu_item\">Exchange Rates</div></a>\n",
      "\t<a href=\"/charts/interest-rates\"><div class=\"menu_item\">Interest Rates</div></a>\n",
      "\t<a href=\"/charts/economy\"><div class=\"menu_item\">Economy</div></a>\n",
      "\t<a href=\"/countries/topic-overview\"><div class=\"menu_item\">Global Metrics</div></a>\n",
      "\n",
      "\t\t\n",
      "</div>\n",
      "\n",
      "</div>\n",
      "\n",
      "</div>\n",
      "\n",
      "<div id=\"main_content_container\" class=\"main_content_container container-fluid\">\n",
      "\n",
      "\n",
      "\t<div id=\"ic_leaderboard\" class=\"adx_top_ad col-xs-12\" style=\"margin: 20px 20px 30px 20px; min-height:265px; text-align:center;\">\n",
      "\t\n",
      "\t\t<div id=\"IC_D_970x250_1\"></div>\n",
      "\n",
      "\t\t<!--Smartad # 4058: Macrotrends - 970x250 Image - Placement 2-->\n",
      "\t\t<!--<iframe id=\"dianomi_leaderboard\" WIDTH=\"970\" HEIGHT=\"250\" SCROLLING=\"NO\" src=\"//www.dianomi.com/smartads.epl?id=4058\"  style=\"height: 250px; border: none; overflow: hidden;\"></iframe>-->\n",
      "\t\t\t\t \t\t\n",
      "\t</div>\n",
      "\t\t\t\n",
      "\t\t\t<div style=\"margin:20px 20px 20px 5px;\">\n",
      "\t\t\t\n",
      "\t\t\t\t<h2 style=\"margin-left:0px; font-weight:600; color:#444;\">Tesla Revenue 2010-2022 | TSLA</h2>\n",
      "\t\t\t\n",
      "\t\t\t</div>\n",
      "\t\t\t\n",
      "\t\t\t\n",
      "\t<div class=\"sub_main_content_container\">\n",
      "\t\t\n",
      "\n",
      "\n",
      "\t\t\n",
      "\n",
      "\t\t\t<div id=\"main_content\">\n",
      "\t\t\t\n",
      "\t\t\t\n",
      "\t\t\t\n",
      "<div class=\"navigation_tabs\" style=\"margin-bottom:20px;\">\n",
      "\t\t\t\n",
      "\t<ul class=\"nav nav-tabs\" id=\"myTabs\" style=\"font-size:15px;\">\n",
      "\n",
      "\t\t\n",
      "\t\t\t\n",
      "\t\t\t\n",
      "\t\t\t\t<li><a href=\"https://www.macrotrends.net/stocks/charts/TSLA/tesla/stock-price-history\">Prices</a></li>\n",
      "\n",
      "\t\t\t\n",
      "\t\t\n",
      "\t\t\t\n",
      "\t\t\t\n",
      "\t\t\t\t<li><a href=\"https://www.macrotrends.net/stocks/charts/TSLA/tesla/financial-statements\">Financials</a></li>\n",
      "\n",
      "\t\t\t\n",
      "\t\t\n",
      "\t\t\t\n",
      "\t\t\t\n",
      "\t\t\t\t<li class=\"active\"><a href=\"https://www.macrotrends.net/stocks/charts/TSLA/tesla/revenue\">Revenue & Profit</a></li>\n",
      "\n",
      "\t\t\t\n",
      "\t\t\n",
      "\t\t\t\n",
      "\t\t\t\n",
      "\t\t\t\t<li><a href=\"https://www.macrotrends.net/stocks/charts/TSLA/tesla/total-assets\">Assets & Liabilities</a></li>\n",
      "\n",
      "\t\t\t\n",
      "\t\t\n",
      "\t\t\t\n",
      "\t\t\t\n",
      "\t\t\t\t<li><a href=\"https://www.macrotrends.net/stocks/charts/TSLA/tesla/profit-margins\">Margins</a></li>\n",
      "\n",
      "\t\t\t\n",
      "\t\t\n",
      "\t\t\t\n",
      "\t\t\t\n",
      "\t\t\t\t<li><a href=\"https://www.macrotrends.net/stocks/charts/TSLA/tesla/pe-ratio\">Price Ratios</a></li>\n",
      "\n",
      "\t\t\t\n",
      "\t\t\n",
      "\t\t\t\n",
      "\t\t\t\n",
      "\t\t\t\t<li><a href=\"https://www.macrotrends.net/stocks/charts/TSLA/tesla/current-ratio\">Other Ratios</a></li>\n",
      "\n",
      "\t\t\t\n",
      "\t\t\n",
      "\t\t\t\n",
      "\t\t\t\n",
      "\t\t\t\t<li><a href=\"https://www.macrotrends.net/stocks/charts/TSLA/tesla/dividend-yield-history\">Other Metrics</a></li>\n",
      "\n",
      "\t\t\t\n",
      "\t\t\n",
      "\t</ul>\n",
      "\n",
      "\n",
      "\t<ul class=\"nav nav-tabs\" id=\"myTabs\" style=\"font-size:15px;\">\n",
      "\n",
      "\t\t\n",
      "\t\t\t\n",
      "\t\t\t\n",
      "\t\t\t\t<li class=\"active\"><a href=\"https://www.macrotrends.net/stocks/charts/TSLA/tesla/revenue\">Revenue</a></li>\n",
      "\n",
      "\n",
      "\t\t\t\t\t\t\n",
      "\t\t\n",
      "\t\t\t\n",
      "\t\t\t\t\t\t\n",
      "\t\t\t\t<li><a href=\"https://www.macrotrends.net/stocks/charts/TSLA/tesla/gross-profit\">Gross Profit</a></li>\t\t\t\n",
      "\n",
      "\t\t\t\t\t\t\n",
      "\t\t\n",
      "\t\t\t\n",
      "\t\t\t\t\t\t\n",
      "\t\t\t\t<li><a href=\"https://www.macrotrends.net/stocks/charts/TSLA/tesla/operating-income\">Operating Income</a></li>\t\t\t\n",
      "\n",
      "\t\t\t\t\t\t\n",
      "\t\t\n",
      "\t\t\t\n",
      "\t\t\t\t\t\t\n",
      "\t\t\t\t<li><a href=\"https://www.macrotrends.net/stocks/charts/TSLA/tesla/ebitda\">EBITDA</a></li>\t\t\t\n",
      "\n",
      "\t\t\t\t\t\t\n",
      "\t\t\n",
      "\t\t\t\n",
      "\t\t\t\t\t\t\n",
      "\t\t\t\t<li><a href=\"https://www.macrotrends.net/stocks/charts/TSLA/tesla/net-income\">Net Income</a></li>\t\t\t\n",
      "\n",
      "\t\t\t\t\t\t\n",
      "\t\t\n",
      "\t\t\t\n",
      "\t\t\t\t\t\t\n",
      "\t\t\t\t<li><a href=\"https://www.macrotrends.net/stocks/charts/TSLA/tesla/eps-earnings-per-share-diluted\">EPS</a></li>\t\t\t\n",
      "\n",
      "\t\t\t\t\t\t\n",
      "\t\t\n",
      "\t\t\t\n",
      "\t\t\t\t\t\t\n",
      "\t\t\t\t<li><a href=\"https://www.macrotrends.net/stocks/charts/TSLA/tesla/shares-outstanding\">Shares Outstanding</a></li>\t\t\t\n",
      "\n",
      "\t\t\t\t\t\t\n",
      "\t\t\n",
      "\n",
      "\t</ul>\n",
      "\t\n",
      "\t\t\t\n",
      "</div>\n",
      "\n",
      "\n",
      "\n",
      "\n",
      "\t\t\t\n",
      "\n",
      "\t\t\n",
      "\n",
      "\t\t\t<div style=\"background-color:#fff; margin: 0px 0px 20px 0px; padding:20px 30px; border:1px solid #dfdfdf;\">\n",
      "\t\t\t\n",
      "\t\t\t\t<span style=\"color:#444; line-height: 1.8;\">Tesla annual/quarterly revenue history and growth rate from 2010 to 2022. Revenue can be defined as the amount of money a company receives from its customers in exchange for the sales of goods or services.  Revenue is the top line item on an income statement from which all costs and expenses are subtracted to arrive at net income.    \n",
      "\t\t\t\t\n",
      "\t\t\t\t<ul style='margin-top:10px;'>\n",
      "\t\t\t\t<li>Tesla revenue for the quarter ending September 30, 2022 was <strong>$21.454B</strong>, a <strong>55.95% increase</strong> year-over-year.</li>\n",
      "\t\t\t\t<li>Tesla revenue for the twelve months ending September 30, 2022 was <strong>$74.863B</strong>, a <strong>59.8% increase</strong> year-over-year.</li>\n",
      "\t\t\t\t<li>Tesla annual revenue for 2021 was <strong>$53.823B</strong>, a <strong>70.67% increase</strong> from 2020.</li>\n",
      "\t\t\t\t<li>Tesla annual revenue for 2020 was <strong>$31.536B</strong>, a <strong>28.31% increase</strong> from 2019.</li>\n",
      "\t\t\t\t<li>Tesla annual revenue for 2019 was <strong>$24.578B</strong>, a <strong>14.52% increase</strong> from 2018.</li>\n",
      "\t\t\t\t</ul></span>\n",
      "\t\t\t\n",
      "\t\t\t</div>\n",
      "\n",
      "\t\t\n",
      "\t\t\t\n",
      "\t\t\t<div style=\"background-color:#fff; margin: 30px 0px 30px 0px; text-align:center; min-height:90px;\">\n",
      "\n",
      "\n",
      "\t\t\t\t<div id=\"ic_728x90_1\" style=\"margin:10px 20px;\">\n",
      "\n",
      "\n",
      "\t\t\t\t</div>\n",
      "\t\t\t\n",
      "\t\t\t</div>\t\t\n",
      "\t\t\t\n",
      "\t\t\t\n",
      "\n",
      "\t\t\t<div class=\"ticker_search_box\" style=\"text-align:center;\">\t\t\t\n",
      "\n",
      "\t\t<div style=\"width:400px; margin-left:20px; border-bottom:none;\">\n",
      "\t\t\n",
      "\t\t\n",
      "\n",
      "\t\t\n",
      "        <script type=\"text/javascript\">\n",
      "            $(document).ready(function () {\n",
      "\t\t\t\t                \n",
      "\t\t\t\t\tvar url = \"https://www.macrotrends.net/assets/php/ticker_search_list.php\";\n",
      "\t\t\t\t\n",
      "                // prepare the data\n",
      "                var source =\n",
      "                {\n",
      "                    datatype: \"json\",\n",
      "                    datafields: [\n",
      "                        { name: 'n' },\n",
      "\t\t\t\t\t\t{ name: 's'}\n",
      "                    ],\n",
      "                    url: url\n",
      "                };\n",
      "                var dataAdapter = new $.jqx.dataAdapter(source);\n",
      "                // Create a jqxInput\n",
      "                $(\"#jqxInput\").jqxInput({ source: dataAdapter, minLength: 1, placeHolder: \"Search for ticker or company name...\", items: 20, searchMode: 'containsignorecase', displayMember: \"n\", valueMember: \"s\", width: '100%', height: 22, theme: 'bootstrap'});\n",
      "                $(\"#jqxInput\").on('select', function (event) {\n",
      "                    if (event.args) {\n",
      "                        var item = event.args.item;\n",
      "\t\t\t\t\t\t\n",
      "\t\t\t\t\t\t//Have to split the ticker and slug back out since jqxinput only seems to allow one data value\n",
      "\t\t\t\t\t\tvar itemArray = item.value.split(\"\\/\"); \n",
      "\t\t\t\t\t\tvar ticker = itemArray[0];\n",
      "\t\t\t\t\t\tvar slug = itemArray[1];\n",
      "                        if (item) {\n",
      "\t\t\t\t\t\t\t\n",
      "\t\t\t\t\t\t\t\t\t\t\t\t\t\t\n",
      "\t\t\t\t\t\t\t\twindow.location = \"https://www.macrotrends.net/stocks/charts/\" + ticker + \"/\" + slug + \"/revenue\";\n",
      "\t\t\t\t\t\t\t\n",
      "\t\t\t\t\t\t\t                        }\n",
      "                    }\n",
      "                });\n",
      "            });\n",
      "        </script>\n",
      "        <input id=\"jqxInput\" autocomplete=\"off\"/>\n",
      "\n",
      "\t\t</div>\n",
      "\t\t\t\t\n",
      "\t\t<div style=\"width:280px; margin-top: -32px; margin-left:80px; border-bottom:none; float:right;\">\n",
      "\t\t\n",
      "\t\t\n",
      "<button id=\"compareStocks\" style=\"margin-right:15px;\" class=\"chart_buttons btn btn-success btn-sm\"><span class=\"glyphicon glyphicon-stats\"></span>&nbsp;&nbsp;<strong>Compare TSLA With Other Stocks</strong></button>&nbsp;&nbsp;\n",
      "\n",
      "</div>\t\n",
      "\t\t\n",
      "\t\t</div>\n",
      "\t\t\n",
      "\t\t<div style=\"height:690px; background-color:#fff; border:1px solid #dfdfdf;\">\n",
      "\t\t\n",
      "<iframe id=\"chart_iframe\" title=\"Interactive chart: Tesla Revenue 2010-2022 | TSLA\" valign=\"middle\" margin=\"0px\" width=\"800\" height=\"680\" marginheight=0 marginwidth=0 frameborder=0 vspace=0 hspace=0 scrolling=NO  src=\"https://www.macrotrends.net/assets/php/fundamental_iframe.php?t=TSLA&type=revenue&statement=income-statement&freq=Q\"></iframe>\t\n",
      "\t\n",
      "\t\t\n",
      "\t\t</div>\n",
      "\t\t\n",
      "\t\t\n",
      "\n",
      "\t\t\t<div id=\"ic_video_ad\" style=\"height:317px; margin:30px;\">\n",
      "\t\t\t\n",
      "\t\t\t\n",
      "\t\t\t\t<div id=\"IC_D_3x6\"></div>\n",
      "\t\t\t\t\t\t\n",
      "\t\t\t\n",
      "\t\t\t</div>\n",
      "\n",
      "\t\t\t\n",
      "\n",
      "\t\t\t<div style=\"background-color:#fff; margin: 30px 0px; padding:10px 30px; border:1px solid #dfdfdf;\">\n",
      "\t\t\n",
      "\t\t\n",
      "\t\t\t<iframe id=\"dianomi_below_chart\" valign=\"middle\" width=\"100%\" height=\"300\" marginheight=0 marginwidth=0 frameborder=0 vspace=0 hspace=0 scrolling=NO  src=\"//www.dianomi.com/smartads.epl?id=4057\"></iframe>\n",
      "\n",
      "\t\t\t<!--<div id=\"IC_D_3x7_BCC\"></div>-->\n",
      "\t\t\t\n",
      "\t\t\n",
      "\t\t</div>\t\t\n",
      "\n",
      "\t\t\t\n",
      " \n",
      "\t\t\t\n",
      "\t\t\t<div id=\"style-1\" style=\"background-color:#fff; height:510px; overflow:auto; margin: 30px 0px 30px 0px; padding:0px 30px 20px 0px; border:1px solid #dfdfdf;\">\n",
      "\t\t\t\n",
      "\t\t\t  \t<div class=\"col-xs-6\">\n",
      "\t\t\t\n",
      "\t\t\t\t<table class=\"historical_data_table table\">\n",
      "\t\t\t\t<thead>\n",
      "\t\t\t\t  <tr>\n",
      "\t\t\t\t\t<th colspan=2 style=\"text-align:center\">Tesla Annual Revenue<br /><span style=\"font-size:14px;\">(Millions of US $)</span></th>\n",
      "\t\t\t\t  </tr>\n",
      "\t\t\t\t</thead>\t\t\t\t\t\n",
      "\t\t\t\t<tbody>\n",
      "\t\t\t\t\t\t\t\t\n",
      "\t\t\t\t\t\t\t\t\t\t\t\t\n",
      "\t\t\t\t<tr>\n",
      "\t\t\t\t\t<td style=\"text-align:center\">2021</td>\n",
      "\t\t\t\t\n",
      "\t\t\t\t\n",
      "\t\t\t\t\n",
      "\t\t\t\t\t\t\t\t\t\t<td style=\"text-align:center\">$53,823</td>\n",
      "\t\t\t\t\n",
      "\t\t\t\t\t\t\t\t\n",
      "\t\t\t\t</tr>\n",
      "\t\t\t\t  \n",
      "\t\t\t\t\t\t\t\t\t\t\t\t\n",
      "\t\t\t\t<tr>\n",
      "\t\t\t\t\t<td style=\"text-align:center\">2020</td>\n",
      "\t\t\t\t\n",
      "\t\t\t\t\n",
      "\t\t\t\t\n",
      "\t\t\t\t\t\t\t\t\t\t<td style=\"text-align:center\">$31,536</td>\n",
      "\t\t\t\t\n",
      "\t\t\t\t\t\t\t\t\n",
      "\t\t\t\t</tr>\n",
      "\t\t\t\t  \n",
      "\t\t\t\t\t\t\t\t\t\t\t\t\n",
      "\t\t\t\t<tr>\n",
      "\t\t\t\t\t<td style=\"text-align:center\">2019</td>\n",
      "\t\t\t\t\n",
      "\t\t\t\t\n",
      "\t\t\t\t\n",
      "\t\t\t\t\t\t\t\t\t\t<td style=\"text-align:center\">$24,578</td>\n",
      "\t\t\t\t\n",
      "\t\t\t\t\t\t\t\t\n",
      "\t\t\t\t</tr>\n",
      "\t\t\t\t  \n",
      "\t\t\t\t\t\t\t\t\t\t\t\t\n",
      "\t\t\t\t<tr>\n",
      "\t\t\t\t\t<td style=\"text-align:center\">2018</td>\n",
      "\t\t\t\t\n",
      "\t\t\t\t\n",
      "\t\t\t\t\n",
      "\t\t\t\t\t\t\t\t\t\t<td style=\"text-align:center\">$21,461</td>\n",
      "\t\t\t\t\n",
      "\t\t\t\t\t\t\t\t\n",
      "\t\t\t\t</tr>\n",
      "\t\t\t\t  \n",
      "\t\t\t\t\t\t\t\t\t\t\t\t\n",
      "\t\t\t\t<tr>\n",
      "\t\t\t\t\t<td style=\"text-align:center\">2017</td>\n",
      "\t\t\t\t\n",
      "\t\t\t\t\n",
      "\t\t\t\t\n",
      "\t\t\t\t\t\t\t\t\t\t<td style=\"text-align:center\">$11,759</td>\n",
      "\t\t\t\t\n",
      "\t\t\t\t\t\t\t\t\n",
      "\t\t\t\t</tr>\n",
      "\t\t\t\t  \n",
      "\t\t\t\t\t\t\t\t\t\t\t\t\n",
      "\t\t\t\t<tr>\n",
      "\t\t\t\t\t<td style=\"text-align:center\">2016</td>\n",
      "\t\t\t\t\n",
      "\t\t\t\t\n",
      "\t\t\t\t\n",
      "\t\t\t\t\t\t\t\t\t\t<td style=\"text-align:center\">$7,000</td>\n",
      "\t\t\t\t\n",
      "\t\t\t\t\t\t\t\t\n",
      "\t\t\t\t</tr>\n",
      "\t\t\t\t  \n",
      "\t\t\t\t\t\t\t\t\t\t\t\t\n",
      "\t\t\t\t<tr>\n",
      "\t\t\t\t\t<td style=\"text-align:center\">2015</td>\n",
      "\t\t\t\t\n",
      "\t\t\t\t\n",
      "\t\t\t\t\n",
      "\t\t\t\t\t\t\t\t\t\t<td style=\"text-align:center\">$4,046</td>\n",
      "\t\t\t\t\n",
      "\t\t\t\t\t\t\t\t\n",
      "\t\t\t\t</tr>\n",
      "\t\t\t\t  \n",
      "\t\t\t\t\t\t\t\t\t\t\t\t\n",
      "\t\t\t\t<tr>\n",
      "\t\t\t\t\t<td style=\"text-align:center\">2014</td>\n",
      "\t\t\t\t\n",
      "\t\t\t\t\n",
      "\t\t\t\t\n",
      "\t\t\t\t\t\t\t\t\t\t<td style=\"text-align:center\">$3,198</td>\n",
      "\t\t\t\t\n",
      "\t\t\t\t\t\t\t\t\n",
      "\t\t\t\t</tr>\n",
      "\t\t\t\t  \n",
      "\t\t\t\t\t\t\t\t\t\t\t\t\n",
      "\t\t\t\t<tr>\n",
      "\t\t\t\t\t<td style=\"text-align:center\">2013</td>\n",
      "\t\t\t\t\n",
      "\t\t\t\t\n",
      "\t\t\t\t\n",
      "\t\t\t\t\t\t\t\t\t\t<td style=\"text-align:center\">$2,013</td>\n",
      "\t\t\t\t\n",
      "\t\t\t\t\t\t\t\t\n",
      "\t\t\t\t</tr>\n",
      "\t\t\t\t  \n",
      "\t\t\t\t\t\t\t\t\t\t\t\t\n",
      "\t\t\t\t<tr>\n",
      "\t\t\t\t\t<td style=\"text-align:center\">2012</td>\n",
      "\t\t\t\t\n",
      "\t\t\t\t\n",
      "\t\t\t\t\n",
      "\t\t\t\t\t\t\t\t\t\t<td style=\"text-align:center\">$413</td>\n",
      "\t\t\t\t\n",
      "\t\t\t\t\t\t\t\t\n",
      "\t\t\t\t</tr>\n",
      "\t\t\t\t  \n",
      "\t\t\t\t\t\t\t\t\t\t\t\t\n",
      "\t\t\t\t<tr>\n",
      "\t\t\t\t\t<td style=\"text-align:center\">2011</td>\n",
      "\t\t\t\t\n",
      "\t\t\t\t\n",
      "\t\t\t\t\n",
      "\t\t\t\t\t\t\t\t\t\t<td style=\"text-align:center\">$204</td>\n",
      "\t\t\t\t\n",
      "\t\t\t\t\t\t\t\t\n",
      "\t\t\t\t</tr>\n",
      "\t\t\t\t  \n",
      "\t\t\t\t\t\t\t\t\t\t\t\t\n",
      "\t\t\t\t<tr>\n",
      "\t\t\t\t\t<td style=\"text-align:center\">2010</td>\n",
      "\t\t\t\t\n",
      "\t\t\t\t\n",
      "\t\t\t\t\n",
      "\t\t\t\t\t\t\t\t\t\t<td style=\"text-align:center\">$117</td>\n",
      "\t\t\t\t\n",
      "\t\t\t\t\t\t\t\t\n",
      "\t\t\t\t</tr>\n",
      "\t\t\t\t  \n",
      "\t\t\t\t\t\t\t\t\t\t\t\t\n",
      "\t\t\t\t<tr>\n",
      "\t\t\t\t\t<td style=\"text-align:center\">2009</td>\n",
      "\t\t\t\t\n",
      "\t\t\t\t\n",
      "\t\t\t\t\n",
      "\t\t\t\t\t\t\t\t\t\t<td style=\"text-align:center\">$112</td>\n",
      "\t\t\t\t\n",
      "\t\t\t\t\t\t\t\t\n",
      "\t\t\t\t</tr>\n",
      "\t\t\t\t  \n",
      "\t\t\t\t  \n",
      "\t\t\t\t</tbody>\n",
      "\t\t\t  </table>\n",
      "\t\t\t  \n",
      "\t\t\t  </div>\n",
      "\n",
      "\t\t\t  <div class=\"col-xs-6\">\n",
      "\t\t\t\n",
      "\t\t\t\t<table class=\"historical_data_table table\">\n",
      "\t\t\t\t<thead>\n",
      "\t\t\t\t  <tr>\n",
      "\t\t\t\t\t<th colspan=2 style=\"text-align:center\">Tesla Quarterly Revenue<br /><span style=\"font-size:14px;\">(Millions of US $)</span></th>\n",
      "\t\t\t\t  </tr>\n",
      "\t\t\t\t</thead>\t\t\t\t\n",
      "\t\t\t\t<tbody>\n",
      "\t\t\t\t\n",
      "\t\t\t\t\t\t\t\t\t\t\t\t\n",
      "\t\t\t\t<tr>\n",
      "\t\t\t\t\t<td style=\"text-align:center\">2022-09-30</td>\n",
      "\t\t\t\t\n",
      "\t\t\t\t\n",
      "\t\t\t\t\n",
      "\t\t\t\t\t\t\t\t\t\t\n",
      "\t\t\t\t\t\t\t\t\t\t\n",
      "\t\t\t\t\t\t<td style=\"text-align:center\">$21,454</td>\n",
      "\t\t\t\t\t\t\n",
      "\t\t\t\t\t\t\t\t\t\n",
      "\t\t\t\t\t\t\t\t\n",
      "\t\t\t\t  </tr>\n",
      "\t\t\t\t  \n",
      "\t\t\t\t\t\t\t\t\t\t\t\t\n",
      "\t\t\t\t<tr>\n",
      "\t\t\t\t\t<td style=\"text-align:center\">2022-06-30</td>\n",
      "\t\t\t\t\n",
      "\t\t\t\t\n",
      "\t\t\t\t\n",
      "\t\t\t\t\t\t\t\t\t\t\n",
      "\t\t\t\t\t\t\t\t\t\t\n",
      "\t\t\t\t\t\t<td style=\"text-align:center\">$16,934</td>\n",
      "\t\t\t\t\t\t\n",
      "\t\t\t\t\t\t\t\t\t\n",
      "\t\t\t\t\t\t\t\t\n",
      "\t\t\t\t  </tr>\n",
      "\t\t\t\t  \n",
      "\t\t\t\t\t\t\t\t\t\t\t\t\n",
      "\t\t\t\t<tr>\n",
      "\t\t\t\t\t<td style=\"text-align:center\">2022-03-31</td>\n",
      "\t\t\t\t\n",
      "\t\t\t\t\n",
      "\t\t\t\t\n",
      "\t\t\t\t\t\t\t\t\t\t\n",
      "\t\t\t\t\t\t\t\t\t\t\n",
      "\t\t\t\t\t\t<td style=\"text-align:center\">$18,756</td>\n",
      "\t\t\t\t\t\t\n",
      "\t\t\t\t\t\t\t\t\t\n",
      "\t\t\t\t\t\t\t\t\n",
      "\t\t\t\t  </tr>\n",
      "\t\t\t\t  \n",
      "\t\t\t\t\t\t\t\t\t\t\t\t\n",
      "\t\t\t\t<tr>\n",
      "\t\t\t\t\t<td style=\"text-align:center\">2021-12-31</td>\n",
      "\t\t\t\t\n",
      "\t\t\t\t\n",
      "\t\t\t\t\n",
      "\t\t\t\t\t\t\t\t\t\t\n",
      "\t\t\t\t\t\t\t\t\t\t\n",
      "\t\t\t\t\t\t<td style=\"text-align:center\">$17,719</td>\n",
      "\t\t\t\t\t\t\n",
      "\t\t\t\t\t\t\t\t\t\n",
      "\t\t\t\t\t\t\t\t\n",
      "\t\t\t\t  </tr>\n",
      "\t\t\t\t  \n",
      "\t\t\t\t\t\t\t\t\t\t\t\t\n",
      "\t\t\t\t<tr>\n",
      "\t\t\t\t\t<td style=\"text-align:center\">2021-09-30</td>\n",
      "\t\t\t\t\n",
      "\t\t\t\t\n",
      "\t\t\t\t\n",
      "\t\t\t\t\t\t\t\t\t\t\n",
      "\t\t\t\t\t\t\t\t\t\t\n",
      "\t\t\t\t\t\t<td style=\"text-align:center\">$13,757</td>\n",
      "\t\t\t\t\t\t\n",
      "\t\t\t\t\t\t\t\t\t\n",
      "\t\t\t\t\t\t\t\t\n",
      "\t\t\t\t  </tr>\n",
      "\t\t\t\t  \n",
      "\t\t\t\t\t\t\t\t\t\t\t\t\n",
      "\t\t\t\t<tr>\n",
      "\t\t\t\t\t<td style=\"text-align:center\">2021-06-30</td>\n",
      "\t\t\t\t\n",
      "\t\t\t\t\n",
      "\t\t\t\t\n",
      "\t\t\t\t\t\t\t\t\t\t\n",
      "\t\t\t\t\t\t\t\t\t\t\n",
      "\t\t\t\t\t\t<td style=\"text-align:center\">$11,958</td>\n",
      "\t\t\t\t\t\t\n",
      "\t\t\t\t\t\t\t\t\t\n",
      "\t\t\t\t\t\t\t\t\n",
      "\t\t\t\t  </tr>\n",
      "\t\t\t\t  \n",
      "\t\t\t\t\t\t\t\t\t\t\t\t\n",
      "\t\t\t\t<tr>\n",
      "\t\t\t\t\t<td style=\"text-align:center\">2021-03-31</td>\n",
      "\t\t\t\t\n",
      "\t\t\t\t\n",
      "\t\t\t\t\n",
      "\t\t\t\t\t\t\t\t\t\t\n",
      "\t\t\t\t\t\t\t\t\t\t\n",
      "\t\t\t\t\t\t<td style=\"text-align:center\">$10,389</td>\n",
      "\t\t\t\t\t\t\n",
      "\t\t\t\t\t\t\t\t\t\n",
      "\t\t\t\t\t\t\t\t\n",
      "\t\t\t\t  </tr>\n",
      "\t\t\t\t  \n",
      "\t\t\t\t\t\t\t\t\t\t\t\t\n",
      "\t\t\t\t<tr>\n",
      "\t\t\t\t\t<td style=\"text-align:center\">2020-12-31</td>\n",
      "\t\t\t\t\n",
      "\t\t\t\t\n",
      "\t\t\t\t\n",
      "\t\t\t\t\t\t\t\t\t\t\n",
      "\t\t\t\t\t\t\t\t\t\t\n",
      "\t\t\t\t\t\t<td style=\"text-align:center\">$10,744</td>\n",
      "\t\t\t\t\t\t\n",
      "\t\t\t\t\t\t\t\t\t\n",
      "\t\t\t\t\t\t\t\t\n",
      "\t\t\t\t  </tr>\n",
      "\t\t\t\t  \n",
      "\t\t\t\t\t\t\t\t\t\t\t\t\n",
      "\t\t\t\t<tr>\n",
      "\t\t\t\t\t<td style=\"text-align:center\">2020-09-30</td>\n",
      "\t\t\t\t\n",
      "\t\t\t\t\n",
      "\t\t\t\t\n",
      "\t\t\t\t\t\t\t\t\t\t\n",
      "\t\t\t\t\t\t\t\t\t\t\n",
      "\t\t\t\t\t\t<td style=\"text-align:center\">$8,771</td>\n",
      "\t\t\t\t\t\t\n",
      "\t\t\t\t\t\t\t\t\t\n",
      "\t\t\t\t\t\t\t\t\n",
      "\t\t\t\t  </tr>\n",
      "\t\t\t\t  \n",
      "\t\t\t\t\t\t\t\t\t\t\t\t\n",
      "\t\t\t\t<tr>\n",
      "\t\t\t\t\t<td style=\"text-align:center\">2020-06-30</td>\n",
      "\t\t\t\t\n",
      "\t\t\t\t\n",
      "\t\t\t\t\n",
      "\t\t\t\t\t\t\t\t\t\t\n",
      "\t\t\t\t\t\t\t\t\t\t\n",
      "\t\t\t\t\t\t<td style=\"text-align:center\">$6,036</td>\n",
      "\t\t\t\t\t\t\n",
      "\t\t\t\t\t\t\t\t\t\n",
      "\t\t\t\t\t\t\t\t\n",
      "\t\t\t\t  </tr>\n",
      "\t\t\t\t  \n",
      "\t\t\t\t\t\t\t\t\t\t\t\t\n",
      "\t\t\t\t<tr>\n",
      "\t\t\t\t\t<td style=\"text-align:center\">2020-03-31</td>\n",
      "\t\t\t\t\n",
      "\t\t\t\t\n",
      "\t\t\t\t\n",
      "\t\t\t\t\t\t\t\t\t\t\n",
      "\t\t\t\t\t\t\t\t\t\t\n",
      "\t\t\t\t\t\t<td style=\"text-align:center\">$5,985</td>\n",
      "\t\t\t\t\t\t\n",
      "\t\t\t\t\t\t\t\t\t\n",
      "\t\t\t\t\t\t\t\t\n",
      "\t\t\t\t  </tr>\n",
      "\t\t\t\t  \n",
      "\t\t\t\t\t\t\t\t\t\t\t\t\n",
      "\t\t\t\t<tr>\n",
      "\t\t\t\t\t<td style=\"text-align:center\">2019-12-31</td>\n",
      "\t\t\t\t\n",
      "\t\t\t\t\n",
      "\t\t\t\t\n",
      "\t\t\t\t\t\t\t\t\t\t\n",
      "\t\t\t\t\t\t\t\t\t\t\n",
      "\t\t\t\t\t\t<td style=\"text-align:center\">$7,384</td>\n",
      "\t\t\t\t\t\t\n",
      "\t\t\t\t\t\t\t\t\t\n",
      "\t\t\t\t\t\t\t\t\n",
      "\t\t\t\t  </tr>\n",
      "\t\t\t\t  \n",
      "\t\t\t\t\t\t\t\t\t\t\t\t\n",
      "\t\t\t\t<tr>\n",
      "\t\t\t\t\t<td style=\"text-align:center\">2019-09-30</td>\n",
      "\t\t\t\t\n",
      "\t\t\t\t\n",
      "\t\t\t\t\n",
      "\t\t\t\t\t\t\t\t\t\t\n",
      "\t\t\t\t\t\t\t\t\t\t\n",
      "\t\t\t\t\t\t<td style=\"text-align:center\">$6,303</td>\n",
      "\t\t\t\t\t\t\n",
      "\t\t\t\t\t\t\t\t\t\n",
      "\t\t\t\t\t\t\t\t\n",
      "\t\t\t\t  </tr>\n",
      "\t\t\t\t  \n",
      "\t\t\t\t\t\t\t\t\t\t\t\t\n",
      "\t\t\t\t<tr>\n",
      "\t\t\t\t\t<td style=\"text-align:center\">2019-06-30</td>\n",
      "\t\t\t\t\n",
      "\t\t\t\t\n",
      "\t\t\t\t\n",
      "\t\t\t\t\t\t\t\t\t\t\n",
      "\t\t\t\t\t\t\t\t\t\t\n",
      "\t\t\t\t\t\t<td style=\"text-align:center\">$6,350</td>\n",
      "\t\t\t\t\t\t\n",
      "\t\t\t\t\t\t\t\t\t\n",
      "\t\t\t\t\t\t\t\t\n",
      "\t\t\t\t  </tr>\n",
      "\t\t\t\t  \n",
      "\t\t\t\t\t\t\t\t\t\t\t\t\n",
      "\t\t\t\t<tr>\n",
      "\t\t\t\t\t<td style=\"text-align:center\">2019-03-31</td>\n",
      "\t\t\t\t\n",
      "\t\t\t\t\n",
      "\t\t\t\t\n",
      "\t\t\t\t\t\t\t\t\t\t\n",
      "\t\t\t\t\t\t\t\t\t\t\n",
      "\t\t\t\t\t\t<td style=\"text-align:center\">$4,541</td>\n",
      "\t\t\t\t\t\t\n",
      "\t\t\t\t\t\t\t\t\t\n",
      "\t\t\t\t\t\t\t\t\n",
      "\t\t\t\t  </tr>\n",
      "\t\t\t\t  \n",
      "\t\t\t\t\t\t\t\t\t\t\t\t\n",
      "\t\t\t\t<tr>\n",
      "\t\t\t\t\t<td style=\"text-align:center\">2018-12-31</td>\n",
      "\t\t\t\t\n",
      "\t\t\t\t\n",
      "\t\t\t\t\n",
      "\t\t\t\t\t\t\t\t\t\t\n",
      "\t\t\t\t\t\t\t\t\t\t\n",
      "\t\t\t\t\t\t<td style=\"text-align:center\">$7,226</td>\n",
      "\t\t\t\t\t\t\n",
      "\t\t\t\t\t\t\t\t\t\n",
      "\t\t\t\t\t\t\t\t\n",
      "\t\t\t\t  </tr>\n",
      "\t\t\t\t  \n",
      "\t\t\t\t\t\t\t\t\t\t\t\t\n",
      "\t\t\t\t<tr>\n",
      "\t\t\t\t\t<td style=\"text-align:center\">2018-09-30</td>\n",
      "\t\t\t\t\n",
      "\t\t\t\t\n",
      "\t\t\t\t\n",
      "\t\t\t\t\t\t\t\t\t\t\n",
      "\t\t\t\t\t\t\t\t\t\t\n",
      "\t\t\t\t\t\t<td style=\"text-align:center\">$6,824</td>\n",
      "\t\t\t\t\t\t\n",
      "\t\t\t\t\t\t\t\t\t\n",
      "\t\t\t\t\t\t\t\t\n",
      "\t\t\t\t  </tr>\n",
      "\t\t\t\t  \n",
      "\t\t\t\t\t\t\t\t\t\t\t\t\n",
      "\t\t\t\t<tr>\n",
      "\t\t\t\t\t<td style=\"text-align:center\">2018-06-30</td>\n",
      "\t\t\t\t\n",
      "\t\t\t\t\n",
      "\t\t\t\t\n",
      "\t\t\t\t\t\t\t\t\t\t\n",
      "\t\t\t\t\t\t\t\t\t\t\n",
      "\t\t\t\t\t\t<td style=\"text-align:center\">$4,002</td>\n",
      "\t\t\t\t\t\t\n",
      "\t\t\t\t\t\t\t\t\t\n",
      "\t\t\t\t\t\t\t\t\n",
      "\t\t\t\t  </tr>\n",
      "\t\t\t\t  \n",
      "\t\t\t\t\t\t\t\t\t\t\t\t\n",
      "\t\t\t\t<tr>\n",
      "\t\t\t\t\t<td style=\"text-align:center\">2018-03-31</td>\n",
      "\t\t\t\t\n",
      "\t\t\t\t\n",
      "\t\t\t\t\n",
      "\t\t\t\t\t\t\t\t\t\t\n",
      "\t\t\t\t\t\t\t\t\t\t\n",
      "\t\t\t\t\t\t<td style=\"text-align:center\">$3,409</td>\n",
      "\t\t\t\t\t\t\n",
      "\t\t\t\t\t\t\t\t\t\n",
      "\t\t\t\t\t\t\t\t\n",
      "\t\t\t\t  </tr>\n",
      "\t\t\t\t  \n",
      "\t\t\t\t\t\t\t\t\t\t\t\t\n",
      "\t\t\t\t<tr>\n",
      "\t\t\t\t\t<td style=\"text-align:center\">2017-12-31</td>\n",
      "\t\t\t\t\n",
      "\t\t\t\t\n",
      "\t\t\t\t\n",
      "\t\t\t\t\t\t\t\t\t\t\n",
      "\t\t\t\t\t\t\t\t\t\t\n",
      "\t\t\t\t\t\t<td style=\"text-align:center\">$3,288</td>\n",
      "\t\t\t\t\t\t\n",
      "\t\t\t\t\t\t\t\t\t\n",
      "\t\t\t\t\t\t\t\t\n",
      "\t\t\t\t  </tr>\n",
      "\t\t\t\t  \n",
      "\t\t\t\t\t\t\t\t\t\t\t\t\n",
      "\t\t\t\t<tr>\n",
      "\t\t\t\t\t<td style=\"text-align:center\">2017-09-30</td>\n",
      "\t\t\t\t\n",
      "\t\t\t\t\n",
      "\t\t\t\t\n",
      "\t\t\t\t\t\t\t\t\t\t\n",
      "\t\t\t\t\t\t\t\t\t\t\n",
      "\t\t\t\t\t\t<td style=\"text-align:center\">$2,985</td>\n",
      "\t\t\t\t\t\t\n",
      "\t\t\t\t\t\t\t\t\t\n",
      "\t\t\t\t\t\t\t\t\n",
      "\t\t\t\t  </tr>\n",
      "\t\t\t\t  \n",
      "\t\t\t\t\t\t\t\t\t\t\t\t\n",
      "\t\t\t\t<tr>\n",
      "\t\t\t\t\t<td style=\"text-align:center\">2017-06-30</td>\n",
      "\t\t\t\t\n",
      "\t\t\t\t\n",
      "\t\t\t\t\n",
      "\t\t\t\t\t\t\t\t\t\t\n",
      "\t\t\t\t\t\t\t\t\t\t\n",
      "\t\t\t\t\t\t<td style=\"text-align:center\">$2,790</td>\n",
      "\t\t\t\t\t\t\n",
      "\t\t\t\t\t\t\t\t\t\n",
      "\t\t\t\t\t\t\t\t\n",
      "\t\t\t\t  </tr>\n",
      "\t\t\t\t  \n",
      "\t\t\t\t\t\t\t\t\t\t\t\t\n",
      "\t\t\t\t<tr>\n",
      "\t\t\t\t\t<td style=\"text-align:center\">2017-03-31</td>\n",
      "\t\t\t\t\n",
      "\t\t\t\t\n",
      "\t\t\t\t\n",
      "\t\t\t\t\t\t\t\t\t\t\n",
      "\t\t\t\t\t\t\t\t\t\t\n",
      "\t\t\t\t\t\t<td style=\"text-align:center\">$2,696</td>\n",
      "\t\t\t\t\t\t\n",
      "\t\t\t\t\t\t\t\t\t\n",
      "\t\t\t\t\t\t\t\t\n",
      "\t\t\t\t  </tr>\n",
      "\t\t\t\t  \n",
      "\t\t\t\t\t\t\t\t\t\t\t\t\n",
      "\t\t\t\t<tr>\n",
      "\t\t\t\t\t<td style=\"text-align:center\">2016-12-31</td>\n",
      "\t\t\t\t\n",
      "\t\t\t\t\n",
      "\t\t\t\t\n",
      "\t\t\t\t\t\t\t\t\t\t\n",
      "\t\t\t\t\t\t\t\t\t\t\n",
      "\t\t\t\t\t\t<td style=\"text-align:center\">$2,285</td>\n",
      "\t\t\t\t\t\t\n",
      "\t\t\t\t\t\t\t\t\t\n",
      "\t\t\t\t\t\t\t\t\n",
      "\t\t\t\t  </tr>\n",
      "\t\t\t\t  \n",
      "\t\t\t\t\t\t\t\t\t\t\t\t\n",
      "\t\t\t\t<tr>\n",
      "\t\t\t\t\t<td style=\"text-align:center\">2016-09-30</td>\n",
      "\t\t\t\t\n",
      "\t\t\t\t\n",
      "\t\t\t\t\n",
      "\t\t\t\t\t\t\t\t\t\t\n",
      "\t\t\t\t\t\t\t\t\t\t\n",
      "\t\t\t\t\t\t<td style=\"text-align:center\">$2,298</td>\n",
      "\t\t\t\t\t\t\n",
      "\t\t\t\t\t\t\t\t\t\n",
      "\t\t\t\t\t\t\t\t\n",
      "\t\t\t\t  </tr>\n",
      "\t\t\t\t  \n",
      "\t\t\t\t\t\t\t\t\t\t\t\t\n",
      "\t\t\t\t<tr>\n",
      "\t\t\t\t\t<td style=\"text-align:center\">2016-06-30</td>\n",
      "\t\t\t\t\n",
      "\t\t\t\t\n",
      "\t\t\t\t\n",
      "\t\t\t\t\t\t\t\t\t\t\n",
      "\t\t\t\t\t\t\t\t\t\t\n",
      "\t\t\t\t\t\t<td style=\"text-align:center\">$1,270</td>\n",
      "\t\t\t\t\t\t\n",
      "\t\t\t\t\t\t\t\t\t\n",
      "\t\t\t\t\t\t\t\t\n",
      "\t\t\t\t  </tr>\n",
      "\t\t\t\t  \n",
      "\t\t\t\t\t\t\t\t\t\t\t\t\n",
      "\t\t\t\t<tr>\n",
      "\t\t\t\t\t<td style=\"text-align:center\">2016-03-31</td>\n",
      "\t\t\t\t\n",
      "\t\t\t\t\n",
      "\t\t\t\t\n",
      "\t\t\t\t\t\t\t\t\t\t\n",
      "\t\t\t\t\t\t\t\t\t\t\n",
      "\t\t\t\t\t\t<td style=\"text-align:center\">$1,147</td>\n",
      "\t\t\t\t\t\t\n",
      "\t\t\t\t\t\t\t\t\t\n",
      "\t\t\t\t\t\t\t\t\n",
      "\t\t\t\t  </tr>\n",
      "\t\t\t\t  \n",
      "\t\t\t\t\t\t\t\t\t\t\t\t\n",
      "\t\t\t\t<tr>\n",
      "\t\t\t\t\t<td style=\"text-align:center\">2015-12-31</td>\n",
      "\t\t\t\t\n",
      "\t\t\t\t\n",
      "\t\t\t\t\n",
      "\t\t\t\t\t\t\t\t\t\t\n",
      "\t\t\t\t\t\t\t\t\t\t\n",
      "\t\t\t\t\t\t<td style=\"text-align:center\">$1,214</td>\n",
      "\t\t\t\t\t\t\n",
      "\t\t\t\t\t\t\t\t\t\n",
      "\t\t\t\t\t\t\t\t\n",
      "\t\t\t\t  </tr>\n",
      "\t\t\t\t  \n",
      "\t\t\t\t\t\t\t\t\t\t\t\t\n",
      "\t\t\t\t<tr>\n",
      "\t\t\t\t\t<td style=\"text-align:center\">2015-09-30</td>\n",
      "\t\t\t\t\n",
      "\t\t\t\t\n",
      "\t\t\t\t\n",
      "\t\t\t\t\t\t\t\t\t\t\n",
      "\t\t\t\t\t\t\t\t\t\t\n",
      "\t\t\t\t\t\t<td style=\"text-align:center\">$937</td>\n",
      "\t\t\t\t\t\t\n",
      "\t\t\t\t\t\t\t\t\t\n",
      "\t\t\t\t\t\t\t\t\n",
      "\t\t\t\t  </tr>\n",
      "\t\t\t\t  \n",
      "\t\t\t\t\t\t\t\t\t\t\t\t\n",
      "\t\t\t\t<tr>\n",
      "\t\t\t\t\t<td style=\"text-align:center\">2015-06-30</td>\n",
      "\t\t\t\t\n",
      "\t\t\t\t\n",
      "\t\t\t\t\n",
      "\t\t\t\t\t\t\t\t\t\t\n",
      "\t\t\t\t\t\t\t\t\t\t\n",
      "\t\t\t\t\t\t<td style=\"text-align:center\">$955</td>\n",
      "\t\t\t\t\t\t\n",
      "\t\t\t\t\t\t\t\t\t\n",
      "\t\t\t\t\t\t\t\t\n",
      "\t\t\t\t  </tr>\n",
      "\t\t\t\t  \n",
      "\t\t\t\t\t\t\t\t\t\t\t\t\n",
      "\t\t\t\t<tr>\n",
      "\t\t\t\t\t<td style=\"text-align:center\">2015-03-31</td>\n",
      "\t\t\t\t\n",
      "\t\t\t\t\n",
      "\t\t\t\t\n",
      "\t\t\t\t\t\t\t\t\t\t\n",
      "\t\t\t\t\t\t\t\t\t\t\n",
      "\t\t\t\t\t\t<td style=\"text-align:center\">$940</td>\n",
      "\t\t\t\t\t\t\n",
      "\t\t\t\t\t\t\t\t\t\n",
      "\t\t\t\t\t\t\t\t\n",
      "\t\t\t\t  </tr>\n",
      "\t\t\t\t  \n",
      "\t\t\t\t\t\t\t\t\t\t\t\t\n",
      "\t\t\t\t<tr>\n",
      "\t\t\t\t\t<td style=\"text-align:center\">2014-12-31</td>\n",
      "\t\t\t\t\n",
      "\t\t\t\t\n",
      "\t\t\t\t\n",
      "\t\t\t\t\t\t\t\t\t\t\n",
      "\t\t\t\t\t\t\t\t\t\t\n",
      "\t\t\t\t\t\t<td style=\"text-align:center\">$957</td>\n",
      "\t\t\t\t\t\t\n",
      "\t\t\t\t\t\t\t\t\t\n",
      "\t\t\t\t\t\t\t\t\n",
      "\t\t\t\t  </tr>\n",
      "\t\t\t\t  \n",
      "\t\t\t\t\t\t\t\t\t\t\t\t\n",
      "\t\t\t\t<tr>\n",
      "\t\t\t\t\t<td style=\"text-align:center\">2014-09-30</td>\n",
      "\t\t\t\t\n",
      "\t\t\t\t\n",
      "\t\t\t\t\n",
      "\t\t\t\t\t\t\t\t\t\t\n",
      "\t\t\t\t\t\t\t\t\t\t\n",
      "\t\t\t\t\t\t<td style=\"text-align:center\">$852</td>\n",
      "\t\t\t\t\t\t\n",
      "\t\t\t\t\t\t\t\t\t\n",
      "\t\t\t\t\t\t\t\t\n",
      "\t\t\t\t  </tr>\n",
      "\t\t\t\t  \n",
      "\t\t\t\t\t\t\t\t\t\t\t\t\n",
      "\t\t\t\t<tr>\n",
      "\t\t\t\t\t<td style=\"text-align:center\">2014-06-30</td>\n",
      "\t\t\t\t\n",
      "\t\t\t\t\n",
      "\t\t\t\t\n",
      "\t\t\t\t\t\t\t\t\t\t\n",
      "\t\t\t\t\t\t\t\t\t\t\n",
      "\t\t\t\t\t\t<td style=\"text-align:center\">$769</td>\n",
      "\t\t\t\t\t\t\n",
      "\t\t\t\t\t\t\t\t\t\n",
      "\t\t\t\t\t\t\t\t\n",
      "\t\t\t\t  </tr>\n",
      "\t\t\t\t  \n",
      "\t\t\t\t\t\t\t\t\t\t\t\t\n",
      "\t\t\t\t<tr>\n",
      "\t\t\t\t\t<td style=\"text-align:center\">2014-03-31</td>\n",
      "\t\t\t\t\n",
      "\t\t\t\t\n",
      "\t\t\t\t\n",
      "\t\t\t\t\t\t\t\t\t\t\n",
      "\t\t\t\t\t\t\t\t\t\t\n",
      "\t\t\t\t\t\t<td style=\"text-align:center\">$621</td>\n",
      "\t\t\t\t\t\t\n",
      "\t\t\t\t\t\t\t\t\t\n",
      "\t\t\t\t\t\t\t\t\n",
      "\t\t\t\t  </tr>\n",
      "\t\t\t\t  \n",
      "\t\t\t\t\t\t\t\t\t\t\t\t\n",
      "\t\t\t\t<tr>\n",
      "\t\t\t\t\t<td style=\"text-align:center\">2013-12-31</td>\n",
      "\t\t\t\t\n",
      "\t\t\t\t\n",
      "\t\t\t\t\n",
      "\t\t\t\t\t\t\t\t\t\t\n",
      "\t\t\t\t\t\t\t\t\t\t\n",
      "\t\t\t\t\t\t<td style=\"text-align:center\">$615</td>\n",
      "\t\t\t\t\t\t\n",
      "\t\t\t\t\t\t\t\t\t\n",
      "\t\t\t\t\t\t\t\t\n",
      "\t\t\t\t  </tr>\n",
      "\t\t\t\t  \n",
      "\t\t\t\t\t\t\t\t\t\t\t\t\n",
      "\t\t\t\t<tr>\n",
      "\t\t\t\t\t<td style=\"text-align:center\">2013-09-30</td>\n",
      "\t\t\t\t\n",
      "\t\t\t\t\n",
      "\t\t\t\t\n",
      "\t\t\t\t\t\t\t\t\t\t\n",
      "\t\t\t\t\t\t\t\t\t\t\n",
      "\t\t\t\t\t\t<td style=\"text-align:center\">$431</td>\n",
      "\t\t\t\t\t\t\n",
      "\t\t\t\t\t\t\t\t\t\n",
      "\t\t\t\t\t\t\t\t\n",
      "\t\t\t\t  </tr>\n",
      "\t\t\t\t  \n",
      "\t\t\t\t\t\t\t\t\t\t\t\t\n",
      "\t\t\t\t<tr>\n",
      "\t\t\t\t\t<td style=\"text-align:center\">2013-06-30</td>\n",
      "\t\t\t\t\n",
      "\t\t\t\t\n",
      "\t\t\t\t\n",
      "\t\t\t\t\t\t\t\t\t\t\n",
      "\t\t\t\t\t\t\t\t\t\t\n",
      "\t\t\t\t\t\t<td style=\"text-align:center\">$405</td>\n",
      "\t\t\t\t\t\t\n",
      "\t\t\t\t\t\t\t\t\t\n",
      "\t\t\t\t\t\t\t\t\n",
      "\t\t\t\t  </tr>\n",
      "\t\t\t\t  \n",
      "\t\t\t\t\t\t\t\t\t\t\t\t\n",
      "\t\t\t\t<tr>\n",
      "\t\t\t\t\t<td style=\"text-align:center\">2013-03-31</td>\n",
      "\t\t\t\t\n",
      "\t\t\t\t\n",
      "\t\t\t\t\n",
      "\t\t\t\t\t\t\t\t\t\t\n",
      "\t\t\t\t\t\t\t\t\t\t\n",
      "\t\t\t\t\t\t<td style=\"text-align:center\">$562</td>\n",
      "\t\t\t\t\t\t\n",
      "\t\t\t\t\t\t\t\t\t\n",
      "\t\t\t\t\t\t\t\t\n",
      "\t\t\t\t  </tr>\n",
      "\t\t\t\t  \n",
      "\t\t\t\t\t\t\t\t\t\t\t\t\n",
      "\t\t\t\t<tr>\n",
      "\t\t\t\t\t<td style=\"text-align:center\">2012-12-31</td>\n",
      "\t\t\t\t\n",
      "\t\t\t\t\n",
      "\t\t\t\t\n",
      "\t\t\t\t\t\t\t\t\t\t\n",
      "\t\t\t\t\t\t\t\t\t\t\n",
      "\t\t\t\t\t\t<td style=\"text-align:center\">$306</td>\n",
      "\t\t\t\t\t\t\n",
      "\t\t\t\t\t\t\t\t\t\n",
      "\t\t\t\t\t\t\t\t\n",
      "\t\t\t\t  </tr>\n",
      "\t\t\t\t  \n",
      "\t\t\t\t\t\t\t\t\t\t\t\t\n",
      "\t\t\t\t<tr>\n",
      "\t\t\t\t\t<td style=\"text-align:center\">2012-09-30</td>\n",
      "\t\t\t\t\n",
      "\t\t\t\t\n",
      "\t\t\t\t\n",
      "\t\t\t\t\t\t\t\t\t\t\n",
      "\t\t\t\t\t\t\t\t\t\t\n",
      "\t\t\t\t\t\t<td style=\"text-align:center\">$50</td>\n",
      "\t\t\t\t\t\t\n",
      "\t\t\t\t\t\t\t\t\t\n",
      "\t\t\t\t\t\t\t\t\n",
      "\t\t\t\t  </tr>\n",
      "\t\t\t\t  \n",
      "\t\t\t\t\t\t\t\t\t\t\t\t\n",
      "\t\t\t\t<tr>\n",
      "\t\t\t\t\t<td style=\"text-align:center\">2012-06-30</td>\n",
      "\t\t\t\t\n",
      "\t\t\t\t\n",
      "\t\t\t\t\n",
      "\t\t\t\t\t\t\t\t\t\t\n",
      "\t\t\t\t\t\t\t\t\t\t\n",
      "\t\t\t\t\t\t<td style=\"text-align:center\">$27</td>\n",
      "\t\t\t\t\t\t\n",
      "\t\t\t\t\t\t\t\t\t\n",
      "\t\t\t\t\t\t\t\t\n",
      "\t\t\t\t  </tr>\n",
      "\t\t\t\t  \n",
      "\t\t\t\t\t\t\t\t\t\t\t\t\n",
      "\t\t\t\t<tr>\n",
      "\t\t\t\t\t<td style=\"text-align:center\">2012-03-31</td>\n",
      "\t\t\t\t\n",
      "\t\t\t\t\n",
      "\t\t\t\t\n",
      "\t\t\t\t\t\t\t\t\t\t\n",
      "\t\t\t\t\t\t\t\t\t\t\n",
      "\t\t\t\t\t\t<td style=\"text-align:center\">$30</td>\n",
      "\t\t\t\t\t\t\n",
      "\t\t\t\t\t\t\t\t\t\n",
      "\t\t\t\t\t\t\t\t\n",
      "\t\t\t\t  </tr>\n",
      "\t\t\t\t  \n",
      "\t\t\t\t\t\t\t\t\t\t\t\t\n",
      "\t\t\t\t<tr>\n",
      "\t\t\t\t\t<td style=\"text-align:center\">2011-12-31</td>\n",
      "\t\t\t\t\n",
      "\t\t\t\t\n",
      "\t\t\t\t\n",
      "\t\t\t\t\t\t\t\t\t\t\n",
      "\t\t\t\t\t\t\t\t\t\t\n",
      "\t\t\t\t\t\t<td style=\"text-align:center\">$39</td>\n",
      "\t\t\t\t\t\t\n",
      "\t\t\t\t\t\t\t\t\t\n",
      "\t\t\t\t\t\t\t\t\n",
      "\t\t\t\t  </tr>\n",
      "\t\t\t\t  \n",
      "\t\t\t\t\t\t\t\t\t\t\t\t\n",
      "\t\t\t\t<tr>\n",
      "\t\t\t\t\t<td style=\"text-align:center\">2011-09-30</td>\n",
      "\t\t\t\t\n",
      "\t\t\t\t\n",
      "\t\t\t\t\n",
      "\t\t\t\t\t\t\t\t\t\t\n",
      "\t\t\t\t\t\t\t\t\t\t\n",
      "\t\t\t\t\t\t<td style=\"text-align:center\">$58</td>\n",
      "\t\t\t\t\t\t\n",
      "\t\t\t\t\t\t\t\t\t\n",
      "\t\t\t\t\t\t\t\t\n",
      "\t\t\t\t  </tr>\n",
      "\t\t\t\t  \n",
      "\t\t\t\t\t\t\t\t\t\t\t\t\n",
      "\t\t\t\t<tr>\n",
      "\t\t\t\t\t<td style=\"text-align:center\">2011-06-30</td>\n",
      "\t\t\t\t\n",
      "\t\t\t\t\n",
      "\t\t\t\t\n",
      "\t\t\t\t\t\t\t\t\t\t\n",
      "\t\t\t\t\t\t\t\t\t\t\n",
      "\t\t\t\t\t\t<td style=\"text-align:center\">$58</td>\n",
      "\t\t\t\t\t\t\n",
      "\t\t\t\t\t\t\t\t\t\n",
      "\t\t\t\t\t\t\t\t\n",
      "\t\t\t\t  </tr>\n",
      "\t\t\t\t  \n",
      "\t\t\t\t\t\t\t\t\t\t\t\t\n",
      "\t\t\t\t<tr>\n",
      "\t\t\t\t\t<td style=\"text-align:center\">2011-03-31</td>\n",
      "\t\t\t\t\n",
      "\t\t\t\t\n",
      "\t\t\t\t\n",
      "\t\t\t\t\t\t\t\t\t\t\n",
      "\t\t\t\t\t\t\t\t\t\t\n",
      "\t\t\t\t\t\t<td style=\"text-align:center\">$49</td>\n",
      "\t\t\t\t\t\t\n",
      "\t\t\t\t\t\t\t\t\t\n",
      "\t\t\t\t\t\t\t\t\n",
      "\t\t\t\t  </tr>\n",
      "\t\t\t\t  \n",
      "\t\t\t\t\t\t\t\t\t\t\t\t\n",
      "\t\t\t\t<tr>\n",
      "\t\t\t\t\t<td style=\"text-align:center\">2010-12-31</td>\n",
      "\t\t\t\t\n",
      "\t\t\t\t\n",
      "\t\t\t\t\n",
      "\t\t\t\t\t\t\t\t\t\t\n",
      "\t\t\t\t\t\t\t\t\t\t\n",
      "\t\t\t\t\t\t<td style=\"text-align:center\">$36</td>\n",
      "\t\t\t\t\t\t\n",
      "\t\t\t\t\t\t\t\t\t\n",
      "\t\t\t\t\t\t\t\t\n",
      "\t\t\t\t  </tr>\n",
      "\t\t\t\t  \n",
      "\t\t\t\t\t\t\t\t\t\t\t\t\n",
      "\t\t\t\t<tr>\n",
      "\t\t\t\t\t<td style=\"text-align:center\">2010-09-30</td>\n",
      "\t\t\t\t\n",
      "\t\t\t\t\n",
      "\t\t\t\t\n",
      "\t\t\t\t\t\t\t\t\t\t\n",
      "\t\t\t\t\t\t\t\t\t\t\n",
      "\t\t\t\t\t\t<td style=\"text-align:center\">$31</td>\n",
      "\t\t\t\t\t\t\n",
      "\t\t\t\t\t\t\t\t\t\n",
      "\t\t\t\t\t\t\t\t\n",
      "\t\t\t\t  </tr>\n",
      "\t\t\t\t  \n",
      "\t\t\t\t\t\t\t\t\t\t\t\t\n",
      "\t\t\t\t<tr>\n",
      "\t\t\t\t\t<td style=\"text-align:center\">2010-06-30</td>\n",
      "\t\t\t\t\n",
      "\t\t\t\t\n",
      "\t\t\t\t\n",
      "\t\t\t\t\t\t\t\t\t\t\n",
      "\t\t\t\t\t\t\t\t\t\t\n",
      "\t\t\t\t\t\t<td style=\"text-align:center\">$28</td>\n",
      "\t\t\t\t\t\t\n",
      "\t\t\t\t\t\t\t\t\t\n",
      "\t\t\t\t\t\t\t\t\n",
      "\t\t\t\t  </tr>\n",
      "\t\t\t\t  \n",
      "\t\t\t\t\t\t\t\t\t\t\t\t\n",
      "\t\t\t\t<tr>\n",
      "\t\t\t\t\t<td style=\"text-align:center\">2010-03-31</td>\n",
      "\t\t\t\t\n",
      "\t\t\t\t\n",
      "\t\t\t\t\n",
      "\t\t\t\t\t\t\t\t\t\t\n",
      "\t\t\t\t\t\t\t\t\t\t\n",
      "\t\t\t\t\t\t<td style=\"text-align:center\">$21</td>\n",
      "\t\t\t\t\t\t\n",
      "\t\t\t\t\t\t\t\t\t\n",
      "\t\t\t\t\t\t\t\t\n",
      "\t\t\t\t  </tr>\n",
      "\t\t\t\t  \n",
      "\t\t\t\t\t\t\t\t\t\t\t\t\n",
      "\t\t\t\t<tr>\n",
      "\t\t\t\t\t<td style=\"text-align:center\">2009-12-31</td>\n",
      "\t\t\t\t\n",
      "\t\t\t\t\n",
      "\t\t\t\t\n",
      "\t\t\t\t\t\t\t\t\t\t\n",
      "\t\t\t\t\t\n",
      "\t\t\t\t\t\t<td style=\"text-align:center\"></td>\t\t\t\t\t\n",
      "\t\t\t\t\t\n",
      "\t\t\t\t\t\t\t\t\t\n",
      "\t\t\t\t\t\t\t\t\n",
      "\t\t\t\t  </tr>\n",
      "\t\t\t\t  \n",
      "\t\t\t\t\t\t\t\t\t\t\t\t\n",
      "\t\t\t\t<tr>\n",
      "\t\t\t\t\t<td style=\"text-align:center\">2009-09-30</td>\n",
      "\t\t\t\t\n",
      "\t\t\t\t\n",
      "\t\t\t\t\n",
      "\t\t\t\t\t\t\t\t\t\t\n",
      "\t\t\t\t\t\t\t\t\t\t\n",
      "\t\t\t\t\t\t<td style=\"text-align:center\">$46</td>\n",
      "\t\t\t\t\t\t\n",
      "\t\t\t\t\t\t\t\t\t\n",
      "\t\t\t\t\t\t\t\t\n",
      "\t\t\t\t  </tr>\n",
      "\t\t\t\t  \n",
      "\t\t\t\t\t\t\t\t\t\t\t\t\n",
      "\t\t\t\t<tr>\n",
      "\t\t\t\t\t<td style=\"text-align:center\">2009-06-30</td>\n",
      "\t\t\t\t\n",
      "\t\t\t\t\n",
      "\t\t\t\t\n",
      "\t\t\t\t\t\t\t\t\t\t\n",
      "\t\t\t\t\t\t\t\t\t\t\n",
      "\t\t\t\t\t\t<td style=\"text-align:center\">$27</td>\n",
      "\t\t\t\t\t\t\n",
      "\t\t\t\t\t\t\t\t\t\n",
      "\t\t\t\t\t\t\t\t\n",
      "\t\t\t\t  </tr>\n",
      "\t\t\t\t  \n",
      "\t\t\t\t  \n",
      "\t\t\t\t</tbody>\n",
      "\t\t\t  </table>\n",
      "\t\t\t  \n",
      "\t\t\t  </div>\n",
      "\t\t\t  \n",
      "\n",
      "\t\t\t\n",
      "</div>\t\t\t\n",
      "\t\t\t\n",
      "\t\t\t\n",
      "\t\t\n",
      "\t\t<div style=\"background-color:#fff; margin: 0px 0px 20px 0px; padding:5px 50px 5px 10px; border:1px solid #dfdfdf;\">\n",
      "\n",
      "\t\t\t  <table class=\"historical_data_table table\">\n",
      "\t\t\t\t<thead>\n",
      "\t\t\t\t  <tr>\n",
      "\t\t\t\t\t<th style=\"text-align:center\">Sector</th>\n",
      "\t\t\t\t\t<th style=\"text-align:center\">Industry</th>\n",
      "\t\t\t\t\t<th style=\"text-align:center\">Market Cap</th>\n",
      "\t\t\t\t\t<th style=\"text-align:center\">Revenue</th>\n",
      "\t\t\t\t  </tr>\n",
      "\t\t\t\t</thead>\n",
      "\t\t\t\t<tbody>\n",
      "\t\t\t\t  <tr>\n",
      "\t\t\t\t\t<td style=\"text-align:center\"><a href='https://www.macrotrends.net/stocks/sector/5/auto-tires-trucks'>Auto/Tires/Trucks</a></td>\n",
      "\t\t\t\t\t<td style=\"text-align:center\"><a href='https://www.macrotrends.net/stocks/industry/7/'>Auto Manufacturers - Domestic</a></td>\n",
      "\t\t\t\t\t<td style=\"text-align:center\">$549.575B</td>\n",
      "\t\t\t\t\t<td style=\"text-align:center\">$53.823B</td>\n",
      "\t\t\t\t  </tr>\n",
      "\t\t\t\t  <tr>\n",
      "\t\t\t\t\t  <td colspan=\"4\" style=\"padding:15px;\">\n",
      "\t\t\t\t\t\t<span>Tesla is the market leader in battery-powered electric car sales in the United States, with roughly 70% market share. The company's flagship Model 3 is the best-selling EV model in the United States. Tesla, which has managed to garner the reputation of a gold standard over the years, is now a far bigger entity that what it started off since its IPO in 2010, with its market cap crossing $1 trillion for the first time in October 2021.? The EV king's market capitalization is more than the combined value of legacy automakers including Toyota, Volkswagen, Daimler, General Motors and Ford.Over the years, Tesla has shifted from developing niche products for affluent buyers to making more affordable EVs for the masses. The firm's three-pronged business model approach of direct sales, servicing, and charging its EVs sets it apart from other carmakers. Tesla, which is touted as the clean energy revolutionary automaker, is much more than just a car manufacturer.</span>\n",
      "\t\t\t\t\t  </td>\n",
      "\t\t\t\t  </tr>\n",
      "\t\t\t\t</tbody>\n",
      "\t\t\t  </table>\t\t\t\n",
      "\t\t\t</div>\t\n",
      "\t\n",
      "\t\t\n",
      "\t\t<div style=\"background-color:#fff; margin: 20px 0px 30px 0px; padding:5px 50px 5px 10px; border:1px solid #dfdfdf;\">\n",
      "\t\t\t\n",
      "\n",
      "\t\t\t\t<table class=\"historical_data_table table\">\n",
      "\t\t\t\t<thead>\n",
      "\t\t\t\t  <tr>\n",
      "\t\t\t\t\t<th style=\"text-align:center; width:40%;\">Stock Name</th>\n",
      "\t\t\t\t\t<th style=\"text-align:center; width:20%;\">Country</th>\n",
      "\t\t\t\t\t<th style=\"text-align:center; width:20%;\">Market Cap</th>\n",
      "\t\t\t\t\t<th style=\"text-align:center; width:20%;\">PE Ratio</th>\n",
      "\t\t\t\t  </tr>\n",
      "\t\t\t\t</thead>\n",
      "\t\t\t\t<tbody>\t\t\t\n",
      "\n",
      "\t\t\t\t\t\t\n",
      "\t\t\t\t\t\t\n",
      "\t\t\t\t<tr>\n",
      "\t\t\t\t\t<td style=\"text-align:left\"><a href='/stocks/charts/GM/general-motors/revenue'>General Motors (GM)</a></td>\n",
      "\t\t\t\t\t<td style=\"text-align:center\">United States</td>\n",
      "\t\t\t\t\t<td style=\"text-align:center\">$53.930B</td>\n",
      "\t\t\t\t\t<td style=\"text-align:center\">5.56</td>\n",
      "\t\t\t\t </tr>\n",
      "\n",
      "\t\t\t\t\t\t\n",
      "\t\t\t\t\t\t\n",
      "\t\t\t\t<tr>\n",
      "\t\t\t\t\t<td style=\"text-align:left\"><a href='/stocks/charts/F/ford-motor/revenue'>Ford Motor (F)</a></td>\n",
      "\t\t\t\t\t<td style=\"text-align:center\">United States</td>\n",
      "\t\t\t\t\t<td style=\"text-align:center\">$52.668B</td>\n",
      "\t\t\t\t\t<td style=\"text-align:center\">8.09</td>\n",
      "\t\t\t\t </tr>\n",
      "\n",
      "\t\t\t\t\t\t\n",
      "\t\t\t\t\t\t\n",
      "\t\t\t\t<tr>\n",
      "\t\t\t\t\t<td style=\"text-align:left\"><a href='/stocks/charts/HOG/harley-davidson/revenue'>Harley-Davidson (HOG)</a></td>\n",
      "\t\t\t\t\t<td style=\"text-align:center\">United States</td>\n",
      "\t\t\t\t\t<td style=\"text-align:center\">$6.762B</td>\n",
      "\t\t\t\t\t<td style=\"text-align:center\">9.56</td>\n",
      "\t\t\t\t </tr>\n",
      "\n",
      "\t\t\t\t\t\t\n",
      "\t\t\t\t\t\t\n",
      "\t\t\t\t<tr>\n",
      "\t\t\t\t\t<td style=\"text-align:left\"><a href='/stocks/charts/PII/polaris/revenue'>Polaris (PII)</a></td>\n",
      "\t\t\t\t\t<td style=\"text-align:center\">United States</td>\n",
      "\t\t\t\t\t<td style=\"text-align:center\">$6.267B</td>\n",
      "\t\t\t\t\t<td style=\"text-align:center\">11.86</td>\n",
      "\t\t\t\t </tr>\n",
      "\n",
      "\t\t\t\t\t\t\n",
      "\t\t\t\t\t\t\n",
      "\t\t\t\t<tr>\n",
      "\t\t\t\t\t<td style=\"text-align:left\"><a href='/stocks/charts/IAA/iaa/revenue'>IAA (IAA)</a></td>\n",
      "\t\t\t\t\t<td style=\"text-align:center\">United States</td>\n",
      "\t\t\t\t\t<td style=\"text-align:center\">$5.134B</td>\n",
      "\t\t\t\t\t<td style=\"text-align:center\">16.40</td>\n",
      "\t\t\t\t </tr>\n",
      "\n",
      "\t\t\t\t\t\t\n",
      "\t\t\t\t\t\t\n",
      "\t\t\t\t<tr>\n",
      "\t\t\t\t\t<td style=\"text-align:left\"><a href='/stocks/charts/FSR/fisker/revenue'>Fisker (FSR)</a></td>\n",
      "\t\t\t\t\t<td style=\"text-align:center\">United States</td>\n",
      "\t\t\t\t\t<td style=\"text-align:center\">$2.261B</td>\n",
      "\t\t\t\t\t<td style=\"text-align:center\">0.00</td>\n",
      "\t\t\t\t </tr>\n",
      "\n",
      "\t\t\t\t\t\t\n",
      "\t\t\t\t\t\t\n",
      "\t\t\t\t<tr>\n",
      "\t\t\t\t\t<td style=\"text-align:left\"><a href='/stocks/charts/LEV/lion-electric/revenue'>Lion Electric (LEV)</a></td>\n",
      "\t\t\t\t\t<td style=\"text-align:center\">Canada</td>\n",
      "\t\t\t\t\t<td style=\"text-align:center\">$0.551B</td>\n",
      "\t\t\t\t\t<td style=\"text-align:center\">0.00</td>\n",
      "\t\t\t\t </tr>\n",
      "\n",
      "\t\t\t\t\t\t\n",
      "\t\t\t\t\t\t\n",
      "\t\t\t\t<tr>\n",
      "\t\t\t\t\t<td style=\"text-align:left\"><a href='/stocks/charts/VLTA/volta/revenue'>Volta (VLTA)</a></td>\n",
      "\t\t\t\t\t<td style=\"text-align:center\">United States</td>\n",
      "\t\t\t\t\t<td style=\"text-align:center\">$0.071B</td>\n",
      "\t\t\t\t\t<td style=\"text-align:center\">0.00</td>\n",
      "\t\t\t\t </tr>\n",
      "\n",
      "\t\t\t\t\t\t\n",
      "\t\t\t\t\t\t\n",
      "\t\t\t\t<tr>\n",
      "\t\t\t\t\t<td style=\"text-align:left\"><a href='/stocks/charts/BRDS/bird-global/revenue'>Bird Global (BRDS)</a></td>\n",
      "\t\t\t\t\t<td style=\"text-align:center\">United States</td>\n",
      "\t\t\t\t\t<td style=\"text-align:center\">$0.054B</td>\n",
      "\t\t\t\t\t<td style=\"text-align:center\">0.00</td>\n",
      "\t\t\t\t </tr>\n",
      "\n",
      "\t\t\t\t\t\t\n",
      "\t\t\t\t\t\t\n",
      "\t\t\t\t<tr>\n",
      "\t\t\t\t\t<td style=\"text-align:left\"><a href='/stocks/charts/ZEV/lightning-emotors/revenue'>Lightning EMotors (ZEV)</a></td>\n",
      "\t\t\t\t\t<td style=\"text-align:center\">United States</td>\n",
      "\t\t\t\t\t<td style=\"text-align:center\">$0.043B</td>\n",
      "\t\t\t\t\t<td style=\"text-align:center\">0.00</td>\n",
      "\t\t\t\t </tr>\n",
      "\n",
      "\t\t\t\t\t\t\n",
      "\t\t\t\t</tbody>\n",
      "\t\t\t  </table>\t\t\t\n",
      "\t\t\t\n",
      "\t\t\t</div>\n",
      "\t\t\t\n",
      "\t\t\t\n",
      "\t\t\t<div>\n",
      "\t\t\t\n",
      "\t\t\t<!-- Partner Center Ad Unit -->\n",
      "\t\t\t<div id=\"IC_728x214_1\" style=\"width:728px; height:214px; margin-left:30px;\">\n",
      "\t\t\t\n",
      "\t\t\t\n",
      "\t\t\t</div>\n",
      "\t\t\t\n",
      "\t\t\t\n",
      "\t\t\t</div>\n",
      "\t\t\t\n",
      "\t\t\t\n",
      "\n",
      "\t\t\t</div>\n",
      "\t\t\t\n",
      "\n",
      "\t\t\t<div id=\"right_sidebar\"\">\n",
      "\n",
      "\t\t\t\t<!--<a href=\"/stocks/stock-screener\" style=\"text-decoration:none; color: #fff; \">\n",
      "\t\t\t\t\t<div style=\"margin:0px; padding: 20px; width:300px; background-color: #01579b; min-height:150px; text-align:center;\">\n",
      "\n",
      "\t\t\t\t\t\t<h2 style=\"font-weight:600;\">Try our new<br />stock screener!</h2></a>\n",
      "\n",
      "\t\t\t\t\t</div>\n",
      "\t\t\t\t</a>-->\n",
      "\n",
      "\t\t\t\t<!--<div style=\"margin-top:0px; min-height:250px;\">\n",
      "\n",
      "\t\t\t\t\t<script src='//ads.investingchannel.com/adtags/Macrotrends/fundamentalanalysis/300x600.js?zhpos=300_2&multi_size=false' type='text/javascript' charset='utf-8'></script>\n",
      "\n",
      "\t\t\t\t</div>-->\n",
      "\t\t\t\t\n",
      "\t\t\t\t\t\t\t\n",
      "\t\t\t\t\n",
      "\t\t\t\t\n",
      "\t\t\t\t\n",
      "\t\t\t\t\n",
      "\t\t\t\t<div style=\"margin-top:0px; min-height:250px;\">\n",
      "\n",
      "\t\t\t\t\t<div id=\"ic_300x250_1\">\n",
      "\n",
      "\t\t\t\t\t\n",
      "\t\t\t\t\t</div>\n",
      "\t\t\t\t\t\n",
      "\t\t\t\t</div>\n",
      "\t\t\t\t\n",
      "\t\t\t\t<div id=\"sticky_ad_right\" style=\"margin-top:30px; height:1000px;\">\n",
      "\t\t\t\t\n",
      "\t\t\t\t\t<script type=\"text/javascript\" id=\"dianomi_context_script\" src=\"https://www.dianomi.com/js/contextfeed.js\"></script>\n",
      "\t\t\t\t\t<div class=\"dianomi_context\" data-dianomi-context-id=\"743\"></div>\n",
      "\n",
      "\t\t\t\t\t<!-- <div id=\"IC_D_300x250_BCC\"></div>-->\n",
      "\n",
      "\t\t\t\t\t<!--Smartad # 2981: Macrotrends - 300x670 Right Rail-->\n",
      "\t\t\t\t\t<iframe id=\"dianomi_sidebar\" width=\"300\" height=\"670\" scrolling=\"NO\" src=\"//www.dianomi.com/smartads.epl?id=4059\"  style=\"width: 300px; border: none; overflow: hidden;\"></iframe>\n",
      "\t\t\t\t\t\n",
      "\t\t\t\t\t<div id=\"IC_D_300x250_BCC\"></div>\n",
      "\n",
      "\n",
      "\t\t\t\t</div>\t\t\t\n",
      "\n",
      "\t\n",
      "\t\t\t\t\n",
      "\n",
      "\t\t\t\t\n",
      "\t\t\t</div>\n",
      "\t\t\t\n",
      "\t\t\t\n",
      "\t\t\t\n",
      "\t\t\t\t\t\t\n",
      "\t\t</div>\n",
      "\t\t</div>\n",
      "\t\t\n",
      "\n",
      "<!--This is the div for the IC OOP ad-->\n",
      "<div id=\"oopDivTag_1\" style=\"width:1px;height:1px;\"></div>\n",
      "\t\t\n",
      "\n",
      "<footer class=\"footer\">\n",
      "\n",
      "\t\t<span>&copy; 2010-2022 Macrotrends LLC</span>&nbsp;&nbsp;|&nbsp;&nbsp;\n",
      "\t\t  <a href=\"/terms\">Terms of Service</a>\n",
      "\t\t  &nbsp;&nbsp;|&nbsp;&nbsp;\n",
      "\t\t  <a href=\"/privacy\">Privacy Policy</a>&nbsp;&nbsp;|&nbsp;&nbsp;\n",
      "\t\t  <a href=\"ma&#105;lt&#111;&#58;%&#54;&#57;n%66&#111;&#64;%6D&#97;c%72&#111;&#116;rends&#37;2&#69;&#110;%65t\">Contact Us</a>&nbsp;&nbsp;|&nbsp;&nbsp;\n",
      "\t\t  <a href=\"/ccpa\">Do Not Sell My Personal Information</a>\n",
      "\t\t  <br />\n",
      "\t\t  <span>Fundamental data from </span><a target=\"_blank\" rel=\"nofollow\" href=\"https://www.zacksdata.com\">Zacks Investment Research, Inc.</a>\n",
      "\n",
      "\n",
      "</footer>\n",
      "\n",
      "<div class=\"modal\" id=\"smallWidthModal1\" tabindex=\"-1\" role=\"dialog\" aria-labelledby=\"exampleModalLabel\" aria-hidden=\"true\">\n",
      "  <div class=\"modal-dialog modal-lg\">\n",
      "    <div class=\"modal-content\">\n",
      "      <div class=\"modal-body\">\n",
      "\t  \t  \n",
      "\t\t<div class=\"modal_title\"><h2><strong>We Need Your Support!</strong></h2></div>\n",
      "\n",
      "\t\t<p>Backlinks from other websites are the lifeblood of our site and a primary source of new traffic.<p>\n",
      "\t\t\n",
      "<p>If you use our chart images on your site or blog, we ask that you provide attribution via a \"dofollow\" link back to this page.  We have provided a few examples below that you can copy and paste to your site:</p>\n",
      "\n",
      "<br />\n",
      "\n",
      "<table class=\"table\">\n",
      "<thead>\n",
      "<tr>\n",
      "<th>Link Preview</th>\n",
      "<th>HTML Code (Click to Copy)</th>\n",
      "</tr>\n",
      "</thead>\n",
      "<tbody>\n",
      "<tr>\n",
      "<td><a>Tesla Revenue 2010-2022 | TSLA</a></td>\n",
      "<td><input type=\"text\" class=\"modal_link\" size=\"60\" value=\"<a href='https://www.macrotrends.net/stocks/charts/TSLA/tesla/revenue'>Tesla Revenue 2010-2022 | TSLA</a>\"></td>\n",
      "</tr>\n",
      "<tr>\n",
      "<td><a>Macrotrends</a></td>\n",
      "<td><input type=\"text\" class=\"modal_link\" size=\"60\" value=\"<a href='https://www.macrotrends.net/stocks/charts/TSLA/tesla/revenue'>Macrotrends</a>\"></td>\n",
      "</tr>\n",
      "<tr>\n",
      "<td><a>Source</a></td>\n",
      "<td><input type=\"text\" class=\"modal_link\" size=\"60\" value=\"<a href='https://www.macrotrends.net/stocks/charts/TSLA/tesla/revenue'>Source</a>\"></td>\n",
      "</tr>\n",
      "\n",
      "\n",
      "\n",
      "</tbody>\n",
      "</table>\n",
      "\n",
      "<br />\n",
      "\n",
      "<p style=\"text-align:center\">Your image export is now complete.  Please check your download folder. </p>\n",
      "\n",
      "      </div>\n",
      "      <div class=\"modal-footer\">\n",
      "        <button type=\"button\" class=\"btn btn-primary\" data-dismiss=\"modal\">Close Window</button>\n",
      "      </div>\n",
      "    </div>\n",
      "  </div>\n",
      "</div>\n",
      "\n",
      "\n",
      "<div class=\"modal\" id=\"smallWidthModal2\" tabindex=\"-1\" role=\"dialog\" aria-labelledby=\"exampleModalLabel\" aria-hidden=\"true\">\n",
      "  <div class=\"modal-dialog modal-lg\">\n",
      "    <div class=\"modal-content\">\n",
      "      <div class=\"modal-body\">\n",
      "\t  \t  \n",
      "\t\t<div class=\"modal_title\"><h2><strong>We Need Your Support!</strong></h2></div>\n",
      "\n",
      "\t\t<p>Backlinks from other websites are the lifeblood of our site and a primary source of new traffic.<p>\n",
      "\t\t\n",
      "<p>If you use our datasets on your site or blog, we ask that you provide attribution via a \"dofollow\" link back to this page.  We have provided a few examples below that you can copy and paste to your site:</p>\n",
      "\n",
      "<br />\n",
      "\n",
      "<table class=\"table\">\n",
      "<thead>\n",
      "<tr>\n",
      "<th>Link Preview</th>\n",
      "<th>HTML Code (Click to Copy)</th>\n",
      "</tr>\n",
      "</thead>\n",
      "<tbody>\n",
      "<tr>\n",
      "<td><a>Tesla Revenue 2010-2022 | TSLA</a></td>\n",
      "<td><input type=\"text\" class=\"modal_link\" size=\"50\" value=\"<a href='https://www.macrotrends.net/stocks/charts/TSLA/tesla/revenue'>Tesla Revenue 2010-2022 | TSLA</a>\"></td>\n",
      "</tr>\n",
      "<tr>\n",
      "<td><a>Macrotrends</a></td>\n",
      "<td><input type=\"text\" class=\"modal_link\" size=\"50\" value=\"<a href='https://www.macrotrends.net/stocks/charts/TSLA/tesla/revenue'>Macrotrends</a>\"></td>\n",
      "</tr>\n",
      "<tr>\n",
      "<td><a>Source</a></td>\n",
      "<td><input type=\"text\" class=\"modal_link\" size=\"50\" value=\"<a href='https://www.macrotrends.net/stocks/charts/TSLA/tesla/revenue'>Source</a>\"></td>\n",
      "</tr>\n",
      "\n",
      "\n",
      "\n",
      "</tbody>\n",
      "</table>\n",
      "\n",
      "<br />\n",
      "\n",
      "<p style=\"text-align:center\">Your data export is now complete.  Please check your download folder. </p>\n",
      "\n",
      "      </div>\n",
      "      <div class=\"modal-footer\">\n",
      "        <button type=\"button\" class=\"btn btn-primary\" data-dismiss=\"modal\">Close Window</button>\n",
      "      </div>\n",
      "    </div>\n",
      "  </div>\n",
      "</div>\t\n",
      "\n",
      "\n",
      "<script type=\"text/javascript\">\n",
      "\t$.typeahead({\n",
      "\t\tinput: '.js-typeahead',\n",
      "\t\tminLength: 1,\n",
      "\t\tfilter: false,  //Disables typahead filter to just show everything in the results from the database\n",
      "\t\tdebug: false,\n",
      "\t\thighlight: true,\n",
      "\t\tmaxItem: 10,\n",
      "\t\tdynamic: true,\n",
      "\t\tdelay: 200,\n",
      "\t\tsearchOnFocus: true,\n",
      "\t\tbackdrop: {\n",
      "\t\t\t\"background-color\": \"#fff\"\n",
      "\t\t},\n",
      "\t\thref: \"{{url}}\",\n",
      "\t\temptyTemplate: \"no result for {{query}}\",\n",
      "\t\tdisplay: [\"name\"],\n",
      "\t\tsource: {\n",
      "\t\t\tusers: {\n",
      "\t\t\t\tajax: {\n",
      "\t\t\t\t\turl: '/assets/php/all_pages_query.php',\n",
      "\t\t\t\t\tdata: {\n",
      "\t\t\t\t\t\tq: '{{query}}'\n",
      "\t\t\t\t\t}\n",
      "\t\t\t\t}\n",
      "\t\t\t}\n",
      "\t\t}\n",
      "\t});\n",
      "</script>\n",
      "\n",
      "<script>\n",
      "\n",
      "\t// /*! js-cookie v3.0.0-rc.1 | MIT */\n",
      "\t// !function(e,t){\"object\"==typeof exports&&\"undefined\"!=typeof module?module.exports=t():\"function\"==typeof define&&define.amd?define(t):(e=e||self,function(){var n=e.Cookies,r=e.Cookies=t();r.noConflict=function(){return e.Cookies=n,r}}())}(this,function(){\"use strict\";function e(e){for(var t=1;t<arguments.length;t++){var n=arguments[t];for(var r in n)e[r]=n[r]}return e}var t={read:function(e){return e.replace(/(%[\\dA-F]{2})+/gi,decodeURIComponent)},write:function(e){return encodeURIComponent(e).replace(/%(2[346BF]|3[AC-F]|40|5[BDE]|60|7[BCD])/g,decodeURIComponent)}};return function n(r,o){function i(t,n,i){if(\"undefined\"!=typeof document){\"number\"==typeof(i=e({},o,i)).expires&&(i.expires=new Date(Date.now()+864e5*i.expires)),i.expires&&(i.expires=i.expires.toUTCString()),t=encodeURIComponent(t).replace(/%(2[346B]|5E|60|7C)/g,decodeURIComponent).replace(/[()]/g,escape),n=r.write(n,t);var c=\"\";for(var u in i)i[u]&&(c+=\"; \"+u,!0!==i[u]&&(c+=\"=\"+i[u].split(\";\")[0]));return document.cookie=t+\"=\"+n+c}}return Object.create({set:i,get:function(e){if(\"undefined\"!=typeof document&&(!arguments.length||e)){for(var n=document.cookie?document.cookie.split(\"; \"):[],o={},i=0;i<n.length;i++){var c=n[i].split(\"=\"),u=c.slice(1).join(\"=\");'\"'===u[0]&&(u=u.slice(1,-1));try{var f=t.read(c[0]);if(o[f]=r.read(u,f),e===f)break}catch(e){}}return e?o[e]:o}},remove:function(t,n){i(t,\"\",e({},n,{expires:-1}))},withAttributes:function(t){return n(this.converter,e({},this.attributes,t))},withConverter:function(t){return n(e({},this.converter,t),this.attributes)}},{attributes:{value:Object.freeze(o)},converter:{value:Object.freeze(r)}})}(t,{path:\"/\"})});\n",
      "\n",
      "\t\t\t\n",
      "\t// // Cookie Settings\n",
      "\t// var maxCookieValue = 4, initCookie = 1, expirationDays = 1;\n",
      "\t// var cookieName = \"session_pageviews\";\n",
      "\t// var getCookie = Cookies.get(cookieName);\n",
      "\n",
      "\t// // Under the Hood\n",
      "\t// if (getCookie == null) {\n",
      "\t\t// Cookies.set(cookieName, initCookie, { expires: expirationDays });\n",
      "\t\t// console.log('Cookie set to value 1');\n",
      "\t\t// $( \"#ic_video_ad\" ).append( \"<div id=\\\"IC_D_3x6\\\" style=\\\"margin:30px;\\\"></div>\" );\n",
      "\t// } else {\n",
      "\t\t// if (getCookie >= initCookie && getCookie < maxCookieValue) {\n",
      "\t\t\t// getCookie++;\n",
      "\t\t\t// Cookies.set(cookieName, getCookie, { expires: expirationDays });\n",
      "\t\t\t// console.log('Cookie incremented. New value is ' + getCookie);\n",
      "\t\t\t// $( \"#ic_video_ad\" ).append( \"<div id=\\\"IC_D_3x6\\\" style=\\\"margin:30px;\\\"></div>\" );\n",
      "\t\t// }\n",
      "\t\t// else if (getCookie >= maxCookieValue && getCookie < 7) {\n",
      "\t\t\t// getCookie++;\n",
      "\t\t\t// Cookies.set(cookieName, getCookie, { expires: expirationDays });\n",
      "\t\t\t// console.log('Cookie max allowed value reached. No video ads showing. New value is ' + getCookie);\n",
      "\t\t\t// //Cookies.remove(cookieName);\n",
      "\t\t\t// // if cookie is equal with the number you've set, then do something\n",
      "\t\t\t// // hide an element, delete the cookie etc...\n",
      "\t\t// }\n",
      "\t\t// else if (getCookie >= 7) {\n",
      "\t\t\t// Cookies.remove(cookieName);\n",
      "\t\t\t// // if cookie is equal with the number you've set, then do something\n",
      "\t\t\t// // hide an element, delete the cookie etc...\n",
      "\t\t// }\t\n",
      "\t// }\n",
      "\n",
      "</script>\t\t\t\t\t\n",
      "\n",
      "\n",
      "<script>\n",
      "\n",
      "\n",
      "\n",
      "\n",
      "\t\t\n",
      "\n",
      "$(document).ready(function() {\n",
      "\t\n",
      "\tvar user_data = '171.76.81.154';\tvar country_code = 'United States';\n",
      "\t$.post('https://www.macrotrends.net/assets/php/user_frequency_tracking.php', {user_ip: user_data, user_country: country_code}); \n",
      "\n",
      "\t// Selects all of the text in the chart export window when clicked\n",
      "\t$(\".modal_link\").focus(function() {\n",
      "\t\tvar $this = $(this);\n",
      "\t\t$this.select();\n",
      "\n",
      "\t\t// Work around Chrome's little problem\n",
      "\t\t$this.mouseup(function() {\n",
      "\t\t\t// Prevent further mouseup intervention\n",
      "\t\t\t$this.unbind(\"mouseup\");\n",
      "\t\t\treturn false;\n",
      "\t\t});\n",
      "\t});\t\n",
      "\t\n",
      "\t\n",
      "\t$('[data-toggle=\"tooltip\"]').tooltip();\n",
      "\t\n",
      "    $('.statement_type_select').select2({\n",
      "\t\n",
      "\ttheme: \"classic\",\n",
      "\tminimumResultsForSearch: 20\n",
      "\t\n",
      "\t});\n",
      "\n",
      "    $('.frequency_select').select2({\n",
      "\t\n",
      "\ttheme: \"classic\",\n",
      "\tminimumResultsForSearch: 20\n",
      "\t\n",
      "\t});\n",
      "\t\n",
      "\t\n",
      "});\n",
      "\n",
      "$( \"#compareStocks\" ).click(function() {\n",
      "\t\n",
      "\t\n",
      "\twindow.location.href = '/stocks/stock-comparison?s=revenue&axis=single&comp=TSLA';\n",
      "\t\n",
      "\t\n",
      "});\n",
      "\n",
      "$( \"#chartExport\" ).click(function() {\n",
      "\t\n",
      "\t\twindow.$('#smallWidthModal1').modal();\n",
      "\n",
      "\t\t//Turn off scroll bar for image export\n",
      "\t\tchart.chartScrollbarSettings.enabled = false;\n",
      "\t\tchart.validateNow(); \n",
      "\t\t\n",
      "\t\t\n",
      "\t\tchart.export.capture({},function() {\n",
      "\t\t\tthis.toPNG({},function(data) {\n",
      "\t\t\t\t// Download the image to the browser\n",
      "\t\t\t\tthis.download( data, \"image/png\", \"TSLA-revenue-2022-12-09-macrotrends.png\" );\n",
      "\t\t\t\t\n",
      "\t\t\t\t});\n",
      "\n",
      "\t\t//Turn scroll bar back on again\n",
      "\t\tchart.chartScrollbarSettings.enabled = true;\n",
      "\t\tchart.validateNow(); \n",
      "\t\t\t\t\n",
      "\t});\n",
      "\n",
      "});\n",
      "\n",
      "$( \".statement_type_select\" ).change(function() {\n",
      "  \n",
      "  window.location.href = 'https://testing.macrotrends.net/assets/php/income_statement_testing.php?t=ZEV&type=' + this.value + '&freq=Q';\n",
      "\n",
      "});\n",
      "\n",
      "$( \".frequency_select\" ).change(function() {\n",
      "  \n",
      "  window.location.href = '/assets/php/new_chart_page.php?t=ZEV&type=revenue&freq=' + this.value;\n",
      "\n",
      "});\n",
      "\n",
      "</script>\n",
      "\n",
      "<!--<div class=\"modal\" id=\"contribute_modal\" tabindex=\"-1\" role=\"dialog\" aria-labelledby=\"exampleModalLabel\" aria-hidden=\"false\">\n",
      "  <div class=\"modal-dialog modal-lg\">\n",
      "    <div class=\"modal-content\">\n",
      "      <div class=\"modal-body\" style=\"margin:20px 40px 20px 40px; text-align:left;font-size:18px;\">\n",
      "\t  \t  \n",
      "\n",
      "\n",
      "<div class=\"row\">\n",
      "\n",
      "<div class=\"col-xs-6\">\n",
      "\n",
      "<script src=\"https://donorbox.org/widget.js\" paypalExpress=\"true\"></script><iframe src=\"https://donorbox.org/embed/macrotrends-donations?hide_donation_meter=true\" height=\"685px\" width=\"100%\" style=\"max-width:500px; min-width:310px; max-height:none!important\" seamless=\"seamless\" name=\"donorbox\" frameborder=\"0\" scrolling=\"no\" allowpaymentrequest></iframe>\n",
      "\n",
      "</div>\n",
      "\n",
      "<div class=\"col-xs-6\">\n",
      "\n",
      "\t\t<div class=\"modal_title\"><h1><strong>We Need Your Support!</strong></h1></div>\n",
      "\n",
      "\t\t<p><strong>Macrotrends has been subscription-free since 2010 and we want to keep it that way.</strong></p>\n",
      "\n",
      "<p>Our goal has always been to serve as an easily accessible, high quality source of investment research for both professionals and amateurs alike.</p>\n",
      "\n",
      "<p>Any amount that you can contribute will help ensure we can keep the site completely free for many years to come.</p>\n",
      "\n",
      "<p style=\"margin-top:20px;\">Regards,</p>\n",
      "<p>The Macrotrends Team</p>\n",
      "\n",
      "</div>\n",
      "\n",
      "</div>\n",
      "\n",
      "</div>\n",
      "\n",
      "      <div class=\"modal-footer\" style=\"text-align:center;\">\n",
      "        <button type=\"button\" class=\"btn btn-success\" data-dismiss=\"modal\">Maybe Next Time...</button>\n",
      "      </div>\n",
      "    </div>\n",
      "  </div>\n",
      "</div>\t\n",
      "\n",
      "\n",
      "<script src=\"/ads.js\" type=\"text/javascript\"></script>\n",
      "\n",
      "<script>\n",
      "\n",
      "$(document).ready(function() {\n",
      "\t\n",
      "\tvar botPattern = \"(googlebot\\/|Googlebot-Mobile|Googlebot-Image|Google favicon|Mediapartners-Google|bingbot|slurp|java|wget|curl|Commons-HttpClient|Python-urllib|libwww|httpunit|nutch|phpcrawl|msnbot|jyxobot|FAST-WebCrawler|FAST Enterprise Crawler|biglotron|teoma|convera|seekbot|gigablast|exabot|ngbot|ia_archiver|GingerCrawler|webmon |httrack|webcrawler|grub.org|UsineNouvelleCrawler|antibot|netresearchserver|speedy|fluffy|bibnum.bnf|findlink|msrbot|panscient|yacybot|AISearchBot|IOI|ips-agent|tagoobot|MJ12bot|dotbot|woriobot|yanga|buzzbot|mlbot|yandexbot|purebot|Linguee Bot|Voyager|CyberPatrol|voilabot|baiduspider|citeseerxbot|spbot|twengabot|postrank|turnitinbot|scribdbot|page2rss|sitebot|linkdex|Adidxbot|blekkobot|ezooms|dotbot|Mail.RU_Bot|discobot|heritrix|findthatfile|europarchive.org|NerdByNature.Bot|sistrix crawler|ahrefsbot|Aboundex|domaincrawler|wbsearchbot|summify|ccbot|edisterbot|seznambot|ec2linkfinder|gslfbot|aihitbot|intelium_bot|facebookexternalhit|yeti|RetrevoPageAnalyzer|lb-spider|sogou|lssbot|careerbot|wotbox|wocbot|ichiro|DuckDuckBot|lssrocketcrawler|drupact|webcompanycrawler|acoonbot|openindexspider|gnam gnam spider|web-archive-net.com.bot|backlinkcrawler|coccoc|integromedb|content crawler spider|toplistbot|seokicks-robot|it2media-domain-crawler|ip-web-crawler.com|siteexplorer.info|elisabot|proximic|changedetection|blexbot|arabot|WeSEE:Search|niki-bot|CrystalSemanticsBot|rogerbot|360Spider|psbot|InterfaxScanBot|Lipperhey SEO Service|CC Metadata Scaper|g00g1e.net|GrapeshotCrawler|urlappendbot|brainobot|fr-crawler|binlar|SimpleCrawler|Livelapbot|Twitterbot|cXensebot|smtbot|bnf.fr_bot|A6-Indexer|ADmantX|Facebot|Twitterbot|OrangeBot|memorybot|AdvBot|MegaIndex|SemanticScholarBot|ltx71|nerdybot|xovibot|BUbiNG|Qwantify|archive.org_bot|Applebot|TweetmemeBot|crawler4j|findxbot|SemrushBot|yoozBot|lipperhey|y!j-asr|Domain Re-Animator Bot|AddThis)\";\n",
      "\n",
      "\tvar re = new RegExp(botPattern, 'i');\n",
      "\n",
      "\tif (re.test(navigator.userAgent)) {\n",
      "\t\t\n",
      "\t} else {\n",
      "\t\t\n",
      "\t\t//Check to see whether they are running an ad blocker\n",
      "\t\tif(document.getElementById('12mORwMnaEkJXlxz')){\n",
      "\t\t  var ad_blocker = 'N';\n",
      "\t\t} else {\n",
      "\t\t  var ad_blocker = 'Y';\n",
      "\t\t}\n",
      "\n",
      "\t\t$.post('https://api.ipstack.com/check?access_key=14fe63e83d5cfefa0b3d4cec498479ba&output=json&fields=ip,continent_name,country_name,region_name,city', \n",
      "\t\tfunction(ip_data){\n",
      "\t\t\t\n",
      "\t\t\t$.post('https://www.macrotrends.net/assets/php/page_view_tracking.php', {ip: ip_data.ip,continent: ip_data.continent_name, country: ip_data.country_name, state: ip_data.region_name, city: ip_data.city, screen_width: screen.width, ads: ad_blocker, page_type: 'stock'}, \n",
      "\t\t\t\tfunction(data){\n",
      "\t\t\t\t\t/*\t\t\t\t\t\n",
      "\t\t\t\t\tif(data % 20 === 0) {\n",
      "\t\t\t\t\t\t\n",
      "\t\t\t\t\t\t//$('#contribute_modal').modal();\n",
      "\t\t\t\t\t\t\n",
      "\t\t\t\t\t}\n",
      "\t\t\t\t\t*/\n",
      "\t\t\t\t});\n",
      "\t\t\n",
      "\t\t});\n",
      "\n",
      "\n",
      "\t}\n",
      "\t\n",
      "\n",
      "});\n",
      "\n",
      "\n",
      "$.post('https://api.ipstack.com/check?access_key=14fe63e83d5cfefa0b3d4cec498479ba&output=json&fields=ip,continent_name,country_name,region_name,city', \n",
      "function(ip_data){\n",
      "\t\n",
      "\t$(\".contribute_user_id\").val(ip_data.ip);\n",
      "\t\n",
      "});\n",
      "\n",
      "$( \".donate_buttons\" ).click(function() {\n",
      "  \n",
      "\tvar payment = $(this).attr(\"value\");\n",
      "\n",
      "\t$.post('https://api.ipstack.com/check?access_key=14fe63e83d5cfefa0b3d4cec498479ba&output=json&fields=ip,continent_name,country_name,region_name,city', \n",
      "\t\tfunction(ip_data){\n",
      "\t\t\t\t\t\n",
      "\t\t$.post('https://www.macrotrends.net/assets/php/page_view_tracking.php', {ip: ip_data.ip, paid: payment}); \n",
      "\t\n",
      "\t});\n",
      "\t\t \n",
      "});\n",
      "\n",
      "</script>\n",
      "\n",
      "-->\t\n",
      "\n",
      "<script type=\"text/javascript\">\n",
      "var clicky_site_ids = clicky_site_ids || [];\n",
      "clicky_site_ids.push(100827248);\n",
      "(function() {\n",
      "  var s = document.createElement('script');\n",
      "  s.type = 'text/javascript';\n",
      "  s.async = true;\n",
      "  s.src = '//static.getclicky.com/js';\n",
      "  ( document.getElementsByTagName('head')[0] || document.getElementsByTagName('body')[0] ).appendChild( s );\n",
      "})();\n",
      "</script>\n",
      "<noscript><p><img alt=\"Clicky\" width=\"1\" height=\"1\" src=\"//in.getclicky.com/100827248ns.gif\" /></p></noscript>\n",
      "\n",
      "\n",
      "\n",
      "<!-- This site is converting visitors into subscribers and customers with OptinMonster - https://optinmonster.com -->\n",
      "<!-- <script type=\"text/javascript\" src=\"https://a.omappapi.com/app/js/api.min.js\" data-account=\"6392\" data-user=\"15772\" async></script> -->\n",
      "<!-- / OptinMonster -->\n",
      "\n",
      "\n",
      "</body>\n",
      "\n",
      "</html>\n",
      "\n",
      "\t\n",
      "\n"
     ]
    }
   ],
   "source": [
    "url=(\"https://cf-courses-data.s3.us.cloud-object-storage.appdomain.cloud/IBMDeveloperSkillsNetwork-PY0220EN-SkillsNetwork/labs/project/revenue.htm\")\n",
    "html_data  = requests.get(url).text\n",
    "print(html_data)"
   ]
  },
  {
   "cell_type": "markdown",
   "id": "0c6a5964-ffff-4bae-8098-cc9eb153bf47",
   "metadata": {},
   "source": [
    "Parse the html data using `beautiful_soup` using parser i.e `html5lib` or `html.parser`.\n"
   ]
  },
  {
   "cell_type": "code",
   "execution_count": 10,
   "id": "da7b7b4c-6a1a-4f8e-b615-0cd7cb1663d7",
   "metadata": {},
   "outputs": [],
   "source": [
    "soup = BeautifulSoup(html_data, 'html.parser')"
   ]
  },
  {
   "cell_type": "markdown",
   "id": "05f355e9-14bb-4c93-ad88-787f1f3768c8",
   "metadata": {},
   "source": [
    "Using `BeautifulSoup` or the `read_html` function extract the table with `Tesla Revenue` and store it into a dataframe named `tesla_revenue`. The dataframe should have columns `Date` and `Revenue`.\n"
   ]
  },
  {
   "cell_type": "markdown",
   "id": "f2996335-8293-4b46-9442-d8349ebc52cc",
   "metadata": {},
   "source": [
    "<details><summary>Step-by-step instructions</summary>\n",
    "\n",
    "```\n",
    "\n",
    "Here are the step-by-step instructions:\n",
    "\n",
    "1. Create an Empty DataFrame\n",
    "2. Find the Relevant Table\n",
    "3. Check for the Tesla Quarterly Revenue Table\n",
    "4. Iterate Through Rows in the Table Body\n",
    "5. Extract Data from Columns\n",
    "6. Append Data to the DataFrame\n",
    "\n",
    "```\n",
    "</details>\n"
   ]
  },
  {
   "cell_type": "markdown",
   "id": "783bb0c3-7eec-4c72-b813-d6b8e6360147",
   "metadata": {},
   "source": [
    "<details><summary>Click here if you need help locating the table</summary>\n",
    "\n",
    "```\n",
    "    \n",
    "Below is the code to isolate the table, you will now need to loop through the rows and columns like in the previous lab\n",
    "    \n",
    "soup.find_all(\"tbody\")[1]\n",
    "    \n",
    "If you want to use the read_html function the table is located at index 1\n",
    "\n",
    "We are focusing on quarterly revenue in the lab.\n",
    "```\n",
    "\n",
    "</details>\n"
   ]
  },
  {
   "cell_type": "code",
   "execution_count": 11,
   "id": "849ba451-ba1e-43ee-810e-6cb59c41d595",
   "metadata": {},
   "outputs": [
    {
     "name": "stdout",
     "output_type": "stream",
     "text": [
      "   Date  Revenue\n",
      "0  2021  $53,823\n",
      "1  2020  $31,536\n",
      "2  2019  $24,578\n",
      "3  2018  $21,461\n",
      "4  2017  $11,759\n"
     ]
    }
   ],
   "source": [
    "tesla_revenue=pd.DataFrame(columns=[\"Date\",\"Revenue\"])\n",
    "tables=soup.find_all(\"table\")\n",
    "tesla_table= tables[0]\n",
    "data = []\n",
    "for row in tesla_table.find(\"tbody\").find_all(\"tr\"):\n",
    "    cols = row.find_all(\"td\")\n",
    "    if len(cols) == 2:  # To ensure each row has two columns (Date and Revenue)\n",
    "        date = cols[0].text.strip()\n",
    "        revenue = cols[1].text.strip()\n",
    "        data.append({\"Date\": date, \"Revenue\": revenue})\n",
    "\n",
    "# Convert the collected data into a DataFrame\n",
    "tesla_revenue = pd.DataFrame(data)\n",
    "print(tesla_revenue.head())\n",
    "        "
   ]
  },
  {
   "cell_type": "markdown",
   "id": "c935a704-2c39-493b-9939-4d368ed921af",
   "metadata": {},
   "source": [
    "Execute the following line to remove the comma and dollar sign from the `Revenue` column. \n"
   ]
  },
  {
   "cell_type": "code",
   "execution_count": 21,
   "id": "163d28d8-2401-442f-b7a7-4dd66d134e6b",
   "metadata": {},
   "outputs": [
    {
     "name": "stderr",
     "output_type": "stream",
     "text": [
      "<>:1: SyntaxWarning: invalid escape sequence '\\$'\n",
      "<>:1: SyntaxWarning: invalid escape sequence '\\$'\n",
      "C:\\Users\\Joanna\\AppData\\Local\\Temp\\ipykernel_7464\\349343550.py:1: SyntaxWarning: invalid escape sequence '\\$'\n",
      "  tesla_revenue[\"Revenue\"] = tesla_revenue['Revenue'].str.replace(',|\\$',\"\")\n"
     ]
    }
   ],
   "source": [
    "tesla_revenue[\"Revenue\"] = tesla_revenue['Revenue'].str.replace(',|\\$',\"\")"
   ]
  },
  {
   "cell_type": "markdown",
   "id": "5185d7e8-c779-4ab9-969a-1fd6ed024a51",
   "metadata": {},
   "source": [
    "Execute the following lines to remove an null or empty strings in the Revenue column.\n"
   ]
  },
  {
   "cell_type": "code",
   "execution_count": 13,
   "id": "0f2e0b0e-5ec2-4b1d-a6e4-84b484db01d2",
   "metadata": {},
   "outputs": [],
   "source": [
    "tesla_revenue.dropna(inplace=True)\n",
    "\n",
    "tesla_revenue = tesla_revenue[tesla_revenue['Revenue'] != \"\"]"
   ]
  },
  {
   "cell_type": "markdown",
   "id": "449132f1-1c30-41e5-a2e7-4ebb4e2c39e5",
   "metadata": {},
   "source": [
    "Display the last 5 row of the `tesla_revenue` dataframe using the `tail` function. Take a screenshot of the results.\n"
   ]
  },
  {
   "cell_type": "code",
   "execution_count": 14,
   "id": "b7760419-eed9-402d-a97b-d0b0ae4f82c3",
   "metadata": {},
   "outputs": [
    {
     "name": "stdout",
     "output_type": "stream",
     "text": [
      "    Date Revenue\n",
      "8   2013  $2,013\n",
      "9   2012    $413\n",
      "10  2011    $204\n",
      "11  2010    $117\n",
      "12  2009    $112\n"
     ]
    }
   ],
   "source": [
    "print(tesla_revenue.tail(5))"
   ]
  },
  {
   "cell_type": "markdown",
   "id": "7064379d-735e-42a7-b9b8-9bcc024866ba",
   "metadata": {},
   "source": [
    "## Question 3: Use yfinance to Extract Stock Data\n"
   ]
  },
  {
   "cell_type": "markdown",
   "id": "67da2a0a-23eb-4736-b097-3232521d7e4b",
   "metadata": {},
   "source": [
    "Using the `Ticker` function enter the ticker symbol of the stock we want to extract data on to create a ticker object. The stock is GameStop and its ticker symbol is `GME`.\n"
   ]
  },
  {
   "cell_type": "code",
   "execution_count": 15,
   "id": "c3d3481c-a927-4f5f-b64d-24e3a23175a8",
   "metadata": {},
   "outputs": [
    {
     "name": "stdout",
     "output_type": "stream",
     "text": [
      "{'address1': '625 Westport Parkway', 'city': 'Grapevine', 'state': 'TX', 'zip': '76051', 'country': 'United States', 'phone': '817 424 2000', 'website': 'https://www.gamestop.com', 'industry': 'Specialty Retail', 'industryKey': 'specialty-retail', 'industryDisp': 'Specialty Retail', 'sector': 'Consumer Cyclical', 'sectorKey': 'consumer-cyclical', 'sectorDisp': 'Consumer Cyclical', 'longBusinessSummary': 'GameStop Corp., a specialty retailer, provides games and entertainment products through its stores and ecommerce platforms in the United States, Canada, Australia, and Europe. The company sells new and pre-owned gaming platforms; accessories, such as controllers, gaming headsets, and virtual reality products; new and pre-owned gaming software; and in-game digital currency, digital downloadable content, and full-game downloads. It sells collectibles comprising apparel, toys, trading cards, gadgets, and other retail products for pop culture and technology enthusiasts, as well as engages in the digital asset wallet and NFT marketplace activities. The company operates stores and ecommerce sites under the GameStop, EB Games, and Micromania brands; and pop culture themed stores that sell collectibles, apparel, gadgets, electronics, toys, and other retail products under the Zing Pop Culture brand, as well as offers Game Informer magazine, a print and digital gaming publication. The company was formerly known as GSC Holdings Corp. GameStop Corp. was founded in 1996 and is headquartered in Grapevine, Texas.', 'fullTimeEmployees': 8000, 'companyOfficers': [{'maxAge': 1, 'name': 'Mr. Ryan  Cohen', 'age': 37, 'title': 'President, CEO & Executive Chairman', 'yearBorn': 1986, 'fiscalYear': 2023, 'exercisedValue': 0, 'unexercisedValue': 0}, {'maxAge': 1, 'name': 'Mr. Daniel William Moore', 'age': 40, 'title': 'Principal Accounting Officer & Principal Financial Officer', 'yearBorn': 1983, 'fiscalYear': 2023, 'totalPay': 277711, 'exercisedValue': 0, 'unexercisedValue': 0}, {'maxAge': 1, 'name': 'Mr. Mark Haymond Robinson', 'age': 45, 'title': 'General Counsel & Secretary', 'yearBorn': 1978, 'fiscalYear': 2023, 'totalPay': 337657, 'exercisedValue': 0, 'unexercisedValue': 0}], 'auditRisk': 8, 'boardRisk': 6, 'compensationRisk': 7, 'shareHolderRightsRisk': 3, 'overallRisk': 5, 'governanceEpochDate': 1730419200, 'compensationAsOfEpochDate': 1703980800, 'irWebsite': 'http://phx.corporate-ir.net/phoenix.zhtml?c=130125&p=irol-irhome', 'maxAge': 86400, 'priceHint': 2, 'previousClose': 27.82, 'open': 27.88, 'dayLow': 27.49, 'dayHigh': 28.46, 'regularMarketPreviousClose': 27.82, 'regularMarketOpen': 27.88, 'regularMarketDayLow': 27.49, 'regularMarketDayHigh': 28.46, 'exDividendDate': 1552521600, 'fiveYearAvgDividendYield': 9.52, 'beta': -0.098, 'trailingPE': 200.89929, 'forwardPE': -2812.59, 'volume': 4357703, 'regularMarketVolume': 4357703, 'averageVolume': 10010943, 'averageVolume10days': 16282340, 'averageDailyVolume10Day': 16282340, 'bid': 28.27, 'ask': 28.32, 'bidSize': 800, 'askSize': 800, 'marketCap': 12558495744, 'fiftyTwoWeekLow': 9.95, 'fiftyTwoWeekHigh': 64.83, 'priceToSalesTrailing12Months': 2.7588964, 'fiftyDayAverage': 22.6346, 'twoHundredDayAverage': 20.42785, 'currency': 'USD', 'enterpriseValue': 8194797056, 'profitMargins': 0.00934, 'floatShares': 390217891, 'sharesOutstanding': 446510016, 'sharesShort': 35943712, 'sharesShortPriorMonth': 38133807, 'sharesShortPreviousMonthDate': 1727654400, 'dateShortInterest': 1730332800, 'sharesPercentSharesOut': 0.0805, 'heldPercentInsiders': 0.08495, 'heldPercentInstitutions': 0.28564, 'shortRatio': 6.14, 'shortPercentOfFloat': 0.096499994, 'impliedSharesOutstanding': 449043008, 'bookValue': 10.278, 'priceToBook': 2.736515, 'lastFiscalYearEnd': 1706918400, 'nextFiscalYearEnd': 1738540800, 'mostRecentQuarter': 1722643200, 'netIncomeToCommon': 42500000, 'trailingEps': 0.14, 'forwardEps': -0.01, 'lastSplitFactor': '4:1', 'lastSplitDate': 1658448000, 'enterpriseToRevenue': 1.8, 'enterpriseToEbitda': 173.619, '52WeekChange': 1.2803278, 'SandP52WeekChange': 0.30473053, 'lastDividendValue': 0.095, 'lastDividendDate': 1552521600, 'exchange': 'NYQ', 'quoteType': 'EQUITY', 'symbol': 'GME', 'underlyingSymbol': 'GME', 'shortName': 'GameStop Corporation', 'longName': 'GameStop Corp.', 'firstTradeDateEpochUtc': 1013610600, 'timeZoneFullName': 'America/New_York', 'timeZoneShortName': 'EST', 'uuid': '8ded85bd-8171-3e2e-afa6-c81272285147', 'messageBoardId': 'finmb_1342560', 'gmtOffSetMilliseconds': -18000000, 'currentPrice': 28.1259, 'targetHighPrice': 10.0, 'targetLowPrice': 10.0, 'targetMeanPrice': 10.0, 'targetMedianPrice': 10.0, 'recommendationKey': 'none', 'numberOfAnalystOpinions': 1, 'totalCash': 4204199936, 'totalCashPerShare': 9.857, 'ebitda': 47200000, 'totalDebt': 533500000, 'quickRatio': 5.442, 'currentRatio': 6.233, 'totalRevenue': 4552000000, 'debtToEquity': 12.171, 'revenuePerShare': 13.97, 'returnOnAssets': 0.00043000001, 'returnOnEquity': 0.015039999, 'freeCashflow': -93387504, 'operatingCashflow': -33100000, 'revenueGrowth': -0.314, 'grossMargins': 0.26237, 'ebitdaMargins': 0.010369999, 'operatingMargins': -0.03558, 'financialCurrency': 'USD', 'trailingPegRatio': None}\n"
     ]
    }
   ],
   "source": [
    "# Create a Ticker object for GameStop\n",
    "gamestop = yf.Ticker(\"GME\")\n",
    "\n",
    "# information about the Ticker object\n",
    "print(gamestop.info)\n"
   ]
  },
  {
   "cell_type": "markdown",
   "id": "59cd69eb-1ffc-49eb-8693-6ddc2660268c",
   "metadata": {},
   "source": [
    "Using the ticker object and the function `history` extract stock information and save it in a dataframe named `gme_data`. Set the `period` parameter to ` \"max\" ` so we get information for the maximum amount of time.\n"
   ]
  },
  {
   "cell_type": "code",
   "execution_count": 16,
   "id": "fbfe5c84-431c-408a-89ae-aae40ce66cf9",
   "metadata": {},
   "outputs": [
    {
     "name": "stdout",
     "output_type": "stream",
     "text": [
      "                               Open      High       Low     Close    Volume  \\\n",
      "Date                                                                          \n",
      "2002-02-13 00:00:00-05:00  1.620128  1.693350  1.603296  1.691666  76216000   \n",
      "2002-02-14 00:00:00-05:00  1.712707  1.716074  1.670626  1.683250  11021600   \n",
      "2002-02-15 00:00:00-05:00  1.683250  1.687458  1.658002  1.674834   8389600   \n",
      "2002-02-19 00:00:00-05:00  1.666418  1.666418  1.578047  1.607504   7410400   \n",
      "2002-02-20 00:00:00-05:00  1.615920  1.662210  1.603296  1.662210   6892800   \n",
      "\n",
      "                           Dividends  Stock Splits  \n",
      "Date                                                \n",
      "2002-02-13 00:00:00-05:00        0.0           0.0  \n",
      "2002-02-14 00:00:00-05:00        0.0           0.0  \n",
      "2002-02-15 00:00:00-05:00        0.0           0.0  \n",
      "2002-02-19 00:00:00-05:00        0.0           0.0  \n",
      "2002-02-20 00:00:00-05:00        0.0           0.0  \n"
     ]
    }
   ],
   "source": [
    "gme_data=gamestop.history(period=\"max\")\n",
    "print (gme_data.head())"
   ]
  },
  {
   "cell_type": "markdown",
   "id": "6cbd9d04-be15-4ec3-aac9-01a0c2699dd2",
   "metadata": {},
   "source": [
    "**Reset the index** using the `reset_index(inplace=True)` function on the gme_data DataFrame and display the first five rows of the `gme_data` dataframe using the `head` function. Take a screenshot of the results and code from the beginning of Question 3 to the results below.\n"
   ]
  },
  {
   "cell_type": "code",
   "execution_count": 17,
   "id": "5548a49a-33c0-4d07-8b46-420228a3b8ce",
   "metadata": {},
   "outputs": [
    {
     "name": "stdout",
     "output_type": "stream",
     "text": [
      "                       Date      Open      High       Low     Close    Volume  \\\n",
      "0 2002-02-13 00:00:00-05:00  1.620128  1.693350  1.603296  1.691666  76216000   \n",
      "1 2002-02-14 00:00:00-05:00  1.712707  1.716074  1.670626  1.683250  11021600   \n",
      "2 2002-02-15 00:00:00-05:00  1.683250  1.687458  1.658002  1.674834   8389600   \n",
      "3 2002-02-19 00:00:00-05:00  1.666418  1.666418  1.578047  1.607504   7410400   \n",
      "4 2002-02-20 00:00:00-05:00  1.615920  1.662210  1.603296  1.662210   6892800   \n",
      "\n",
      "   Dividends  Stock Splits  \n",
      "0        0.0           0.0  \n",
      "1        0.0           0.0  \n",
      "2        0.0           0.0  \n",
      "3        0.0           0.0  \n",
      "4        0.0           0.0  \n"
     ]
    }
   ],
   "source": [
    "gme_data.reset_index(inplace=True)\n",
    "print (gme_data.head())"
   ]
  },
  {
   "cell_type": "markdown",
   "id": "4704c5ce-a082-487b-b96d-d0184c1d949e",
   "metadata": {},
   "source": [
    "## Question 4: Use Webscraping to Extract GME Revenue Data\n"
   ]
  },
  {
   "cell_type": "markdown",
   "id": "9e34ff23-9b8b-4c96-b8d1-d2436f381889",
   "metadata": {},
   "source": [
    "Use the `requests` library to download the webpage https://cf-courses-data.s3.us.cloud-object-storage.appdomain.cloud/IBMDeveloperSkillsNetwork-PY0220EN-SkillsNetwork/labs/project/stock.html. Save the text of the response as a variable named `html_data_2`.\n"
   ]
  },
  {
   "cell_type": "code",
   "execution_count": 18,
   "id": "becebf62-ccbd-4eb3-acb4-ae5122151ec1",
   "metadata": {},
   "outputs": [
    {
     "name": "stdout",
     "output_type": "stream",
     "text": [
      "<!DOCTYPE html>\n",
      "<!-- saved from url=(0105)https://web.archive.org/web/20200814131437/https://www.macrotrends.net/stocks/charts/GME/gamestop/revenue -->\n",
      "<html class=\" js flexbox canvas canvastext webgl no-touch geolocation postmessage websqldatabase indexeddb hashchange history draganddrop websockets rgba hsla multiplebgs backgroundsize borderimage borderradius boxshadow textshadow opacity cssanimations csscolumns cssgradients cssreflections csstransforms csstransforms3d csstransitions fontface generatedcontent video audio localstorage sessionstorage webworkers no-applicationcache svg inlinesvg smil svgclippaths\" style=\"\"><!--<![endif]--><head><meta http-equiv=\"Content-Type\" content=\"text/html; charset=UTF-8\"><script type=\"text/javascript\" async=\"\" src=\"./GameStop Revenue 2006-2020 _ GME _ MacroTrends_files/analytics.js.download\"></script><script async=\"\" type=\"text/javascript\" src=\"./GameStop Revenue 2006-2020 _ GME _ MacroTrends_files/gpt.js.download\"></script><script async=\"\" src=\"./GameStop Revenue 2006-2020 _ GME _ MacroTrends_files/analytics.js(1).download\"></script><script async=\"\" src=\"./GameStop Revenue 2006-2020 _ GME _ MacroTrends_files/analytics.js(1).download\"></script><script src=\"./GameStop Revenue 2006-2020 _ GME _ MacroTrends_files/analytics.js(2).download\" type=\"text/javascript\"></script>\n",
      "<script type=\"text/javascript\">window.addEventListener('DOMContentLoaded',function(){var v=archive_analytics.values;v.service='wb';v.server_name='wwwb-app201.us.archive.org';v.server_ms=286;archive_analytics.send_pageview({});});</script>\n",
      "<script type=\"text/javascript\" src=\"./GameStop Revenue 2006-2020 _ GME _ MacroTrends_files/bundle-playback.js.download\" charset=\"utf-8\"></script>\n",
      "<script type=\"text/javascript\" src=\"./GameStop Revenue 2006-2020 _ GME _ MacroTrends_files/wombat.js.download\" charset=\"utf-8\"></script>\n",
      "<script type=\"text/javascript\">\n",
      "  __wm.init(\"https://web.archive.org/web\");\n",
      "  __wm.wombat(\"https://www.macrotrends.net/stocks/charts/GME/gamestop/revenue\",\"20200814131437\",\"https://web.archive.org/\",\"web\",\"/_static/\",\n",
      "\t      \"1597410877\");\n",
      "</script>\n",
      "<link rel=\"stylesheet\" type=\"text/css\" href=\"./GameStop Revenue 2006-2020 _ GME _ MacroTrends_files/banner-styles.css\">\n",
      "<link rel=\"stylesheet\" type=\"text/css\" href=\"./GameStop Revenue 2006-2020 _ GME _ MacroTrends_files/iconochive.css\">\n",
      "<!-- End Wayback Rewrite JS Include -->\n",
      "\n",
      "        \n",
      "        <meta http-equiv=\"X-UA-Compatible\" content=\"IE=edge,chrome=1\">\n",
      "\t\t<link rel=\"canonical\" href=\"https://web.archive.org/web/20200814131437/https://www.macrotrends.net/stocks/charts/GME/gamestop/revenue\">\n",
      "\t\t<title>GameStop Revenue 2006-2020 | GME | MacroTrends</title>\n",
      "\t\t<meta name=\"description\" content=\"GameStop revenue from 2006 to 2020. Revenue can be defined as the amount of money a company receives from its customers in exchange for the sales of goods or services.  Revenue is the top line item on an income statement from which all costs and expenses are subtracted to arrive at net income.\">\n",
      "\t\t<meta name=\"robots\" content=\"\">\n",
      "\t\t\t\t\n",
      "\t\t<link rel=\"shortcut icon\" href=\"https://web.archive.org/web/20200814131437im_/https://www.macrotrends.net/assets/images/icons/FAVICON/macro-trends_favicon.ico\" type=\"image/x-icon\">\n",
      "\n",
      "\t\t<meta name=\"msvalidate.01\" content=\"1228954C688F5907894001CD8E5E624B\">\n",
      "\t\t<meta name=\"google-site-verification\" content=\"6MnD_3iDtAP1ZyoGK1YMyVIVck4r5Ws80I9xD3ue4_A\">\n",
      "\n",
      "\t\t<!-- Load in Roboto Font -->\n",
      "\t\t<link rel=\"stylesheet\" href=\"./GameStop Revenue 2006-2020 _ GME _ MacroTrends_files/css\">\n",
      "\n",
      "\t\t<!-- Bootstrap -->\n",
      "\t\t<link rel=\"stylesheet\" href=\"./GameStop Revenue 2006-2020 _ GME _ MacroTrends_files/bootstrap.min.css\"> <!--for Bootstrap CDN version-->\n",
      "\t\t<link rel=\"stylesheet\" href=\"./GameStop Revenue 2006-2020 _ GME _ MacroTrends_files/bootstrap-theme.min.css\">\n",
      "\n",
      "\t\t<!-- Font Awesome -->\n",
      "\t\t<link rel=\"stylesheet\" href=\"./GameStop Revenue 2006-2020 _ GME _ MacroTrends_files/font-awesome.min.css\"> <!--for Font Awesome CDN version-->\n",
      "    \t\t\n",
      "\t\t<!-- Jquery, Bootstrap and Menu Javascript -->\t\n",
      "\t\t<script src=\"./GameStop Revenue 2006-2020 _ GME _ MacroTrends_files/jquery-1.12.4.min.js.download\" integrity=\"\" crossorigin=\"anonymous\"></script>\n",
      "\t\t<script src=\"./GameStop Revenue 2006-2020 _ GME _ MacroTrends_files/bootstrap.min.js.download\"></script>\n",
      "\t\t\t\t\n",
      "\t\t<!-- Modernizr for cross-browser support -->\t\t\n",
      "\t\t<script type=\"text/javascript\" src=\"./GameStop Revenue 2006-2020 _ GME _ MacroTrends_files/modernizr-2.6.2-respond-1.1.0.min.js.download\"></script>\n",
      "\n",
      "\t\t<!-- Latest compiled and minified CSS -->\n",
      "\t\t<link rel=\"stylesheet\" href=\"./GameStop Revenue 2006-2020 _ GME _ MacroTrends_files/fuelux.min.css\">\n",
      "\n",
      "\t\t<!-- Latest compiled and minified JavaScript -->\n",
      "\t\t<script src=\"./GameStop Revenue 2006-2020 _ GME _ MacroTrends_files/fuelux.min.js.download\"></script>\n",
      "\t\t\n",
      "\t\t\n",
      "\t\t <!-- Twitter Card data -->\n",
      "\t\t  <meta name=\"twitter:card\" content=\"summary_large_image\">\n",
      "\t\t  <meta name=\"twitter:site\" content=\"@tmacrotrends\">\n",
      "\t\t  <meta name=\"twitter:title\" content=\"GameStop Revenue 2006-2020 | GME\">\n",
      "\t\t  <meta name=\"twitter:description\" content=\"GameStop revenue from 2006 to 2020. Revenue can be defined as the amount of money a company receives from its customers in exchange for the sales of goods or services.  Revenue is the top line item on an income statement from which all costs and expenses are subtracted to arrive at net income.\">\n",
      "\n",
      "\t\t  <!-- Open Graph data -->\n",
      "\t\t  <meta property=\"og:url\" content=\"https://web.archive.org/web/20200814131437/https://www.macrotrends.net/stocks/charts/GME/gamestop/revenue\">  \n",
      "\t\t  <meta property=\"og:title\" content=\"GameStop Revenue 2006-2020 | GME\">\n",
      "\t\t  <meta property=\"og:description\" content=\"GameStop revenue from 2006 to 2020. Revenue can be defined as the amount of money a company receives from its customers in exchange for the sales of goods or services.  Revenue is the top line item on an income statement from which all costs and expenses are subtracted to arrive at net income.\">\n",
      "\n",
      "\t\t<!-- JQXGRID STYLES AND JAVASCRIPT -->\n",
      "\t\t<link rel=\"stylesheet\" href=\"./GameStop Revenue 2006-2020 _ GME _ MacroTrends_files/jqx.base.css\" type=\"text/css\">\n",
      "\t\t<link rel=\"stylesheet\" href=\"./GameStop Revenue 2006-2020 _ GME _ MacroTrends_files/jqx.bootstrap.css\" type=\"text/css\">\n",
      "\n",
      "\t\t<!-- LOAD THESE SCRIPTS EARLY SO THE TICKER INPUT FIELD IS STYLED INSTANTLY -->\n",
      "\t\t<script type=\"text/javascript\" src=\"./GameStop Revenue 2006-2020 _ GME _ MacroTrends_files/jqxcore.js.download\"></script>\n",
      "\t\t<script type=\"text/javascript\" src=\"./GameStop Revenue 2006-2020 _ GME _ MacroTrends_files/jqxdata.js.download\"></script> \n",
      "\t\t<script type=\"text/javascript\" src=\"./GameStop Revenue 2006-2020 _ GME _ MacroTrends_files/jqxinput.js.download\"></script> \n",
      "\n",
      "\t\t<!-- Styling for search box -->\t\n",
      "\t\t<link rel=\"stylesheet\" type=\"text/css\" href=\"./GameStop Revenue 2006-2020 _ GME _ MacroTrends_files/jquery.typeahead_pages.css\">\n",
      "\n",
      "\t\t<!-- Search box javascript -->\n",
      "\t\t<script src=\"./GameStop Revenue 2006-2020 _ GME _ MacroTrends_files/jquery.typeahead.min.js.download\"></script>\n",
      "\t\t\n",
      "\n",
      "\t\t<link href=\"./GameStop Revenue 2006-2020 _ GME _ MacroTrends_files/select2.min.css\" rel=\"stylesheet\">\n",
      "\t\t<script src=\"./GameStop Revenue 2006-2020 _ GME _ MacroTrends_files/select2.min.js.download\"></script>\n",
      "\t\n",
      "\t<!-- ToolTips -->\t\n",
      "\t\t<script src=\"./GameStop Revenue 2006-2020 _ GME _ MacroTrends_files/tipped.js.download\"></script>\n",
      "\t\t<link rel=\"stylesheet\" href=\"./GameStop Revenue 2006-2020 _ GME _ MacroTrends_files/tipped.css\">\n",
      "\t\t\n",
      "\t\t\t\n",
      "\t\t<script async=\"\" src=\"./GameStop Revenue 2006-2020 _ GME _ MacroTrends_files/uat.js.download\"></script>\n",
      "\t\t<script type=\"text/javascript\">\n",
      "\t\t\tInvestingChannelQueue = window.InvestingChannelQueue || [];\n",
      "\t\t\tvar ic_page;\n",
      "\t\t\tInvestingChannelQueue.push(function() {ic_page = InvestingChannel.UAT.Run(\"df17ac1e-cc7f-11e8-82a5-0abbb61c4a6a\");});\n",
      "\t\t</script>\t\n",
      "\n",
      "\t\t<!-- Global site tag (gtag.js) - Google Analytics -->\n",
      "\t\t<script async=\"\" src=\"./GameStop Revenue 2006-2020 _ GME _ MacroTrends_files/js\"></script>\n",
      "\t\t<script>\n",
      "\t\t  window.dataLayer = window.dataLayer || [];\n",
      "\t\t  function gtag(){dataLayer.push(arguments);}\n",
      "\t\t  gtag('js', new Date());\n",
      "\n",
      "\t\t  gtag('config', 'UA-62099500-1');\n",
      "\t\t</script>\t\t\n",
      "\n",
      "\n",
      " \t\t<!-- Amcharts Files -->\t\t\n",
      "\t\t<script src=\"./GameStop Revenue 2006-2020 _ GME _ MacroTrends_files/amcharts.js.download\" type=\"text/javascript\"></script>\n",
      "        <script src=\"./GameStop Revenue 2006-2020 _ GME _ MacroTrends_files/serial.js.download\" type=\"text/javascript\"></script>\n",
      "        <script src=\"./GameStop Revenue 2006-2020 _ GME _ MacroTrends_files/light.js.download\" type=\"text/javascript\"></script>\n",
      "        <script src=\"./GameStop Revenue 2006-2020 _ GME _ MacroTrends_files/amstock.js.download\" type=\"text/javascript\"></script>  \n",
      "\t\t<script type=\"text/javascript\" src=\"./GameStop Revenue 2006-2020 _ GME _ MacroTrends_files/export.min.js.download\"></script>\n",
      "\t\t<script type=\"text/javascript\" src=\"./GameStop Revenue 2006-2020 _ GME _ MacroTrends_files/fabric.min.js.download\"></script>\n",
      "\t\t<script type=\"text/javascript\" src=\"./GameStop Revenue 2006-2020 _ GME _ MacroTrends_files/FileSaver.js.download\"></script>\n",
      "\t\t<link rel=\"stylesheet\" href=\"./GameStop Revenue 2006-2020 _ GME _ MacroTrends_files/export.css\" type=\"text/css\" media=\"all\">\t\t\n",
      "\n",
      "\n",
      "\t\t<!--<script>\n",
      "\t\t\t(function(i,s,o,g,r,a,m){i['GoogleAnalyticsObject']=r;i[r]=i[r]||function(){\n",
      "\t\t\t(i[r].q=i[r].q||[]).push(arguments)},i[r].l=1*new Date();a=s.createElement(o),\n",
      "\t\t\tm=s.getElementsByTagName(o)[0];a.async=1;a.src=g;m.parentNode.insertBefore(a,m)\n",
      "\t\t\t})(window,document,'script','//www.google-analytics.com/analytics.js','ga');\n",
      "\n",
      "\t\t\tga('create', 'UA-62099500-1', 'auto');\n",
      "\t\t\tga('send', 'pageview');\n",
      "\t\t\t\n",
      "\t\t\t\n",
      "\t\t\t\n",
      "\t\t   \n",
      "\t\t\t//Send one event to GA at 30 seconds to control bounce rate\n",
      "\t\t\tsetTimeout(\"ga('send','event','Engaged User','30 Second Engagement')\",30000); \n",
      "\n",
      "\n",
      "\t\t  //This code sends events to ga every 30 seconds when the window is in focus\n",
      "\t\t\tvar count = 0;\n",
      "\t\t\tvar myInterval;\n",
      "\t\t\t\t\t\n",
      "\t\t\t// Active\n",
      "\t\t\twindow.addEventListener('load', startTimer);\n",
      "\t\t\twindow.addEventListener('focus', startTimer);\n",
      "\n",
      "\t\t\t// Inactive\n",
      "\t\t\twindow.addEventListener('blur', stopTimer);\n",
      "\n",
      "\t\t\tfunction timerHandler() {\n",
      "\t\t\t\tcount++;\n",
      "\t\t\t\t\n",
      "\t\t\t\tif(count % 60 == 0 && count <= 1800) {\n",
      "\t\t\t\t\t\n",
      "\t\t\t\t\tvar interval = (count/60);\n",
      "\t\t\t\t\tinterval = interval.toFixed(0);\n",
      "\t\t\t\t\t\n",
      "\t\t\t\t\tvar action = interval + \" Minute Engagement\";\n",
      "\t\t\t\t\t\n",
      "\t\t\t\t\tga('send','event','Engaged User',action);\n",
      "\n",
      "\t\t\t\t\t\n",
      "\t\t\t\t}\n",
      "\t\t\t\n",
      "\t\t\t}\n",
      "\n",
      "\t\t\t// Start timer\n",
      "\t\t\tfunction startTimer() {\n",
      "\t\t\tmyInterval = window.setInterval(timerHandler, 1000);\n",
      "\t\t\t}\n",
      "\n",
      "\t\t\t// Stop timer\n",
      "\t\t\tfunction stopTimer() {\n",
      "\t\t\twindow.clearInterval(myInterval);\n",
      "\t\t\t}\n",
      "\t\t\t\n",
      "\t\t\t\n",
      "\n",
      "\t\t</script>-->\n",
      "\t\t\n",
      "<style> \n",
      "\n",
      "#style-1::-webkit-scrollbar-track\n",
      "{\n",
      "\t-webkit-box-shadow: inset 0 0 6px rgba(0,0,0,0.3);\n",
      "\tborder-radius: 3px;\n",
      "\tbackground-color: #F5F5F5;\n",
      "}\n",
      "\n",
      "#style-1::-webkit-scrollbar\n",
      "{\n",
      "\twidth: 18px;\n",
      "\tbackground-color: #F5F5F5;\n",
      "}\n",
      "\n",
      "#style-1::-webkit-scrollbar-thumb\n",
      "{\n",
      "\tborder-radius: 3px;\n",
      "\t-webkit-box-shadow: inset 0 0 6px rgba(0,0,0,.3);\n",
      "\tbackground-color: #5B9BD5;\n",
      "}\n",
      "\n",
      "html {\n",
      "\twidth:100%;\n",
      "\tposition: relative;\n",
      "\tmin-height: 100%;\n",
      "}\n",
      "\n",
      "body {\n",
      "\t\n",
      "\twidth:100%;\n",
      "\n",
      "\t/* Margin bottom by footer height */\n",
      "\t  margin-bottom: 80px;\n",
      "\t  color: #444;\n",
      "\t  background-color:#fff;\n",
      "\t  font-family: 'Roboto', sans-serif;\n",
      "\t  font-size:14px;\n",
      "}\n",
      "\n",
      "\n",
      "\n",
      "\n",
      "\n",
      ".header_content_container {\n",
      "\t\n",
      "\tmin-width: 1250px;\n",
      "\tpadding: 0px;\n",
      "}\n",
      "\n",
      ".main_content_container {\n",
      "\t\n",
      "\tmin-width: 1366px;\n",
      "\tmax-width: 1366px;\n",
      "\tpadding: 0px 30px 100px 30px;\n",
      "\t\n",
      "}\n",
      "\n",
      ".sub_main_content_container {\n",
      "\t\n",
      "\t\n",
      "}\n",
      "\n",
      "#left_sidebar {\n",
      "\t\n",
      "  width: 180px;\n",
      "  float:left;\n",
      "  height:3080px;\n",
      "\t\n",
      "}\n",
      "\n",
      "#main_content {\n",
      "\t\n",
      "\tpadding:0px 20px 0px 0px;\n",
      "\twidth:826px;\n",
      "    float:left;\n",
      "\t\n",
      "}\n",
      "\n",
      "#right_sidebar {\n",
      "\t\n",
      "  width: 300px;\n",
      "  float:left;\n",
      "  height:3080px;\n",
      "\t\n",
      "}\n",
      "\n",
      "#sticky_ad_left {\n",
      "\t\n",
      "  position: -webkit-sticky;\n",
      "  position: sticky;\n",
      "  top: 30px;\n",
      "\t\n",
      "\t\n",
      "}\n",
      "\n",
      "#sticky_ad_right {\n",
      "\t\n",
      "  position: -webkit-sticky;\n",
      "  position: sticky;\n",
      "  top: 30px;\n",
      "\t\n",
      "\t\n",
      "}\n",
      "\n",
      "\n",
      "\n",
      "\n",
      "\n",
      ".footer {\n",
      "  position: absolute;\n",
      "  bottom: 0;\n",
      "  width: 100%;\n",
      "  /* Set the fixed height of the footer here */\n",
      "  height: 100px;\n",
      "  margin-top: 10px;\t\n",
      "  padding: 30px 20px 20px 20px;\n",
      "  color:#fff !important;\n",
      "  background-color:#444;\n",
      "  text-align: center;\n",
      "  font-size:16px;\n",
      "}\n",
      "\n",
      ".footer a {\n",
      "  color:#fff !important;\n",
      "}\n",
      "\n",
      ".ticker_search_box {\n",
      "\t\n",
      "\tbackground-color:#F5F5F5;\n",
      "\tborder: 1px solid #E0E0E0;\n",
      "\tborder-bottom:none;\n",
      "\tpadding:10px 30px 10px 10px;\n",
      "\tmargin:0px 0px 0px 0px;\n",
      "\ttext-align:center;\n",
      "\t\n",
      "}\n",
      "\n",
      ".related_tickers {\n",
      "\t\n",
      "\twidth:100%;\n",
      "\tbackground-color:#F5F5F5;\n",
      "\tborder: 1px solid #E0E0E0;\n",
      "\tborder-top: 0px;\n",
      "\tpadding:3px 30px 3px 10px;\n",
      "\tmargin:0px 0px 0px 0px;\n",
      "\ttext-align:center;\n",
      "\t\n",
      "}\n",
      "\n",
      ".statement_type_select {\n",
      "\n",
      "\twidth:100%;\n",
      "\theight:28px;\n",
      "\t\n",
      "}\n",
      "\n",
      ".frequency_select {\n",
      "\n",
      "\twidth:100%;\n",
      "\theight:28px;\n",
      "\tfont-weight:600;\n",
      "\t\n",
      "}\n",
      "\n",
      "\n",
      ".select2 {\n",
      "\t\n",
      "\ttext-align:left;\n",
      "\tfont-weight:600;\n",
      "\t\n",
      "\t}\n",
      "\t\n",
      "#jqxInput {\n",
      "\n",
      "\t\twidth:100%;\n",
      "\t\theight:28px;\n",
      "\t\t\n",
      "}\n",
      "\n",
      "\n",
      "\n",
      ".header__parent_container {\n",
      "\n",
      "\twidth:100%;\n",
      "\theight:50px;\n",
      "\tpadding:15px 0px 10px -20px; \n",
      "\tmargin:0px 0px 0px 0px;\n",
      "\tbackground-color:#444;\n",
      "\n",
      "}\n",
      "\n",
      ".header_container {\n",
      "\n",
      "\twidth:100%;\n",
      "\theight:50px;\n",
      "\tpadding:15px 0px 10px -20px; \n",
      "\tmargin:0px 0px 0px 0px;\n",
      "\tbackground-color:#444;\n",
      "\n",
      "}\n",
      "\n",
      ".header_logo {\n",
      "\t\n",
      "\tpadding-top:10px;\n",
      "\tmargin-left:50px;\n",
      "\t\n",
      "}\n",
      "\n",
      ".menu_parent_container {\n",
      "\t\n",
      "\twidth:100%;\n",
      "\theight:34px;\n",
      "\tfont-size:16px;\n",
      "\tpadding:15px 0px 10px -20px; \n",
      "\tmargin:0px 0px 0px 0px;\n",
      "\tbackground-color:#0089de;\n",
      "}\n",
      "\n",
      ".menu_container {\n",
      "\t\n",
      "\twidth:1280px;\n",
      "\theight:34px;\n",
      "\tfont-size:16px;\n",
      "\tpadding:11px 0px 0px -20px; \n",
      "\tmargin: 0 auto;\n",
      "\tbackground-color:#0089de;\n",
      "\tz-index:1000;\n",
      "}\n",
      "\n",
      ".menu_item {\n",
      "\n",
      "\theight:34px;\n",
      "\tfloat:left;\n",
      "\tfont-size:14px;\n",
      "\tfont-weight:bold;\n",
      "\tcolor:#fff;\n",
      "\ttext-align:center;\n",
      "\tpadding:7px 16px 0px 16px;\t\n",
      "\n",
      "}\n",
      "\n",
      ".menu_item:hover\n",
      "{\n",
      "\tbackground-color:#32a0e4;\n",
      "\tcursor: pointer;\n",
      "}\n",
      "\n",
      ".menu_item a\n",
      "{\n",
      "\tcolor:#fff;\n",
      "\tcursor: pointer;\n",
      "}\n",
      "\n",
      ".menu_item a:hover\n",
      "{\n",
      "\ttext-decoration:none;\n",
      "\tcursor: pointer;\n",
      "}\n",
      "\n",
      ".leaderboard_ad {\n",
      "\n",
      "\tmargin-top:20px;\n",
      "\tmargin-bottom:20px;\n",
      "\ttext-align:center;\n",
      "\tmin-height:100px;\n",
      "\n",
      "}\n",
      "\n",
      "#filter_result_count {\n",
      "\t\n",
      "\twidth:100%;\n",
      "\ttext-align:center;\n",
      "\tfont-size:24px;\n",
      "\tfont-weight:bold;\n",
      "\tpadding:10px 15px;\n",
      "\tbackground-color:#efefef;\n",
      "\tborder: 1px solid #dfdfdf;\n",
      "\tmargin:20px;\n",
      "\t\n",
      "}\n",
      "\n",
      "\n",
      "select {\n",
      "  color: #444;\n",
      "  background-color: #FFF;\n",
      "  border: 1px solid #AAA;\n",
      "  border-radius: 4px;\n",
      "  box-sizing: border-box;\n",
      "  cursor: pointer;\n",
      "  display: block;\n",
      "  height:40px;\n",
      "  line-height: 40px;\n",
      "}\n",
      "\n",
      ".historical_data_table  {\n",
      "    table-layout: fixed;\n",
      "\tmargin:20px;\n",
      "}\n",
      "\n",
      ".historical_data_table tbody tr td {\n",
      "\t\n",
      "\tpadding:6px;\n",
      "\tvertical-align: middle !important;\n",
      "\n",
      "}\n",
      "\n",
      "\n",
      ".descriptors {\n",
      "\t\n",
      "\ttext-align:center;\n",
      "\tfont-size:14px;\n",
      "\tpadding:15px;\n",
      "\t\n",
      "}\n",
      "\n",
      ".td_metric_name {\n",
      "\t\n",
      "\twidth:110px;\n",
      "\tpadding-top:17px;\n",
      "\t\n",
      "}\n",
      "\n",
      ".metric_link {\n",
      "\t\n",
      "\tfont-size:14px;\n",
      "\tfont-weight:bold;\n",
      "\n",
      "}\n",
      "\n",
      ".help_icon {\n",
      "\t\n",
      "\twidth:15px;\n",
      "\theight:18px; \n",
      "\tpadding-bottom:3px;\n",
      "\t\n",
      "}\n",
      "\n",
      ".td_min_value {\n",
      "\t\n",
      "\twidth:75px;\n",
      "\ttext-align:center;\n",
      "\tfont-size:13px;\n",
      "\t\n",
      "}\n",
      "\n",
      ".td_max_value {\n",
      "\t\n",
      "\twidth:75px;\n",
      "\ttext-align:center;\n",
      "\tfont-size:13px;\n",
      "\t\n",
      "}\n",
      "\n",
      "#myCombobox .form-control {\n",
      "\t\n",
      "\tbackground-color: #99d5ff;\n",
      "\n",
      "\t\n",
      "}\n",
      "\n",
      ".dropdown-toggle {\n",
      "\t\n",
      "\theight:24px;\n",
      "\tpadding-top:0px;\n",
      "\tpadding-left:7px;\n",
      "\twidth:24px;\n",
      "\t\n",
      "}\n",
      "\n",
      ".dropdown-menu-right {\n",
      "\t\n",
      "\tmin-width:75px;\n",
      "\tfont-size:13px;\n",
      "\t\n",
      "}\n",
      "\n",
      ".form-control {\n",
      "\t\n",
      "\tfont-size:12px;\t\n",
      "\tpadding:5px 10px;\n",
      "\theight:24px;\n",
      "\n",
      "\t\n",
      "}\n",
      "\n",
      "#myPills1 {\n",
      "\t\n",
      "\tmargin:0px 15px 10px 0px;\n",
      "\t\n",
      "}\n",
      "\n",
      "#jqxgrid {\n",
      "\t\n",
      "\tborder-radius:0px;\n",
      "\t\n",
      "}\n",
      "\n",
      ".jqx-widget-header {\n",
      "\t\n",
      "    font-family: 'Roboto', sans-serif;\n",
      "\tfont-size:13px;\t\n",
      "\t\n",
      "}\n",
      "\n",
      ".jqx-item {\n",
      "\t\n",
      "    font-family: 'Roboto', sans-serif;\n",
      "\tfont-size: 13px;\n",
      "\t\n",
      "}\n",
      "\n",
      ".jqx-widget-content {\n",
      "\t\n",
      "\tborder-color: #E0E0E0;\n",
      "\t\n",
      "}\n",
      "\n",
      "#jqxgrid .jqx-grid-cell {\n",
      "\t\n",
      "\tborder-color: #E0E0E0;\n",
      "\t\n",
      "}\n",
      "\n",
      "#jqxgrid .jqx-grid-cell-pinned {\n",
      "\t\n",
      "\tborder-color: #E0E0E0;\n",
      "\tbackground-color: #F5F5F5;\n",
      "\t\n",
      "}\n",
      "\n",
      "#jqxgrid .jqx-grid-column-header {\n",
      "\t\n",
      "\tborder-color: #E0E0E0;\n",
      "\tbackground-color: #F5F5F5;\n",
      "\t\n",
      "}\n",
      "\n",
      ".clear_zero {\n",
      "\n",
      "\theight:0px;\n",
      "\n",
      "}\n",
      "\n",
      "\n",
      "\n",
      "/* Styles for Popup Charts */\n",
      "\n",
      ".tpd-size-large {\n",
      "\t\n",
      "\tmargin:0px;\t\n",
      "\tpadding: 0px;\n",
      "}\n",
      "\n",
      ".popup_window_wrapper {\n",
      "\t\n",
      "\tmargin:15px;\n",
      "\t\n",
      "}\n",
      "\n",
      ".popup_stock_name {\n",
      "\n",
      "\tfont-size:16px;\n",
      "\tfont-weight:bold;\n",
      "\tmargin:5px;\n",
      "\n",
      "}\n",
      "\n",
      ".popup_stock_attributes {\n",
      "\n",
      "\tfont-size:13px;\n",
      "\tfont-weight:bold;\n",
      "\tmargin:5px;\n",
      "\n",
      "}\n",
      "\n",
      ".popup_stock_description {\n",
      "\n",
      "\tfont-size:12px;\n",
      "\tmargin:5px;\n",
      "\n",
      "}\n",
      "\n",
      ".jqx-input {\n",
      "\t\n",
      "\tfont-size:14px;\n",
      "\t\n",
      "} \n",
      "\n",
      ".jqx-menu-item {\n",
      "\t\n",
      "\tfont-size:14px;\n",
      "\t\n",
      "}\n",
      "\n",
      ".jqx-input {\n",
      "\t\n",
      "\tpadding:5px 10px;\n",
      "\t\n",
      "}\n",
      "\n",
      ".nav-tabs {\n",
      "    border: 1px solid #E0E0E0;\n",
      "\tbackground-color:#F5F5F5;\n",
      "\tpadding: 3px 5px 0px 5px;\n",
      "\tmargin: 0px 0px 10px 0px;\n",
      "}\n",
      "\n",
      ".nav-tabs>li>a {\n",
      "\tfont-size:13px;\n",
      "\tpadding:7px 12px;\n",
      "\tfont-weight:600;\n",
      "    margin-right: 0px;\n",
      "    line-height: 1.42857143;\n",
      "    border: 0px;\n",
      "    border-radius: 0px 0px 0 0;\n",
      "\tbackground-color:#F5F5F5;\n",
      "\n",
      "}\n",
      "\n",
      ".nav-tabs>li>a .active {\n",
      "    margin-right: 0px;\n",
      "    line-height: 1.42857143;\n",
      "    border: 1px solid #E0E0E0;\n",
      "    border-radius: 0px 0px 0 0;\n",
      "\tbackground-color:#F5F5F5;\n",
      "\n",
      "}\n",
      "\n",
      ".nav-tabs>li>a:hover { \n",
      "    background-color: #F5F5F5;\n",
      "\ttext-decoration: underline;\n",
      "\n",
      "}\n",
      "\n",
      ".donate_buttons {\n",
      "\n",
      "\tmargin-left:20px;\n",
      "\t\n",
      "\t}\n",
      "\n",
      ".modal-body {\n",
      "\n",
      "\tmargin:10px 40px 20px 40px;\n",
      "\ttext-align:left;\n",
      "\tfont-size:18px;\n",
      "\n",
      "}\n",
      "\n",
      ".modal-body li {\n",
      "\n",
      "\tmargin-top:20px;\n",
      "\tfont-size:14px;\n",
      "\n",
      "}\n",
      "\n",
      "\n",
      ".modal_title {\n",
      "\n",
      "\n",
      "\ttext-align:center;\n",
      "\tmargin-bottom:30px;\n",
      "\n",
      "}\n",
      "\n",
      ".modal-body th{\n",
      "\n",
      "\tmargin-left:10px;\n",
      "\tfont-size:14px;\n",
      "}\n",
      "\n",
      ".modal-body td {\n",
      "\n",
      "\tcolor: #337ab7;\n",
      "\tmargin-left:10px;\n",
      "\tfont-size:14px;\n",
      "}\n",
      "\n",
      ".modal_button {\n",
      "\n",
      "\tmargin-top:50px;\n",
      "\ttext-align:center;\n",
      "\tfont-size:16px;\n",
      "\n",
      "}\t\n",
      "\n",
      "\n",
      "</style>\t\n",
      "\n",
      "\n",
      "<script type=\"text/javascript\" async=\"\" src=\"./GameStop Revenue 2006-2020 _ GME _ MacroTrends_files/js(1)\"></script><style type=\"text/css\">@-webkit-keyframes bounce{0%,20%,50%,80%,to{-webkit-transform:translateY(0);transform:translateY(0)}40%{-webkit-transform:translateY(-30px);transform:translateY(-30px)}60%{-webkit-transform:translateY(-15px);transform:translateY(-15px)}}@keyframes bounce{0%,20%,50%,80%,to{-webkit-transform:translateY(0);transform:translateY(0)}40%{-webkit-transform:translateY(-30px);transform:translateY(-30px)}60%{-webkit-transform:translateY(-15px);transform:translateY(-15px)}}.om-animation-bounce{-webkit-animation-duration:1s;animation-duration:1s;-webkit-animation-fill-mode:both;animation-fill-mode:both;-webkit-animation-name:bounce;animation-name:bounce}@-webkit-keyframes bounceIn{0%{opacity:0;-webkit-transform:scale(.3);transform:scale(.3)}50%{opacity:1;-webkit-transform:scale(1.05);transform:scale(1.05)}70%{-webkit-transform:scale(.9);transform:scale(.9)}to{opacity:1;-webkit-transform:scale(1);transform:scale(1)}}@keyframes bounceIn{0%{opacity:0;-webkit-transform:scale(.3);transform:scale(.3)}50%{opacity:1;-webkit-transform:scale(1.05);transform:scale(1.05)}70%{-webkit-transform:scale(.9);transform:scale(.9)}to{opacity:1;-webkit-transform:scale(1);transform:scale(1)}}.om-animation-bounce-in{-webkit-animation-duration:1s;animation-duration:1s;-webkit-animation-name:bounceIn;animation-name:bounceIn}@-webkit-keyframes bounceInDown{0%{opacity:0;-webkit-transform:translateY(-2000px);transform:translateY(-2000px)}60%{opacity:1;-webkit-transform:translateY(30px);transform:translateY(30px)}80%{-webkit-transform:translateY(-10px);transform:translateY(-10px)}to{-webkit-transform:translateY(0);transform:translateY(0)}}@keyframes bounceInDown{0%{opacity:0;-webkit-transform:translateY(-2000px);transform:translateY(-2000px)}60%{opacity:1;-webkit-transform:translateY(30px);transform:translateY(30px)}80%{-webkit-transform:translateY(-10px);transform:translateY(-10px)}to{-webkit-transform:translateY(0);transform:translateY(0)}}.om-animation-bounce-in-down{-webkit-animation-duration:1s;animation-duration:1s;-webkit-animation-name:bounceInDown;animation-name:bounceInDown}@-webkit-keyframes bounceInLeft{0%{opacity:0;-webkit-transform:translateX(-2000px);transform:translateX(-2000px)}60%{opacity:1;-webkit-transform:translateX(30px);transform:translateX(30px)}80%{-webkit-transform:translateX(-10px);transform:translateX(-10px)}to{-webkit-transform:translateX(0);transform:translateX(0)}}@keyframes bounceInLeft{0%{opacity:0;-webkit-transform:translateX(-2000px);transform:translateX(-2000px)}60%{opacity:1;-webkit-transform:translateX(30px);transform:translateX(30px)}80%{-webkit-transform:translateX(-10px);transform:translateX(-10px)}to{-webkit-transform:translateX(0);transform:translateX(0)}}.om-animation-bounce-in-left{-webkit-animation-duration:1s;animation-duration:1s;-webkit-animation-name:bounceInLeft;animation-name:bounceInLeft}@-webkit-keyframes bounceInRight{0%{opacity:0;-webkit-transform:translateX(2000px);transform:translateX(2000px)}60%{opacity:1;-webkit-transform:translateX(-30px);transform:translateX(-30px)}80%{-webkit-transform:translateX(10px);transform:translateX(10px)}to{-webkit-transform:translateX(0);transform:translateX(0)}}@keyframes bounceInRight{0%{opacity:0;-webkit-transform:translateX(2000px);transform:translateX(2000px)}60%{opacity:1;-webkit-transform:translateX(-30px);transform:translateX(-30px)}80%{-webkit-transform:translateX(10px);transform:translateX(10px)}to{-webkit-transform:translateX(0);transform:translateX(0)}}.om-animation-bounce-in-right{-webkit-animation-duration:1s;animation-duration:1s;-webkit-animation-name:bounceInRight;animation-name:bounceInRight}@-webkit-keyframes bounceInUp{0%{opacity:0;-webkit-transform:translateY(2000px);transform:translateY(2000px)}60%{opacity:1;-webkit-transform:translateY(-30px);transform:translateY(-30px)}80%{-webkit-transform:translateY(10px);transform:translateY(10px)}to{-webkit-transform:translateY(0);transform:translateY(0)}}@keyframes bounceInUp{0%{opacity:0;-webkit-transform:translateY(2000px);transform:translateY(2000px)}60%{opacity:1;-webkit-transform:translateY(-30px);transform:translateY(-30px)}80%{-webkit-transform:translateY(10px);transform:translateY(10px)}to{-webkit-transform:translateY(0);transform:translateY(0)}}.om-animation-bounce-in-up{-webkit-animation-duration:1s;animation-duration:1s;-webkit-animation-name:bounceInUp;animation-name:bounceInUp}@-webkit-keyframes flash{0%,50%,to{opacity:1}25%,75%{opacity:0}}@keyframes flash{0%,50%,to{opacity:1}25%,75%{opacity:0}}.om-animation-flash{-webkit-animation-duration:1s;animation-duration:1s;-webkit-animation-fill-mode:both;animation-fill-mode:both;-webkit-animation-name:flash;animation-name:flash}@-webkit-keyframes flip{0%{-webkit-transform:perspective(800px) translateZ(0) rotateY(0) scale(1);transform:perspective(800px) translateZ(0) rotateY(0) scale(1);-webkit-animation-timing-function:ease-out;animation-timing-function:ease-out}40%{-webkit-transform:perspective(800px) translateZ(150px) rotateY(170deg) scale(1);transform:perspective(800px) translateZ(150px) rotateY(170deg) scale(1);-webkit-animation-timing-function:ease-out;animation-timing-function:ease-out}50%{-webkit-transform:perspective(800px) translateZ(150px) rotateY(190deg) scale(1);transform:perspective(800px) translateZ(150px) rotateY(190deg) scale(1);-webkit-animation-timing-function:ease-in;animation-timing-function:ease-in}80%{-webkit-transform:perspective(800px) translateZ(0) rotateY(1turn) scale(.95);transform:perspective(800px) translateZ(0) rotateY(1turn) scale(.95);-webkit-animation-timing-function:ease-in;animation-timing-function:ease-in}to{-webkit-transform:perspective(800px) translateZ(0) rotateY(1turn) scale(1);transform:perspective(800px) translateZ(0) rotateY(1turn) scale(1);-webkit-animation-timing-function:ease-in;animation-timing-function:ease-in}}@keyframes flip{0%{-webkit-transform:perspective(800px) translateZ(0) rotateY(0) scale(1);transform:perspective(800px) translateZ(0) rotateY(0) scale(1);-webkit-animation-timing-function:ease-out;animation-timing-function:ease-out}40%{-webkit-transform:perspective(800px) translateZ(150px) rotateY(170deg) scale(1);transform:perspective(800px) translateZ(150px) rotateY(170deg) scale(1);-webkit-animation-timing-function:ease-out;animation-timing-function:ease-out}50%{-webkit-transform:perspective(800px) translateZ(150px) rotateY(190deg) scale(1);transform:perspective(800px) translateZ(150px) rotateY(190deg) scale(1);-webkit-animation-timing-function:ease-in;animation-timing-function:ease-in}80%{-webkit-transform:perspective(800px) translateZ(0) rotateY(1turn) scale(.95);transform:perspective(800px) translateZ(0) rotateY(1turn) scale(.95);-webkit-animation-timing-function:ease-in;animation-timing-function:ease-in}to{-webkit-transform:perspective(800px) translateZ(0) rotateY(1turn) scale(1);transform:perspective(800px) translateZ(0) rotateY(1turn) scale(1);-webkit-animation-timing-function:ease-in;animation-timing-function:ease-in}}.om-animation-flip{-webkit-animation-duration:1s;animation-duration:1s;-webkit-backface-visibility:visible;backface-visibility:visible;-webkit-animation-name:flip;animation-name:flip}@-webkit-keyframes flipInX{0%{-webkit-transform:perspective(800px) rotateX(90deg);transform:perspective(800px) rotateX(90deg);opacity:0}40%{-webkit-transform:perspective(800px) rotateX(-10deg);transform:perspective(800px) rotateX(-10deg)}70%{-webkit-transform:perspective(800px) rotateX(10deg);transform:perspective(800px) rotateX(10deg)}to{-webkit-transform:perspective(800px) rotateX(0deg);transform:perspective(800px) rotateX(0deg);opacity:1}}@keyframes flipInX{0%{-webkit-transform:perspective(800px) rotateX(90deg);transform:perspective(800px) rotateX(90deg);opacity:0}40%{-webkit-transform:perspective(800px) rotateX(-10deg);transform:perspective(800px) rotateX(-10deg)}70%{-webkit-transform:perspective(800px) rotateX(10deg);transform:perspective(800px) rotateX(10deg)}to{-webkit-transform:perspective(800px) rotateX(0deg);transform:perspective(800px) rotateX(0deg);opacity:1}}.om-animation-flip-down{-webkit-animation-duration:1s;animation-duration:1s;-webkit-backface-visibility:visible;backface-visibility:visible;-webkit-animation-name:flipInX;animation-name:flipInX}@-webkit-keyframes flipInY{0%{-webkit-transform:perspective(800px) rotateY(90deg);transform:perspective(800px) rotateY(90deg);opacity:0}40%{-webkit-transform:perspective(800px) rotateY(-10deg);transform:perspective(800px) rotateY(-10deg)}70%{-webkit-transform:perspective(800px) rotateY(10deg);transform:perspective(800px) rotateY(10deg)}to{-webkit-transform:perspective(800px) rotateY(0deg);transform:perspective(800px) rotateY(0deg);opacity:1}}@keyframes flipInY{0%{-webkit-transform:perspective(800px) rotateY(90deg);transform:perspective(800px) rotateY(90deg);opacity:0}40%{-webkit-transform:perspective(800px) rotateY(-10deg);transform:perspective(800px) rotateY(-10deg)}70%{-webkit-transform:perspective(800px) rotateY(10deg);transform:perspective(800px) rotateY(10deg)}to{-webkit-transform:perspective(800px) rotateY(0deg);transform:perspective(800px) rotateY(0deg);opacity:1}}.om-animation-flip-side{-webkit-animation-duration:1s;animation-duration:1s;-webkit-backface-visibility:visible;backface-visibility:visible;-webkit-animation-name:flipInY;animation-name:flipInY}@-webkit-keyframes lightSpeedIn{0%{-webkit-transform:translateX(100%) skewX(-30deg);transform:translateX(100%) skewX(-30deg);opacity:0}60%{-webkit-transform:translateX(-20%) skewX(30deg);transform:translateX(-20%) skewX(30deg);opacity:1}80%{-webkit-transform:translateX(0) skewX(-15deg);transform:translateX(0) skewX(-15deg);opacity:1}to{-webkit-transform:translateX(0) skewX(0deg);transform:translateX(0) skewX(0deg);opacity:1}}@keyframes lightSpeedIn{0%{-webkit-transform:translateX(100%) skewX(-30deg);transform:translateX(100%) skewX(-30deg);opacity:0}60%{-webkit-transform:translateX(-20%) skewX(30deg);transform:translateX(-20%) skewX(30deg);opacity:1}80%{-webkit-transform:translateX(0) skewX(-15deg);transform:translateX(0) skewX(-15deg);opacity:1}to{-webkit-transform:translateX(0) skewX(0deg);transform:translateX(0) skewX(0deg);opacity:1}}.om-animation-light-speed{-webkit-animation-duration:1s;animation-duration:1s;-webkit-animation-name:lightSpeedIn;animation-name:lightSpeedIn;-webkit-animation-timing-function:ease-out;animation-timing-function:ease-out}@-webkit-keyframes pulse{0%{-webkit-transform:scale(1);transform:scale(1)}50%{-webkit-transform:scale(1.1);transform:scale(1.1)}to{-webkit-transform:scale(1);transform:scale(1)}}@keyframes pulse{0%{-webkit-transform:scale(1);transform:scale(1)}50%{-webkit-transform:scale(1.1);transform:scale(1.1)}to{-webkit-transform:scale(1);transform:scale(1)}}.om-animation-pulse{-webkit-animation-duration:1s;animation-duration:1s;-webkit-animation-fill-mode:both;animation-fill-mode:both;-webkit-animation-name:pulse;animation-name:pulse}@-webkit-keyframes rollIn{0%{opacity:0;-webkit-transform:translateX(-100%) rotate(-120deg);transform:translateX(-100%) rotate(-120deg)}to{opacity:1;-webkit-transform:translateX(0) rotate(0deg);transform:translateX(0) rotate(0deg)}}@keyframes rollIn{0%{opacity:0;-webkit-transform:translateX(-100%) rotate(-120deg);transform:translateX(-100%) rotate(-120deg)}to{opacity:1;-webkit-transform:translateX(0) rotate(0deg);transform:translateX(0) rotate(0deg)}}.om-animation-roll-in{-webkit-animation-duration:1s;animation-duration:1s;-webkit-animation-name:rollIn;animation-name:rollIn}@-webkit-keyframes rotateIn{0%{-webkit-transform-origin:center center;transform-origin:center center;-webkit-transform:rotate(-200deg);transform:rotate(-200deg);opacity:0}to{-webkit-transform-origin:center center;transform-origin:center center;-webkit-transform:rotate(0);transform:rotate(0);opacity:1}}@keyframes rotateIn{0%{-webkit-transform-origin:center center;transform-origin:center center;-webkit-transform:rotate(-200deg);transform:rotate(-200deg);opacity:0}to{-webkit-transform-origin:center center;transform-origin:center center;-webkit-transform:rotate(0);transform:rotate(0);opacity:1}}.om-animation-rotate{-webkit-animation-duration:1s;animation-duration:1s;-webkit-animation-name:rotateIn;animation-name:rotateIn}@-webkit-keyframes rotateInDownLeft{0%{-webkit-transform-origin:left bottom;transform-origin:left bottom;-webkit-transform:rotate(-90deg);transform:rotate(-90deg);opacity:0}to{-webkit-transform-origin:left bottom;transform-origin:left bottom;-webkit-transform:rotate(0);transform:rotate(0);opacity:1}}@keyframes rotateInDownLeft{0%{-webkit-transform-origin:left bottom;transform-origin:left bottom;-webkit-transform:rotate(-90deg);transform:rotate(-90deg);opacity:0}to{-webkit-transform-origin:left bottom;transform-origin:left bottom;-webkit-transform:rotate(0);transform:rotate(0);opacity:1}}.om-animation-rotate-down-left{-webkit-animation-duration:1s;animation-duration:1s;-webkit-animation-name:rotateInDownLeft;animation-name:rotateInDownLeft}@-webkit-keyframes rotateInDownRight{0%{-webkit-transform-origin:right bottom;transform-origin:right bottom;-webkit-transform:rotate(90deg);transform:rotate(90deg);opacity:0}to{-webkit-transform-origin:right bottom;transform-origin:right bottom;-webkit-transform:rotate(0);transform:rotate(0);opacity:1}}@keyframes rotateInDownRight{0%{-webkit-transform-origin:right bottom;transform-origin:right bottom;-webkit-transform:rotate(90deg);transform:rotate(90deg);opacity:0}to{-webkit-transform-origin:right bottom;transform-origin:right bottom;-webkit-transform:rotate(0);transform:rotate(0);opacity:1}}.om-animation-rotate-down-right{-webkit-animation-duration:1s;animation-duration:1s;-webkit-animation-name:rotateInDownRight;animation-name:rotateInDownRight}@-webkit-keyframes rotateInUpLeft{0%{-webkit-transform-origin:left bottom;transform-origin:left bottom;-webkit-transform:rotate(90deg);transform:rotate(90deg);opacity:0}to{-webkit-transform-origin:left bottom;transform-origin:left bottom;-webkit-transform:rotate(0);transform:rotate(0);opacity:1}}@keyframes rotateInUpLeft{0%{-webkit-transform-origin:left bottom;transform-origin:left bottom;-webkit-transform:rotate(90deg);transform:rotate(90deg);opacity:0}to{-webkit-transform-origin:left bottom;transform-origin:left bottom;-webkit-transform:rotate(0);transform:rotate(0);opacity:1}}.om-animation-rotate-up-left{-webkit-animation-duration:1s;animation-duration:1s;-webkit-animation-name:rotateInUpLeft;animation-name:rotateInUpLeft}@-webkit-keyframes rotateInUpRight{0%{-webkit-transform-origin:right bottom;transform-origin:right bottom;-webkit-transform:rotate(-90deg);transform:rotate(-90deg);opacity:0}to{-webkit-transform-origin:right bottom;transform-origin:right bottom;-webkit-transform:rotate(0);transform:rotate(0);opacity:1}}@keyframes rotateInUpRight{0%{-webkit-transform-origin:right bottom;transform-origin:right bottom;-webkit-transform:rotate(-90deg);transform:rotate(-90deg);opacity:0}to{-webkit-transform-origin:right bottom;transform-origin:right bottom;-webkit-transform:rotate(0);transform:rotate(0);opacity:1}}.om-animation-rotate-up-right{-webkit-animation-duration:1s;animation-duration:1s;-webkit-animation-name:rotateInUpRight;animation-name:rotateInUpRight}@-webkit-keyframes rubberBand{0%{-webkit-transform:scale(1);transform:scale(1)}30%{-webkit-transform:scaleX(1.25) scaleY(.75);transform:scaleX(1.25) scaleY(.75)}40%{-webkit-transform:scaleX(.75) scaleY(1.25);transform:scaleX(.75) scaleY(1.25)}60%{-webkit-transform:scaleX(1.15) scaleY(.85);transform:scaleX(1.15) scaleY(.85)}to{-webkit-transform:scale(1);transform:scale(1)}}@keyframes rubberBand{0%{-webkit-transform:scale(1);transform:scale(1)}30%{-webkit-transform:scaleX(1.25) scaleY(.75);transform:scaleX(1.25) scaleY(.75)}40%{-webkit-transform:scaleX(.75) scaleY(1.25);transform:scaleX(.75) scaleY(1.25)}60%{-webkit-transform:scaleX(1.15) scaleY(.85);transform:scaleX(1.15) scaleY(.85)}to{-webkit-transform:scale(1);transform:scale(1)}}.om-animation-rubber-band{-webkit-animation-duration:1s;animation-duration:1s;-webkit-animation-fill-mode:both;animation-fill-mode:both;-webkit-animation-name:rubberBand;animation-name:rubberBand}@-webkit-keyframes shake{0%,to{-webkit-transform:translateX(0);transform:translateX(0)}10%,30%,50%,70%,90%{-webkit-transform:translateX(-10px);transform:translateX(-10px)}20%,40%,60%,80%{-webkit-transform:translateX(10px);transform:translateX(10px)}}@keyframes shake{0%,to{-webkit-transform:translateX(0);transform:translateX(0)}10%,30%,50%,70%,90%{-webkit-transform:translateX(-10px);transform:translateX(-10px)}20%,40%,60%,80%{-webkit-transform:translateX(10px);transform:translateX(10px)}}.om-animation-shake{-webkit-animation-duration:1s;animation-duration:1s;-webkit-animation-fill-mode:both;animation-fill-mode:both;-webkit-animation-name:shake;animation-name:shake}@-webkit-keyframes slideInDown{0%{opacity:0;-webkit-transform:translateY(-2000px);transform:translateY(-2000px)}to{-webkit-transform:translateY(0);transform:translateY(0)}}@keyframes slideInDown{0%{opacity:0;-webkit-transform:translateY(-2000px);transform:translateY(-2000px)}to{-webkit-transform:translateY(0);transform:translateY(0)}}.om-animation-slide-in-down{-webkit-animation-duration:1s;animation-duration:1s;-webkit-animation-name:slideInDown;animation-name:slideInDown}@-webkit-keyframes slideInLeft{0%{opacity:0;-webkit-transform:translateX(-2000px);transform:translateX(-2000px)}to{-webkit-transform:translateX(0);transform:translateX(0)}}@keyframes slideInLeft{0%{opacity:0;-webkit-transform:translateX(-2000px);transform:translateX(-2000px)}to{-webkit-transform:translateX(0);transform:translateX(0)}}.om-animation-slide-in-left{-webkit-animation-duration:1s;animation-duration:1s;-webkit-animation-name:slideInLeft;animation-name:slideInLeft}@-webkit-keyframes slideInRight{0%{opacity:0;-webkit-transform:translateX(2000px);transform:translateX(2000px)}to{-webkit-transform:translateX(0);transform:translateX(0)}}@keyframes slideInRight{0%{opacity:0;-webkit-transform:translateX(2000px);transform:translateX(2000px)}to{-webkit-transform:translateX(0);transform:translateX(0)}}.om-animation-slide-in-right{-webkit-animation-duration:1s;animation-duration:1s;-webkit-animation-name:slideInRight;animation-name:slideInRight}@-webkit-keyframes swing{20%{-webkit-transform:rotate(15deg);transform:rotate(15deg)}40%{-webkit-transform:rotate(-10deg);transform:rotate(-10deg)}60%{-webkit-transform:rotate(5deg);transform:rotate(5deg)}80%{-webkit-transform:rotate(-5deg);transform:rotate(-5deg)}to{-webkit-transform:rotate(0deg);transform:rotate(0deg)}}@keyframes swing{20%{-webkit-transform:rotate(15deg);transform:rotate(15deg)}40%{-webkit-transform:rotate(-10deg);transform:rotate(-10deg)}60%{-webkit-transform:rotate(5deg);transform:rotate(5deg)}80%{-webkit-transform:rotate(-5deg);transform:rotate(-5deg)}to{-webkit-transform:rotate(0deg);transform:rotate(0deg)}}.om-animation-swing{-webkit-animation-duration:1s;animation-duration:1s;-webkit-transform-origin:top center;transform-origin:top center;-webkit-animation-name:swing;animation-name:swing}@-webkit-keyframes tada{0%{-webkit-transform:scale(1);transform:scale(1)}10%,20%{-webkit-transform:scale(.9) rotate(-3deg);transform:scale(.9) rotate(-3deg)}30%,50%,70%,90%{-webkit-transform:scale(1.1) rotate(3deg);transform:scale(1.1) rotate(3deg)}40%,60%,80%{-webkit-transform:scale(1.1) rotate(-3deg);transform:scale(1.1) rotate(-3deg)}to{-webkit-transform:scale(1) rotate(0);transform:scale(1) rotate(0)}}@keyframes tada{0%{-webkit-transform:scale(1);transform:scale(1)}10%,20%{-webkit-transform:scale(.9) rotate(-3deg);transform:scale(.9) rotate(-3deg)}30%,50%,70%,90%{-webkit-transform:scale(1.1) rotate(3deg);transform:scale(1.1) rotate(3deg)}40%,60%,80%{-webkit-transform:scale(1.1) rotate(-3deg);transform:scale(1.1) rotate(-3deg)}to{-webkit-transform:scale(1) rotate(0);transform:scale(1) rotate(0)}}.om-animation-tada{-webkit-animation-duration:1s;animation-duration:1s;-webkit-animation-name:tada;animation-name:tada}@-webkit-keyframes wobble{0%{-webkit-transform:translateX(0);transform:translateX(0)}15%{-webkit-transform:translateX(-25%) rotate(-5deg);transform:translateX(-25%) rotate(-5deg)}30%{-webkit-transform:translateX(20%) rotate(3deg);transform:translateX(20%) rotate(3deg)}45%{-webkit-transform:translateX(-15%) rotate(-3deg);transform:translateX(-15%) rotate(-3deg)}60%{-webkit-transform:translateX(10%) rotate(2deg);transform:translateX(10%) rotate(2deg)}75%{-webkit-transform:translateX(-5%) rotate(-1deg);transform:translateX(-5%) rotate(-1deg)}to{-webkit-transform:translateX(0);transform:translateX(0)}}@keyframes wobble{0%{-webkit-transform:translateX(0);transform:translateX(0)}15%{-webkit-transform:translateX(-25%) rotate(-5deg);transform:translateX(-25%) rotate(-5deg)}30%{-webkit-transform:translateX(20%) rotate(3deg);transform:translateX(20%) rotate(3deg)}45%{-webkit-transform:translateX(-15%) rotate(-3deg);transform:translateX(-15%) rotate(-3deg)}60%{-webkit-transform:translateX(10%) rotate(2deg);transform:translateX(10%) rotate(2deg)}75%{-webkit-transform:translateX(-5%) rotate(-1deg);transform:translateX(-5%) rotate(-1deg)}to{-webkit-transform:translateX(0);transform:translateX(0)}}.om-animation-wobble{-webkit-animation-duration:1s;animation-duration:1s;-webkit-animation-name:wobble;animation-name:wobble}.om-content-lock{color:transparent!important;text-shadow:rgba(0,0,0,.5) 0 0 10px;-webkit-user-select:none;-moz-user-select:none;-ms-user-select:none;user-select:none;pointer-events:none;filter:url(\"data:image/svg+xml;utf9,<svg%20version='1.1'%20xmlns='http://www.w3.org/2000/svg'><filter%20id='blur'><feGaussianBlur%20stdDeviation='10'%20/></filter></svg>#blur\");-webkit-filter:blur(10px);-ms-filter:blur(10px);-o-filter:blur(10px);filter:blur(10px)}html.om-mobile-position,html.om-mobile-position body{position:fixed!important}html.om-ios-form,html.om-ios-form body{-webkit-transform:translateZ(0)!important;transform:translateZ(0)!important;-webkit-overflow-scrolling:touch!important;height:100%!important;overflow:auto!important}html.om-position-popup body{overflow:hidden!important}html.om-position-floating-top{transition:padding-top .5s ease!important}html.om-position-floating-bottom{transition:padding-bottom .5s ease!important}html.om-reset-dimensions{height:100%!important;width:100%!important}.om-verification-confirmation{font-family:Lato,Arial,Helvetica,sans-serif;position:fixed;border-radius:10px;bottom:20px;left:20px;padding:10px 20px;opacity:0;transition:opacity .3s ease-in;background:#85bf31;color:#fff;font-size:18px;font-weight:700;z-index:9999}</style><link rel=\"preload\" href=\"./GameStop Revenue 2006-2020 _ GME _ MacroTrends_files/f.txt\" as=\"script\"><script type=\"text/javascript\" src=\"./GameStop Revenue 2006-2020 _ GME _ MacroTrends_files/f.txt\"></script><script src=\"./GameStop Revenue 2006-2020 _ GME _ MacroTrends_files/pubads_impl_2020080501.js.download\" async=\"\"></script></head>\n",
      "\t<body class=\"fuelux\" data-new-gr-c-s-check-loaded=\"14.1050.0\" data-gr-ext-installed=\"\"><!-- BEGIN WAYBACK TOOLBAR INSERT -->\n",
      "<style type=\"text/css\">\n",
      "body {\n",
      "  margin-top:0 !important;\n",
      "  padding-top:0 !important;\n",
      "  /*min-width:800px !important;*/\n",
      "}\n",
      "</style>\n",
      "<script>__wm.rw(0);</script>\n",
      "<div id=\"wm-ipp-base\" lang=\"en\" style=\"display: block; direction: ltr;\">\n",
      "</div><div id=\"wm-ipp-print\">The Wayback Machine - https://web.archive.org/web/20200814131437/https://www.macrotrends.net/stocks/charts/GME/gamestop/revenue</div>\n",
      "<script type=\"text/javascript\">\n",
      "__wm.bt(675,27,25,2,\"web\",\"https://www.macrotrends.net/stocks/charts/GME/gamestop/revenue\",\"20200814131437\",1996,\"/_static/\",[\"/_static/css/banner-styles.css?v=fantwOh2\",\"/_static/css/iconochive.css?v=qtvMKcIJ\"], false);\n",
      "  __wm.rw(1);\n",
      "</script>\n",
      "<!-- END WAYBACK TOOLBAR INSERT -->\n",
      "        <!--[if lt IE 7]>\n",
      "            <p class=\"browsehappy\">You are using an <strong>outdated</strong> browser. Please <a href=\"https://browsehappy.com/\">upgrade your browser</a> to improve your experience.</p>\n",
      "        <![endif]-->\n",
      "\n",
      "<div class=\"header_content_container container-fluid\">\n",
      "\n",
      "\n",
      "<div class=\"header_parent_container\">\n",
      "\n",
      "<div class=\"header_container\">\n",
      "\n",
      "\t<div class=\"header_logo col-xs-2\">\n",
      "\t\t<a class=\"logo\" href=\"https://web.archive.org/web/20200814131437/https://www.macrotrends.net/\" title=\"MacroTrends Home Page\"><img src=\"./GameStop Revenue 2006-2020 _ GME _ MacroTrends_files/logo_bright1.png\"></a>\n",
      "\t</div>\n",
      "\n",
      "\n",
      "\t  <div class=\"col-xs-1 pull-right\" style=\"padding-top:8px; margin-right:10px; margin-left:0px; padding-left:0px;\">\n",
      "\t  \n",
      "\t  \n",
      "\t  </div>\n",
      "\t  \n",
      "\t  \n",
      "\n",
      "\t  <div class=\"col-xs-5 pull-right\" style=\"padding-top:8px;\">\n",
      "       <form>\n",
      "        <div class=\"typeahead__container\" style=\"z-index: 1041; position: relative;\">\n",
      "            <div class=\"typeahead__field\">\n",
      "\n",
      "            <span class=\"typeahead__query\">\n",
      "                <span class=\"typeahead__cancel-button\">Ã</span><input class=\"js-typeahead\" name=\"q\" type=\"search\" placeholder=\"Search over 200,000 charts...\" autofocus=\"\" autocomplete=\"off\">\n",
      "            </span>\n",
      "            <span class=\"typeahead__button\">\n",
      "                <button type=\"submit\">\n",
      "                    <span class=\"typeahead__search-icon\"></span>\n",
      "                </button>\n",
      "            </span>\n",
      "\n",
      "            </div>\n",
      "        <div class=\"typeahead__result\"></div></div><div class=\"typeahead__backdrop\" style=\"opacity: 0.6; position: fixed; inset: 0px; z-index: 1040; background-color: rgb(255, 255, 255);\"></div>\n",
      "    </form>\n",
      "\t\t\n",
      "\t  </div>\n",
      "\t  \n",
      "\t  </div>\n",
      "\n",
      "\n",
      "\n",
      "</div>\n",
      "\n",
      "<div class=\"menu_parent_container\">\n",
      "\n",
      "<div class=\"menu_container\">\n",
      "\t\t\n",
      "\t<a href=\"https://web.archive.org/web/20200814131437/https://www.macrotrends.net/stocks/stock-screener\"><div class=\"menu_item\">Stock Screener</div></a>\n",
      "\t<a href=\"https://web.archive.org/web/20200814131437/https://www.macrotrends.net/stocks/research\"><div class=\"menu_item\">Stock Research</div></a>\n",
      "\t<a href=\"https://web.archive.org/web/20200814131437/https://www.macrotrends.net/charts/stock-indexes\"><div class=\"menu_item\">Market Indexes</div></a>\n",
      "\t<a href=\"https://web.archive.org/web/20200814131437/https://www.macrotrends.net/charts/precious-metals\"><div class=\"menu_item\">Precious Metals</div></a>\n",
      "\t<a href=\"https://web.archive.org/web/20200814131437/https://www.macrotrends.net/charts/energy\"><div class=\"menu_item\">Energy</div></a>\n",
      "\t<a href=\"https://web.archive.org/web/20200814131437/https://www.macrotrends.net/charts/commodities\"><div class=\"menu_item\">Commodities</div></a>\n",
      "\t<a href=\"https://web.archive.org/web/20200814131437/https://www.macrotrends.net/charts/exchange-rates\"><div class=\"menu_item\">Exchange Rates</div></a>\n",
      "\t<a href=\"https://web.archive.org/web/20200814131437/https://www.macrotrends.net/charts/interest-rates\"><div class=\"menu_item\">Interest Rates</div></a>\n",
      "\t<a href=\"https://web.archive.org/web/20200814131437/https://www.macrotrends.net/futures\"><div class=\"menu_item\">Futures</div></a>\n",
      "\t<a href=\"https://web.archive.org/web/20200814131437/https://www.macrotrends.net/charts/economy\"><div class=\"menu_item\">Economy</div></a>\n",
      "\t<a href=\"https://web.archive.org/web/20200814131437/https://www.macrotrends.net/countries/topic-overview\"><div class=\"menu_item\">Global Metrics</div></a>\n",
      "\n",
      "\t\t\n",
      "</div>\n",
      "\n",
      "</div>\n",
      "\n",
      "</div>\n",
      "\n",
      "<div id=\"main_content_container\" class=\"main_content_container container-fluid\">\n",
      "\n",
      "\n",
      "\t<div id=\"ic_leaderboard\" class=\"adx_top_ad col-xs-12\" style=\"margin: 20px 20px 30px 20px; min-height:265px; text-align:center;\">\n",
      "\n",
      "\t\t<!--Smartad # 4058: Macrotrends - 970x250 Image - Placement 2-->\n",
      "\t\t<iframe id=\"dianomi_leaderboard\" width=\"970\" height=\"250\" scrolling=\"NO\" src=\"./GameStop Revenue 2006-2020 _ GME _ MacroTrends_files/smartads.html\" style=\"height: 250px; border: none; overflow: hidden;\"></iframe>\n",
      "\t\t\t\t \t\t\n",
      "\t</div>\n",
      "\t\t\t\n",
      "\t\t\t<div style=\"margin:20px;\">\n",
      "\t\t\t\n",
      "\t\t\t\t<h2 style=\"margin-left:180px; font-weight:600; color:#444;\">GameStop Revenue 2006-2020 | GME</h2>\n",
      "\t\t\t\n",
      "\t\t\t</div>\n",
      "\t\t\t\n",
      "\t\t\t\n",
      "\t<div class=\"sub_main_content_container\">\n",
      "\t\t\n",
      "\n",
      "\t\t\t<div id=\"left_sidebar\">\n",
      "\t\t\t\t\t\n",
      "\t\t\t\t<div id=\"sticky_ad_left\">\n",
      "\n",
      "\t\t\t\t\t<div id=\"ic_160_600\">\n",
      "\n",
      "\n",
      "\t\t\t\t\t</div>\n",
      "\n",
      "\n",
      "\t\t\t\t</div>\t\t\t\t\t\n",
      "\n",
      "\n",
      "\t\t\t</div>\n",
      "\t\t\n",
      "\n",
      "\t\t\t<div id=\"main_content\">\n",
      "\t\t\t\n",
      "\t\t\t\n",
      "\t\t\t\n",
      "<div class=\"navigation_tabs\" style=\"margin-bottom:20px;\">\n",
      "\t\t\t\n",
      "\t<ul class=\"nav nav-tabs\" id=\"myTabs\" style=\"font-size:15px;\">\n",
      "\n",
      "\t\t\n",
      "\t\t\t\n",
      "\t\t\t\n",
      "\t\t\t\t<li><a href=\"https://web.archive.org/web/20200814131437/https://www.macrotrends.net/stocks/charts/GME/gamestop/stock-price-history\">Prices</a></li>\n",
      "\n",
      "\t\t\t\n",
      "\t\t\n",
      "\t\t\t\n",
      "\t\t\t\n",
      "\t\t\t\t<li><a href=\"https://web.archive.org/web/20200814131437/https://www.macrotrends.net/stocks/charts/GME/gamestop/financial-statements\">Financials</a></li>\n",
      "\n",
      "\t\t\t\n",
      "\t\t\n",
      "\t\t\t\n",
      "\t\t\t\n",
      "\t\t\t\t<li class=\"active\"><a href=\"https://web.archive.org/web/20200814131437/https://www.macrotrends.net/stocks/charts/GME/gamestop/revenue\">Revenue &amp; Profit</a></li>\n",
      "\n",
      "\t\t\t\n",
      "\t\t\n",
      "\t\t\t\n",
      "\t\t\t\n",
      "\t\t\t\t<li><a href=\"https://web.archive.org/web/20200814131437/https://www.macrotrends.net/stocks/charts/GME/gamestop/total-assets\">Assets &amp; Liabilities</a></li>\n",
      "\n",
      "\t\t\t\n",
      "\t\t\n",
      "\t\t\t\n",
      "\t\t\t\n",
      "\t\t\t\t<li><a href=\"https://web.archive.org/web/20200814131437/https://www.macrotrends.net/stocks/charts/GME/gamestop/profit-margins\">Margins</a></li>\n",
      "\n",
      "\t\t\t\n",
      "\t\t\n",
      "\t\t\t\n",
      "\t\t\t\n",
      "\t\t\t\t<li><a href=\"https://web.archive.org/web/20200814131437/https://www.macrotrends.net/stocks/charts/GME/gamestop/pe-ratio\">Price Ratios</a></li>\n",
      "\n",
      "\t\t\t\n",
      "\t\t\n",
      "\t\t\t\n",
      "\t\t\t\n",
      "\t\t\t\t<li><a href=\"https://web.archive.org/web/20200814131437/https://www.macrotrends.net/stocks/charts/GME/gamestop/current-ratio\">Other Ratios</a></li>\n",
      "\n",
      "\t\t\t\n",
      "\t\t\n",
      "\t\t\t\n",
      "\t\t\t\n",
      "\t\t\t\t<li><a href=\"https://web.archive.org/web/20200814131437/https://www.macrotrends.net/stocks/charts/GME/gamestop/dividend-yield-history\">Other Metrics</a></li>\n",
      "\n",
      "\t\t\t\n",
      "\t\t\n",
      "\t</ul>\n",
      "\n",
      "\n",
      "\t<ul class=\"nav nav-tabs\" id=\"myTabs\" style=\"font-size:15px;\">\n",
      "\n",
      "\t\t\n",
      "\t\t\t\n",
      "\t\t\t\n",
      "\t\t\t\t<li class=\"active\"><a href=\"https://web.archive.org/web/20200814131437/https://www.macrotrends.net/stocks/charts/GME/gamestop/revenue\">Revenue</a></li>\n",
      "\n",
      "\n",
      "\t\t\t\t\t\t\n",
      "\t\t\n",
      "\t\t\t\n",
      "\t\t\t\t\t\t\n",
      "\t\t\t\t<li><a href=\"https://web.archive.org/web/20200814131437/https://www.macrotrends.net/stocks/charts/GME/gamestop/gross-profit\">Gross Profit</a></li>\t\t\t\n",
      "\n",
      "\t\t\t\t\t\t\n",
      "\t\t\n",
      "\t\t\t\n",
      "\t\t\t\t\t\t\n",
      "\t\t\t\t<li><a href=\"https://web.archive.org/web/20200814131437/https://www.macrotrends.net/stocks/charts/GME/gamestop/operating-income\">Operating Income</a></li>\t\t\t\n",
      "\n",
      "\t\t\t\t\t\t\n",
      "\t\t\n",
      "\t\t\t\n",
      "\t\t\t\t\t\t\n",
      "\t\t\t\t<li><a href=\"https://web.archive.org/web/20200814131437/https://www.macrotrends.net/stocks/charts/GME/gamestop/ebitda\">EBITDA</a></li>\t\t\t\n",
      "\n",
      "\t\t\t\t\t\t\n",
      "\t\t\n",
      "\t\t\t\n",
      "\t\t\t\t\t\t\n",
      "\t\t\t\t<li><a href=\"https://web.archive.org/web/20200814131437/https://www.macrotrends.net/stocks/charts/GME/gamestop/net-income\">Net Income</a></li>\t\t\t\n",
      "\n",
      "\t\t\t\t\t\t\n",
      "\t\t\n",
      "\t\t\t\n",
      "\t\t\t\t\t\t\n",
      "\t\t\t\t<li><a href=\"https://web.archive.org/web/20200814131437/https://www.macrotrends.net/stocks/charts/GME/gamestop/eps-earnings-per-share-diluted\">EPS</a></li>\t\t\t\n",
      "\n",
      "\t\t\t\t\t\t\n",
      "\t\t\n",
      "\t\t\t\n",
      "\t\t\t\t\t\t\n",
      "\t\t\t\t<li><a href=\"https://web.archive.org/web/20200814131437/https://www.macrotrends.net/stocks/charts/GME/gamestop/shares-outstanding\">Shares Outstanding</a></li>\t\t\t\n",
      "\n",
      "\t\t\t\t\t\t\n",
      "\t\t\n",
      "\n",
      "\t</ul>\n",
      "\t\n",
      "\t\t\t\n",
      "</div>\n",
      "\t\t\t\n",
      "\n",
      "\t\t\n",
      "\n",
      "\t\t\t<div style=\"background-color:#fff; margin: 0px 0px 20px 0px; padding:20px 30px; border:1px solid #dfdfdf;\">\n",
      "\t\t\t\n",
      "\t\t\t\t<span style=\"color:#444; line-height: 1.8;\">GameStop revenue from 2006 to 2020. Revenue can be defined as the amount of money a company receives from its customers in exchange for the sales of goods or services.  Revenue is the top line item on an income statement from which all costs and expenses are subtracted to arrive at net income.</span>\n",
      "\t\t\t\n",
      "\t\t\t</div>\n",
      "\n",
      "\t\t\n",
      "\t\t\t\n",
      "\t\t\t<div style=\"background-color:#fff; margin: 30px 0px 30px 0px; text-align:center; min-height:90px;\">\n",
      "\n",
      "\n",
      "\t\t\t\t<div id=\"ic_728_90\" style=\"margin:10px 20px;\">\n",
      "\n",
      "\n",
      "\t\t\t\t</div>\n",
      "\t\t\t\n",
      "\t\t\t</div>\t\t\n",
      "\t\t\t\n",
      "\t\t\t\n",
      "\n",
      "\t\t\t<div class=\"ticker_search_box\" style=\"text-align:center;\">\t\t\t\n",
      "\n",
      "\t\t<div style=\"width:400px; margin-left:20px; border-bottom:none;\">\n",
      "\t\t\n",
      "\t\t\n",
      "\n",
      "\t\t\n",
      "        <script type=\"text/javascript\">\n",
      "            $(document).ready(function () {\n",
      "\t\t\t\t                \n",
      "\t\t\t\t\tvar url = \"https://web.archive.org/web/20200814131437/https://www.macrotrends.net/assets/php/ticker_search_list.php\";\n",
      "\t\t\t\t\n",
      "                // prepare the data\n",
      "                var source =\n",
      "                {\n",
      "                    datatype: \"json\",\n",
      "                    datafields: [\n",
      "                        { name: 'n' },\n",
      "\t\t\t\t\t\t{ name: 's'}\n",
      "                    ],\n",
      "                    url: url\n",
      "                };\n",
      "                var dataAdapter = new $.jqx.dataAdapter(source);\n",
      "                // Create a jqxInput\n",
      "                $(\"#jqxInput\").jqxInput({ source: dataAdapter, minLength: 1, placeHolder: \"Search for ticker or company name...\", items: 20, searchMode: 'containsignorecase', displayMember: \"n\", valueMember: \"s\", width: '100%', height: 22, theme: 'bootstrap'});\n",
      "                $(\"#jqxInput\").on('select', function (event) {\n",
      "                    if (event.args) {\n",
      "                        var item = event.args.item;\n",
      "\t\t\t\t\t\t\n",
      "\t\t\t\t\t\t//Have to split the ticker and slug back out since jqxinput only seems to allow one data value\n",
      "\t\t\t\t\t\tvar itemArray = item.value.split(\"\\/\"); \n",
      "\t\t\t\t\t\tvar ticker = itemArray[0];\n",
      "\t\t\t\t\t\tvar slug = itemArray[1];\n",
      "                        if (item) {\n",
      "\t\t\t\t\t\t\t\n",
      "\t\t\t\t\t\t\t\t\t\t\t\t\t\t\n",
      "\t\t\t\t\t\t\t\twindow.location = \"https://web.archive.org/web/20200814131437/https://www.macrotrends.net/stocks/charts/\" + ticker + \"/\" + slug + \"/revenue\";\n",
      "\t\t\t\t\t\t\t\n",
      "\t\t\t\t\t\t\t                        }\n",
      "                    }\n",
      "                });\n",
      "            });\n",
      "        </script>\n",
      "        <input id=\"jqxInput\" role=\"textbox\" aria-autocomplete=\"both\" aria-disabled=\"false\" aria-readonly=\"false\" aria-multiline=\"false\" class=\"jqx-widget-content jqx-widget-content-bootstrap jqx-input jqx-input-bootstrap jqx-widget jqx-widget-bootstrap jqx-rc-all jqx-rc-all-bootstrap\" placeholder=\"Search for ticker or company name...\" style=\"width: 100%; height: 22px;\">\n",
      "\n",
      "\t\t</div>\n",
      "\t\t\t\t\n",
      "\t\t<div style=\"width:280px; margin-top: -32px; margin-left:80px; border-bottom:none; float:right;\">\n",
      "\t\t\n",
      "\t\t\n",
      "<button id=\"compareStocks\" style=\"margin-right:15px;\" class=\"chart_buttons btn btn-success btn-sm\"><span class=\"glyphicon glyphicon-stats\"></span>&nbsp;&nbsp;<strong>Compare GME With Other Stocks</strong></button>&nbsp;&nbsp;\n",
      "\n",
      "</div>\t\n",
      "\t\t\n",
      "\t\t</div>\n",
      "\t\t\n",
      "\t\t<div style=\"height:690px; background-color:#fff; border:1px solid #dfdfdf;\">\n",
      "\t\t\n",
      "<iframe id=\"chart_iframe\" title=\"Interactive chart: GameStop Revenue 2006-2020 | GME\" valign=\"middle\" margin=\"0px\" width=\"800\" height=\"680\" marginheight=\"0\" marginwidth=\"0\" frameborder=\"0\" vspace=\"0\" hspace=\"0\" scrolling=\"NO\" src=\"./GameStop Revenue 2006-2020 _ GME _ MacroTrends_files/fundamental_iframe.html\"></iframe>\t\n",
      "\t\n",
      "\t\t\n",
      "\t\t</div>\n",
      "\n",
      "\n",
      "\t\t\n",
      "\t\t\t\t\n",
      "\t\t<div style=\"background-color:#fff; margin: 30px 0px; padding:10px 30px; border:1px solid #dfdfdf;\">\n",
      "\t\t\n",
      "\t\t\t<iframe id=\"dianomi_below_chart\" valign=\"middle\" width=\"100%\" height=\"300\" marginheight=\"0\" marginwidth=\"0\" frameborder=\"0\" vspace=\"0\" hspace=\"0\" scrolling=\"NO\" src=\"./GameStop Revenue 2006-2020 _ GME _ MacroTrends_files/smartads(1).html\"></iframe>\t\n",
      "\t\t\n",
      "\t\t</div>\n",
      "\t\t\t\n",
      "\t\t\n",
      "\n",
      "\t\t\t\n",
      " \n",
      "\t\t\t\n",
      "\t\t\t<div id=\"style-1\" style=\"background-color:#fff; height:510px; overflow:auto; margin: 30px 0px 30px 0px; padding:0px 30px 20px 0px; border:1px solid #dfdfdf;\">\n",
      "\t\t\t\n",
      "\t\t\t  \t<div class=\"col-xs-6\">\n",
      "\t\t\t\n",
      "\t\t\t\t<table class=\"historical_data_table table\">\n",
      "\t\t\t\t<thead>\n",
      "\t\t\t\t  <tr>\n",
      "\t\t\t\t\t<th colspan=\"2\" style=\"text-align:center\">GameStop Annual Revenue<br><span style=\"font-size:14px;\">(Millions of US $)</span></th>\n",
      "\t\t\t\t  </tr>\n",
      "\t\t\t\t</thead>\t\t\t\t\t\n",
      "\t\t\t\t<tbody>\n",
      "\t\t\t\t\t\t\t\t\n",
      "\t\t\t\t\t\t\t\t\t\t\t\t\n",
      "\t\t\t\t<tr>\n",
      "\t\t\t\t\t<td style=\"text-align:center\">2020</td>\n",
      "\t\t\t\t\n",
      "\t\t\t\t\n",
      "\t\t\t\t\n",
      "\t\t\t\t\t\t\t\t\t\t<td style=\"text-align:center\">$6,466</td>\n",
      "\t\t\t\t\n",
      "\t\t\t\t\t\t\t\t\n",
      "\t\t\t\t</tr>\n",
      "\t\t\t\t  \n",
      "\t\t\t\t\t\t\t\t\t\t\t\t\n",
      "\t\t\t\t<tr>\n",
      "\t\t\t\t\t<td style=\"text-align:center\">2019</td>\n",
      "\t\t\t\t\n",
      "\t\t\t\t\n",
      "\t\t\t\t\n",
      "\t\t\t\t\t\t\t\t\t\t<td style=\"text-align:center\">$8,285</td>\n",
      "\t\t\t\t\n",
      "\t\t\t\t\t\t\t\t\n",
      "\t\t\t\t</tr>\n",
      "\t\t\t\t  \n",
      "\t\t\t\t\t\t\t\t\t\t\t\t\n",
      "\t\t\t\t<tr>\n",
      "\t\t\t\t\t<td style=\"text-align:center\">2018</td>\n",
      "\t\t\t\t\n",
      "\t\t\t\t\n",
      "\t\t\t\t\n",
      "\t\t\t\t\t\t\t\t\t\t<td style=\"text-align:center\">$8,547</td>\n",
      "\t\t\t\t\n",
      "\t\t\t\t\t\t\t\t\n",
      "\t\t\t\t</tr>\n",
      "\t\t\t\t  \n",
      "\t\t\t\t\t\t\t\t\t\t\t\t\n",
      "\t\t\t\t<tr>\n",
      "\t\t\t\t\t<td style=\"text-align:center\">2017</td>\n",
      "\t\t\t\t\n",
      "\t\t\t\t\n",
      "\t\t\t\t\n",
      "\t\t\t\t\t\t\t\t\t\t<td style=\"text-align:center\">$7,965</td>\n",
      "\t\t\t\t\n",
      "\t\t\t\t\t\t\t\t\n",
      "\t\t\t\t</tr>\n",
      "\t\t\t\t  \n",
      "\t\t\t\t\t\t\t\t\t\t\t\t\n",
      "\t\t\t\t<tr>\n",
      "\t\t\t\t\t<td style=\"text-align:center\">2016</td>\n",
      "\t\t\t\t\n",
      "\t\t\t\t\n",
      "\t\t\t\t\n",
      "\t\t\t\t\t\t\t\t\t\t<td style=\"text-align:center\">$9,364</td>\n",
      "\t\t\t\t\n",
      "\t\t\t\t\t\t\t\t\n",
      "\t\t\t\t</tr>\n",
      "\t\t\t\t  \n",
      "\t\t\t\t\t\t\t\t\t\t\t\t\n",
      "\t\t\t\t<tr>\n",
      "\t\t\t\t\t<td style=\"text-align:center\">2015</td>\n",
      "\t\t\t\t\n",
      "\t\t\t\t\n",
      "\t\t\t\t\n",
      "\t\t\t\t\t\t\t\t\t\t<td style=\"text-align:center\">$9,296</td>\n",
      "\t\t\t\t\n",
      "\t\t\t\t\t\t\t\t\n",
      "\t\t\t\t</tr>\n",
      "\t\t\t\t  \n",
      "\t\t\t\t\t\t\t\t\t\t\t\t\n",
      "\t\t\t\t<tr>\n",
      "\t\t\t\t\t<td style=\"text-align:center\">2014</td>\n",
      "\t\t\t\t\n",
      "\t\t\t\t\n",
      "\t\t\t\t\n",
      "\t\t\t\t\t\t\t\t\t\t<td style=\"text-align:center\">$9,040</td>\n",
      "\t\t\t\t\n",
      "\t\t\t\t\t\t\t\t\n",
      "\t\t\t\t</tr>\n",
      "\t\t\t\t  \n",
      "\t\t\t\t\t\t\t\t\t\t\t\t\n",
      "\t\t\t\t<tr>\n",
      "\t\t\t\t\t<td style=\"text-align:center\">2013</td>\n",
      "\t\t\t\t\n",
      "\t\t\t\t\n",
      "\t\t\t\t\n",
      "\t\t\t\t\t\t\t\t\t\t<td style=\"text-align:center\">$8,887</td>\n",
      "\t\t\t\t\n",
      "\t\t\t\t\t\t\t\t\n",
      "\t\t\t\t</tr>\n",
      "\t\t\t\t  \n",
      "\t\t\t\t\t\t\t\t\t\t\t\t\n",
      "\t\t\t\t<tr>\n",
      "\t\t\t\t\t<td style=\"text-align:center\">2012</td>\n",
      "\t\t\t\t\n",
      "\t\t\t\t\n",
      "\t\t\t\t\n",
      "\t\t\t\t\t\t\t\t\t\t<td style=\"text-align:center\">$9,551</td>\n",
      "\t\t\t\t\n",
      "\t\t\t\t\t\t\t\t\n",
      "\t\t\t\t</tr>\n",
      "\t\t\t\t  \n",
      "\t\t\t\t\t\t\t\t\t\t\t\t\n",
      "\t\t\t\t<tr>\n",
      "\t\t\t\t\t<td style=\"text-align:center\">2011</td>\n",
      "\t\t\t\t\n",
      "\t\t\t\t\n",
      "\t\t\t\t\n",
      "\t\t\t\t\t\t\t\t\t\t<td style=\"text-align:center\">$9,474</td>\n",
      "\t\t\t\t\n",
      "\t\t\t\t\t\t\t\t\n",
      "\t\t\t\t</tr>\n",
      "\t\t\t\t  \n",
      "\t\t\t\t\t\t\t\t\t\t\t\t\n",
      "\t\t\t\t<tr>\n",
      "\t\t\t\t\t<td style=\"text-align:center\">2010</td>\n",
      "\t\t\t\t\n",
      "\t\t\t\t\n",
      "\t\t\t\t\n",
      "\t\t\t\t\t\t\t\t\t\t<td style=\"text-align:center\">$9,078</td>\n",
      "\t\t\t\t\n",
      "\t\t\t\t\t\t\t\t\n",
      "\t\t\t\t</tr>\n",
      "\t\t\t\t  \n",
      "\t\t\t\t\t\t\t\t\t\t\t\t\n",
      "\t\t\t\t<tr>\n",
      "\t\t\t\t\t<td style=\"text-align:center\">2009</td>\n",
      "\t\t\t\t\n",
      "\t\t\t\t\n",
      "\t\t\t\t\n",
      "\t\t\t\t\t\t\t\t\t\t<td style=\"text-align:center\">$8,806</td>\n",
      "\t\t\t\t\n",
      "\t\t\t\t\t\t\t\t\n",
      "\t\t\t\t</tr>\n",
      "\t\t\t\t  \n",
      "\t\t\t\t\t\t\t\t\t\t\t\t\n",
      "\t\t\t\t<tr>\n",
      "\t\t\t\t\t<td style=\"text-align:center\">2008</td>\n",
      "\t\t\t\t\n",
      "\t\t\t\t\n",
      "\t\t\t\t\n",
      "\t\t\t\t\t\t\t\t\t\t<td style=\"text-align:center\">$7,094</td>\n",
      "\t\t\t\t\n",
      "\t\t\t\t\t\t\t\t\n",
      "\t\t\t\t</tr>\n",
      "\t\t\t\t  \n",
      "\t\t\t\t\t\t\t\t\t\t\t\t\n",
      "\t\t\t\t<tr>\n",
      "\t\t\t\t\t<td style=\"text-align:center\">2007</td>\n",
      "\t\t\t\t\n",
      "\t\t\t\t\n",
      "\t\t\t\t\n",
      "\t\t\t\t\t\t\t\t\t\t<td style=\"text-align:center\">$5,319</td>\n",
      "\t\t\t\t\n",
      "\t\t\t\t\t\t\t\t\n",
      "\t\t\t\t</tr>\n",
      "\t\t\t\t  \n",
      "\t\t\t\t\t\t\t\t\t\t\t\t\n",
      "\t\t\t\t<tr>\n",
      "\t\t\t\t\t<td style=\"text-align:center\">2006</td>\n",
      "\t\t\t\t\n",
      "\t\t\t\t\n",
      "\t\t\t\t\n",
      "\t\t\t\t\t\t\t\t\t\t<td style=\"text-align:center\">$3,092</td>\n",
      "\t\t\t\t\n",
      "\t\t\t\t\t\t\t\t\n",
      "\t\t\t\t</tr>\n",
      "\t\t\t\t  \n",
      "\t\t\t\t\t\t\t\t\t\t\t\t\n",
      "\t\t\t\t<tr>\n",
      "\t\t\t\t\t<td style=\"text-align:center\">2005</td>\n",
      "\t\t\t\t\n",
      "\t\t\t\t\n",
      "\t\t\t\t\n",
      "\t\t\t\t\t\t\t\t\t\t<td style=\"text-align:center\">$1,843</td>\n",
      "\t\t\t\t\n",
      "\t\t\t\t\t\t\t\t\n",
      "\t\t\t\t</tr>\n",
      "\t\t\t\t  \n",
      "\t\t\t\t  \n",
      "\t\t\t\t</tbody>\n",
      "\t\t\t  </table>\n",
      "\t\t\t  \n",
      "\t\t\t  </div>\n",
      "\n",
      "\t\t\t  <div class=\"col-xs-6\">\n",
      "\t\t\t\n",
      "\t\t\t\t<table class=\"historical_data_table table\">\n",
      "\t\t\t\t<thead>\n",
      "\t\t\t\t  <tr>\n",
      "\t\t\t\t\t<th colspan=\"2\" style=\"text-align:center\">GameStop Quarterly Revenue<br><span style=\"font-size:14px;\">(Millions of US $)</span></th>\n",
      "\t\t\t\t  </tr>\n",
      "\t\t\t\t</thead>\t\t\t\t\n",
      "\t\t\t\t<tbody>\n",
      "\t\t\t\t\n",
      "\t\t\t\t\t\t\t\t\t\t\t\t\n",
      "\t\t\t\t<tr>\n",
      "\t\t\t\t\t<td style=\"text-align:center\">2020-04-30</td>\n",
      "\t\t\t\t\n",
      "\t\t\t\t\n",
      "\t\t\t\t\n",
      "\t\t\t\t\t\t\t\t\t\t\n",
      "\t\t\t\t\t\t\t\t\t\t\n",
      "\t\t\t\t\t\t<td style=\"text-align:center\">$1,021</td>\n",
      "\t\t\t\t\t\t\n",
      "\t\t\t\t\t\t\t\t\t\n",
      "\t\t\t\t\t\t\t\t\n",
      "\t\t\t\t  </tr>\n",
      "\t\t\t\t  \n",
      "\t\t\t\t\t\t\t\t\t\t\t\t\n",
      "\t\t\t\t<tr>\n",
      "\t\t\t\t\t<td style=\"text-align:center\">2020-01-31</td>\n",
      "\t\t\t\t\n",
      "\t\t\t\t\n",
      "\t\t\t\t\n",
      "\t\t\t\t\t\t\t\t\t\t\n",
      "\t\t\t\t\t\t\t\t\t\t\n",
      "\t\t\t\t\t\t<td style=\"text-align:center\">$2,194</td>\n",
      "\t\t\t\t\t\t\n",
      "\t\t\t\t\t\t\t\t\t\n",
      "\t\t\t\t\t\t\t\t\n",
      "\t\t\t\t  </tr>\n",
      "\t\t\t\t  \n",
      "\t\t\t\t\t\t\t\t\t\t\t\t\n",
      "\t\t\t\t<tr>\n",
      "\t\t\t\t\t<td style=\"text-align:center\">2019-10-31</td>\n",
      "\t\t\t\t\n",
      "\t\t\t\t\n",
      "\t\t\t\t\n",
      "\t\t\t\t\t\t\t\t\t\t\n",
      "\t\t\t\t\t\t\t\t\t\t\n",
      "\t\t\t\t\t\t<td style=\"text-align:center\">$1,439</td>\n",
      "\t\t\t\t\t\t\n",
      "\t\t\t\t\t\t\t\t\t\n",
      "\t\t\t\t\t\t\t\t\n",
      "\t\t\t\t  </tr>\n",
      "\t\t\t\t  \n",
      "\t\t\t\t\t\t\t\t\t\t\t\t\n",
      "\t\t\t\t<tr>\n",
      "\t\t\t\t\t<td style=\"text-align:center\">2019-07-31</td>\n",
      "\t\t\t\t\n",
      "\t\t\t\t\n",
      "\t\t\t\t\n",
      "\t\t\t\t\t\t\t\t\t\t\n",
      "\t\t\t\t\t\t\t\t\t\t\n",
      "\t\t\t\t\t\t<td style=\"text-align:center\">$1,286</td>\n",
      "\t\t\t\t\t\t\n",
      "\t\t\t\t\t\t\t\t\t\n",
      "\t\t\t\t\t\t\t\t\n",
      "\t\t\t\t  </tr>\n",
      "\t\t\t\t  \n",
      "\t\t\t\t\t\t\t\t\t\t\t\t\n",
      "\t\t\t\t<tr>\n",
      "\t\t\t\t\t<td style=\"text-align:center\">2019-04-30</td>\n",
      "\t\t\t\t\n",
      "\t\t\t\t\n",
      "\t\t\t\t\n",
      "\t\t\t\t\t\t\t\t\t\t\n",
      "\t\t\t\t\t\t\t\t\t\t\n",
      "\t\t\t\t\t\t<td style=\"text-align:center\">$1,548</td>\n",
      "\t\t\t\t\t\t\n",
      "\t\t\t\t\t\t\t\t\t\n",
      "\t\t\t\t\t\t\t\t\n",
      "\t\t\t\t  </tr>\n",
      "\t\t\t\t  \n",
      "\t\t\t\t\t\t\t\t\t\t\t\t\n",
      "\t\t\t\t<tr>\n",
      "\t\t\t\t\t<td style=\"text-align:center\">2019-01-31</td>\n",
      "\t\t\t\t\n",
      "\t\t\t\t\n",
      "\t\t\t\t\n",
      "\t\t\t\t\t\t\t\t\t\t\n",
      "\t\t\t\t\t\t\t\t\t\t\n",
      "\t\t\t\t\t\t<td style=\"text-align:center\">$3,063</td>\n",
      "\t\t\t\t\t\t\n",
      "\t\t\t\t\t\t\t\t\t\n",
      "\t\t\t\t\t\t\t\t\n",
      "\t\t\t\t  </tr>\n",
      "\t\t\t\t  \n",
      "\t\t\t\t\t\t\t\t\t\t\t\t\n",
      "\t\t\t\t<tr>\n",
      "\t\t\t\t\t<td style=\"text-align:center\">2018-10-31</td>\n",
      "\t\t\t\t\n",
      "\t\t\t\t\n",
      "\t\t\t\t\n",
      "\t\t\t\t\t\t\t\t\t\t\n",
      "\t\t\t\t\t\t\t\t\t\t\n",
      "\t\t\t\t\t\t<td style=\"text-align:center\">$1,935</td>\n",
      "\t\t\t\t\t\t\n",
      "\t\t\t\t\t\t\t\t\t\n",
      "\t\t\t\t\t\t\t\t\n",
      "\t\t\t\t  </tr>\n",
      "\t\t\t\t  \n",
      "\t\t\t\t\t\t\t\t\t\t\t\t\n",
      "\t\t\t\t<tr>\n",
      "\t\t\t\t\t<td style=\"text-align:center\">2018-07-31</td>\n",
      "\t\t\t\t\n",
      "\t\t\t\t\n",
      "\t\t\t\t\n",
      "\t\t\t\t\t\t\t\t\t\t\n",
      "\t\t\t\t\t\t\t\t\t\t\n",
      "\t\t\t\t\t\t<td style=\"text-align:center\">$1,501</td>\n",
      "\t\t\t\t\t\t\n",
      "\t\t\t\t\t\t\t\t\t\n",
      "\t\t\t\t\t\t\t\t\n",
      "\t\t\t\t  </tr>\n",
      "\t\t\t\t  \n",
      "\t\t\t\t\t\t\t\t\t\t\t\t\n",
      "\t\t\t\t<tr>\n",
      "\t\t\t\t\t<td style=\"text-align:center\">2018-04-30</td>\n",
      "\t\t\t\t\n",
      "\t\t\t\t\n",
      "\t\t\t\t\n",
      "\t\t\t\t\t\t\t\t\t\t\n",
      "\t\t\t\t\t\t\t\t\t\t\n",
      "\t\t\t\t\t\t<td style=\"text-align:center\">$1,786</td>\n",
      "\t\t\t\t\t\t\n",
      "\t\t\t\t\t\t\t\t\t\n",
      "\t\t\t\t\t\t\t\t\n",
      "\t\t\t\t  </tr>\n",
      "\t\t\t\t  \n",
      "\t\t\t\t\t\t\t\t\t\t\t\t\n",
      "\t\t\t\t<tr>\n",
      "\t\t\t\t\t<td style=\"text-align:center\">2018-01-31</td>\n",
      "\t\t\t\t\n",
      "\t\t\t\t\n",
      "\t\t\t\t\n",
      "\t\t\t\t\t\t\t\t\t\t\n",
      "\t\t\t\t\t\t\t\t\t\t\n",
      "\t\t\t\t\t\t<td style=\"text-align:center\">$2,825</td>\n",
      "\t\t\t\t\t\t\n",
      "\t\t\t\t\t\t\t\t\t\n",
      "\t\t\t\t\t\t\t\t\n",
      "\t\t\t\t  </tr>\n",
      "\t\t\t\t  \n",
      "\t\t\t\t\t\t\t\t\t\t\t\t\n",
      "\t\t\t\t<tr>\n",
      "\t\t\t\t\t<td style=\"text-align:center\">2017-10-31</td>\n",
      "\t\t\t\t\n",
      "\t\t\t\t\n",
      "\t\t\t\t\n",
      "\t\t\t\t\t\t\t\t\t\t\n",
      "\t\t\t\t\t\t\t\t\t\t\n",
      "\t\t\t\t\t\t<td style=\"text-align:center\">$1,989</td>\n",
      "\t\t\t\t\t\t\n",
      "\t\t\t\t\t\t\t\t\t\n",
      "\t\t\t\t\t\t\t\t\n",
      "\t\t\t\t  </tr>\n",
      "\t\t\t\t  \n",
      "\t\t\t\t\t\t\t\t\t\t\t\t\n",
      "\t\t\t\t<tr>\n",
      "\t\t\t\t\t<td style=\"text-align:center\">2017-07-31</td>\n",
      "\t\t\t\t\n",
      "\t\t\t\t\n",
      "\t\t\t\t\n",
      "\t\t\t\t\t\t\t\t\t\t\n",
      "\t\t\t\t\t\t\t\t\t\t\n",
      "\t\t\t\t\t\t<td style=\"text-align:center\">$1,688</td>\n",
      "\t\t\t\t\t\t\n",
      "\t\t\t\t\t\t\t\t\t\n",
      "\t\t\t\t\t\t\t\t\n",
      "\t\t\t\t  </tr>\n",
      "\t\t\t\t  \n",
      "\t\t\t\t\t\t\t\t\t\t\t\t\n",
      "\t\t\t\t<tr>\n",
      "\t\t\t\t\t<td style=\"text-align:center\">2017-04-30</td>\n",
      "\t\t\t\t\n",
      "\t\t\t\t\n",
      "\t\t\t\t\n",
      "\t\t\t\t\t\t\t\t\t\t\n",
      "\t\t\t\t\t\t\t\t\t\t\n",
      "\t\t\t\t\t\t<td style=\"text-align:center\">$2,046</td>\n",
      "\t\t\t\t\t\t\n",
      "\t\t\t\t\t\t\t\t\t\n",
      "\t\t\t\t\t\t\t\t\n",
      "\t\t\t\t  </tr>\n",
      "\t\t\t\t  \n",
      "\t\t\t\t\t\t\t\t\t\t\t\t\n",
      "\t\t\t\t<tr>\n",
      "\t\t\t\t\t<td style=\"text-align:center\">2017-01-31</td>\n",
      "\t\t\t\t\n",
      "\t\t\t\t\n",
      "\t\t\t\t\n",
      "\t\t\t\t\t\t\t\t\t\t\n",
      "\t\t\t\t\t\t\t\t\t\t\n",
      "\t\t\t\t\t\t<td style=\"text-align:center\">$2,403</td>\n",
      "\t\t\t\t\t\t\n",
      "\t\t\t\t\t\t\t\t\t\n",
      "\t\t\t\t\t\t\t\t\n",
      "\t\t\t\t  </tr>\n",
      "\t\t\t\t  \n",
      "\t\t\t\t\t\t\t\t\t\t\t\t\n",
      "\t\t\t\t<tr>\n",
      "\t\t\t\t\t<td style=\"text-align:center\">2016-10-31</td>\n",
      "\t\t\t\t\n",
      "\t\t\t\t\n",
      "\t\t\t\t\n",
      "\t\t\t\t\t\t\t\t\t\t\n",
      "\t\t\t\t\t\t\t\t\t\t\n",
      "\t\t\t\t\t\t<td style=\"text-align:center\">$1,959</td>\n",
      "\t\t\t\t\t\t\n",
      "\t\t\t\t\t\t\t\t\t\n",
      "\t\t\t\t\t\t\t\t\n",
      "\t\t\t\t  </tr>\n",
      "\t\t\t\t  \n",
      "\t\t\t\t\t\t\t\t\t\t\t\t\n",
      "\t\t\t\t<tr>\n",
      "\t\t\t\t\t<td style=\"text-align:center\">2016-07-31</td>\n",
      "\t\t\t\t\n",
      "\t\t\t\t\n",
      "\t\t\t\t\n",
      "\t\t\t\t\t\t\t\t\t\t\n",
      "\t\t\t\t\t\t\t\t\t\t\n",
      "\t\t\t\t\t\t<td style=\"text-align:center\">$1,632</td>\n",
      "\t\t\t\t\t\t\n",
      "\t\t\t\t\t\t\t\t\t\n",
      "\t\t\t\t\t\t\t\t\n",
      "\t\t\t\t  </tr>\n",
      "\t\t\t\t  \n",
      "\t\t\t\t\t\t\t\t\t\t\t\t\n",
      "\t\t\t\t<tr>\n",
      "\t\t\t\t\t<td style=\"text-align:center\">2016-04-30</td>\n",
      "\t\t\t\t\n",
      "\t\t\t\t\n",
      "\t\t\t\t\n",
      "\t\t\t\t\t\t\t\t\t\t\n",
      "\t\t\t\t\t\t\t\t\t\t\n",
      "\t\t\t\t\t\t<td style=\"text-align:center\">$1,972</td>\n",
      "\t\t\t\t\t\t\n",
      "\t\t\t\t\t\t\t\t\t\n",
      "\t\t\t\t\t\t\t\t\n",
      "\t\t\t\t  </tr>\n",
      "\t\t\t\t  \n",
      "\t\t\t\t\t\t\t\t\t\t\t\t\n",
      "\t\t\t\t<tr>\n",
      "\t\t\t\t\t<td style=\"text-align:center\">2016-01-31</td>\n",
      "\t\t\t\t\n",
      "\t\t\t\t\n",
      "\t\t\t\t\n",
      "\t\t\t\t\t\t\t\t\t\t\n",
      "\t\t\t\t\t\t\t\t\t\t\n",
      "\t\t\t\t\t\t<td style=\"text-align:center\">$3,525</td>\n",
      "\t\t\t\t\t\t\n",
      "\t\t\t\t\t\t\t\t\t\n",
      "\t\t\t\t\t\t\t\t\n",
      "\t\t\t\t  </tr>\n",
      "\t\t\t\t  \n",
      "\t\t\t\t\t\t\t\t\t\t\t\t\n",
      "\t\t\t\t<tr>\n",
      "\t\t\t\t\t<td style=\"text-align:center\">2015-10-31</td>\n",
      "\t\t\t\t\n",
      "\t\t\t\t\n",
      "\t\t\t\t\n",
      "\t\t\t\t\t\t\t\t\t\t\n",
      "\t\t\t\t\t\t\t\t\t\t\n",
      "\t\t\t\t\t\t<td style=\"text-align:center\">$2,016</td>\n",
      "\t\t\t\t\t\t\n",
      "\t\t\t\t\t\t\t\t\t\n",
      "\t\t\t\t\t\t\t\t\n",
      "\t\t\t\t  </tr>\n",
      "\t\t\t\t  \n",
      "\t\t\t\t\t\t\t\t\t\t\t\t\n",
      "\t\t\t\t<tr>\n",
      "\t\t\t\t\t<td style=\"text-align:center\">2015-07-31</td>\n",
      "\t\t\t\t\n",
      "\t\t\t\t\n",
      "\t\t\t\t\n",
      "\t\t\t\t\t\t\t\t\t\t\n",
      "\t\t\t\t\t\t\t\t\t\t\n",
      "\t\t\t\t\t\t<td style=\"text-align:center\">$1,762</td>\n",
      "\t\t\t\t\t\t\n",
      "\t\t\t\t\t\t\t\t\t\n",
      "\t\t\t\t\t\t\t\t\n",
      "\t\t\t\t  </tr>\n",
      "\t\t\t\t  \n",
      "\t\t\t\t\t\t\t\t\t\t\t\t\n",
      "\t\t\t\t<tr>\n",
      "\t\t\t\t\t<td style=\"text-align:center\">2015-04-30</td>\n",
      "\t\t\t\t\n",
      "\t\t\t\t\n",
      "\t\t\t\t\n",
      "\t\t\t\t\t\t\t\t\t\t\n",
      "\t\t\t\t\t\t\t\t\t\t\n",
      "\t\t\t\t\t\t<td style=\"text-align:center\">$2,061</td>\n",
      "\t\t\t\t\t\t\n",
      "\t\t\t\t\t\t\t\t\t\n",
      "\t\t\t\t\t\t\t\t\n",
      "\t\t\t\t  </tr>\n",
      "\t\t\t\t  \n",
      "\t\t\t\t\t\t\t\t\t\t\t\t\n",
      "\t\t\t\t<tr>\n",
      "\t\t\t\t\t<td style=\"text-align:center\">2015-01-31</td>\n",
      "\t\t\t\t\n",
      "\t\t\t\t\n",
      "\t\t\t\t\n",
      "\t\t\t\t\t\t\t\t\t\t\n",
      "\t\t\t\t\t\t\t\t\t\t\n",
      "\t\t\t\t\t\t<td style=\"text-align:center\">$3,476</td>\n",
      "\t\t\t\t\t\t\n",
      "\t\t\t\t\t\t\t\t\t\n",
      "\t\t\t\t\t\t\t\t\n",
      "\t\t\t\t  </tr>\n",
      "\t\t\t\t  \n",
      "\t\t\t\t\t\t\t\t\t\t\t\t\n",
      "\t\t\t\t<tr>\n",
      "\t\t\t\t\t<td style=\"text-align:center\">2014-10-31</td>\n",
      "\t\t\t\t\n",
      "\t\t\t\t\n",
      "\t\t\t\t\n",
      "\t\t\t\t\t\t\t\t\t\t\n",
      "\t\t\t\t\t\t\t\t\t\t\n",
      "\t\t\t\t\t\t<td style=\"text-align:center\">$2,092</td>\n",
      "\t\t\t\t\t\t\n",
      "\t\t\t\t\t\t\t\t\t\n",
      "\t\t\t\t\t\t\t\t\n",
      "\t\t\t\t  </tr>\n",
      "\t\t\t\t  \n",
      "\t\t\t\t\t\t\t\t\t\t\t\t\n",
      "\t\t\t\t<tr>\n",
      "\t\t\t\t\t<td style=\"text-align:center\">2014-07-31</td>\n",
      "\t\t\t\t\n",
      "\t\t\t\t\n",
      "\t\t\t\t\n",
      "\t\t\t\t\t\t\t\t\t\t\n",
      "\t\t\t\t\t\t\t\t\t\t\n",
      "\t\t\t\t\t\t<td style=\"text-align:center\">$1,731</td>\n",
      "\t\t\t\t\t\t\n",
      "\t\t\t\t\t\t\t\t\t\n",
      "\t\t\t\t\t\t\t\t\n",
      "\t\t\t\t  </tr>\n",
      "\t\t\t\t  \n",
      "\t\t\t\t\t\t\t\t\t\t\t\t\n",
      "\t\t\t\t<tr>\n",
      "\t\t\t\t\t<td style=\"text-align:center\">2014-04-30</td>\n",
      "\t\t\t\t\n",
      "\t\t\t\t\n",
      "\t\t\t\t\n",
      "\t\t\t\t\t\t\t\t\t\t\n",
      "\t\t\t\t\t\t\t\t\t\t\n",
      "\t\t\t\t\t\t<td style=\"text-align:center\">$1,996</td>\n",
      "\t\t\t\t\t\t\n",
      "\t\t\t\t\t\t\t\t\t\n",
      "\t\t\t\t\t\t\t\t\n",
      "\t\t\t\t  </tr>\n",
      "\t\t\t\t  \n",
      "\t\t\t\t\t\t\t\t\t\t\t\t\n",
      "\t\t\t\t<tr>\n",
      "\t\t\t\t\t<td style=\"text-align:center\">2014-01-31</td>\n",
      "\t\t\t\t\n",
      "\t\t\t\t\n",
      "\t\t\t\t\n",
      "\t\t\t\t\t\t\t\t\t\t\n",
      "\t\t\t\t\t\t\t\t\t\t\n",
      "\t\t\t\t\t\t<td style=\"text-align:center\">$3,684</td>\n",
      "\t\t\t\t\t\t\n",
      "\t\t\t\t\t\t\t\t\t\n",
      "\t\t\t\t\t\t\t\t\n",
      "\t\t\t\t  </tr>\n",
      "\t\t\t\t  \n",
      "\t\t\t\t\t\t\t\t\t\t\t\t\n",
      "\t\t\t\t<tr>\n",
      "\t\t\t\t\t<td style=\"text-align:center\">2013-10-31</td>\n",
      "\t\t\t\t\n",
      "\t\t\t\t\n",
      "\t\t\t\t\n",
      "\t\t\t\t\t\t\t\t\t\t\n",
      "\t\t\t\t\t\t\t\t\t\t\n",
      "\t\t\t\t\t\t<td style=\"text-align:center\">$2,107</td>\n",
      "\t\t\t\t\t\t\n",
      "\t\t\t\t\t\t\t\t\t\n",
      "\t\t\t\t\t\t\t\t\n",
      "\t\t\t\t  </tr>\n",
      "\t\t\t\t  \n",
      "\t\t\t\t\t\t\t\t\t\t\t\t\n",
      "\t\t\t\t<tr>\n",
      "\t\t\t\t\t<td style=\"text-align:center\">2013-07-31</td>\n",
      "\t\t\t\t\n",
      "\t\t\t\t\n",
      "\t\t\t\t\n",
      "\t\t\t\t\t\t\t\t\t\t\n",
      "\t\t\t\t\t\t\t\t\t\t\n",
      "\t\t\t\t\t\t<td style=\"text-align:center\">$1,384</td>\n",
      "\t\t\t\t\t\t\n",
      "\t\t\t\t\t\t\t\t\t\n",
      "\t\t\t\t\t\t\t\t\n",
      "\t\t\t\t  </tr>\n",
      "\t\t\t\t  \n",
      "\t\t\t\t\t\t\t\t\t\t\t\t\n",
      "\t\t\t\t<tr>\n",
      "\t\t\t\t\t<td style=\"text-align:center\">2013-04-30</td>\n",
      "\t\t\t\t\n",
      "\t\t\t\t\n",
      "\t\t\t\t\n",
      "\t\t\t\t\t\t\t\t\t\t\n",
      "\t\t\t\t\t\t\t\t\t\t\n",
      "\t\t\t\t\t\t<td style=\"text-align:center\">$1,865</td>\n",
      "\t\t\t\t\t\t\n",
      "\t\t\t\t\t\t\t\t\t\n",
      "\t\t\t\t\t\t\t\t\n",
      "\t\t\t\t  </tr>\n",
      "\t\t\t\t  \n",
      "\t\t\t\t\t\t\t\t\t\t\t\t\n",
      "\t\t\t\t<tr>\n",
      "\t\t\t\t\t<td style=\"text-align:center\">2013-01-31</td>\n",
      "\t\t\t\t\n",
      "\t\t\t\t\n",
      "\t\t\t\t\n",
      "\t\t\t\t\t\t\t\t\t\t\n",
      "\t\t\t\t\t\t\t\t\t\t\n",
      "\t\t\t\t\t\t<td style=\"text-align:center\">$3,562</td>\n",
      "\t\t\t\t\t\t\n",
      "\t\t\t\t\t\t\t\t\t\n",
      "\t\t\t\t\t\t\t\t\n",
      "\t\t\t\t  </tr>\n",
      "\t\t\t\t  \n",
      "\t\t\t\t\t\t\t\t\t\t\t\t\n",
      "\t\t\t\t<tr>\n",
      "\t\t\t\t\t<td style=\"text-align:center\">2012-10-31</td>\n",
      "\t\t\t\t\n",
      "\t\t\t\t\n",
      "\t\t\t\t\n",
      "\t\t\t\t\t\t\t\t\t\t\n",
      "\t\t\t\t\t\t\t\t\t\t\n",
      "\t\t\t\t\t\t<td style=\"text-align:center\">$1,773</td>\n",
      "\t\t\t\t\t\t\n",
      "\t\t\t\t\t\t\t\t\t\n",
      "\t\t\t\t\t\t\t\t\n",
      "\t\t\t\t  </tr>\n",
      "\t\t\t\t  \n",
      "\t\t\t\t\t\t\t\t\t\t\t\t\n",
      "\t\t\t\t<tr>\n",
      "\t\t\t\t\t<td style=\"text-align:center\">2012-07-31</td>\n",
      "\t\t\t\t\n",
      "\t\t\t\t\n",
      "\t\t\t\t\n",
      "\t\t\t\t\t\t\t\t\t\t\n",
      "\t\t\t\t\t\t\t\t\t\t\n",
      "\t\t\t\t\t\t<td style=\"text-align:center\">$1,550</td>\n",
      "\t\t\t\t\t\t\n",
      "\t\t\t\t\t\t\t\t\t\n",
      "\t\t\t\t\t\t\t\t\n",
      "\t\t\t\t  </tr>\n",
      "\t\t\t\t  \n",
      "\t\t\t\t\t\t\t\t\t\t\t\t\n",
      "\t\t\t\t<tr>\n",
      "\t\t\t\t\t<td style=\"text-align:center\">2012-04-30</td>\n",
      "\t\t\t\t\n",
      "\t\t\t\t\n",
      "\t\t\t\t\n",
      "\t\t\t\t\t\t\t\t\t\t\n",
      "\t\t\t\t\t\t\t\t\t\t\n",
      "\t\t\t\t\t\t<td style=\"text-align:center\">$2,002</td>\n",
      "\t\t\t\t\t\t\n",
      "\t\t\t\t\t\t\t\t\t\n",
      "\t\t\t\t\t\t\t\t\n",
      "\t\t\t\t  </tr>\n",
      "\t\t\t\t  \n",
      "\t\t\t\t\t\t\t\t\t\t\t\t\n",
      "\t\t\t\t<tr>\n",
      "\t\t\t\t\t<td style=\"text-align:center\">2012-01-31</td>\n",
      "\t\t\t\t\n",
      "\t\t\t\t\n",
      "\t\t\t\t\n",
      "\t\t\t\t\t\t\t\t\t\t\n",
      "\t\t\t\t\t\t\t\t\t\t\n",
      "\t\t\t\t\t\t<td style=\"text-align:center\">$3,579</td>\n",
      "\t\t\t\t\t\t\n",
      "\t\t\t\t\t\t\t\t\t\n",
      "\t\t\t\t\t\t\t\t\n",
      "\t\t\t\t  </tr>\n",
      "\t\t\t\t  \n",
      "\t\t\t\t\t\t\t\t\t\t\t\t\n",
      "\t\t\t\t<tr>\n",
      "\t\t\t\t\t<td style=\"text-align:center\">2011-10-31</td>\n",
      "\t\t\t\t\n",
      "\t\t\t\t\n",
      "\t\t\t\t\n",
      "\t\t\t\t\t\t\t\t\t\t\n",
      "\t\t\t\t\t\t\t\t\t\t\n",
      "\t\t\t\t\t\t<td style=\"text-align:center\">$1,947</td>\n",
      "\t\t\t\t\t\t\n",
      "\t\t\t\t\t\t\t\t\t\n",
      "\t\t\t\t\t\t\t\t\n",
      "\t\t\t\t  </tr>\n",
      "\t\t\t\t  \n",
      "\t\t\t\t\t\t\t\t\t\t\t\t\n",
      "\t\t\t\t<tr>\n",
      "\t\t\t\t\t<td style=\"text-align:center\">2011-07-31</td>\n",
      "\t\t\t\t\n",
      "\t\t\t\t\n",
      "\t\t\t\t\n",
      "\t\t\t\t\t\t\t\t\t\t\n",
      "\t\t\t\t\t\t\t\t\t\t\n",
      "\t\t\t\t\t\t<td style=\"text-align:center\">$1,744</td>\n",
      "\t\t\t\t\t\t\n",
      "\t\t\t\t\t\t\t\t\t\n",
      "\t\t\t\t\t\t\t\t\n",
      "\t\t\t\t  </tr>\n",
      "\t\t\t\t  \n",
      "\t\t\t\t\t\t\t\t\t\t\t\t\n",
      "\t\t\t\t<tr>\n",
      "\t\t\t\t\t<td style=\"text-align:center\">2011-04-30</td>\n",
      "\t\t\t\t\n",
      "\t\t\t\t\n",
      "\t\t\t\t\n",
      "\t\t\t\t\t\t\t\t\t\t\n",
      "\t\t\t\t\t\t\t\t\t\t\n",
      "\t\t\t\t\t\t<td style=\"text-align:center\">$2,281</td>\n",
      "\t\t\t\t\t\t\n",
      "\t\t\t\t\t\t\t\t\t\n",
      "\t\t\t\t\t\t\t\t\n",
      "\t\t\t\t  </tr>\n",
      "\t\t\t\t  \n",
      "\t\t\t\t\t\t\t\t\t\t\t\t\n",
      "\t\t\t\t<tr>\n",
      "\t\t\t\t\t<td style=\"text-align:center\">2011-01-31</td>\n",
      "\t\t\t\t\n",
      "\t\t\t\t\n",
      "\t\t\t\t\n",
      "\t\t\t\t\t\t\t\t\t\t\n",
      "\t\t\t\t\t\t\t\t\t\t\n",
      "\t\t\t\t\t\t<td style=\"text-align:center\">$3,693</td>\n",
      "\t\t\t\t\t\t\n",
      "\t\t\t\t\t\t\t\t\t\n",
      "\t\t\t\t\t\t\t\t\n",
      "\t\t\t\t  </tr>\n",
      "\t\t\t\t  \n",
      "\t\t\t\t\t\t\t\t\t\t\t\t\n",
      "\t\t\t\t<tr>\n",
      "\t\t\t\t\t<td style=\"text-align:center\">2010-10-31</td>\n",
      "\t\t\t\t\n",
      "\t\t\t\t\n",
      "\t\t\t\t\n",
      "\t\t\t\t\t\t\t\t\t\t\n",
      "\t\t\t\t\t\t\t\t\t\t\n",
      "\t\t\t\t\t\t<td style=\"text-align:center\">$1,899</td>\n",
      "\t\t\t\t\t\t\n",
      "\t\t\t\t\t\t\t\t\t\n",
      "\t\t\t\t\t\t\t\t\n",
      "\t\t\t\t  </tr>\n",
      "\t\t\t\t  \n",
      "\t\t\t\t\t\t\t\t\t\t\t\t\n",
      "\t\t\t\t<tr>\n",
      "\t\t\t\t\t<td style=\"text-align:center\">2010-07-31</td>\n",
      "\t\t\t\t\n",
      "\t\t\t\t\n",
      "\t\t\t\t\n",
      "\t\t\t\t\t\t\t\t\t\t\n",
      "\t\t\t\t\t\t\t\t\t\t\n",
      "\t\t\t\t\t\t<td style=\"text-align:center\">$1,799</td>\n",
      "\t\t\t\t\t\t\n",
      "\t\t\t\t\t\t\t\t\t\n",
      "\t\t\t\t\t\t\t\t\n",
      "\t\t\t\t  </tr>\n",
      "\t\t\t\t  \n",
      "\t\t\t\t\t\t\t\t\t\t\t\t\n",
      "\t\t\t\t<tr>\n",
      "\t\t\t\t\t<td style=\"text-align:center\">2010-04-30</td>\n",
      "\t\t\t\t\n",
      "\t\t\t\t\n",
      "\t\t\t\t\n",
      "\t\t\t\t\t\t\t\t\t\t\n",
      "\t\t\t\t\t\t\t\t\t\t\n",
      "\t\t\t\t\t\t<td style=\"text-align:center\">$2,083</td>\n",
      "\t\t\t\t\t\t\n",
      "\t\t\t\t\t\t\t\t\t\n",
      "\t\t\t\t\t\t\t\t\n",
      "\t\t\t\t  </tr>\n",
      "\t\t\t\t  \n",
      "\t\t\t\t\t\t\t\t\t\t\t\t\n",
      "\t\t\t\t<tr>\n",
      "\t\t\t\t\t<td style=\"text-align:center\">2010-01-31</td>\n",
      "\t\t\t\t\n",
      "\t\t\t\t\n",
      "\t\t\t\t\n",
      "\t\t\t\t\t\t\t\t\t\t\n",
      "\t\t\t\t\t\t\t\t\t\t\n",
      "\t\t\t\t\t\t<td style=\"text-align:center\">$3,524</td>\n",
      "\t\t\t\t\t\t\n",
      "\t\t\t\t\t\t\t\t\t\n",
      "\t\t\t\t\t\t\t\t\n",
      "\t\t\t\t  </tr>\n",
      "\t\t\t\t  \n",
      "\t\t\t\t\t\t\t\t\t\t\t\t\n",
      "\t\t\t\t<tr>\n",
      "\t\t\t\t\t<td style=\"text-align:center\">2009-10-31</td>\n",
      "\t\t\t\t\n",
      "\t\t\t\t\n",
      "\t\t\t\t\n",
      "\t\t\t\t\t\t\t\t\t\t\n",
      "\t\t\t\t\t\t\t\t\t\t\n",
      "\t\t\t\t\t\t<td style=\"text-align:center\">$1,835</td>\n",
      "\t\t\t\t\t\t\n",
      "\t\t\t\t\t\t\t\t\t\n",
      "\t\t\t\t\t\t\t\t\n",
      "\t\t\t\t  </tr>\n",
      "\t\t\t\t  \n",
      "\t\t\t\t\t\t\t\t\t\t\t\t\n",
      "\t\t\t\t<tr>\n",
      "\t\t\t\t\t<td style=\"text-align:center\">2009-07-31</td>\n",
      "\t\t\t\t\n",
      "\t\t\t\t\n",
      "\t\t\t\t\n",
      "\t\t\t\t\t\t\t\t\t\t\n",
      "\t\t\t\t\t\t\t\t\t\t\n",
      "\t\t\t\t\t\t<td style=\"text-align:center\">$1,739</td>\n",
      "\t\t\t\t\t\t\n",
      "\t\t\t\t\t\t\t\t\t\n",
      "\t\t\t\t\t\t\t\t\n",
      "\t\t\t\t  </tr>\n",
      "\t\t\t\t  \n",
      "\t\t\t\t\t\t\t\t\t\t\t\t\n",
      "\t\t\t\t<tr>\n",
      "\t\t\t\t\t<td style=\"text-align:center\">2009-04-30</td>\n",
      "\t\t\t\t\n",
      "\t\t\t\t\n",
      "\t\t\t\t\n",
      "\t\t\t\t\t\t\t\t\t\t\n",
      "\t\t\t\t\t\t\t\t\t\t\n",
      "\t\t\t\t\t\t<td style=\"text-align:center\">$1,981</td>\n",
      "\t\t\t\t\t\t\n",
      "\t\t\t\t\t\t\t\t\t\n",
      "\t\t\t\t\t\t\t\t\n",
      "\t\t\t\t  </tr>\n",
      "\t\t\t\t  \n",
      "\t\t\t\t\t\t\t\t\t\t\t\t\n",
      "\t\t\t\t<tr>\n",
      "\t\t\t\t\t<td style=\"text-align:center\">2009-01-31</td>\n",
      "\t\t\t\t\n",
      "\t\t\t\t\n",
      "\t\t\t\t\n",
      "\t\t\t\t\t\t\t\t\t\t\n",
      "\t\t\t\t\t\t\t\t\t\t\n",
      "\t\t\t\t\t\t<td style=\"text-align:center\">$3,492</td>\n",
      "\t\t\t\t\t\t\n",
      "\t\t\t\t\t\t\t\t\t\n",
      "\t\t\t\t\t\t\t\t\n",
      "\t\t\t\t  </tr>\n",
      "\t\t\t\t  \n",
      "\t\t\t\t\t\t\t\t\t\t\t\t\n",
      "\t\t\t\t<tr>\n",
      "\t\t\t\t\t<td style=\"text-align:center\">2008-10-31</td>\n",
      "\t\t\t\t\n",
      "\t\t\t\t\n",
      "\t\t\t\t\n",
      "\t\t\t\t\t\t\t\t\t\t\n",
      "\t\t\t\t\t\t\t\t\t\t\n",
      "\t\t\t\t\t\t<td style=\"text-align:center\">$1,696</td>\n",
      "\t\t\t\t\t\t\n",
      "\t\t\t\t\t\t\t\t\t\n",
      "\t\t\t\t\t\t\t\t\n",
      "\t\t\t\t  </tr>\n",
      "\t\t\t\t  \n",
      "\t\t\t\t\t\t\t\t\t\t\t\t\n",
      "\t\t\t\t<tr>\n",
      "\t\t\t\t\t<td style=\"text-align:center\">2008-07-31</td>\n",
      "\t\t\t\t\n",
      "\t\t\t\t\n",
      "\t\t\t\t\n",
      "\t\t\t\t\t\t\t\t\t\t\n",
      "\t\t\t\t\t\t\t\t\t\t\n",
      "\t\t\t\t\t\t<td style=\"text-align:center\">$1,804</td>\n",
      "\t\t\t\t\t\t\n",
      "\t\t\t\t\t\t\t\t\t\n",
      "\t\t\t\t\t\t\t\t\n",
      "\t\t\t\t  </tr>\n",
      "\t\t\t\t  \n",
      "\t\t\t\t\t\t\t\t\t\t\t\t\n",
      "\t\t\t\t<tr>\n",
      "\t\t\t\t\t<td style=\"text-align:center\">2008-04-30</td>\n",
      "\t\t\t\t\n",
      "\t\t\t\t\n",
      "\t\t\t\t\n",
      "\t\t\t\t\t\t\t\t\t\t\n",
      "\t\t\t\t\t\t\t\t\t\t\n",
      "\t\t\t\t\t\t<td style=\"text-align:center\">$1,814</td>\n",
      "\t\t\t\t\t\t\n",
      "\t\t\t\t\t\t\t\t\t\n",
      "\t\t\t\t\t\t\t\t\n",
      "\t\t\t\t  </tr>\n",
      "\t\t\t\t  \n",
      "\t\t\t\t\t\t\t\t\t\t\t\t\n",
      "\t\t\t\t<tr>\n",
      "\t\t\t\t\t<td style=\"text-align:center\">2008-01-31</td>\n",
      "\t\t\t\t\n",
      "\t\t\t\t\n",
      "\t\t\t\t\n",
      "\t\t\t\t\t\t\t\t\t\t\n",
      "\t\t\t\t\t\t\t\t\t\t\n",
      "\t\t\t\t\t\t<td style=\"text-align:center\">$2,866</td>\n",
      "\t\t\t\t\t\t\n",
      "\t\t\t\t\t\t\t\t\t\n",
      "\t\t\t\t\t\t\t\t\n",
      "\t\t\t\t  </tr>\n",
      "\t\t\t\t  \n",
      "\t\t\t\t\t\t\t\t\t\t\t\t\n",
      "\t\t\t\t<tr>\n",
      "\t\t\t\t\t<td style=\"text-align:center\">2007-10-31</td>\n",
      "\t\t\t\t\n",
      "\t\t\t\t\n",
      "\t\t\t\t\n",
      "\t\t\t\t\t\t\t\t\t\t\n",
      "\t\t\t\t\t\t\t\t\t\t\n",
      "\t\t\t\t\t\t<td style=\"text-align:center\">$1,611</td>\n",
      "\t\t\t\t\t\t\n",
      "\t\t\t\t\t\t\t\t\t\n",
      "\t\t\t\t\t\t\t\t\n",
      "\t\t\t\t  </tr>\n",
      "\t\t\t\t  \n",
      "\t\t\t\t\t\t\t\t\t\t\t\t\n",
      "\t\t\t\t<tr>\n",
      "\t\t\t\t\t<td style=\"text-align:center\">2007-07-31</td>\n",
      "\t\t\t\t\n",
      "\t\t\t\t\n",
      "\t\t\t\t\n",
      "\t\t\t\t\t\t\t\t\t\t\n",
      "\t\t\t\t\t\t\t\t\t\t\n",
      "\t\t\t\t\t\t<td style=\"text-align:center\">$1,338</td>\n",
      "\t\t\t\t\t\t\n",
      "\t\t\t\t\t\t\t\t\t\n",
      "\t\t\t\t\t\t\t\t\n",
      "\t\t\t\t  </tr>\n",
      "\t\t\t\t  \n",
      "\t\t\t\t\t\t\t\t\t\t\t\t\n",
      "\t\t\t\t<tr>\n",
      "\t\t\t\t\t<td style=\"text-align:center\">2007-04-30</td>\n",
      "\t\t\t\t\n",
      "\t\t\t\t\n",
      "\t\t\t\t\n",
      "\t\t\t\t\t\t\t\t\t\t\n",
      "\t\t\t\t\t\t\t\t\t\t\n",
      "\t\t\t\t\t\t<td style=\"text-align:center\">$1,279</td>\n",
      "\t\t\t\t\t\t\n",
      "\t\t\t\t\t\t\t\t\t\n",
      "\t\t\t\t\t\t\t\t\n",
      "\t\t\t\t  </tr>\n",
      "\t\t\t\t  \n",
      "\t\t\t\t\t\t\t\t\t\t\t\t\n",
      "\t\t\t\t<tr>\n",
      "\t\t\t\t\t<td style=\"text-align:center\">2007-01-31</td>\n",
      "\t\t\t\t\n",
      "\t\t\t\t\n",
      "\t\t\t\t\n",
      "\t\t\t\t\t\t\t\t\t\t\n",
      "\t\t\t\t\t\t\t\t\t\t\n",
      "\t\t\t\t\t\t<td style=\"text-align:center\">$2,304</td>\n",
      "\t\t\t\t\t\t\n",
      "\t\t\t\t\t\t\t\t\t\n",
      "\t\t\t\t\t\t\t\t\n",
      "\t\t\t\t  </tr>\n",
      "\t\t\t\t  \n",
      "\t\t\t\t\t\t\t\t\t\t\t\t\n",
      "\t\t\t\t<tr>\n",
      "\t\t\t\t\t<td style=\"text-align:center\">2006-10-31</td>\n",
      "\t\t\t\t\n",
      "\t\t\t\t\n",
      "\t\t\t\t\n",
      "\t\t\t\t\t\t\t\t\t\t\n",
      "\t\t\t\t\t\t\t\t\t\t\n",
      "\t\t\t\t\t\t<td style=\"text-align:center\">$1,012</td>\n",
      "\t\t\t\t\t\t\n",
      "\t\t\t\t\t\t\t\t\t\n",
      "\t\t\t\t\t\t\t\t\n",
      "\t\t\t\t  </tr>\n",
      "\t\t\t\t  \n",
      "\t\t\t\t\t\t\t\t\t\t\t\t\n",
      "\t\t\t\t<tr>\n",
      "\t\t\t\t\t<td style=\"text-align:center\">2006-07-31</td>\n",
      "\t\t\t\t\n",
      "\t\t\t\t\n",
      "\t\t\t\t\n",
      "\t\t\t\t\t\t\t\t\t\t\n",
      "\t\t\t\t\t\t\t\t\t\t\n",
      "\t\t\t\t\t\t<td style=\"text-align:center\">$963</td>\n",
      "\t\t\t\t\t\t\n",
      "\t\t\t\t\t\t\t\t\t\n",
      "\t\t\t\t\t\t\t\t\n",
      "\t\t\t\t  </tr>\n",
      "\t\t\t\t  \n",
      "\t\t\t\t\t\t\t\t\t\t\t\t\n",
      "\t\t\t\t<tr>\n",
      "\t\t\t\t\t<td style=\"text-align:center\">2006-04-30</td>\n",
      "\t\t\t\t\n",
      "\t\t\t\t\n",
      "\t\t\t\t\n",
      "\t\t\t\t\t\t\t\t\t\t\n",
      "\t\t\t\t\t\t\t\t\t\t\n",
      "\t\t\t\t\t\t<td style=\"text-align:center\">$1,040</td>\n",
      "\t\t\t\t\t\t\n",
      "\t\t\t\t\t\t\t\t\t\n",
      "\t\t\t\t\t\t\t\t\n",
      "\t\t\t\t  </tr>\n",
      "\t\t\t\t  \n",
      "\t\t\t\t\t\t\t\t\t\t\t\t\n",
      "\t\t\t\t<tr>\n",
      "\t\t\t\t\t<td style=\"text-align:center\">2006-01-31</td>\n",
      "\t\t\t\t\n",
      "\t\t\t\t\n",
      "\t\t\t\t\n",
      "\t\t\t\t\t\t\t\t\t\t\n",
      "\t\t\t\t\t\t\t\t\t\t\n",
      "\t\t\t\t\t\t<td style=\"text-align:center\">$1,667</td>\n",
      "\t\t\t\t\t\t\n",
      "\t\t\t\t\t\t\t\t\t\n",
      "\t\t\t\t\t\t\t\t\n",
      "\t\t\t\t  </tr>\n",
      "\t\t\t\t  \n",
      "\t\t\t\t\t\t\t\t\t\t\t\t\n",
      "\t\t\t\t<tr>\n",
      "\t\t\t\t\t<td style=\"text-align:center\">2005-10-31</td>\n",
      "\t\t\t\t\n",
      "\t\t\t\t\n",
      "\t\t\t\t\n",
      "\t\t\t\t\t\t\t\t\t\t\n",
      "\t\t\t\t\t\t\t\t\t\t\n",
      "\t\t\t\t\t\t<td style=\"text-align:center\">$534</td>\n",
      "\t\t\t\t\t\t\n",
      "\t\t\t\t\t\t\t\t\t\n",
      "\t\t\t\t\t\t\t\t\n",
      "\t\t\t\t  </tr>\n",
      "\t\t\t\t  \n",
      "\t\t\t\t\t\t\t\t\t\t\t\t\n",
      "\t\t\t\t<tr>\n",
      "\t\t\t\t\t<td style=\"text-align:center\">2005-07-31</td>\n",
      "\t\t\t\t\n",
      "\t\t\t\t\n",
      "\t\t\t\t\n",
      "\t\t\t\t\t\t\t\t\t\t\n",
      "\t\t\t\t\t\t\t\t\t\t\n",
      "\t\t\t\t\t\t<td style=\"text-align:center\">$416</td>\n",
      "\t\t\t\t\t\t\n",
      "\t\t\t\t\t\t\t\t\t\n",
      "\t\t\t\t\t\t\t\t\n",
      "\t\t\t\t  </tr>\n",
      "\t\t\t\t  \n",
      "\t\t\t\t\t\t\t\t\t\t\t\t\n",
      "\t\t\t\t<tr>\n",
      "\t\t\t\t\t<td style=\"text-align:center\">2005-04-30</td>\n",
      "\t\t\t\t\n",
      "\t\t\t\t\n",
      "\t\t\t\t\n",
      "\t\t\t\t\t\t\t\t\t\t\n",
      "\t\t\t\t\t\t\t\t\t\t\n",
      "\t\t\t\t\t\t<td style=\"text-align:center\">$475</td>\n",
      "\t\t\t\t\t\t\n",
      "\t\t\t\t\t\t\t\t\t\n",
      "\t\t\t\t\t\t\t\t\n",
      "\t\t\t\t  </tr>\n",
      "\t\t\t\t  \n",
      "\t\t\t\t\t\t\t\t\t\t\t\t\n",
      "\t\t\t\t<tr>\n",
      "\t\t\t\t\t<td style=\"text-align:center\">2005-01-31</td>\n",
      "\t\t\t\t\n",
      "\t\t\t\t\n",
      "\t\t\t\t\n",
      "\t\t\t\t\t\t\t\t\t\t\n",
      "\t\t\t\t\t\t\t\t\t\t\n",
      "\t\t\t\t\t\t<td style=\"text-align:center\">$709</td>\n",
      "\t\t\t\t\t\t\n",
      "\t\t\t\t\t\t\t\t\t\n",
      "\t\t\t\t\t\t\t\t\n",
      "\t\t\t\t  </tr>\n",
      "\t\t\t\t  \n",
      "\t\t\t\t  \n",
      "\t\t\t\t</tbody>\n",
      "\t\t\t  </table>\n",
      "\t\t\t  \n",
      "\t\t\t  </div>\n",
      "\t\t\t  \n",
      "\n",
      "\t\t\t\n",
      "</div>\t\t\t\n",
      "\t\t\t\n",
      "\t\t\t\n",
      "\t\t\n",
      "\t\t<div style=\"background-color:#fff; margin: 0px 0px 20px 0px; padding:5px 50px 5px 10px; border:1px solid #dfdfdf;\">\n",
      "\n",
      "\t\t\t  <table class=\"historical_data_table table\">\n",
      "\t\t\t\t<thead>\n",
      "\t\t\t\t  <tr>\n",
      "\t\t\t\t\t<th style=\"text-align:center\">Sector</th>\n",
      "\t\t\t\t\t<th style=\"text-align:center\">Industry</th>\n",
      "\t\t\t\t\t<th style=\"text-align:center\">Market Cap</th>\n",
      "\t\t\t\t\t<th style=\"text-align:center\">Revenue</th>\n",
      "\t\t\t\t  </tr>\n",
      "\t\t\t\t</thead>\n",
      "\t\t\t\t<tbody>\n",
      "\t\t\t\t  <tr>\n",
      "\t\t\t\t\t<td style=\"text-align:center\"><a href=\"https://web.archive.org/web/20200814131437/https://www.macrotrends.net/stocks/sector/3/retail-wholesale\">Retail/Wholesale</a></td>\n",
      "\t\t\t\t\t<td style=\"text-align:center\"><a href=\"https://web.archive.org/web/20200814131437/https://www.macrotrends.net/stocks/industry/156/\">Retail - Consumer Electronics</a></td>\n",
      "\t\t\t\t\t<td style=\"text-align:center\">$0.293B</td>\n",
      "\t\t\t\t\t<td style=\"text-align:center\">$6.466B</td>\n",
      "\t\t\t\t  </tr>\n",
      "\t\t\t\t  <tr>\n",
      "\t\t\t\t\t  <td colspan=\"4\" style=\"padding:15px;\">\n",
      "\t\t\t\t\t\t<span>GameStop Corp. is the world's largest video game and entertainment software retailer. The company operates 4,816 retail stores across the United States and in fifteen countries worldwide. The company also operates two e-commerce sites, GameStop.com and EBgames.com, and publishes Game Informer? magazine, a leading multi-platform video game publication. GameStop Corp. sells new and used video game software, hardware and accessories for next generation video game systems from Sony, Nintendo, and Microsoft. In addition, the company sells PC entertainment software, related accessories and other merchandise.</span>\n",
      "\t\t\t\t\t  </td>\n",
      "\t\t\t\t  </tr>\n",
      "\t\t\t\t</tbody>\n",
      "\t\t\t  </table>\t\t\t\n",
      "\t\t\t</div>\t\n",
      "\t\n",
      "\t\t\n",
      "\t\t<div style=\"background-color:#fff; margin: 20px 0px 30px 0px; padding:5px 50px 5px 10px; border:1px solid #dfdfdf;\">\n",
      "\t\t\t\n",
      "\n",
      "\t\t\t\t<table class=\"historical_data_table table\">\n",
      "\t\t\t\t<thead>\n",
      "\t\t\t\t  <tr>\n",
      "\t\t\t\t\t<th style=\"text-align:center; width:40%;\">Stock Name</th>\n",
      "\t\t\t\t\t<th style=\"text-align:center; width:20%;\">Country</th>\n",
      "\t\t\t\t\t<th style=\"text-align:center; width:20%;\">Market Cap</th>\n",
      "\t\t\t\t\t<th style=\"text-align:center; width:20%;\">PE Ratio</th>\n",
      "\t\t\t\t  </tr>\n",
      "\t\t\t\t</thead>\n",
      "\t\t\t\t<tbody>\t\t\t\n",
      "\n",
      "\t\t\t\t\t\t\n",
      "\t\t\t\t\t\t\n",
      "\t\t\t\t<tr>\n",
      "\t\t\t\t\t<td style=\"text-align:left\"><a href=\"https://web.archive.org/web/20200814131437/https://www.macrotrends.net/stocks/charts/BBY/best-buy/revenue\">Best Buy (BBY)</a></td>\n",
      "\t\t\t\t\t<td style=\"text-align:center\">United States</td>\n",
      "\t\t\t\t\t<td style=\"text-align:center\">$27.033B</td>\n",
      "\t\t\t\t\t<td style=\"text-align:center\">18.16</td>\n",
      "\t\t\t\t </tr>\n",
      "\n",
      "\t\t\t\t\t\t\n",
      "\t\t\t\t\t\t\n",
      "\t\t\t\t<tr>\n",
      "\t\t\t\t\t<td style=\"text-align:left\"><a href=\"https://web.archive.org/web/20200814131437/https://www.macrotrends.net/stocks/charts/AAN/aarons,-/revenue\">Aaron's,  (AAN)</a></td>\n",
      "\t\t\t\t\t<td style=\"text-align:center\">United States</td>\n",
      "\t\t\t\t\t<td style=\"text-align:center\">$3.975B</td>\n",
      "\t\t\t\t\t<td style=\"text-align:center\">15.14</td>\n",
      "\t\t\t\t </tr>\n",
      "\n",
      "\t\t\t\t\t\t\n",
      "\t\t\t\t\t\t\n",
      "\t\t\t\t<tr>\n",
      "\t\t\t\t\t<td style=\"text-align:left\"><a href=\"https://web.archive.org/web/20200814131437/https://www.macrotrends.net/stocks/charts/GMELY/gome-retail-holdings/revenue\">GOME Retail Holdings (GMELY)</a></td>\n",
      "\t\t\t\t\t<td style=\"text-align:center\">China</td>\n",
      "\t\t\t\t\t<td style=\"text-align:center\">$1.684B</td>\n",
      "\t\t\t\t\t<td style=\"text-align:center\">0.00</td>\n",
      "\t\t\t\t </tr>\n",
      "\n",
      "\t\t\t\t\t\t\n",
      "\t\t\t\t\t\t\n",
      "\t\t\t\t<tr>\n",
      "\t\t\t\t\t<td style=\"text-align:left\"><a href=\"https://web.archive.org/web/20200814131437/https://www.macrotrends.net/stocks/charts/SYX/systemax/revenue\">Systemax (SYX)</a></td>\n",
      "\t\t\t\t\t<td style=\"text-align:center\">United States</td>\n",
      "\t\t\t\t\t<td style=\"text-align:center\">$0.873B</td>\n",
      "\t\t\t\t\t<td style=\"text-align:center\">18.34</td>\n",
      "\t\t\t\t </tr>\n",
      "\n",
      "\t\t\t\t\t\t\n",
      "\t\t\t\t\t\t\n",
      "\t\t\t\t<tr>\n",
      "\t\t\t\t\t<td style=\"text-align:left\"><a href=\"https://web.archive.org/web/20200814131437/https://www.macrotrends.net/stocks/charts/CONN/conns/revenue\">Conn's (CONN)</a></td>\n",
      "\t\t\t\t\t<td style=\"text-align:center\">United States</td>\n",
      "\t\t\t\t\t<td style=\"text-align:center\">$0.325B</td>\n",
      "\t\t\t\t\t<td style=\"text-align:center\">0.00</td>\n",
      "\t\t\t\t </tr>\n",
      "\n",
      "\t\t\t\t\t\t\n",
      "\t\t\t\t\t\t\n",
      "\t\t\t\t<tr>\n",
      "\t\t\t\t\t<td style=\"text-align:left\"><a href=\"https://web.archive.org/web/20200814131437/https://www.macrotrends.net/stocks/charts/TAIT/taitron-components/revenue\">Taitron Components (TAIT)</a></td>\n",
      "\t\t\t\t\t<td style=\"text-align:center\">United States</td>\n",
      "\t\t\t\t\t<td style=\"text-align:center\">$0.016B</td>\n",
      "\t\t\t\t\t<td style=\"text-align:center\">10.50</td>\n",
      "\t\t\t\t </tr>\n",
      "\n",
      "\t\t\t\t\t\t\n",
      "\t\t\t\t</tbody>\n",
      "\t\t\t  </table>\t\t\t\n",
      "\t\t\t\n",
      "\t\t\t</div>\n",
      "\t\t\t\n",
      "\t\t\t\n",
      "\n",
      "\t\t\t</div>\n",
      "\t\t\t\n",
      "\n",
      "\t\t\t<div id=\"right_sidebar\" \"=\"\">\n",
      "\n",
      "\t\t\t\t<!--<a href=\"/stocks/stock-screener\" style=\"text-decoration:none; color: #fff; \">\n",
      "\t\t\t\t\t<div style=\"margin:0px; padding: 20px; width:300px; background-color: #01579b; min-height:150px; text-align:center;\">\n",
      "\n",
      "\t\t\t\t\t\t<h2 style=\"font-weight:600;\">Try our new<br />stock screener!</h2></a>\n",
      "\n",
      "\t\t\t\t\t</div>\n",
      "\t\t\t\t</a>-->\n",
      "\n",
      "\t\t\t\t<!--<div style=\"margin-top:0px; min-height:250px;\">\n",
      "\n",
      "\t\t\t\t\t<script src='//ads.investingchannel.com/adtags/Macrotrends/fundamentalanalysis/300x600.js?zhpos=300_2&multi_size=false' type='text/javascript' charset='utf-8'></script>\n",
      "\n",
      "\t\t\t\t</div>-->\n",
      "\t\t\t\t\n",
      "\t\t\t\t\t\t\t\n",
      "\t\t\t\t\n",
      "\t\t\t\t\n",
      "\t\t\t\t\n",
      "\t\t\t\t\t\t\n",
      "\n",
      "\n",
      "\n",
      "\t\t\t<div style=\"margin-top:0px; min-height:250px;\">\n",
      "\n",
      "\t\t\t\t\t<div id=\"ic_300_250\">\n",
      "\n",
      "\t\t\t\t\t\n",
      "\t\t\t\t\t</div>\n",
      "\n",
      "\t\t\t\t</div>\n",
      "\t\t\t\n",
      "\t\t\t<div id=\"sticky_ad_right\">\n",
      "\t\t\t\n",
      "\t\t\t\t<div style=\"margin-top:30px; min-height:250px;\">\n",
      "\n",
      "\t\t\t\t\t<div id=\"ic_300_600\">\n",
      "\n",
      "\n",
      "\t\t\t\t\t</div>\n",
      "\n",
      "\t\t\t\t</div>\n",
      "\n",
      "\t\t\t\t</div>\n",
      "\n",
      "\n",
      "\t\t\t\t\t\n",
      "\t\t\t\t\n",
      "\n",
      "\t\t\t\t\n",
      "\t\t\t</div>\n",
      "\t\t\t\n",
      "\t\t\t\n",
      "\t\t\t\n",
      "\t\t\t\t\t\t\n",
      "\t\t</div>\n",
      "\t\t</div>\n",
      "\n",
      "<footer class=\"footer\">\n",
      "\n",
      "\t\t<span>Â© 2010-2020 Macrotrends LLC</span>&nbsp;&nbsp;|&nbsp;&nbsp;\n",
      "\t\t  <a href=\"https://web.archive.org/web/20200814131437/https://www.macrotrends.net/terms\">Terms of Service</a>\n",
      "\t\t  &nbsp;&nbsp;|&nbsp;&nbsp;\n",
      "\t\t  <a href=\"https://web.archive.org/web/20200814131437/https://www.macrotrends.net/privacy\">Privacy Policy</a>&nbsp;&nbsp;|&nbsp;&nbsp;\n",
      "\t\t  <a href=\"https://web.archive.org/web/20200814131437/mailto:info@macrotrends.net\">Contact Us</a>&nbsp;&nbsp;|&nbsp;&nbsp;\n",
      "\t\t  <a href=\"https://web.archive.org/web/20200814131437/https://www.macrotrends.net/ccpa\">Do Not Sell My Personal Information</a>\n",
      "\t\t  <br>\n",
      "\t\t  <span>Fundamental data from </span><a target=\"_blank\" rel=\"nofollow\" href=\"https://web.archive.org/web/20200814131437/https://www.zacksdata.com/\">Zacks Investment Research, Inc.</a>\n",
      "\n",
      "\n",
      "</footer>\n",
      "\n",
      "<div class=\"modal\" id=\"smallWidthModal1\" tabindex=\"-1\" role=\"dialog\" aria-labelledby=\"exampleModalLabel\" aria-hidden=\"true\">\n",
      "  <div class=\"modal-dialog modal-lg\">\n",
      "    <div class=\"modal-content\">\n",
      "      <div class=\"modal-body\">\n",
      "\t  \t  \n",
      "\t\t<div class=\"modal_title\"><h2><strong>We Need Your Support!</strong></h2></div>\n",
      "\n",
      "\t\t<p>Backlinks from other websites are the lifeblood of our site and a primary source of new traffic.</p><p>\n",
      "\t\t\n",
      "</p><p>If you use our chart images on your site or blog, we ask that you provide attribution via a \"dofollow\" link back to this page.  We have provided a few examples below that you can copy and paste to your site:</p>\n",
      "\n",
      "<br>\n",
      "\n",
      "<table class=\"table\">\n",
      "<thead>\n",
      "<tr>\n",
      "<th>Link Preview</th>\n",
      "<th>HTML Code (Click to Copy)</th>\n",
      "</tr>\n",
      "</thead>\n",
      "<tbody>\n",
      "<tr>\n",
      "<td><a>GameStop Revenue 2006-2020 | GME</a></td>\n",
      "<td><input type=\"text\" class=\"modal_link\" size=\"60\" value=\"&lt;a href=&#39;https://www.macrotrends.net/stocks/charts/GME/gamestop/revenue&#39;&gt;GameStop Revenue 2006-2020 | GME&lt;/a&gt;\"></td>\n",
      "</tr>\n",
      "<tr>\n",
      "<td><a>Macrotrends</a></td>\n",
      "<td><input type=\"text\" class=\"modal_link\" size=\"60\" value=\"&lt;a href=&#39;https://www.macrotrends.net/stocks/charts/GME/gamestop/revenue&#39;&gt;Macrotrends&lt;/a&gt;\"></td>\n",
      "</tr>\n",
      "<tr>\n",
      "<td><a>Source</a></td>\n",
      "<td><input type=\"text\" class=\"modal_link\" size=\"60\" value=\"&lt;a href=&#39;https://www.macrotrends.net/stocks/charts/GME/gamestop/revenue&#39;&gt;Source&lt;/a&gt;\"></td>\n",
      "</tr>\n",
      "\n",
      "\n",
      "\n",
      "</tbody>\n",
      "</table>\n",
      "\n",
      "<br>\n",
      "\n",
      "<p style=\"text-align:center\">Your image export is now complete.  Please check your download folder. </p>\n",
      "\n",
      "      </div>\n",
      "      <div class=\"modal-footer\">\n",
      "        <button type=\"button\" class=\"btn btn-primary\" data-dismiss=\"modal\">Close Window</button>\n",
      "      </div>\n",
      "    </div>\n",
      "  </div>\n",
      "</div>\n",
      "\n",
      "\n",
      "<div class=\"modal\" id=\"smallWidthModal2\" tabindex=\"-1\" role=\"dialog\" aria-labelledby=\"exampleModalLabel\" aria-hidden=\"true\">\n",
      "  <div class=\"modal-dialog modal-lg\">\n",
      "    <div class=\"modal-content\">\n",
      "      <div class=\"modal-body\">\n",
      "\t  \t  \n",
      "\t\t<div class=\"modal_title\"><h2><strong>We Need Your Support!</strong></h2></div>\n",
      "\n",
      "\t\t<p>Backlinks from other websites are the lifeblood of our site and a primary source of new traffic.</p><p>\n",
      "\t\t\n",
      "</p><p>If you use our datasets on your site or blog, we ask that you provide attribution via a \"dofollow\" link back to this page.  We have provided a few examples below that you can copy and paste to your site:</p>\n",
      "\n",
      "<br>\n",
      "\n",
      "<table class=\"table\">\n",
      "<thead>\n",
      "<tr>\n",
      "<th>Link Preview</th>\n",
      "<th>HTML Code (Click to Copy)</th>\n",
      "</tr>\n",
      "</thead>\n",
      "<tbody>\n",
      "<tr>\n",
      "<td><a>GameStop Revenue 2006-2020 | GME</a></td>\n",
      "<td><input type=\"text\" class=\"modal_link\" size=\"50\" value=\"&lt;a href=&#39;https://www.macrotrends.net/stocks/charts/GME/gamestop/revenue&#39;&gt;GameStop Revenue 2006-2020 | GME&lt;/a&gt;\"></td>\n",
      "</tr>\n",
      "<tr>\n",
      "<td><a>Macrotrends</a></td>\n",
      "<td><input type=\"text\" class=\"modal_link\" size=\"50\" value=\"&lt;a href=&#39;https://www.macrotrends.net/stocks/charts/GME/gamestop/revenue&#39;&gt;Macrotrends&lt;/a&gt;\"></td>\n",
      "</tr>\n",
      "<tr>\n",
      "<td><a>Source</a></td>\n",
      "<td><input type=\"text\" class=\"modal_link\" size=\"50\" value=\"&lt;a href=&#39;https://www.macrotrends.net/stocks/charts/GME/gamestop/revenue&#39;&gt;Source&lt;/a&gt;\"></td>\n",
      "</tr>\n",
      "\n",
      "\n",
      "\n",
      "</tbody>\n",
      "</table>\n",
      "\n",
      "<br>\n",
      "\n",
      "<p style=\"text-align:center\">Your data export is now complete.  Please check your download folder. </p>\n",
      "\n",
      "      </div>\n",
      "      <div class=\"modal-footer\">\n",
      "        <button type=\"button\" class=\"btn btn-primary\" data-dismiss=\"modal\">Close Window</button>\n",
      "      </div>\n",
      "    </div>\n",
      "  </div>\n",
      "</div>\t\n",
      "\n",
      "\n",
      "<script type=\"text/javascript\">\n",
      "\t$.typeahead({\n",
      "\t\tinput: '.js-typeahead',\n",
      "\t\tminLength: 1,\n",
      "\t\tfilter: false,  //Disables typahead filter to just show everything in the results from the database\n",
      "\t\tdebug: false,\n",
      "\t\thighlight: true,\n",
      "\t\tmaxItem: 10,\n",
      "\t\tdynamic: true,\n",
      "\t\tdelay: 200,\n",
      "\t\tsearchOnFocus: true,\n",
      "\t\tbackdrop: {\n",
      "\t\t\t\"background-color\": \"#fff\"\n",
      "\t\t},\n",
      "\t\thref: \"{{url}}\",\n",
      "\t\temptyTemplate: \"no result for {{query}}\",\n",
      "\t\tdisplay: [\"name\"],\n",
      "\t\tsource: {\n",
      "\t\t\tusers: {\n",
      "\t\t\t\tajax: {\n",
      "\t\t\t\t\turl: '/assets/php/all_pages_query.php',\n",
      "\t\t\t\t\tdata: {\n",
      "\t\t\t\t\t\tq: '{{query}}'\n",
      "\t\t\t\t\t}\n",
      "\t\t\t\t}\n",
      "\t\t\t}\n",
      "\t\t}\n",
      "\t});\n",
      "</script>\t\t\t\t\t\t\n",
      "\n",
      "\n",
      "<script>\n",
      "\n",
      "$(document).ready(function() {\n",
      "\t\n",
      "\t// Selects all of the text in the chart export window when clicked\n",
      "\t$(\".modal_link\").focus(function() {\n",
      "\t\tvar $this = $(this);\n",
      "\t\t$this.select();\n",
      "\n",
      "\t\t// Work around Chrome's little problem\n",
      "\t\t$this.mouseup(function() {\n",
      "\t\t\t// Prevent further mouseup intervention\n",
      "\t\t\t$this.unbind(\"mouseup\");\n",
      "\t\t\treturn false;\n",
      "\t\t});\n",
      "\t});\t\n",
      "\t\n",
      "\t\n",
      "\t$('[data-toggle=\"tooltip\"]').tooltip();\n",
      "\t\n",
      "    $('.statement_type_select').select2({\n",
      "\t\n",
      "\ttheme: \"classic\",\n",
      "\tminimumResultsForSearch: 20\n",
      "\t\n",
      "\t});\n",
      "\n",
      "    $('.frequency_select').select2({\n",
      "\t\n",
      "\ttheme: \"classic\",\n",
      "\tminimumResultsForSearch: 20\n",
      "\t\n",
      "\t});\n",
      "\t\n",
      "\t\n",
      "});\n",
      "\n",
      "$( \"#compareStocks\" ).click(function() {\n",
      "\t\n",
      "\t\n",
      "\twindow.location.href = '/stocks/stock-comparison?s=revenue&axis=single&comp=GME';\n",
      "\t\n",
      "\t\n",
      "});\n",
      "\n",
      "$( \"#chartExport\" ).click(function() {\n",
      "\t\n",
      "\t\twindow.$('#smallWidthModal1').modal();\n",
      "\n",
      "\t\t//Turn off scroll bar for image export\n",
      "\t\tchart.chartScrollbarSettings.enabled = false;\n",
      "\t\tchart.validateNow(); \n",
      "\t\t\n",
      "\t\t\n",
      "\t\tchart.export.capture({},function() {\n",
      "\t\t\tthis.toPNG({},function(data) {\n",
      "\t\t\t\t// Download the image to the browser\n",
      "\t\t\t\tthis.download( data, \"image/png\", \"GME-revenue-2020-08-14-macrotrends.png\" );\n",
      "\t\t\t\t\n",
      "\t\t\t\t});\n",
      "\n",
      "\t\t//Turn scroll bar back on again\n",
      "\t\tchart.chartScrollbarSettings.enabled = true;\n",
      "\t\tchart.validateNow(); \n",
      "\t\t\t\t\n",
      "\t});\n",
      "\n",
      "});\n",
      "\n",
      "$( \".statement_type_select\" ).change(function() {\n",
      "  \n",
      "  window.location.href = 'https://web.archive.org/web/20200814131437/https://testing.macrotrends.net/assets/php/income_statement_testing.php?t=TAIT&type=' + this.value + '&freq=Q';\n",
      "\n",
      "});\n",
      "\n",
      "$( \".frequency_select\" ).change(function() {\n",
      "  \n",
      "  window.location.href = '/assets/php/new_chart_page.php?t=TAIT&type=revenue&freq=' + this.value;\n",
      "\n",
      "});\n",
      "\n",
      "</script>\n",
      "\n",
      "<!--<div class=\"modal\" id=\"contribute_modal\" tabindex=\"-1\" role=\"dialog\" aria-labelledby=\"exampleModalLabel\" aria-hidden=\"false\">\n",
      "  <div class=\"modal-dialog modal-lg\">\n",
      "    <div class=\"modal-content\">\n",
      "      <div class=\"modal-body\" style=\"margin:20px 40px 20px 40px; text-align:left;font-size:18px;\">\n",
      "\t  \t  \n",
      "\n",
      "\n",
      "<div class=\"row\">\n",
      "\n",
      "<div class=\"col-xs-6\">\n",
      "\n",
      "<script src=\"https://donorbox.org/widget.js\" paypalExpress=\"true\"></script><iframe src=\"https://donorbox.org/embed/macrotrends-donations?hide_donation_meter=true\" height=\"685px\" width=\"100%\" style=\"max-width:500px; min-width:310px; max-height:none!important\" seamless=\"seamless\" name=\"donorbox\" frameborder=\"0\" scrolling=\"no\" allowpaymentrequest></iframe>\n",
      "\n",
      "</div>\n",
      "\n",
      "<div class=\"col-xs-6\">\n",
      "\n",
      "\t\t<div class=\"modal_title\"><h1><strong>We Need Your Support!</strong></h1></div>\n",
      "\n",
      "\t\t<p><strong>Macrotrends has been subscription-free since 2010 and we want to keep it that way.</strong></p>\n",
      "\n",
      "<p>Our goal has always been to serve as an easily accessible, high quality source of investment research for both professionals and amateurs alike.</p>\n",
      "\n",
      "<p>Any amount that you can contribute will help ensure we can keep the site completely free for many years to come.</p>\n",
      "\n",
      "<p style=\"margin-top:20px;\">Regards,</p>\n",
      "<p>The Macrotrends Team</p>\n",
      "\n",
      "</div>\n",
      "\n",
      "</div>\n",
      "\n",
      "</div>\n",
      "\n",
      "      <div class=\"modal-footer\" style=\"text-align:center;\">\n",
      "        <button type=\"button\" class=\"btn btn-success\" data-dismiss=\"modal\">Maybe Next Time...</button>\n",
      "      </div>\n",
      "    </div>\n",
      "  </div>\n",
      "</div>\t\n",
      "\n",
      "\n",
      "<script src=\"/ads.js\" type=\"text/javascript\"></script>\n",
      "\n",
      "<script>\n",
      "\n",
      "$(document).ready(function() {\n",
      "\t\n",
      "\tvar botPattern = \"(googlebot\\/|Googlebot-Mobile|Googlebot-Image|Google favicon|Mediapartners-Google|bingbot|slurp|java|wget|curl|Commons-HttpClient|Python-urllib|libwww|httpunit|nutch|phpcrawl|msnbot|jyxobot|FAST-WebCrawler|FAST Enterprise Crawler|biglotron|teoma|convera|seekbot|gigablast|exabot|ngbot|ia_archiver|GingerCrawler|webmon |httrack|webcrawler|grub.org|UsineNouvelleCrawler|antibot|netresearchserver|speedy|fluffy|bibnum.bnf|findlink|msrbot|panscient|yacybot|AISearchBot|IOI|ips-agent|tagoobot|MJ12bot|dotbot|woriobot|yanga|buzzbot|mlbot|yandexbot|purebot|Linguee Bot|Voyager|CyberPatrol|voilabot|baiduspider|citeseerxbot|spbot|twengabot|postrank|turnitinbot|scribdbot|page2rss|sitebot|linkdex|Adidxbot|blekkobot|ezooms|dotbot|Mail.RU_Bot|discobot|heritrix|findthatfile|europarchive.org|NerdByNature.Bot|sistrix crawler|ahrefsbot|Aboundex|domaincrawler|wbsearchbot|summify|ccbot|edisterbot|seznambot|ec2linkfinder|gslfbot|aihitbot|intelium_bot|facebookexternalhit|yeti|RetrevoPageAnalyzer|lb-spider|sogou|lssbot|careerbot|wotbox|wocbot|ichiro|DuckDuckBot|lssrocketcrawler|drupact|webcompanycrawler|acoonbot|openindexspider|gnam gnam spider|web-archive-net.com.bot|backlinkcrawler|coccoc|integromedb|content crawler spider|toplistbot|seokicks-robot|it2media-domain-crawler|ip-web-crawler.com|siteexplorer.info|elisabot|proximic|changedetection|blexbot|arabot|WeSEE:Search|niki-bot|CrystalSemanticsBot|rogerbot|360Spider|psbot|InterfaxScanBot|Lipperhey SEO Service|CC Metadata Scaper|g00g1e.net|GrapeshotCrawler|urlappendbot|brainobot|fr-crawler|binlar|SimpleCrawler|Livelapbot|Twitterbot|cXensebot|smtbot|bnf.fr_bot|A6-Indexer|ADmantX|Facebot|Twitterbot|OrangeBot|memorybot|AdvBot|MegaIndex|SemanticScholarBot|ltx71|nerdybot|xovibot|BUbiNG|Qwantify|archive.org_bot|Applebot|TweetmemeBot|crawler4j|findxbot|SemrushBot|yoozBot|lipperhey|y!j-asr|Domain Re-Animator Bot|AddThis)\";\n",
      "\n",
      "\tvar re = new RegExp(botPattern, 'i');\n",
      "\n",
      "\tif (re.test(navigator.userAgent)) {\n",
      "\t\t\n",
      "\t} else {\n",
      "\t\t\n",
      "\t\t//Check to see whether they are running an ad blocker\n",
      "\t\tif(document.getElementById('12mORwMnaEkJXlxz')){\n",
      "\t\t  var ad_blocker = 'N';\n",
      "\t\t} else {\n",
      "\t\t  var ad_blocker = 'Y';\n",
      "\t\t}\n",
      "\n",
      "\t\t$.post('https://api.ipstack.com/check?access_key=14fe63e83d5cfefa0b3d4cec498479ba&output=json&fields=ip,continent_name,country_name,region_name,city', \n",
      "\t\tfunction(ip_data){\n",
      "\t\t\t\n",
      "\t\t\t$.post('https://www.macrotrends.net/assets/php/page_view_tracking.php', {ip: ip_data.ip,continent: ip_data.continent_name, country: ip_data.country_name, state: ip_data.region_name, city: ip_data.city, screen_width: screen.width, ads: ad_blocker, page_type: 'stock'}, \n",
      "\t\t\t\tfunction(data){\n",
      "\t\t\t\t\t/*\t\t\t\t\t\n",
      "\t\t\t\t\tif(data % 20 === 0) {\n",
      "\t\t\t\t\t\t\n",
      "\t\t\t\t\t\t//$('#contribute_modal').modal();\n",
      "\t\t\t\t\t\t\n",
      "\t\t\t\t\t}\n",
      "\t\t\t\t\t*/\n",
      "\t\t\t\t});\n",
      "\t\t\n",
      "\t\t});\n",
      "\n",
      "\n",
      "\t}\n",
      "\t\n",
      "\n",
      "});\n",
      "\n",
      "\n",
      "$.post('https://api.ipstack.com/check?access_key=14fe63e83d5cfefa0b3d4cec498479ba&output=json&fields=ip,continent_name,country_name,region_name,city', \n",
      "function(ip_data){\n",
      "\t\n",
      "\t$(\".contribute_user_id\").val(ip_data.ip);\n",
      "\t\n",
      "});\n",
      "\n",
      "$( \".donate_buttons\" ).click(function() {\n",
      "  \n",
      "\tvar payment = $(this).attr(\"value\");\n",
      "\n",
      "\t$.post('https://api.ipstack.com/check?access_key=14fe63e83d5cfefa0b3d4cec498479ba&output=json&fields=ip,continent_name,country_name,region_name,city', \n",
      "\t\tfunction(ip_data){\n",
      "\t\t\t\t\t\n",
      "\t\t$.post('https://www.macrotrends.net/assets/php/page_view_tracking.php', {ip: ip_data.ip, paid: payment}); \n",
      "\t\n",
      "\t});\n",
      "\t\t \n",
      "});\n",
      "\n",
      "</script>\n",
      "\n",
      "-->\n",
      "\n",
      "<script>    \n",
      "// Begin editable configuration\n",
      "  window.ABD = {\n",
      "    bannerSuppress: false, // Optionally suppress the banner asking the user to disable their adblocker.\n",
      "    bannerTheme: 'blue', // The bannerTheme of the banner (e.g. 'blue', 'black', 'gray')\n",
      "    bannerSnoozeTime: 86400, // Set in seconds\n",
      "    remoteURL: \"https://web.archive.org/web/20200814131437/https://abd.investingchannel.com\", // Remote ABD URL for JS bundle fetch and event reporting.\n",
      "    proxyURL: \"/proxy.php\" // Proxy URL to use for event and bundle fetching if the remote URL is unreachable.\n",
      "  };\n",
      "// End editable configuration\n",
      "\n",
      "function getBundle(e,n,r){var o=new XMLHttpRequest;o.addEventListener(\"load\",n),o.addEventListener(\"error\",r),o.open(\"GET\",e),o.send()}function handleSuccess(){if(200!=this.status)throw new Error(\"ABD was able to reach the server but received a non 200:OK response.\");var e=document.createElement(\"script\");e.innerHTML=this.responseText,document.body.appendChild(e)}function handleErrorInitial(){getBundle(window.ABD.proxyURL+\"?remoteURL=\"+encodeURIComponent(window.ABD.remoteURL+\"/js/bundle.js\"),handleSuccess,handleErrorProxy)}function handleErrorProxy(){throw new Error(\"ABD was unable to fetch the JS component from the remote site or local proxy.\")}getBundle(window.ABD.remoteURL+\"/js/bundle.js\",handleSuccess,handleErrorInitial);\n",
      "\n",
      "</script>\n",
      "\n",
      "\t\n",
      "\n",
      "\n",
      "\n",
      "<script type=\"text/javascript\">\n",
      "var clicky_site_ids = clicky_site_ids || [];\n",
      "clicky_site_ids.push(100827248);\n",
      "(function() {\n",
      "  var s = document.createElement('script');\n",
      "  s.type = 'text/javascript';\n",
      "  s.async = true;\n",
      "  s.src = '//web.archive.org/web/20200814131437/https://static.getclicky.com/js';\n",
      "  ( document.getElementsByTagName('head')[0] || document.getElementsByTagName('body')[0] ).appendChild( s );\n",
      "})();\n",
      "</script>\n",
      "<noscript><p><img alt=\"Clicky\" width=\"1\" height=\"1\" src=\"//web.archive.org/web/20200814131437im_/https://in.getclicky.com/100827248ns.gif\"/></p></noscript>\n",
      "\n",
      "\n",
      "<!--<script type=\"text/javascript\">\n",
      "    window._mfq = window._mfq || [];\n",
      "    (function() {\n",
      "        var mf = document.createElement(\"script\");\n",
      "        mf.type = \"text/javascript\"; mf.async = true;\n",
      "        mf.src = \"//cdn.mouseflow.com/projects/de879dfd-36cc-4d5e-adcd-3e97d4a41e06.js\";\n",
      "        document.getElementsByTagName(\"head\")[0].appendChild(mf);\n",
      "    })();\n",
      "</script>-->\n",
      "\n",
      "\n",
      "\n",
      "<!-- This site is converting visitors into subscribers and customers with OptinMonster - https://optinmonster.com-->\n",
      "<script type=\"text/javascript\" src=\"./GameStop Revenue 2006-2020 _ GME _ MacroTrends_files/api.min.js.download\" data-account=\"6392\" data-user=\"15772\" async=\"\"></script>\n",
      "<!-- / OptinMonster -->\n",
      "\n",
      "\n",
      "\n",
      "\n",
      "\n",
      "\n",
      "\t\n",
      "<!--\n",
      "     FILE ARCHIVED ON 13:14:37 Aug 14, 2020 AND RETRIEVED FROM THE\n",
      "     INTERNET ARCHIVE ON 08:06:04 Feb 24, 2022.\n",
      "     JAVASCRIPT APPENDED BY WAYBACK MACHINE, COPYRIGHT INTERNET ARCHIVE.\n",
      "\n",
      "     ALL OTHER CONTENT MAY ALSO BE PROTECTED BY COPYRIGHT (17 U.S.C.\n",
      "     SECTION 108(a)(3)).\n",
      "-->\n",
      "<!--\n",
      "playback timings (ms):\n",
      "  captures_list: 147.271\n",
      "  exclusion.robots: 0.161\n",
      "  exclusion.robots.policy: 0.154\n",
      "  cdx.remote: 0.078\n",
      "  esindex: 0.008\n",
      "  LoadShardBlock: 111.691 (3)\n",
      "  PetaboxLoader3.datanode: 195.902 (4)\n",
      "  CDXLines.iter: 18.257 (3)\n",
      "  load_resource: 122.531\n",
      "  PetaboxLoader3.resolve: 30.75\n",
      "--><script> </script><script type=\"text/javascript\" async=\"\" src=\"./GameStop Revenue 2006-2020 _ GME _ MacroTrends_files/in.php\"></script></body><grammarly-desktop-integration data-grammarly-shadow-root=\"true\"></grammarly-desktop-integration></html>\n"
     ]
    }
   ],
   "source": [
    "url= (\"https://cf-courses-data.s3.us.cloud-object-storage.appdomain.cloud/IBMDeveloperSkillsNetwork-PY0220EN-SkillsNetwork/labs/project/stock.html\")\n",
    "html_data_2  = requests.get(url).text\n",
    "print(html_data_2)"
   ]
  },
  {
   "cell_type": "markdown",
   "id": "4305bf24-1aec-46db-b2b7-dc3e77fede72",
   "metadata": {},
   "source": [
    "Parse the html data using `beautiful_soup` using parser i.e `html5lib` or `html.parser`.\n"
   ]
  },
  {
   "cell_type": "code",
   "execution_count": 19,
   "id": "0e15e0e0-13c2-4393-b075-8705072c3997",
   "metadata": {},
   "outputs": [],
   "source": [
    "soup = BeautifulSoup(html_data_2, 'html.parser')"
   ]
  },
  {
   "cell_type": "markdown",
   "id": "b82e7829-4d93-44c9-9d84-dc66a5e9f2a0",
   "metadata": {},
   "source": [
    "Using `BeautifulSoup` or the `read_html` function extract the table with `GameStop Revenue` and store it into a dataframe named `gme_revenue`. The dataframe should have columns `Date` and `Revenue`. Make sure the comma and dollar sign is removed from the `Revenue` column.\n"
   ]
  },
  {
   "cell_type": "markdown",
   "id": "98ba0a34-ee8c-4ee5-aaae-60427d773fc4",
   "metadata": {},
   "source": [
    "> **Note: Use the method similar to what you did in question 2.**  \n"
   ]
  },
  {
   "cell_type": "markdown",
   "id": "ae2937ca-c7b4-4ed4-ad26-2aa7b3aa41f4",
   "metadata": {},
   "source": [
    "<details><summary>Click here if you need help locating the table</summary>\n",
    "\n",
    "```\n",
    "    \n",
    "Below is the code to isolate the table, you will now need to loop through the rows and columns like in the previous lab\n",
    "    \n",
    "soup.find_all(\"tbody\")[1]\n",
    "    \n",
    "If you want to use the read_html function the table is located at index 1\n",
    "\n",
    "\n",
    "```\n",
    "\n",
    "</details>\n"
   ]
  },
  {
   "cell_type": "code",
   "execution_count": 20,
   "id": "b88e76dc-aa79-4529-b4db-09efa5e0ccc3",
   "metadata": {},
   "outputs": [
    {
     "name": "stdout",
     "output_type": "stream",
     "text": [
      "   Date  Revenue\n",
      "0  2020     6466\n",
      "1  2019     8285\n",
      "2  2018     8547\n",
      "3  2017     7965\n",
      "4  2016     9364\n"
     ]
    },
    {
     "name": "stderr",
     "output_type": "stream",
     "text": [
      "<>:16: SyntaxWarning: invalid escape sequence '\\$'\n",
      "<>:16: SyntaxWarning: invalid escape sequence '\\$'\n",
      "C:\\Users\\Joanna\\AppData\\Local\\Temp\\ipykernel_7464\\198615786.py:16: SyntaxWarning: invalid escape sequence '\\$'\n",
      "  gme_revenue[\"Revenue\"] = gme_revenue[\"Revenue\"].replace({\"\\$\": \"\", \",\": \"\"}, regex=True)  # Remove $ and ,\n"
     ]
    }
   ],
   "source": [
    "from bs4 import BeautifulSoup\n",
    "import pandas as pd\n",
    "gamestop_table=pd.DataFrame(columns=[\"Date\",\"Revenue\"])\n",
    "tables=soup.find_all(\"table\")\n",
    "gamestop_table= tables[0]\n",
    "data = []\n",
    "for row in gamestop_table.find(\"tbody\").find_all(\"tr\"):\n",
    "    cols = row.find_all(\"td\")\n",
    "    if len(cols) == 2:  # To ensure each row has two columns (Date and Revenue)\n",
    "        date = cols[0].text.strip()\n",
    "        revenue = cols[1].text.strip()\n",
    "        data.append({\"Date\": date, \"Revenue\": revenue})\n",
    "\n",
    "# Convert the collected data into a DataFrame\n",
    "gme_revenue = pd.DataFrame(data)\n",
    "gme_revenue[\"Revenue\"] = gme_revenue[\"Revenue\"].replace({\"\\$\": \"\", \",\": \"\"}, regex=True)  # Remove $ and ,\n",
    "gme_revenue[\"Revenue\"] = pd.to_numeric(gme_revenue[\"Revenue\"], errors=\"coerce\")  # Convert to numeric, NaN if invalid\n",
    "\n",
    "# Display the first five rows of the DataFrame\n",
    "print(gme_revenue.head())"
   ]
  },
  {
   "cell_type": "markdown",
   "id": "b04aec23-8d1b-43e4-88e3-8f71014da6a2",
   "metadata": {},
   "source": [
    "Display the last five rows of the `gme_revenue` dataframe using the `tail` function. Take a screenshot of the results.\n"
   ]
  },
  {
   "cell_type": "code",
   "execution_count": 22,
   "id": "803eafda-ee46-4a2c-b54d-d306369e421a",
   "metadata": {},
   "outputs": [
    {
     "name": "stdout",
     "output_type": "stream",
     "text": [
      "    Date  Revenue\n",
      "11  2009     8806\n",
      "12  2008     7094\n",
      "13  2007     5319\n",
      "14  2006     3092\n",
      "15  2005     1843\n"
     ]
    }
   ],
   "source": [
    "print(gme_revenue.tail())"
   ]
  },
  {
   "cell_type": "markdown",
   "metadata": {},
   "source": []
  },
  {
   "cell_type": "markdown",
   "id": "552372b0-1b07-4055-a511-8057cae0d56b",
   "metadata": {},
   "source": [
    "## Question 5: Plot Tesla Stock Graph\n"
   ]
  },
  {
   "cell_type": "markdown",
   "id": "bd7022ee-e677-4b58-8319-0d5baad4f469",
   "metadata": {},
   "source": [
    "Use the `make_graph` function to graph the Tesla Stock Data, also provide a title for the graph. Note the graph will only show data upto June 2021.\n"
   ]
  },
  {
   "cell_type": "markdown",
   "id": "fbf1f796-ea45-4179-bf4f-bdad74064136",
   "metadata": {},
   "source": [
    "<details><summary>Hint</summary>\n",
    "\n",
    "```\n",
    "\n",
    "You just need to invoke the make_graph function with the required parameter to print the graphs.The structure to call the `make_graph` function is `make_graph(tesla_data, tesla_revenue, 'Tesla')`.\n",
    "\n",
    "```\n",
    "    \n",
    "</details>\n"
   ]
  },
  {
   "cell_type": "code",
   "execution_count": 26,
   "id": "d2673bc8-4f35-49b2-98c2-884d9bd2dd34",
   "metadata": {},
   "outputs": [
    {
     "data": {
      "application/vnd.plotly.v1+json": {
       "config": {
        "plotlyServerURL": "https://plot.ly"
       },
       "data": [
        {
         "name": "Share Price",
         "type": "scatter",
         "x": [
          "2020-01-02T00:00:00+00:00",
          "2020-01-03T00:00:00+00:00",
          "2020-01-06T00:00:00+00:00",
          "2020-01-07T00:00:00+00:00",
          "2020-01-08T00:00:00+00:00",
          "2020-01-09T00:00:00+00:00",
          "2020-01-10T00:00:00+00:00",
          "2020-01-13T00:00:00+00:00",
          "2020-01-14T00:00:00+00:00",
          "2020-01-15T00:00:00+00:00",
          "2020-01-16T00:00:00+00:00",
          "2020-01-17T00:00:00+00:00",
          "2020-01-21T00:00:00+00:00",
          "2020-01-22T00:00:00+00:00",
          "2020-01-23T00:00:00+00:00",
          "2020-01-24T00:00:00+00:00",
          "2020-01-27T00:00:00+00:00",
          "2020-01-28T00:00:00+00:00",
          "2020-01-29T00:00:00+00:00",
          "2020-01-30T00:00:00+00:00",
          "2020-01-31T00:00:00+00:00",
          "2020-02-03T00:00:00+00:00",
          "2020-02-04T00:00:00+00:00",
          "2020-02-05T00:00:00+00:00",
          "2020-02-06T00:00:00+00:00",
          "2020-02-07T00:00:00+00:00",
          "2020-02-10T00:00:00+00:00",
          "2020-02-11T00:00:00+00:00",
          "2020-02-12T00:00:00+00:00",
          "2020-02-13T00:00:00+00:00",
          "2020-02-14T00:00:00+00:00",
          "2020-02-18T00:00:00+00:00",
          "2020-02-19T00:00:00+00:00",
          "2020-02-20T00:00:00+00:00",
          "2020-02-21T00:00:00+00:00",
          "2020-02-24T00:00:00+00:00",
          "2020-02-25T00:00:00+00:00",
          "2020-02-26T00:00:00+00:00",
          "2020-02-27T00:00:00+00:00",
          "2020-02-28T00:00:00+00:00",
          "2020-03-02T00:00:00+00:00",
          "2020-03-03T00:00:00+00:00",
          "2020-03-04T00:00:00+00:00",
          "2020-03-05T00:00:00+00:00",
          "2020-03-06T00:00:00+00:00",
          "2020-03-09T00:00:00+00:00",
          "2020-03-10T00:00:00+00:00",
          "2020-03-11T00:00:00+00:00",
          "2020-03-12T00:00:00+00:00",
          "2020-03-13T00:00:00+00:00",
          "2020-03-16T00:00:00+00:00",
          "2020-03-17T00:00:00+00:00",
          "2020-03-18T00:00:00+00:00",
          "2020-03-19T00:00:00+00:00",
          "2020-03-20T00:00:00+00:00",
          "2020-03-23T00:00:00+00:00",
          "2020-03-24T00:00:00+00:00",
          "2020-03-25T00:00:00+00:00",
          "2020-03-26T00:00:00+00:00",
          "2020-03-27T00:00:00+00:00",
          "2020-03-30T00:00:00+00:00",
          "2020-03-31T00:00:00+00:00",
          "2020-04-01T00:00:00+00:00",
          "2020-04-02T00:00:00+00:00",
          "2020-04-03T00:00:00+00:00",
          "2020-04-06T00:00:00+00:00",
          "2020-04-07T00:00:00+00:00",
          "2020-04-08T00:00:00+00:00",
          "2020-04-09T00:00:00+00:00",
          "2020-04-13T00:00:00+00:00",
          "2020-04-14T00:00:00+00:00",
          "2020-04-15T00:00:00+00:00",
          "2020-04-16T00:00:00+00:00",
          "2020-04-17T00:00:00+00:00",
          "2020-04-20T00:00:00+00:00",
          "2020-04-21T00:00:00+00:00",
          "2020-04-22T00:00:00+00:00",
          "2020-04-23T00:00:00+00:00",
          "2020-04-24T00:00:00+00:00",
          "2020-04-27T00:00:00+00:00",
          "2020-04-28T00:00:00+00:00",
          "2020-04-29T00:00:00+00:00",
          "2020-04-30T00:00:00+00:00",
          "2020-05-01T00:00:00+00:00",
          "2020-05-04T00:00:00+00:00",
          "2020-05-05T00:00:00+00:00",
          "2020-05-06T00:00:00+00:00",
          "2020-05-07T00:00:00+00:00",
          "2020-05-08T00:00:00+00:00",
          "2020-05-11T00:00:00+00:00",
          "2020-05-12T00:00:00+00:00",
          "2020-05-13T00:00:00+00:00",
          "2020-05-14T00:00:00+00:00",
          "2020-05-15T00:00:00+00:00",
          "2020-05-18T00:00:00+00:00",
          "2020-05-19T00:00:00+00:00",
          "2020-05-20T00:00:00+00:00",
          "2020-05-21T00:00:00+00:00",
          "2020-05-22T00:00:00+00:00",
          "2020-05-26T00:00:00+00:00",
          "2020-05-27T00:00:00+00:00",
          "2020-05-28T00:00:00+00:00",
          "2020-05-29T00:00:00+00:00",
          "2020-06-01T00:00:00+00:00",
          "2020-06-02T00:00:00+00:00",
          "2020-06-03T00:00:00+00:00",
          "2020-06-04T00:00:00+00:00",
          "2020-06-05T00:00:00+00:00",
          "2020-06-08T00:00:00+00:00",
          "2020-06-09T00:00:00+00:00",
          "2020-06-10T00:00:00+00:00",
          "2020-06-11T00:00:00+00:00",
          "2020-06-12T00:00:00+00:00",
          "2020-06-15T00:00:00+00:00",
          "2020-06-16T00:00:00+00:00",
          "2020-06-17T00:00:00+00:00",
          "2020-06-18T00:00:00+00:00",
          "2020-06-19T00:00:00+00:00",
          "2020-06-22T00:00:00+00:00",
          "2020-06-23T00:00:00+00:00",
          "2020-06-24T00:00:00+00:00",
          "2020-06-25T00:00:00+00:00",
          "2020-06-26T00:00:00+00:00",
          "2020-06-29T00:00:00+00:00",
          "2020-06-30T00:00:00+00:00",
          "2020-07-01T00:00:00+00:00",
          "2020-07-02T00:00:00+00:00",
          "2020-07-06T00:00:00+00:00",
          "2020-07-07T00:00:00+00:00",
          "2020-07-08T00:00:00+00:00",
          "2020-07-09T00:00:00+00:00",
          "2020-07-10T00:00:00+00:00",
          "2020-07-13T00:00:00+00:00",
          "2020-07-14T00:00:00+00:00",
          "2020-07-15T00:00:00+00:00",
          "2020-07-16T00:00:00+00:00",
          "2020-07-17T00:00:00+00:00",
          "2020-07-20T00:00:00+00:00",
          "2020-07-21T00:00:00+00:00",
          "2020-07-22T00:00:00+00:00",
          "2020-07-23T00:00:00+00:00",
          "2020-07-24T00:00:00+00:00",
          "2020-07-27T00:00:00+00:00",
          "2020-07-28T00:00:00+00:00",
          "2020-07-29T00:00:00+00:00",
          "2020-07-30T00:00:00+00:00",
          "2020-07-31T00:00:00+00:00",
          "2020-08-03T00:00:00+00:00",
          "2020-08-04T00:00:00+00:00",
          "2020-08-05T00:00:00+00:00",
          "2020-08-06T00:00:00+00:00",
          "2020-08-07T00:00:00+00:00",
          "2020-08-10T00:00:00+00:00",
          "2020-08-11T00:00:00+00:00",
          "2020-08-12T00:00:00+00:00",
          "2020-08-13T00:00:00+00:00",
          "2020-08-14T00:00:00+00:00",
          "2020-08-17T00:00:00+00:00",
          "2020-08-18T00:00:00+00:00",
          "2020-08-19T00:00:00+00:00",
          "2020-08-20T00:00:00+00:00",
          "2020-08-21T00:00:00+00:00",
          "2020-08-24T00:00:00+00:00",
          "2020-08-25T00:00:00+00:00",
          "2020-08-26T00:00:00+00:00",
          "2020-08-27T00:00:00+00:00",
          "2020-08-28T00:00:00+00:00",
          "2020-08-31T00:00:00+00:00",
          "2020-09-01T00:00:00+00:00",
          "2020-09-02T00:00:00+00:00",
          "2020-09-03T00:00:00+00:00",
          "2020-09-04T00:00:00+00:00",
          "2020-09-08T00:00:00+00:00",
          "2020-09-09T00:00:00+00:00",
          "2020-09-10T00:00:00+00:00",
          "2020-09-11T00:00:00+00:00",
          "2020-09-14T00:00:00+00:00",
          "2020-09-15T00:00:00+00:00",
          "2020-09-16T00:00:00+00:00",
          "2020-09-17T00:00:00+00:00",
          "2020-09-18T00:00:00+00:00",
          "2020-09-21T00:00:00+00:00",
          "2020-09-22T00:00:00+00:00",
          "2020-09-23T00:00:00+00:00",
          "2020-09-24T00:00:00+00:00",
          "2020-09-25T00:00:00+00:00",
          "2020-09-28T00:00:00+00:00",
          "2020-09-29T00:00:00+00:00",
          "2020-09-30T00:00:00+00:00",
          "2020-10-01T00:00:00+00:00",
          "2020-10-02T00:00:00+00:00",
          "2020-10-05T00:00:00+00:00",
          "2020-10-06T00:00:00+00:00",
          "2020-10-07T00:00:00+00:00",
          "2020-10-08T00:00:00+00:00",
          "2020-10-09T00:00:00+00:00",
          "2020-10-12T00:00:00+00:00",
          "2020-10-13T00:00:00+00:00",
          "2020-10-14T00:00:00+00:00",
          "2020-10-15T00:00:00+00:00",
          "2020-10-16T00:00:00+00:00",
          "2020-10-19T00:00:00+00:00",
          "2020-10-20T00:00:00+00:00",
          "2020-10-21T00:00:00+00:00",
          "2020-10-22T00:00:00+00:00",
          "2020-10-23T00:00:00+00:00",
          "2020-10-26T00:00:00+00:00",
          "2020-10-27T00:00:00+00:00",
          "2020-10-28T00:00:00+00:00",
          "2020-10-29T00:00:00+00:00",
          "2020-10-30T00:00:00+00:00",
          "2020-11-02T00:00:00+00:00",
          "2020-11-03T00:00:00+00:00",
          "2020-11-04T00:00:00+00:00",
          "2020-11-05T00:00:00+00:00",
          "2020-11-06T00:00:00+00:00",
          "2020-11-09T00:00:00+00:00",
          "2020-11-10T00:00:00+00:00",
          "2020-11-11T00:00:00+00:00",
          "2020-11-12T00:00:00+00:00",
          "2020-11-13T00:00:00+00:00",
          "2020-11-16T00:00:00+00:00",
          "2020-11-17T00:00:00+00:00",
          "2020-11-18T00:00:00+00:00",
          "2020-11-19T00:00:00+00:00",
          "2020-11-20T00:00:00+00:00",
          "2020-11-23T00:00:00+00:00",
          "2020-11-24T00:00:00+00:00",
          "2020-11-25T00:00:00+00:00",
          "2020-11-27T00:00:00+00:00",
          "2020-11-30T00:00:00+00:00",
          "2020-12-01T00:00:00+00:00",
          "2020-12-02T00:00:00+00:00",
          "2020-12-03T00:00:00+00:00",
          "2020-12-04T00:00:00+00:00",
          "2020-12-07T00:00:00+00:00",
          "2020-12-08T00:00:00+00:00",
          "2020-12-09T00:00:00+00:00",
          "2020-12-10T00:00:00+00:00",
          "2020-12-11T00:00:00+00:00",
          "2020-12-14T00:00:00+00:00",
          "2020-12-15T00:00:00+00:00",
          "2020-12-16T00:00:00+00:00",
          "2020-12-17T00:00:00+00:00",
          "2020-12-18T00:00:00+00:00",
          "2020-12-21T00:00:00+00:00",
          "2020-12-22T00:00:00+00:00",
          "2020-12-23T00:00:00+00:00",
          "2020-12-24T00:00:00+00:00",
          "2020-12-28T00:00:00+00:00",
          "2020-12-29T00:00:00+00:00",
          "2020-12-30T00:00:00+00:00",
          "2020-12-31T00:00:00+00:00",
          "2021-01-04T00:00:00+00:00",
          "2021-01-05T00:00:00+00:00",
          "2021-01-06T00:00:00+00:00",
          "2021-01-07T00:00:00+00:00",
          "2021-01-08T00:00:00+00:00",
          "2021-01-11T00:00:00+00:00",
          "2021-01-12T00:00:00+00:00",
          "2021-01-13T00:00:00+00:00",
          "2021-01-14T00:00:00+00:00",
          "2021-01-15T00:00:00+00:00",
          "2021-01-19T00:00:00+00:00",
          "2021-01-20T00:00:00+00:00",
          "2021-01-21T00:00:00+00:00",
          "2021-01-22T00:00:00+00:00",
          "2021-01-25T00:00:00+00:00",
          "2021-01-26T00:00:00+00:00",
          "2021-01-27T00:00:00+00:00",
          "2021-01-28T00:00:00+00:00",
          "2021-01-29T00:00:00+00:00",
          "2021-02-01T00:00:00+00:00",
          "2021-02-02T00:00:00+00:00",
          "2021-02-03T00:00:00+00:00",
          "2021-02-04T00:00:00+00:00",
          "2021-02-05T00:00:00+00:00",
          "2021-02-08T00:00:00+00:00",
          "2021-02-09T00:00:00+00:00",
          "2021-02-10T00:00:00+00:00",
          "2021-02-11T00:00:00+00:00",
          "2021-02-12T00:00:00+00:00",
          "2021-02-16T00:00:00+00:00",
          "2021-02-17T00:00:00+00:00",
          "2021-02-18T00:00:00+00:00",
          "2021-02-19T00:00:00+00:00",
          "2021-02-22T00:00:00+00:00",
          "2021-02-23T00:00:00+00:00",
          "2021-02-24T00:00:00+00:00",
          "2021-02-25T00:00:00+00:00",
          "2021-02-26T00:00:00+00:00",
          "2021-03-01T00:00:00+00:00",
          "2021-03-02T00:00:00+00:00",
          "2021-03-03T00:00:00+00:00",
          "2021-03-04T00:00:00+00:00",
          "2021-03-05T00:00:00+00:00",
          "2021-03-08T00:00:00+00:00",
          "2021-03-09T00:00:00+00:00",
          "2021-03-10T00:00:00+00:00",
          "2021-03-11T00:00:00+00:00",
          "2021-03-12T00:00:00+00:00",
          "2021-03-15T00:00:00+00:00",
          "2021-03-16T00:00:00+00:00",
          "2021-03-17T00:00:00+00:00",
          "2021-03-18T00:00:00+00:00",
          "2021-03-19T00:00:00+00:00",
          "2021-03-22T00:00:00+00:00",
          "2021-03-23T00:00:00+00:00",
          "2021-03-24T00:00:00+00:00",
          "2021-03-25T00:00:00+00:00",
          "2021-03-26T00:00:00+00:00",
          "2021-03-29T00:00:00+00:00",
          "2021-03-30T00:00:00+00:00",
          "2021-03-31T00:00:00+00:00",
          "2021-04-01T00:00:00+00:00",
          "2021-04-05T00:00:00+00:00",
          "2021-04-06T00:00:00+00:00",
          "2021-04-07T00:00:00+00:00",
          "2021-04-08T00:00:00+00:00",
          "2021-04-09T00:00:00+00:00",
          "2021-04-12T00:00:00+00:00",
          "2021-04-13T00:00:00+00:00",
          "2021-04-14T00:00:00+00:00",
          "2021-04-15T00:00:00+00:00",
          "2021-04-16T00:00:00+00:00",
          "2021-04-19T00:00:00+00:00",
          "2021-04-20T00:00:00+00:00",
          "2021-04-21T00:00:00+00:00",
          "2021-04-22T00:00:00+00:00",
          "2021-04-23T00:00:00+00:00",
          "2021-04-26T00:00:00+00:00",
          "2021-04-27T00:00:00+00:00",
          "2021-04-28T00:00:00+00:00",
          "2021-04-29T00:00:00+00:00",
          "2021-04-30T00:00:00+00:00",
          "2021-05-03T00:00:00+00:00",
          "2021-05-04T00:00:00+00:00",
          "2021-05-05T00:00:00+00:00",
          "2021-05-06T00:00:00+00:00",
          "2021-05-07T00:00:00+00:00",
          "2021-05-10T00:00:00+00:00",
          "2021-05-11T00:00:00+00:00",
          "2021-05-12T00:00:00+00:00",
          "2021-05-13T00:00:00+00:00",
          "2021-05-14T00:00:00+00:00",
          "2021-05-17T00:00:00+00:00",
          "2021-05-18T00:00:00+00:00",
          "2021-05-19T00:00:00+00:00",
          "2021-05-20T00:00:00+00:00",
          "2021-05-21T00:00:00+00:00",
          "2021-05-24T00:00:00+00:00",
          "2021-05-25T00:00:00+00:00",
          "2021-05-26T00:00:00+00:00",
          "2021-05-27T00:00:00+00:00",
          "2021-05-28T00:00:00+00:00",
          "2021-06-01T00:00:00+00:00",
          "2021-06-02T00:00:00+00:00",
          "2021-06-03T00:00:00+00:00",
          "2021-06-04T00:00:00+00:00",
          "2021-06-07T00:00:00+00:00",
          "2021-06-08T00:00:00+00:00",
          "2021-06-09T00:00:00+00:00",
          "2021-06-10T00:00:00+00:00",
          "2021-06-11T00:00:00+00:00",
          "2021-06-14T00:00:00+00:00"
         ],
         "xaxis": "x",
         "y": [
          [
           28.68400001525879
          ],
          [
           29.534000396728516
          ],
          [
           30.1026668548584
          ],
          [
           31.270666122436523
          ],
          [
           32.80933380126953
          ],
          [
           32.089332580566406
          ],
          [
           31.876667022705078
          ],
          [
           34.990665435791016
          ],
          [
           35.861331939697266
          ],
          [
           34.56666564941406
          ],
          [
           34.232666015625
          ],
          [
           34.03333282470703
          ],
          [
           36.47999954223633
          ],
          [
           37.97066879272461
          ],
          [
           38.14666748046875
          ],
          [
           37.654666900634766
          ],
          [
           37.201332092285156
          ],
          [
           37.793331146240234
          ],
          [
           38.732666015625
          ],
          [
           42.72066879272461
          ],
          [
           43.371334075927734
          ],
          [
           52
          ],
          [
           59.137332916259766
          ],
          [
           48.97999954223633
          ],
          [
           49.930667877197266
          ],
          [
           49.871334075927734
          ],
          [
           51.41866683959961
          ],
          [
           51.62533187866211
          ],
          [
           51.15266799926758
          ],
          [
           53.599998474121094
          ],
          [
           53.33533477783203
          ],
          [
           57.22666549682617
          ],
          [
           61.16133117675781
          ],
          [
           59.96066665649414
          ],
          [
           60.06666564941406
          ],
          [
           55.58599853515625
          ],
          [
           53.32733154296875
          ],
          [
           51.91999816894531
          ],
          [
           45.266666412353516
          ],
          [
           44.53266525268555
          ],
          [
           49.574668884277344
          ],
          [
           49.70066833496094
          ],
          [
           49.96666717529297
          ],
          [
           48.30266571044922
          ],
          [
           46.89866638183594
          ],
          [
           40.53333282470703
          ],
          [
           43.02199935913086
          ],
          [
           42.28200149536133
          ],
          [
           37.369998931884766
          ],
          [
           36.44133377075195
          ],
          [
           29.67133331298828
          ],
          [
           28.68000030517578
          ],
          [
           24.08133316040039
          ],
          [
           28.50933265686035
          ],
          [
           28.50200080871582
          ],
          [
           28.952667236328125
          ],
          [
           33.66666793823242
          ],
          [
           35.95000076293945
          ],
          [
           35.21066665649414
          ],
          [
           34.29066848754883
          ],
          [
           33.47533416748047
          ],
          [
           34.93333435058594
          ],
          [
           32.104000091552734
          ],
          [
           30.29800033569336
          ],
          [
           32.000667572021484
          ],
          [
           34.41600036621094
          ],
          [
           36.36333465576172
          ],
          [
           36.589332580566406
          ],
          [
           38.20000076293945
          ],
          [
           43.39666748046875
          ],
          [
           47.32600021362305
          ],
          [
           48.65533447265625
          ],
          [
           49.680667877197266
          ],
          [
           50.259334564208984
          ],
          [
           49.75733184814453
          ],
          [
           45.781333923339844
          ],
          [
           48.807334899902344
          ],
          [
           47.04199981689453
          ],
          [
           48.34333419799805
          ],
          [
           53.25
          ],
          [
           51.27466583251953
          ],
          [
           53.367332458496094
          ],
          [
           52.12533187866211
          ],
          [
           46.75466537475586
          ],
          [
           50.74599838256836
          ],
          [
           51.2140007019043
          ],
          [
           52.172000885009766
          ],
          [
           52.00266647338867
          ],
          [
           54.62799835205078
          ],
          [
           54.08599853515625
          ],
          [
           53.96066665649414
          ],
          [
           52.73066711425781
          ],
          [
           53.55533218383789
          ],
          [
           53.27799987792969
          ],
          [
           54.242000579833984
          ],
          [
           53.867332458496094
          ],
          [
           54.37066650390625
          ],
          [
           55.17333221435547
          ],
          [
           54.45866775512695
          ],
          [
           54.591331481933594
          ],
          [
           54.68199920654297
          ],
          [
           53.72066879272461
          ],
          [
           55.66666793823242
          ],
          [
           59.87333297729492
          ],
          [
           58.770668029785156
          ],
          [
           58.86399841308594
          ],
          [
           57.62533187866211
          ],
          [
           59.04399871826172
          ],
          [
           63.327999114990234
          ],
          [
           62.711334228515625
          ],
          [
           68.336669921875
          ],
          [
           64.85600280761719
          ],
          [
           62.35200119018555
          ],
          [
           66.05999755859375
          ],
          [
           65.47533416748047
          ],
          [
           66.11933135986328
          ],
          [
           66.9306640625
          ],
          [
           66.72666931152344
          ],
          [
           66.28800201416016
          ],
          [
           66.78533172607422
          ],
          [
           64.0566635131836
          ],
          [
           65.73200225830078
          ],
          [
           63.982666015625
          ],
          [
           67.29000091552734
          ],
          [
           71.98733520507812
          ],
          [
           74.64199829101562
          ],
          [
           80.57733154296875
          ],
          [
           91.43866729736328
          ],
          [
           92.65733337402344
          ],
          [
           91.05867004394531
          ],
          [
           92.9520034790039
          ],
          [
           102.97666931152344
          ],
          [
           99.80400085449219
          ],
          [
           101.12000274658203
          ],
          [
           103.06732940673828
          ],
          [
           100.04266357421875
          ],
          [
           100.05599975585938
          ],
          [
           109.53333282470703
          ],
          [
           104.55733489990234
          ],
          [
           106.15533447265625
          ],
          [
           100.87133026123047
          ],
          [
           94.46666717529297
          ],
          [
           102.63999938964844
          ],
          [
           98.43267059326172
          ],
          [
           99.94066619873047
          ],
          [
           99.16600036621094
          ],
          [
           95.38400268554688
          ],
          [
           99
          ],
          [
           99.13333129882812
          ],
          [
           99.00133514404297
          ],
          [
           99.30533599853516
          ],
          [
           96.84733581542969
          ],
          [
           94.57133483886719
          ],
          [
           91.6259994506836
          ],
          [
           103.65066528320312
          ],
          [
           108.06666564941406
          ],
          [
           110.04733276367188
          ],
          [
           122.3759994506836
          ],
          [
           125.80599975585938
          ],
          [
           125.23533630371094
          ],
          [
           133.45533752441406
          ],
          [
           136.6653289794922
          ],
          [
           134.27999877929688
          ],
          [
           134.8893280029297
          ],
          [
           143.54466247558594
          ],
          [
           149.25
          ],
          [
           147.55999755859375
          ],
          [
           166.10667419433594
          ],
          [
           158.35000610351562
          ],
          [
           149.1233367919922
          ],
          [
           135.6666717529297
          ],
          [
           139.44000244140625
          ],
          [
           110.06999969482422
          ],
          [
           122.09333038330078
          ],
          [
           123.77999877929688
          ],
          [
           124.23999786376953
          ],
          [
           139.8733367919922
          ],
          [
           149.9199981689453
          ],
          [
           147.25332641601562
          ],
          [
           141.14332580566406
          ],
          [
           147.38333129882812
          ],
          [
           149.79666137695312
          ],
          [
           141.41000366210938
          ],
          [
           126.78666687011719
          ],
          [
           129.26333618164062
          ],
          [
           135.77999877929688
          ],
          [
           140.39999389648438
          ],
          [
           139.69000244140625
          ],
          [
           143.00332641601562
          ],
          [
           149.3866729736328
          ],
          [
           138.3633270263672
          ],
          [
           141.89332580566406
          ],
          [
           137.9933319091797
          ],
          [
           141.76666259765625
          ],
          [
           141.97332763671875
          ],
          [
           144.6666717529297
          ],
          [
           147.43333435058594
          ],
          [
           148.88333129882812
          ],
          [
           153.76666259765625
          ],
          [
           149.6266632080078
          ],
          [
           146.55667114257812
          ],
          [
           143.61000061035156
          ],
          [
           140.64666748046875
          ],
          [
           140.8800048828125
          ],
          [
           141.92999267578125
          ],
          [
           140.2100067138672
          ],
          [
           140.0933380126953
          ],
          [
           141.55999755859375
          ],
          [
           135.33999633789062
          ],
          [
           136.94332885742188
          ],
          [
           129.34666442871094
          ],
          [
           133.50332641601562
          ],
          [
           141.3000030517578
          ],
          [
           140.32666015625
          ],
          [
           146.02999877929688
          ],
          [
           143.31666564941406
          ],
          [
           140.4199981689453
          ],
          [
           136.7866668701172
          ],
          [
           139.0433349609375
          ],
          [
           137.25332641601562
          ],
          [
           136.1666717529297
          ],
          [
           136.02999877929688
          ],
          [
           147.20333862304688
          ],
          [
           162.2133331298828
          ],
          [
           166.42333984375
          ],
          [
           163.20333862304688
          ],
          [
           173.9499969482422
          ],
          [
           185.1266632080078
          ],
          [
           191.3333282470703
          ],
          [
           195.25332641601562
          ],
          [
           189.1999969482422
          ],
          [
           194.9199981689453
          ],
          [
           189.60667419433594
          ],
          [
           197.7933349609375
          ],
          [
           199.67999267578125
          ],
          [
           213.9199981689453
          ],
          [
           216.6266632080078
          ],
          [
           201.4933319091797
          ],
          [
           209.02333068847656
          ],
          [
           203.3300018310547
          ],
          [
           213.27667236328125
          ],
          [
           211.0833282470703
          ],
          [
           207.58999633789062
          ],
          [
           218.63333129882812
          ],
          [
           231.6666717529297
          ],
          [
           216.6199951171875
          ],
          [
           213.44667053222656
          ],
          [
           215.32666015625
          ],
          [
           220.58999633789062
          ],
          [
           221.22999572753906
          ],
          [
           221.99667358398438
          ],
          [
           231.5933380126953
          ],
          [
           235.22332763671875
          ],
          [
           243.2566680908203
          ],
          [
           245.0366668701172
          ],
          [
           251.9933319091797
          ],
          [
           272.0133361816406
          ],
          [
           293.3399963378906
          ],
          [
           270.39666748046875
          ],
          [
           283.14666748046875
          ],
          [
           284.8033447265625
          ],
          [
           281.6666564941406
          ],
          [
           275.38665771484375
          ],
          [
           281.51666259765625
          ],
          [
           283.48333740234375
          ],
          [
           281.663330078125
          ],
          [
           282.21331787109375
          ],
          [
           293.6000061035156
          ],
          [
           294.36334228515625
          ],
          [
           288.0533447265625
          ],
          [
           278.4766540527344
          ],
          [
           264.510009765625
          ],
          [
           279.9366760253906
          ],
          [
           290.92999267578125
          ],
          [
           284.89666748046875
          ],
          [
           283.3299865722656
          ],
          [
           284.07666015625
          ],
          [
           287.8066711425781
          ],
          [
           283.1533203125
          ],
          [
           268.2733459472656
          ],
          [
           270.5533447265625
          ],
          [
           272.0400085449219
          ],
          [
           265.40667724609375
          ],
          [
           266.04998779296875
          ],
          [
           262.4599914550781
          ],
          [
           260.4333190917969
          ],
          [
           238.1666717529297
          ],
          [
           232.94667053222656
          ],
          [
           247.33999633789062
          ],
          [
           227.4066619873047
          ],
          [
           225.1666717529297
          ],
          [
           239.47666931152344
          ],
          [
           228.81333923339844
          ],
          [
           217.73333740234375
          ],
          [
           207.14666748046875
          ],
          [
           199.31666564941406
          ],
          [
           187.6666717529297
          ],
          [
           224.52667236328125
          ],
          [
           222.68666076660156
          ],
          [
           233.1999969482422
          ],
          [
           231.2433319091797
          ],
          [
           235.97999572753906
          ],
          [
           225.6266632080078
          ],
          [
           233.93666076660156
          ],
          [
           217.72000122070312
          ],
          [
           218.2899932861328
          ],
          [
           223.3333282470703
          ],
          [
           220.72000122070312
          ],
          [
           210.08999633789062
          ],
          [
           213.4633331298828
          ],
          [
           206.23666381835938
          ],
          [
           203.76333618164062
          ],
          [
           211.8733367919922
          ],
          [
           222.64332580566406
          ],
          [
           220.5833282470703
          ],
          [
           230.35000610351562
          ],
          [
           230.5399932861328
          ],
          [
           223.6566619873047
          ],
          [
           227.93333435058594
          ],
          [
           225.67333984375
          ],
          [
           233.9933319091797
          ],
          [
           254.10667419433594
          ],
          [
           244.07666015625
          ],
          [
           246.28334045410156
          ],
          [
           246.5933380126953
          ],
          [
           238.2100067138672
          ],
          [
           239.663330078125
          ],
          [
           248.0399932861328
          ],
          [
           239.89666748046875
          ],
          [
           243.13333129882812
          ],
          [
           246.06666564941406
          ],
          [
           234.913330078125
          ],
          [
           231.46665954589844
          ],
          [
           225.6666717529297
          ],
          [
           236.47999572753906
          ],
          [
           228.3000030517578
          ],
          [
           224.53334045410156
          ],
          [
           223.64666748046875
          ],
          [
           221.17999267578125
          ],
          [
           224.1233367919922
          ],
          [
           209.67999267578125
          ],
          [
           205.73333740234375
          ],
          [
           196.6300048828125
          ],
          [
           190.56333923339844
          ],
          [
           196.5800018310547
          ],
          [
           192.27667236328125
          ],
          [
           192.6233367919922
          ],
          [
           187.82000732421875
          ],
          [
           195.5933380126953
          ],
          [
           193.6266632080078
          ],
          [
           202.14666748046875
          ],
          [
           201.56333923339844
          ],
          [
           206.3766632080078
          ],
          [
           210.28334045410156
          ],
          [
           208.4066619873047
          ],
          [
           207.96665954589844
          ],
          [
           201.7066650390625
          ],
          [
           190.94667053222656
          ],
          [
           199.68333435058594
          ],
          [
           201.7100067138672
          ],
          [
           201.19667053222656
          ],
          [
           199.5933380126953
          ],
          [
           203.3733367919922
          ],
          [
           203.29666137695312
          ],
          [
           205.89666748046875
          ]
         ],
         "yaxis": "y"
        },
        {
         "name": "Volume",
         "type": "scatter",
         "x": [
          "2020-01-02T00:00:00+00:00",
          "2020-01-03T00:00:00+00:00",
          "2020-01-06T00:00:00+00:00",
          "2020-01-07T00:00:00+00:00",
          "2020-01-08T00:00:00+00:00",
          "2020-01-09T00:00:00+00:00",
          "2020-01-10T00:00:00+00:00",
          "2020-01-13T00:00:00+00:00",
          "2020-01-14T00:00:00+00:00",
          "2020-01-15T00:00:00+00:00",
          "2020-01-16T00:00:00+00:00",
          "2020-01-17T00:00:00+00:00",
          "2020-01-21T00:00:00+00:00",
          "2020-01-22T00:00:00+00:00",
          "2020-01-23T00:00:00+00:00",
          "2020-01-24T00:00:00+00:00",
          "2020-01-27T00:00:00+00:00",
          "2020-01-28T00:00:00+00:00",
          "2020-01-29T00:00:00+00:00",
          "2020-01-30T00:00:00+00:00",
          "2020-01-31T00:00:00+00:00",
          "2020-02-03T00:00:00+00:00",
          "2020-02-04T00:00:00+00:00",
          "2020-02-05T00:00:00+00:00",
          "2020-02-06T00:00:00+00:00",
          "2020-02-07T00:00:00+00:00",
          "2020-02-10T00:00:00+00:00",
          "2020-02-11T00:00:00+00:00",
          "2020-02-12T00:00:00+00:00",
          "2020-02-13T00:00:00+00:00",
          "2020-02-14T00:00:00+00:00",
          "2020-02-18T00:00:00+00:00",
          "2020-02-19T00:00:00+00:00",
          "2020-02-20T00:00:00+00:00",
          "2020-02-21T00:00:00+00:00",
          "2020-02-24T00:00:00+00:00",
          "2020-02-25T00:00:00+00:00",
          "2020-02-26T00:00:00+00:00",
          "2020-02-27T00:00:00+00:00",
          "2020-02-28T00:00:00+00:00",
          "2020-03-02T00:00:00+00:00",
          "2020-03-03T00:00:00+00:00",
          "2020-03-04T00:00:00+00:00",
          "2020-03-05T00:00:00+00:00",
          "2020-03-06T00:00:00+00:00",
          "2020-03-09T00:00:00+00:00",
          "2020-03-10T00:00:00+00:00",
          "2020-03-11T00:00:00+00:00",
          "2020-03-12T00:00:00+00:00",
          "2020-03-13T00:00:00+00:00",
          "2020-03-16T00:00:00+00:00",
          "2020-03-17T00:00:00+00:00",
          "2020-03-18T00:00:00+00:00",
          "2020-03-19T00:00:00+00:00",
          "2020-03-20T00:00:00+00:00",
          "2020-03-23T00:00:00+00:00",
          "2020-03-24T00:00:00+00:00",
          "2020-03-25T00:00:00+00:00",
          "2020-03-26T00:00:00+00:00",
          "2020-03-27T00:00:00+00:00",
          "2020-03-30T00:00:00+00:00",
          "2020-03-31T00:00:00+00:00",
          "2020-04-01T00:00:00+00:00",
          "2020-04-02T00:00:00+00:00",
          "2020-04-03T00:00:00+00:00",
          "2020-04-06T00:00:00+00:00",
          "2020-04-07T00:00:00+00:00",
          "2020-04-08T00:00:00+00:00",
          "2020-04-09T00:00:00+00:00",
          "2020-04-13T00:00:00+00:00",
          "2020-04-14T00:00:00+00:00",
          "2020-04-15T00:00:00+00:00",
          "2020-04-16T00:00:00+00:00",
          "2020-04-17T00:00:00+00:00",
          "2020-04-20T00:00:00+00:00",
          "2020-04-21T00:00:00+00:00",
          "2020-04-22T00:00:00+00:00",
          "2020-04-23T00:00:00+00:00",
          "2020-04-24T00:00:00+00:00",
          "2020-04-27T00:00:00+00:00",
          "2020-04-28T00:00:00+00:00",
          "2020-04-29T00:00:00+00:00",
          "2020-04-30T00:00:00+00:00",
          "2020-05-01T00:00:00+00:00",
          "2020-05-04T00:00:00+00:00",
          "2020-05-05T00:00:00+00:00",
          "2020-05-06T00:00:00+00:00",
          "2020-05-07T00:00:00+00:00",
          "2020-05-08T00:00:00+00:00",
          "2020-05-11T00:00:00+00:00",
          "2020-05-12T00:00:00+00:00",
          "2020-05-13T00:00:00+00:00",
          "2020-05-14T00:00:00+00:00",
          "2020-05-15T00:00:00+00:00",
          "2020-05-18T00:00:00+00:00",
          "2020-05-19T00:00:00+00:00",
          "2020-05-20T00:00:00+00:00",
          "2020-05-21T00:00:00+00:00",
          "2020-05-22T00:00:00+00:00",
          "2020-05-26T00:00:00+00:00",
          "2020-05-27T00:00:00+00:00",
          "2020-05-28T00:00:00+00:00",
          "2020-05-29T00:00:00+00:00",
          "2020-06-01T00:00:00+00:00",
          "2020-06-02T00:00:00+00:00",
          "2020-06-03T00:00:00+00:00",
          "2020-06-04T00:00:00+00:00",
          "2020-06-05T00:00:00+00:00",
          "2020-06-08T00:00:00+00:00",
          "2020-06-09T00:00:00+00:00",
          "2020-06-10T00:00:00+00:00",
          "2020-06-11T00:00:00+00:00",
          "2020-06-12T00:00:00+00:00",
          "2020-06-15T00:00:00+00:00",
          "2020-06-16T00:00:00+00:00",
          "2020-06-17T00:00:00+00:00",
          "2020-06-18T00:00:00+00:00",
          "2020-06-19T00:00:00+00:00",
          "2020-06-22T00:00:00+00:00",
          "2020-06-23T00:00:00+00:00",
          "2020-06-24T00:00:00+00:00",
          "2020-06-25T00:00:00+00:00",
          "2020-06-26T00:00:00+00:00",
          "2020-06-29T00:00:00+00:00",
          "2020-06-30T00:00:00+00:00",
          "2020-07-01T00:00:00+00:00",
          "2020-07-02T00:00:00+00:00",
          "2020-07-06T00:00:00+00:00",
          "2020-07-07T00:00:00+00:00",
          "2020-07-08T00:00:00+00:00",
          "2020-07-09T00:00:00+00:00",
          "2020-07-10T00:00:00+00:00",
          "2020-07-13T00:00:00+00:00",
          "2020-07-14T00:00:00+00:00",
          "2020-07-15T00:00:00+00:00",
          "2020-07-16T00:00:00+00:00",
          "2020-07-17T00:00:00+00:00",
          "2020-07-20T00:00:00+00:00",
          "2020-07-21T00:00:00+00:00",
          "2020-07-22T00:00:00+00:00",
          "2020-07-23T00:00:00+00:00",
          "2020-07-24T00:00:00+00:00",
          "2020-07-27T00:00:00+00:00",
          "2020-07-28T00:00:00+00:00",
          "2020-07-29T00:00:00+00:00",
          "2020-07-30T00:00:00+00:00",
          "2020-07-31T00:00:00+00:00",
          "2020-08-03T00:00:00+00:00",
          "2020-08-04T00:00:00+00:00",
          "2020-08-05T00:00:00+00:00",
          "2020-08-06T00:00:00+00:00",
          "2020-08-07T00:00:00+00:00",
          "2020-08-10T00:00:00+00:00",
          "2020-08-11T00:00:00+00:00",
          "2020-08-12T00:00:00+00:00",
          "2020-08-13T00:00:00+00:00",
          "2020-08-14T00:00:00+00:00",
          "2020-08-17T00:00:00+00:00",
          "2020-08-18T00:00:00+00:00",
          "2020-08-19T00:00:00+00:00",
          "2020-08-20T00:00:00+00:00",
          "2020-08-21T00:00:00+00:00",
          "2020-08-24T00:00:00+00:00",
          "2020-08-25T00:00:00+00:00",
          "2020-08-26T00:00:00+00:00",
          "2020-08-27T00:00:00+00:00",
          "2020-08-28T00:00:00+00:00",
          "2020-08-31T00:00:00+00:00",
          "2020-09-01T00:00:00+00:00",
          "2020-09-02T00:00:00+00:00",
          "2020-09-03T00:00:00+00:00",
          "2020-09-04T00:00:00+00:00",
          "2020-09-08T00:00:00+00:00",
          "2020-09-09T00:00:00+00:00",
          "2020-09-10T00:00:00+00:00",
          "2020-09-11T00:00:00+00:00",
          "2020-09-14T00:00:00+00:00",
          "2020-09-15T00:00:00+00:00",
          "2020-09-16T00:00:00+00:00",
          "2020-09-17T00:00:00+00:00",
          "2020-09-18T00:00:00+00:00",
          "2020-09-21T00:00:00+00:00",
          "2020-09-22T00:00:00+00:00",
          "2020-09-23T00:00:00+00:00",
          "2020-09-24T00:00:00+00:00",
          "2020-09-25T00:00:00+00:00",
          "2020-09-28T00:00:00+00:00",
          "2020-09-29T00:00:00+00:00",
          "2020-09-30T00:00:00+00:00",
          "2020-10-01T00:00:00+00:00",
          "2020-10-02T00:00:00+00:00",
          "2020-10-05T00:00:00+00:00",
          "2020-10-06T00:00:00+00:00",
          "2020-10-07T00:00:00+00:00",
          "2020-10-08T00:00:00+00:00",
          "2020-10-09T00:00:00+00:00",
          "2020-10-12T00:00:00+00:00",
          "2020-10-13T00:00:00+00:00",
          "2020-10-14T00:00:00+00:00",
          "2020-10-15T00:00:00+00:00",
          "2020-10-16T00:00:00+00:00",
          "2020-10-19T00:00:00+00:00",
          "2020-10-20T00:00:00+00:00",
          "2020-10-21T00:00:00+00:00",
          "2020-10-22T00:00:00+00:00",
          "2020-10-23T00:00:00+00:00",
          "2020-10-26T00:00:00+00:00",
          "2020-10-27T00:00:00+00:00",
          "2020-10-28T00:00:00+00:00",
          "2020-10-29T00:00:00+00:00",
          "2020-10-30T00:00:00+00:00",
          "2020-11-02T00:00:00+00:00",
          "2020-11-03T00:00:00+00:00",
          "2020-11-04T00:00:00+00:00",
          "2020-11-05T00:00:00+00:00",
          "2020-11-06T00:00:00+00:00",
          "2020-11-09T00:00:00+00:00",
          "2020-11-10T00:00:00+00:00",
          "2020-11-11T00:00:00+00:00",
          "2020-11-12T00:00:00+00:00",
          "2020-11-13T00:00:00+00:00",
          "2020-11-16T00:00:00+00:00",
          "2020-11-17T00:00:00+00:00",
          "2020-11-18T00:00:00+00:00",
          "2020-11-19T00:00:00+00:00",
          "2020-11-20T00:00:00+00:00",
          "2020-11-23T00:00:00+00:00",
          "2020-11-24T00:00:00+00:00",
          "2020-11-25T00:00:00+00:00",
          "2020-11-27T00:00:00+00:00",
          "2020-11-30T00:00:00+00:00",
          "2020-12-01T00:00:00+00:00",
          "2020-12-02T00:00:00+00:00",
          "2020-12-03T00:00:00+00:00",
          "2020-12-04T00:00:00+00:00",
          "2020-12-07T00:00:00+00:00",
          "2020-12-08T00:00:00+00:00",
          "2020-12-09T00:00:00+00:00",
          "2020-12-10T00:00:00+00:00",
          "2020-12-11T00:00:00+00:00",
          "2020-12-14T00:00:00+00:00",
          "2020-12-15T00:00:00+00:00",
          "2020-12-16T00:00:00+00:00",
          "2020-12-17T00:00:00+00:00",
          "2020-12-18T00:00:00+00:00",
          "2020-12-21T00:00:00+00:00",
          "2020-12-22T00:00:00+00:00",
          "2020-12-23T00:00:00+00:00",
          "2020-12-24T00:00:00+00:00",
          "2020-12-28T00:00:00+00:00",
          "2020-12-29T00:00:00+00:00",
          "2020-12-30T00:00:00+00:00",
          "2020-12-31T00:00:00+00:00",
          "2021-01-04T00:00:00+00:00",
          "2021-01-05T00:00:00+00:00",
          "2021-01-06T00:00:00+00:00",
          "2021-01-07T00:00:00+00:00",
          "2021-01-08T00:00:00+00:00",
          "2021-01-11T00:00:00+00:00",
          "2021-01-12T00:00:00+00:00",
          "2021-01-13T00:00:00+00:00",
          "2021-01-14T00:00:00+00:00",
          "2021-01-15T00:00:00+00:00",
          "2021-01-19T00:00:00+00:00",
          "2021-01-20T00:00:00+00:00",
          "2021-01-21T00:00:00+00:00",
          "2021-01-22T00:00:00+00:00",
          "2021-01-25T00:00:00+00:00",
          "2021-01-26T00:00:00+00:00",
          "2021-01-27T00:00:00+00:00",
          "2021-01-28T00:00:00+00:00",
          "2021-01-29T00:00:00+00:00",
          "2021-02-01T00:00:00+00:00",
          "2021-02-02T00:00:00+00:00",
          "2021-02-03T00:00:00+00:00",
          "2021-02-04T00:00:00+00:00",
          "2021-02-05T00:00:00+00:00",
          "2021-02-08T00:00:00+00:00",
          "2021-02-09T00:00:00+00:00",
          "2021-02-10T00:00:00+00:00",
          "2021-02-11T00:00:00+00:00",
          "2021-02-12T00:00:00+00:00",
          "2021-02-16T00:00:00+00:00",
          "2021-02-17T00:00:00+00:00",
          "2021-02-18T00:00:00+00:00",
          "2021-02-19T00:00:00+00:00",
          "2021-02-22T00:00:00+00:00",
          "2021-02-23T00:00:00+00:00",
          "2021-02-24T00:00:00+00:00",
          "2021-02-25T00:00:00+00:00",
          "2021-02-26T00:00:00+00:00",
          "2021-03-01T00:00:00+00:00",
          "2021-03-02T00:00:00+00:00",
          "2021-03-03T00:00:00+00:00",
          "2021-03-04T00:00:00+00:00",
          "2021-03-05T00:00:00+00:00",
          "2021-03-08T00:00:00+00:00",
          "2021-03-09T00:00:00+00:00",
          "2021-03-10T00:00:00+00:00",
          "2021-03-11T00:00:00+00:00",
          "2021-03-12T00:00:00+00:00",
          "2021-03-15T00:00:00+00:00",
          "2021-03-16T00:00:00+00:00",
          "2021-03-17T00:00:00+00:00",
          "2021-03-18T00:00:00+00:00",
          "2021-03-19T00:00:00+00:00",
          "2021-03-22T00:00:00+00:00",
          "2021-03-23T00:00:00+00:00",
          "2021-03-24T00:00:00+00:00",
          "2021-03-25T00:00:00+00:00",
          "2021-03-26T00:00:00+00:00",
          "2021-03-29T00:00:00+00:00",
          "2021-03-30T00:00:00+00:00",
          "2021-03-31T00:00:00+00:00",
          "2021-04-01T00:00:00+00:00",
          "2021-04-05T00:00:00+00:00",
          "2021-04-06T00:00:00+00:00",
          "2021-04-07T00:00:00+00:00",
          "2021-04-08T00:00:00+00:00",
          "2021-04-09T00:00:00+00:00",
          "2021-04-12T00:00:00+00:00",
          "2021-04-13T00:00:00+00:00",
          "2021-04-14T00:00:00+00:00",
          "2021-04-15T00:00:00+00:00",
          "2021-04-16T00:00:00+00:00",
          "2021-04-19T00:00:00+00:00",
          "2021-04-20T00:00:00+00:00",
          "2021-04-21T00:00:00+00:00",
          "2021-04-22T00:00:00+00:00",
          "2021-04-23T00:00:00+00:00",
          "2021-04-26T00:00:00+00:00",
          "2021-04-27T00:00:00+00:00",
          "2021-04-28T00:00:00+00:00",
          "2021-04-29T00:00:00+00:00",
          "2021-04-30T00:00:00+00:00"
         ],
         "xaxis": "x2",
         "y": [
          [
           142981500
          ],
          [
           266677500
          ],
          [
           151995000
          ],
          [
           268231500
          ],
          [
           467164500
          ],
          [
           426606000
          ],
          [
           194392500
          ],
          [
           397764000
          ],
          [
           434943000
          ],
          [
           260532000
          ],
          [
           326050500
          ],
          [
           204436500
          ],
          [
           267052500
          ],
          [
           470535000
          ],
          [
           294765000
          ],
          [
           215304000
          ],
          [
           204121500
          ],
          [
           176827500
          ],
          [
           267022500
          ],
          [
           435085500
          ],
          [
           235789500
          ],
          [
           705975000
          ],
          [
           914082000
          ],
          [
           726357000
          ],
          [
           598212000
          ],
          [
           255952500
          ],
          [
           370338000
          ],
          [
           175462500
          ],
          [
           180337500
          ],
          [
           394339500
          ],
          [
           235405500
          ],
          [
           245725500
          ],
          [
           381345000
          ],
          [
           264523500
          ],
          [
           214722000
          ],
          [
           227883000
          ],
          [
           259357500
          ],
          [
           211282500
          ],
          [
           364158000
          ],
          [
           363343500
          ],
          [
           302925000
          ],
          [
           386760000
          ],
          [
           225735000
          ],
          [
           162790500
          ],
          [
           189943500
          ],
          [
           256105500
          ],
          [
           233916000
          ],
          [
           199837500
          ],
          [
           283636500
          ],
          [
           339604500
          ],
          [
           307342500
          ],
          [
           359919000
          ],
          [
           356793000
          ],
          [
           452932500
          ],
          [
           424282500
          ],
          [
           246817500
          ],
          [
           343428000
          ],
          [
           318340500
          ],
          [
           260710500
          ],
          [
           215661000
          ],
          [
           179971500
          ],
          [
           266572500
          ],
          [
           200298000
          ],
          [
           297876000
          ],
          [
           338431500
          ],
          [
           223527000
          ],
          [
           268797000
          ],
          [
           189840000
          ],
          [
           204750000
          ],
          [
           337131000
          ],
          [
           458647500
          ],
          [
           353655000
          ],
          [
           309868500
          ],
          [
           196923000
          ],
          [
           221199000
          ],
          [
           303136500
          ],
          [
           212482500
          ],
          [
           198550500
          ],
          [
           198180000
          ],
          [
           310221000
          ],
          [
           228330000
          ],
          [
           243240000
          ],
          [
           427078500
          ],
          [
           487977000
          ],
          [
           288556500
          ],
          [
           254875500
          ],
          [
           166848000
          ],
          [
           172915500
          ],
          [
           241297500
          ],
          [
           247794000
          ],
          [
           238603500
          ],
          [
           285982500
          ],
          [
           205233000
          ],
          [
           157776000
          ],
          [
           174987000
          ],
          [
           144547500
          ],
          [
           109639500
          ],
          [
           183819000
          ],
          [
           149812500
          ],
          [
           121345500
          ],
          [
           173242500
          ],
          [
           108834000
          ],
          [
           176467500
          ],
          [
           224092500
          ],
          [
           203484000
          ],
          [
           119242500
          ],
          [
           133315500
          ],
          [
           117178500
          ],
          [
           212620500
          ],
          [
           170823000
          ],
          [
           278451000
          ],
          [
           238747500
          ],
          [
           251451000
          ],
          [
           235458000
          ],
          [
           210766500
          ],
          [
           148362000
          ],
          [
           146278500
          ],
          [
           130195500
          ],
          [
           95436000
          ],
          [
           95479500
          ],
          [
           164394000
          ],
          [
           138817500
          ],
          [
           132823500
          ],
          [
           135396000
          ],
          [
           253777500
          ],
          [
           199903500
          ],
          [
           258751500
          ],
          [
           308548500
          ],
          [
           322345500
          ],
          [
           244669500
          ],
          [
           175764000
          ],
          [
           350064000
          ],
          [
           584781000
          ],
          [
           351271500
          ],
          [
           245517000
          ],
          [
           214512000
          ],
          [
           139950000
          ],
          [
           256821000
          ],
          [
           241608000
          ],
          [
           212416500
          ],
          [
           364927500
          ],
          [
           290949000
          ],
          [
           240730500
          ],
          [
           237130500
          ],
          [
           141403500
          ],
          [
           114315000
          ],
          [
           183123000
          ],
          [
           132139500
          ],
          [
           126225000
          ],
          [
           74217000
          ],
          [
           89884500
          ],
          [
           133446000
          ],
          [
           112834500
          ],
          [
           129387000
          ],
          [
           327441000
          ],
          [
           306379500
          ],
          [
           188664000
          ],
          [
           303634500
          ],
          [
           247117500
          ],
          [
           183079500
          ],
          [
           309177000
          ],
          [
           322344000
          ],
          [
           300954000
          ],
          [
           159883500
          ],
          [
           213591000
          ],
          [
           355395000
          ],
          [
           301218000
          ],
          [
           355123200
          ],
          [
           269523300
          ],
          [
           288528300
          ],
          [
           262788300
          ],
          [
           330965700
          ],
          [
           346397100
          ],
          [
           238397400
          ],
          [
           254791800
          ],
          [
           182152500
          ],
          [
           249061800
          ],
          [
           291894600
          ],
          [
           216837900
          ],
          [
           230337600
          ],
          [
           259220400
          ],
          [
           328430400
          ],
          [
           238742400
          ],
          [
           285222600
          ],
          [
           289683300
          ],
          [
           201625500
          ],
          [
           149158800
          ],
          [
           150657900
          ],
          [
           144436800
          ],
          [
           152224500
          ],
          [
           214290000
          ],
          [
           134168400
          ],
          [
           147438900
          ],
          [
           129383100
          ],
          [
           121263300
          ],
          [
           86777100
          ],
          [
           116373300
          ],
          [
           103391100
          ],
          [
           143639100
          ],
          [
           107017200
          ],
          [
           98327700
          ],
          [
           108863400
          ],
          [
           94968900
          ],
          [
           97111500
          ],
          [
           119979600
          ],
          [
           101151000
          ],
          [
           84717600
          ],
          [
           68059500
          ],
          [
           76354200
          ],
          [
           67965900
          ],
          [
           127533900
          ],
          [
           87063300
          ],
          [
           103055100
          ],
          [
           96429300
          ],
          [
           85243500
          ],
          [
           65118000
          ],
          [
           104499000
          ],
          [
           90852600
          ],
          [
           52073100
          ],
          [
           59565300
          ],
          [
           59313300
          ],
          [
           80515800
          ],
          [
           183564900
          ],
          [
           234132000
          ],
          [
           187425900
          ],
          [
           98735700
          ],
          [
           150780900
          ],
          [
           160945500
          ],
          [
           146790600
          ],
          [
           112683300
          ],
          [
           189009300
          ],
          [
           120310500
          ],
          [
           143327100
          ],
          [
           127656000
          ],
          [
           88203900
          ],
          [
           168929100
          ],
          [
           192795000
          ],
          [
           213873600
          ],
          [
           201249600
          ],
          [
           139425000
          ],
          [
           156121800
          ],
          [
           135214500
          ],
          [
           126287400
          ],
          [
           168810300
          ],
          [
           666378600
          ],
          [
           174135900
          ],
          [
           155148000
          ],
          [
           99519000
          ],
          [
           68596800
          ],
          [
           96835800
          ],
          [
           68732400
          ],
          [
           128538000
          ],
          [
           148949700
          ],
          [
           145914600
          ],
          [
           96735600
          ],
          [
           134100000
          ],
          [
           154496700
          ],
          [
           225166500
          ],
          [
           177904800
          ],
          [
           138812100
          ],
          [
           99937500
          ],
          [
           93798900
          ],
          [
           116332800
          ],
          [
           76101000
          ],
          [
           76997700
          ],
          [
           61563300
          ],
          [
           60199500
          ],
          [
           123520200
          ],
          [
           69394800
          ],
          [
           82002000
          ],
          [
           79134000
          ],
          [
           104972400
          ],
          [
           76174200
          ],
          [
           73038600
          ],
          [
           55030500
          ],
          [
           47438100
          ],
          [
           55699800
          ],
          [
           60485100
          ],
          [
           45473100
          ],
          [
           108648300
          ],
          [
           64868400
          ],
          [
           71304900
          ],
          [
           59406900
          ],
          [
           77989500
          ],
          [
           53871300
          ],
          [
           56874900
          ],
          [
           111809100
          ],
          [
           199820700
          ],
          [
           110301000
          ],
          [
           117071700
          ],
          [
           123267600
          ],
          [
           81408600
          ],
          [
           71196600
          ],
          [
           90624000
          ],
          [
           197758500
          ],
          [
           268189500
          ],
          [
           155361000
          ],
          [
           202569900
          ],
          [
           181817100
          ],
          [
           108761700
          ],
          [
           100751400
          ],
          [
           88006800
          ],
          [
           96587100
          ],
          [
           121117500
          ],
          [
           99674400
          ],
          [
           128682000
          ],
          [
           118536600
          ],
          [
           91475700
          ],
          [
           101385600
          ],
          [
           117674700
          ],
          [
           101558400
          ],
          [
           85911000
          ],
          [
           118297200
          ],
          [
           100011900
          ],
          [
           105895200
          ],
          [
           125528400
          ],
          [
           84815400
          ],
          [
           78928200
          ],
          [
           71772900
          ],
          [
           64311300
          ],
          [
           87407100
          ],
          [
           133958400
          ],
          [
           147052200
          ],
          [
           83546700
          ],
          [
           83938500
          ],
          [
           119058600
          ],
          [
           106827000
          ],
          [
           93646500
          ],
          [
           106770900
          ],
          [
           85110000
          ],
          [
           93115500
          ],
          [
           88311000
          ],
          [
           66813000
          ],
          [
           86536200
          ],
          [
           122276100
          ]
         ],
         "yaxis": "y2"
        }
       ],
       "layout": {
        "annotations": [
         {
          "font": {
           "size": 16
          },
          "showarrow": false,
          "text": "Historical Share Price",
          "x": 0.5,
          "xanchor": "center",
          "xref": "paper",
          "y": 0.9999999999999999,
          "yanchor": "bottom",
          "yref": "paper"
         },
         {
          "font": {
           "size": 16
          },
          "showarrow": false,
          "text": "Historical Revenue",
          "x": 0.5,
          "xanchor": "center",
          "xref": "paper",
          "y": 0.35,
          "yanchor": "bottom",
          "yref": "paper"
         }
        ],
        "height": 900,
        "showlegend": false,
        "template": {
         "data": {
          "bar": [
           {
            "error_x": {
             "color": "#2a3f5f"
            },
            "error_y": {
             "color": "#2a3f5f"
            },
            "marker": {
             "line": {
              "color": "#E5ECF6",
              "width": 0.5
             },
             "pattern": {
              "fillmode": "overlay",
              "size": 10,
              "solidity": 0.2
             }
            },
            "type": "bar"
           }
          ],
          "barpolar": [
           {
            "marker": {
             "line": {
              "color": "#E5ECF6",
              "width": 0.5
             },
             "pattern": {
              "fillmode": "overlay",
              "size": 10,
              "solidity": 0.2
             }
            },
            "type": "barpolar"
           }
          ],
          "carpet": [
           {
            "aaxis": {
             "endlinecolor": "#2a3f5f",
             "gridcolor": "white",
             "linecolor": "white",
             "minorgridcolor": "white",
             "startlinecolor": "#2a3f5f"
            },
            "baxis": {
             "endlinecolor": "#2a3f5f",
             "gridcolor": "white",
             "linecolor": "white",
             "minorgridcolor": "white",
             "startlinecolor": "#2a3f5f"
            },
            "type": "carpet"
           }
          ],
          "choropleth": [
           {
            "colorbar": {
             "outlinewidth": 0,
             "ticks": ""
            },
            "type": "choropleth"
           }
          ],
          "contour": [
           {
            "colorbar": {
             "outlinewidth": 0,
             "ticks": ""
            },
            "colorscale": [
             [
              0,
              "#0d0887"
             ],
             [
              0.1111111111111111,
              "#46039f"
             ],
             [
              0.2222222222222222,
              "#7201a8"
             ],
             [
              0.3333333333333333,
              "#9c179e"
             ],
             [
              0.4444444444444444,
              "#bd3786"
             ],
             [
              0.5555555555555556,
              "#d8576b"
             ],
             [
              0.6666666666666666,
              "#ed7953"
             ],
             [
              0.7777777777777778,
              "#fb9f3a"
             ],
             [
              0.8888888888888888,
              "#fdca26"
             ],
             [
              1,
              "#f0f921"
             ]
            ],
            "type": "contour"
           }
          ],
          "contourcarpet": [
           {
            "colorbar": {
             "outlinewidth": 0,
             "ticks": ""
            },
            "type": "contourcarpet"
           }
          ],
          "heatmap": [
           {
            "colorbar": {
             "outlinewidth": 0,
             "ticks": ""
            },
            "colorscale": [
             [
              0,
              "#0d0887"
             ],
             [
              0.1111111111111111,
              "#46039f"
             ],
             [
              0.2222222222222222,
              "#7201a8"
             ],
             [
              0.3333333333333333,
              "#9c179e"
             ],
             [
              0.4444444444444444,
              "#bd3786"
             ],
             [
              0.5555555555555556,
              "#d8576b"
             ],
             [
              0.6666666666666666,
              "#ed7953"
             ],
             [
              0.7777777777777778,
              "#fb9f3a"
             ],
             [
              0.8888888888888888,
              "#fdca26"
             ],
             [
              1,
              "#f0f921"
             ]
            ],
            "type": "heatmap"
           }
          ],
          "heatmapgl": [
           {
            "colorbar": {
             "outlinewidth": 0,
             "ticks": ""
            },
            "colorscale": [
             [
              0,
              "#0d0887"
             ],
             [
              0.1111111111111111,
              "#46039f"
             ],
             [
              0.2222222222222222,
              "#7201a8"
             ],
             [
              0.3333333333333333,
              "#9c179e"
             ],
             [
              0.4444444444444444,
              "#bd3786"
             ],
             [
              0.5555555555555556,
              "#d8576b"
             ],
             [
              0.6666666666666666,
              "#ed7953"
             ],
             [
              0.7777777777777778,
              "#fb9f3a"
             ],
             [
              0.8888888888888888,
              "#fdca26"
             ],
             [
              1,
              "#f0f921"
             ]
            ],
            "type": "heatmapgl"
           }
          ],
          "histogram": [
           {
            "marker": {
             "pattern": {
              "fillmode": "overlay",
              "size": 10,
              "solidity": 0.2
             }
            },
            "type": "histogram"
           }
          ],
          "histogram2d": [
           {
            "colorbar": {
             "outlinewidth": 0,
             "ticks": ""
            },
            "colorscale": [
             [
              0,
              "#0d0887"
             ],
             [
              0.1111111111111111,
              "#46039f"
             ],
             [
              0.2222222222222222,
              "#7201a8"
             ],
             [
              0.3333333333333333,
              "#9c179e"
             ],
             [
              0.4444444444444444,
              "#bd3786"
             ],
             [
              0.5555555555555556,
              "#d8576b"
             ],
             [
              0.6666666666666666,
              "#ed7953"
             ],
             [
              0.7777777777777778,
              "#fb9f3a"
             ],
             [
              0.8888888888888888,
              "#fdca26"
             ],
             [
              1,
              "#f0f921"
             ]
            ],
            "type": "histogram2d"
           }
          ],
          "histogram2dcontour": [
           {
            "colorbar": {
             "outlinewidth": 0,
             "ticks": ""
            },
            "colorscale": [
             [
              0,
              "#0d0887"
             ],
             [
              0.1111111111111111,
              "#46039f"
             ],
             [
              0.2222222222222222,
              "#7201a8"
             ],
             [
              0.3333333333333333,
              "#9c179e"
             ],
             [
              0.4444444444444444,
              "#bd3786"
             ],
             [
              0.5555555555555556,
              "#d8576b"
             ],
             [
              0.6666666666666666,
              "#ed7953"
             ],
             [
              0.7777777777777778,
              "#fb9f3a"
             ],
             [
              0.8888888888888888,
              "#fdca26"
             ],
             [
              1,
              "#f0f921"
             ]
            ],
            "type": "histogram2dcontour"
           }
          ],
          "mesh3d": [
           {
            "colorbar": {
             "outlinewidth": 0,
             "ticks": ""
            },
            "type": "mesh3d"
           }
          ],
          "parcoords": [
           {
            "line": {
             "colorbar": {
              "outlinewidth": 0,
              "ticks": ""
             }
            },
            "type": "parcoords"
           }
          ],
          "pie": [
           {
            "automargin": true,
            "type": "pie"
           }
          ],
          "scatter": [
           {
            "fillpattern": {
             "fillmode": "overlay",
             "size": 10,
             "solidity": 0.2
            },
            "type": "scatter"
           }
          ],
          "scatter3d": [
           {
            "line": {
             "colorbar": {
              "outlinewidth": 0,
              "ticks": ""
             }
            },
            "marker": {
             "colorbar": {
              "outlinewidth": 0,
              "ticks": ""
             }
            },
            "type": "scatter3d"
           }
          ],
          "scattercarpet": [
           {
            "marker": {
             "colorbar": {
              "outlinewidth": 0,
              "ticks": ""
             }
            },
            "type": "scattercarpet"
           }
          ],
          "scattergeo": [
           {
            "marker": {
             "colorbar": {
              "outlinewidth": 0,
              "ticks": ""
             }
            },
            "type": "scattergeo"
           }
          ],
          "scattergl": [
           {
            "marker": {
             "colorbar": {
              "outlinewidth": 0,
              "ticks": ""
             }
            },
            "type": "scattergl"
           }
          ],
          "scattermapbox": [
           {
            "marker": {
             "colorbar": {
              "outlinewidth": 0,
              "ticks": ""
             }
            },
            "type": "scattermapbox"
           }
          ],
          "scatterpolar": [
           {
            "marker": {
             "colorbar": {
              "outlinewidth": 0,
              "ticks": ""
             }
            },
            "type": "scatterpolar"
           }
          ],
          "scatterpolargl": [
           {
            "marker": {
             "colorbar": {
              "outlinewidth": 0,
              "ticks": ""
             }
            },
            "type": "scatterpolargl"
           }
          ],
          "scatterternary": [
           {
            "marker": {
             "colorbar": {
              "outlinewidth": 0,
              "ticks": ""
             }
            },
            "type": "scatterternary"
           }
          ],
          "surface": [
           {
            "colorbar": {
             "outlinewidth": 0,
             "ticks": ""
            },
            "colorscale": [
             [
              0,
              "#0d0887"
             ],
             [
              0.1111111111111111,
              "#46039f"
             ],
             [
              0.2222222222222222,
              "#7201a8"
             ],
             [
              0.3333333333333333,
              "#9c179e"
             ],
             [
              0.4444444444444444,
              "#bd3786"
             ],
             [
              0.5555555555555556,
              "#d8576b"
             ],
             [
              0.6666666666666666,
              "#ed7953"
             ],
             [
              0.7777777777777778,
              "#fb9f3a"
             ],
             [
              0.8888888888888888,
              "#fdca26"
             ],
             [
              1,
              "#f0f921"
             ]
            ],
            "type": "surface"
           }
          ],
          "table": [
           {
            "cells": {
             "fill": {
              "color": "#EBF0F8"
             },
             "line": {
              "color": "white"
             }
            },
            "header": {
             "fill": {
              "color": "#C8D4E3"
             },
             "line": {
              "color": "white"
             }
            },
            "type": "table"
           }
          ]
         },
         "layout": {
          "annotationdefaults": {
           "arrowcolor": "#2a3f5f",
           "arrowhead": 0,
           "arrowwidth": 1
          },
          "autotypenumbers": "strict",
          "coloraxis": {
           "colorbar": {
            "outlinewidth": 0,
            "ticks": ""
           }
          },
          "colorscale": {
           "diverging": [
            [
             0,
             "#8e0152"
            ],
            [
             0.1,
             "#c51b7d"
            ],
            [
             0.2,
             "#de77ae"
            ],
            [
             0.3,
             "#f1b6da"
            ],
            [
             0.4,
             "#fde0ef"
            ],
            [
             0.5,
             "#f7f7f7"
            ],
            [
             0.6,
             "#e6f5d0"
            ],
            [
             0.7,
             "#b8e186"
            ],
            [
             0.8,
             "#7fbc41"
            ],
            [
             0.9,
             "#4d9221"
            ],
            [
             1,
             "#276419"
            ]
           ],
           "sequential": [
            [
             0,
             "#0d0887"
            ],
            [
             0.1111111111111111,
             "#46039f"
            ],
            [
             0.2222222222222222,
             "#7201a8"
            ],
            [
             0.3333333333333333,
             "#9c179e"
            ],
            [
             0.4444444444444444,
             "#bd3786"
            ],
            [
             0.5555555555555556,
             "#d8576b"
            ],
            [
             0.6666666666666666,
             "#ed7953"
            ],
            [
             0.7777777777777778,
             "#fb9f3a"
            ],
            [
             0.8888888888888888,
             "#fdca26"
            ],
            [
             1,
             "#f0f921"
            ]
           ],
           "sequentialminus": [
            [
             0,
             "#0d0887"
            ],
            [
             0.1111111111111111,
             "#46039f"
            ],
            [
             0.2222222222222222,
             "#7201a8"
            ],
            [
             0.3333333333333333,
             "#9c179e"
            ],
            [
             0.4444444444444444,
             "#bd3786"
            ],
            [
             0.5555555555555556,
             "#d8576b"
            ],
            [
             0.6666666666666666,
             "#ed7953"
            ],
            [
             0.7777777777777778,
             "#fb9f3a"
            ],
            [
             0.8888888888888888,
             "#fdca26"
            ],
            [
             1,
             "#f0f921"
            ]
           ]
          },
          "colorway": [
           "#636efa",
           "#EF553B",
           "#00cc96",
           "#ab63fa",
           "#FFA15A",
           "#19d3f3",
           "#FF6692",
           "#B6E880",
           "#FF97FF",
           "#FECB52"
          ],
          "font": {
           "color": "#2a3f5f"
          },
          "geo": {
           "bgcolor": "white",
           "lakecolor": "white",
           "landcolor": "#E5ECF6",
           "showlakes": true,
           "showland": true,
           "subunitcolor": "white"
          },
          "hoverlabel": {
           "align": "left"
          },
          "hovermode": "closest",
          "mapbox": {
           "style": "light"
          },
          "paper_bgcolor": "white",
          "plot_bgcolor": "#E5ECF6",
          "polar": {
           "angularaxis": {
            "gridcolor": "white",
            "linecolor": "white",
            "ticks": ""
           },
           "bgcolor": "#E5ECF6",
           "radialaxis": {
            "gridcolor": "white",
            "linecolor": "white",
            "ticks": ""
           }
          },
          "scene": {
           "xaxis": {
            "backgroundcolor": "#E5ECF6",
            "gridcolor": "white",
            "gridwidth": 2,
            "linecolor": "white",
            "showbackground": true,
            "ticks": "",
            "zerolinecolor": "white"
           },
           "yaxis": {
            "backgroundcolor": "#E5ECF6",
            "gridcolor": "white",
            "gridwidth": 2,
            "linecolor": "white",
            "showbackground": true,
            "ticks": "",
            "zerolinecolor": "white"
           },
           "zaxis": {
            "backgroundcolor": "#E5ECF6",
            "gridcolor": "white",
            "gridwidth": 2,
            "linecolor": "white",
            "showbackground": true,
            "ticks": "",
            "zerolinecolor": "white"
           }
          },
          "shapedefaults": {
           "line": {
            "color": "#2a3f5f"
           }
          },
          "ternary": {
           "aaxis": {
            "gridcolor": "white",
            "linecolor": "white",
            "ticks": ""
           },
           "baxis": {
            "gridcolor": "white",
            "linecolor": "white",
            "ticks": ""
           },
           "bgcolor": "#E5ECF6",
           "caxis": {
            "gridcolor": "white",
            "linecolor": "white",
            "ticks": ""
           }
          },
          "title": {
           "x": 0.05
          },
          "xaxis": {
           "automargin": true,
           "gridcolor": "white",
           "linecolor": "white",
           "ticks": "",
           "title": {
            "standoff": 15
           },
           "zerolinecolor": "white",
           "zerolinewidth": 2
          },
          "yaxis": {
           "automargin": true,
           "gridcolor": "white",
           "linecolor": "white",
           "ticks": "",
           "title": {
            "standoff": 15
           },
           "zerolinecolor": "white",
           "zerolinewidth": 2
          }
         }
        },
        "title": {
         "text": "Tesla"
        },
        "xaxis": {
         "anchor": "y",
         "domain": [
          0,
          1
         ],
         "matches": "x2",
         "rangeslider": {
          "visible": true
         },
         "showticklabels": false,
         "title": {
          "text": "Date"
         }
        },
        "xaxis2": {
         "anchor": "y2",
         "domain": [
          0,
          1
         ],
         "title": {
          "text": "Date"
         }
        },
        "yaxis": {
         "anchor": "x",
         "domain": [
          0.6499999999999999,
          0.9999999999999999
         ],
         "title": {
          "text": "Price ($US)"
         }
        },
        "yaxis2": {
         "anchor": "x2",
         "domain": [
          0,
          0.35
         ],
         "title": {
          "text": "Volume"
         }
        }
       }
      }
     },
     "metadata": {},
     "output_type": "display_data"
    }
   ],
   "source": [
    "# Fetch stock data\n",
    "stock_data = yf.download(\"TSLA\", start=\"2020-01-01\", end=\"2021-09-30\", progress=False)\n",
    "stock_data.reset_index(inplace=True)\n",
    "\n",
    "# Assuming revenue_data is fetched from another source or provided manually\n",
    "# For now, using the same stock_data as placeholder\n",
    "revenue_data = stock_data.copy()\n",
    "revenue_data.reset_index(inplace=True)\n",
    "\n",
    "# Ensure the Date column is in datetime format\n",
    "stock_data['Date'] = pd.to_datetime(stock_data['Date'])\n",
    "revenue_data['Date'] = pd.to_datetime(revenue_data['Date'])\n",
    "\n",
    "# Define the function\n",
    "def make_graph(stock_data, revenue_data, stock):\n",
    "    fig = make_subplots(\n",
    "        rows=2, cols=1, \n",
    "        shared_xaxes=True, \n",
    "        subplot_titles=(\"Historical Share Price\", \"Historical Revenue\"), \n",
    "        vertical_spacing=0.3\n",
    "    )\n",
    "    \n",
    "    # Filter data up to specific dates\n",
    "    stock_data_specific = stock_data[stock_data['Date'] <= '2021-06-14']\n",
    "    revenue_data_specific = revenue_data[revenue_data['Date'] <= '2021-04-30']\n",
    "    \n",
    "    # Plot stock price\n",
    "    fig.add_trace(go.Scatter(\n",
    "        x=stock_data_specific['Date'],\n",
    "        y=stock_data_specific['Close'].astype(float), \n",
    "        name=\"Share Price\"\n",
    "    ), row=1, col=1)\n",
    "    \n",
    "    # Plot revenue (placeholder here with Volume)\n",
    "    fig.add_trace(go.Scatter(\n",
    "        x=revenue_data_specific['Date'], \n",
    "        y=revenue_data_specific['Volume'].astype(float),\n",
    "        name=\"Volume\"\n",
    "    ), row=2, col=1)\n",
    "    \n",
    "    # Add axis titles\n",
    "    fig.update_xaxes(title_text=\"Date\", row=1, col=1)\n",
    "    fig.update_xaxes(title_text=\"Date\", row=2, col=1)\n",
    "    fig.update_yaxes(title_text=\"Price ($US)\", row=1, col=1)\n",
    "    fig.update_yaxes(title_text=\"Volume\", row=2, col=1)\n",
    "    \n",
    "    # Update layout\n",
    "    fig.update_layout(\n",
    "        showlegend=False,\n",
    "        height=900,\n",
    "        title=stock,\n",
    "        xaxis_rangeslider_visible=True\n",
    "    )\n",
    "    \n",
    "    fig.show()\n",
    "\n",
    "# Call the function\n",
    "make_graph(stock_data, revenue_data, \"Tesla\")"
   ]
  },
  {
   "cell_type": "markdown",
   "id": "c903f5b4-7482-4ecb-acf2-319ea0b2d75c",
   "metadata": {},
   "source": [
    "## Question 6: Plot GameStop Stock Graph\n"
   ]
  },
  {
   "cell_type": "markdown",
   "id": "2a73e31e-0519-481e-81cd-d25f1eca8c2f",
   "metadata": {},
   "source": [
    "Use the `make_graph` function to graph the GameStop Stock Data, also provide a title for the graph. The structure to call the `make_graph` function is `make_graph(gme_data, gme_revenue, 'GameStop')`. Note the graph will only show data upto June 2021.\n"
   ]
  },
  {
   "cell_type": "code",
   "execution_count": null,
   "metadata": {},
   "outputs": [],
   "source": []
  },
  {
   "cell_type": "markdown",
   "id": "e8a8db70-2f1a-41e1-81b4-240042d9e5fb",
   "metadata": {},
   "source": [
    "<details><summary>Hint</summary>\n",
    "\n",
    "```\n",
    "\n",
    "You just need to invoke the make_graph function with the required parameter to print the graphs.The structure to call the `make_graph` function is `make_graph(gme_data, gme_revenue, 'GameStop')`\n",
    "\n",
    "```\n",
    "    \n",
    "</details>\n"
   ]
  },
  {
   "cell_type": "code",
   "execution_count": 41,
   "id": "438e1365-d5b4-4236-b030-542cb5004d7f",
   "metadata": {},
   "outputs": [
    {
     "data": {
      "application/vnd.plotly.v1+json": {
       "config": {
        "plotlyServerURL": "https://plot.ly"
       },
       "data": [
        {
         "name": "share Price",
         "type": "scatter",
         "x": [
          "2020-01-02T00:00:00+00:00",
          "2020-01-03T00:00:00+00:00",
          "2020-01-06T00:00:00+00:00",
          "2020-01-07T00:00:00+00:00",
          "2020-01-08T00:00:00+00:00",
          "2020-01-09T00:00:00+00:00",
          "2020-01-10T00:00:00+00:00",
          "2020-01-13T00:00:00+00:00",
          "2020-01-14T00:00:00+00:00",
          "2020-01-15T00:00:00+00:00",
          "2020-01-16T00:00:00+00:00",
          "2020-01-17T00:00:00+00:00",
          "2020-01-21T00:00:00+00:00",
          "2020-01-22T00:00:00+00:00",
          "2020-01-23T00:00:00+00:00",
          "2020-01-24T00:00:00+00:00",
          "2020-01-27T00:00:00+00:00",
          "2020-01-28T00:00:00+00:00",
          "2020-01-29T00:00:00+00:00",
          "2020-01-30T00:00:00+00:00",
          "2020-01-31T00:00:00+00:00",
          "2020-02-03T00:00:00+00:00",
          "2020-02-04T00:00:00+00:00",
          "2020-02-05T00:00:00+00:00",
          "2020-02-06T00:00:00+00:00",
          "2020-02-07T00:00:00+00:00",
          "2020-02-10T00:00:00+00:00",
          "2020-02-11T00:00:00+00:00",
          "2020-02-12T00:00:00+00:00",
          "2020-02-13T00:00:00+00:00",
          "2020-02-14T00:00:00+00:00",
          "2020-02-18T00:00:00+00:00",
          "2020-02-19T00:00:00+00:00",
          "2020-02-20T00:00:00+00:00",
          "2020-02-21T00:00:00+00:00",
          "2020-02-24T00:00:00+00:00",
          "2020-02-25T00:00:00+00:00",
          "2020-02-26T00:00:00+00:00",
          "2020-02-27T00:00:00+00:00",
          "2020-02-28T00:00:00+00:00",
          "2020-03-02T00:00:00+00:00",
          "2020-03-03T00:00:00+00:00",
          "2020-03-04T00:00:00+00:00",
          "2020-03-05T00:00:00+00:00",
          "2020-03-06T00:00:00+00:00",
          "2020-03-09T00:00:00+00:00",
          "2020-03-10T00:00:00+00:00",
          "2020-03-11T00:00:00+00:00",
          "2020-03-12T00:00:00+00:00",
          "2020-03-13T00:00:00+00:00",
          "2020-03-16T00:00:00+00:00",
          "2020-03-17T00:00:00+00:00",
          "2020-03-18T00:00:00+00:00",
          "2020-03-19T00:00:00+00:00",
          "2020-03-20T00:00:00+00:00",
          "2020-03-23T00:00:00+00:00",
          "2020-03-24T00:00:00+00:00",
          "2020-03-25T00:00:00+00:00",
          "2020-03-26T00:00:00+00:00",
          "2020-03-27T00:00:00+00:00",
          "2020-03-30T00:00:00+00:00",
          "2020-03-31T00:00:00+00:00",
          "2020-04-01T00:00:00+00:00",
          "2020-04-02T00:00:00+00:00",
          "2020-04-03T00:00:00+00:00",
          "2020-04-06T00:00:00+00:00",
          "2020-04-07T00:00:00+00:00",
          "2020-04-08T00:00:00+00:00",
          "2020-04-09T00:00:00+00:00",
          "2020-04-13T00:00:00+00:00",
          "2020-04-14T00:00:00+00:00",
          "2020-04-15T00:00:00+00:00",
          "2020-04-16T00:00:00+00:00",
          "2020-04-17T00:00:00+00:00",
          "2020-04-20T00:00:00+00:00",
          "2020-04-21T00:00:00+00:00",
          "2020-04-22T00:00:00+00:00",
          "2020-04-23T00:00:00+00:00",
          "2020-04-24T00:00:00+00:00",
          "2020-04-27T00:00:00+00:00",
          "2020-04-28T00:00:00+00:00",
          "2020-04-29T00:00:00+00:00",
          "2020-04-30T00:00:00+00:00",
          "2020-05-01T00:00:00+00:00",
          "2020-05-04T00:00:00+00:00",
          "2020-05-05T00:00:00+00:00",
          "2020-05-06T00:00:00+00:00",
          "2020-05-07T00:00:00+00:00",
          "2020-05-08T00:00:00+00:00",
          "2020-05-11T00:00:00+00:00",
          "2020-05-12T00:00:00+00:00",
          "2020-05-13T00:00:00+00:00",
          "2020-05-14T00:00:00+00:00",
          "2020-05-15T00:00:00+00:00",
          "2020-05-18T00:00:00+00:00",
          "2020-05-19T00:00:00+00:00",
          "2020-05-20T00:00:00+00:00",
          "2020-05-21T00:00:00+00:00",
          "2020-05-22T00:00:00+00:00",
          "2020-05-26T00:00:00+00:00",
          "2020-05-27T00:00:00+00:00",
          "2020-05-28T00:00:00+00:00",
          "2020-05-29T00:00:00+00:00",
          "2020-06-01T00:00:00+00:00",
          "2020-06-02T00:00:00+00:00",
          "2020-06-03T00:00:00+00:00",
          "2020-06-04T00:00:00+00:00",
          "2020-06-05T00:00:00+00:00",
          "2020-06-08T00:00:00+00:00",
          "2020-06-09T00:00:00+00:00",
          "2020-06-10T00:00:00+00:00",
          "2020-06-11T00:00:00+00:00",
          "2020-06-12T00:00:00+00:00",
          "2020-06-15T00:00:00+00:00",
          "2020-06-16T00:00:00+00:00",
          "2020-06-17T00:00:00+00:00",
          "2020-06-18T00:00:00+00:00",
          "2020-06-19T00:00:00+00:00",
          "2020-06-22T00:00:00+00:00",
          "2020-06-23T00:00:00+00:00",
          "2020-06-24T00:00:00+00:00",
          "2020-06-25T00:00:00+00:00",
          "2020-06-26T00:00:00+00:00",
          "2020-06-29T00:00:00+00:00",
          "2020-06-30T00:00:00+00:00",
          "2020-07-01T00:00:00+00:00",
          "2020-07-02T00:00:00+00:00",
          "2020-07-06T00:00:00+00:00",
          "2020-07-07T00:00:00+00:00",
          "2020-07-08T00:00:00+00:00",
          "2020-07-09T00:00:00+00:00",
          "2020-07-10T00:00:00+00:00",
          "2020-07-13T00:00:00+00:00",
          "2020-07-14T00:00:00+00:00",
          "2020-07-15T00:00:00+00:00",
          "2020-07-16T00:00:00+00:00",
          "2020-07-17T00:00:00+00:00",
          "2020-07-20T00:00:00+00:00",
          "2020-07-21T00:00:00+00:00",
          "2020-07-22T00:00:00+00:00",
          "2020-07-23T00:00:00+00:00",
          "2020-07-24T00:00:00+00:00",
          "2020-07-27T00:00:00+00:00",
          "2020-07-28T00:00:00+00:00",
          "2020-07-29T00:00:00+00:00",
          "2020-07-30T00:00:00+00:00",
          "2020-07-31T00:00:00+00:00",
          "2020-08-03T00:00:00+00:00",
          "2020-08-04T00:00:00+00:00",
          "2020-08-05T00:00:00+00:00",
          "2020-08-06T00:00:00+00:00",
          "2020-08-07T00:00:00+00:00",
          "2020-08-10T00:00:00+00:00",
          "2020-08-11T00:00:00+00:00",
          "2020-08-12T00:00:00+00:00",
          "2020-08-13T00:00:00+00:00",
          "2020-08-14T00:00:00+00:00",
          "2020-08-17T00:00:00+00:00",
          "2020-08-18T00:00:00+00:00",
          "2020-08-19T00:00:00+00:00",
          "2020-08-20T00:00:00+00:00",
          "2020-08-21T00:00:00+00:00",
          "2020-08-24T00:00:00+00:00",
          "2020-08-25T00:00:00+00:00",
          "2020-08-26T00:00:00+00:00",
          "2020-08-27T00:00:00+00:00",
          "2020-08-28T00:00:00+00:00",
          "2020-08-31T00:00:00+00:00",
          "2020-09-01T00:00:00+00:00",
          "2020-09-02T00:00:00+00:00",
          "2020-09-03T00:00:00+00:00",
          "2020-09-04T00:00:00+00:00",
          "2020-09-08T00:00:00+00:00",
          "2020-09-09T00:00:00+00:00",
          "2020-09-10T00:00:00+00:00",
          "2020-09-11T00:00:00+00:00",
          "2020-09-14T00:00:00+00:00",
          "2020-09-15T00:00:00+00:00",
          "2020-09-16T00:00:00+00:00",
          "2020-09-17T00:00:00+00:00",
          "2020-09-18T00:00:00+00:00",
          "2020-09-21T00:00:00+00:00",
          "2020-09-22T00:00:00+00:00",
          "2020-09-23T00:00:00+00:00",
          "2020-09-24T00:00:00+00:00",
          "2020-09-25T00:00:00+00:00",
          "2020-09-28T00:00:00+00:00",
          "2020-09-29T00:00:00+00:00",
          "2020-09-30T00:00:00+00:00",
          "2020-10-01T00:00:00+00:00",
          "2020-10-02T00:00:00+00:00",
          "2020-10-05T00:00:00+00:00",
          "2020-10-06T00:00:00+00:00",
          "2020-10-07T00:00:00+00:00",
          "2020-10-08T00:00:00+00:00",
          "2020-10-09T00:00:00+00:00",
          "2020-10-12T00:00:00+00:00",
          "2020-10-13T00:00:00+00:00",
          "2020-10-14T00:00:00+00:00",
          "2020-10-15T00:00:00+00:00",
          "2020-10-16T00:00:00+00:00",
          "2020-10-19T00:00:00+00:00",
          "2020-10-20T00:00:00+00:00",
          "2020-10-21T00:00:00+00:00",
          "2020-10-22T00:00:00+00:00",
          "2020-10-23T00:00:00+00:00",
          "2020-10-26T00:00:00+00:00",
          "2020-10-27T00:00:00+00:00",
          "2020-10-28T00:00:00+00:00",
          "2020-10-29T00:00:00+00:00",
          "2020-10-30T00:00:00+00:00",
          "2020-11-02T00:00:00+00:00",
          "2020-11-03T00:00:00+00:00",
          "2020-11-04T00:00:00+00:00",
          "2020-11-05T00:00:00+00:00",
          "2020-11-06T00:00:00+00:00",
          "2020-11-09T00:00:00+00:00",
          "2020-11-10T00:00:00+00:00",
          "2020-11-11T00:00:00+00:00",
          "2020-11-12T00:00:00+00:00",
          "2020-11-13T00:00:00+00:00",
          "2020-11-16T00:00:00+00:00",
          "2020-11-17T00:00:00+00:00",
          "2020-11-18T00:00:00+00:00",
          "2020-11-19T00:00:00+00:00",
          "2020-11-20T00:00:00+00:00",
          "2020-11-23T00:00:00+00:00",
          "2020-11-24T00:00:00+00:00",
          "2020-11-25T00:00:00+00:00",
          "2020-11-27T00:00:00+00:00",
          "2020-11-30T00:00:00+00:00",
          "2020-12-01T00:00:00+00:00",
          "2020-12-02T00:00:00+00:00",
          "2020-12-03T00:00:00+00:00",
          "2020-12-04T00:00:00+00:00",
          "2020-12-07T00:00:00+00:00",
          "2020-12-08T00:00:00+00:00",
          "2020-12-09T00:00:00+00:00",
          "2020-12-10T00:00:00+00:00",
          "2020-12-11T00:00:00+00:00",
          "2020-12-14T00:00:00+00:00",
          "2020-12-15T00:00:00+00:00",
          "2020-12-16T00:00:00+00:00",
          "2020-12-17T00:00:00+00:00",
          "2020-12-18T00:00:00+00:00",
          "2020-12-21T00:00:00+00:00",
          "2020-12-22T00:00:00+00:00",
          "2020-12-23T00:00:00+00:00",
          "2020-12-24T00:00:00+00:00",
          "2020-12-28T00:00:00+00:00",
          "2020-12-29T00:00:00+00:00",
          "2020-12-30T00:00:00+00:00",
          "2020-12-31T00:00:00+00:00",
          "2021-01-04T00:00:00+00:00",
          "2021-01-05T00:00:00+00:00",
          "2021-01-06T00:00:00+00:00",
          "2021-01-07T00:00:00+00:00",
          "2021-01-08T00:00:00+00:00",
          "2021-01-11T00:00:00+00:00",
          "2021-01-12T00:00:00+00:00",
          "2021-01-13T00:00:00+00:00",
          "2021-01-14T00:00:00+00:00",
          "2021-01-15T00:00:00+00:00",
          "2021-01-19T00:00:00+00:00",
          "2021-01-20T00:00:00+00:00",
          "2021-01-21T00:00:00+00:00",
          "2021-01-22T00:00:00+00:00",
          "2021-01-25T00:00:00+00:00",
          "2021-01-26T00:00:00+00:00",
          "2021-01-27T00:00:00+00:00",
          "2021-01-28T00:00:00+00:00",
          "2021-01-29T00:00:00+00:00",
          "2021-02-01T00:00:00+00:00",
          "2021-02-02T00:00:00+00:00",
          "2021-02-03T00:00:00+00:00",
          "2021-02-04T00:00:00+00:00",
          "2021-02-05T00:00:00+00:00",
          "2021-02-08T00:00:00+00:00",
          "2021-02-09T00:00:00+00:00",
          "2021-02-10T00:00:00+00:00",
          "2021-02-11T00:00:00+00:00",
          "2021-02-12T00:00:00+00:00",
          "2021-02-16T00:00:00+00:00",
          "2021-02-17T00:00:00+00:00",
          "2021-02-18T00:00:00+00:00",
          "2021-02-19T00:00:00+00:00",
          "2021-02-22T00:00:00+00:00",
          "2021-02-23T00:00:00+00:00",
          "2021-02-24T00:00:00+00:00",
          "2021-02-25T00:00:00+00:00",
          "2021-02-26T00:00:00+00:00",
          "2021-03-01T00:00:00+00:00",
          "2021-03-02T00:00:00+00:00",
          "2021-03-03T00:00:00+00:00",
          "2021-03-04T00:00:00+00:00",
          "2021-03-05T00:00:00+00:00",
          "2021-03-08T00:00:00+00:00",
          "2021-03-09T00:00:00+00:00",
          "2021-03-10T00:00:00+00:00",
          "2021-03-11T00:00:00+00:00",
          "2021-03-12T00:00:00+00:00",
          "2021-03-15T00:00:00+00:00",
          "2021-03-16T00:00:00+00:00",
          "2021-03-17T00:00:00+00:00",
          "2021-03-18T00:00:00+00:00",
          "2021-03-19T00:00:00+00:00",
          "2021-03-22T00:00:00+00:00",
          "2021-03-23T00:00:00+00:00",
          "2021-03-24T00:00:00+00:00",
          "2021-03-25T00:00:00+00:00",
          "2021-03-26T00:00:00+00:00",
          "2021-03-29T00:00:00+00:00",
          "2021-03-30T00:00:00+00:00",
          "2021-03-31T00:00:00+00:00",
          "2021-04-01T00:00:00+00:00",
          "2021-04-05T00:00:00+00:00",
          "2021-04-06T00:00:00+00:00",
          "2021-04-07T00:00:00+00:00",
          "2021-04-08T00:00:00+00:00",
          "2021-04-09T00:00:00+00:00",
          "2021-04-12T00:00:00+00:00",
          "2021-04-13T00:00:00+00:00",
          "2021-04-14T00:00:00+00:00",
          "2021-04-15T00:00:00+00:00",
          "2021-04-16T00:00:00+00:00",
          "2021-04-19T00:00:00+00:00",
          "2021-04-20T00:00:00+00:00",
          "2021-04-21T00:00:00+00:00",
          "2021-04-22T00:00:00+00:00",
          "2021-04-23T00:00:00+00:00",
          "2021-04-26T00:00:00+00:00",
          "2021-04-27T00:00:00+00:00",
          "2021-04-28T00:00:00+00:00",
          "2021-04-29T00:00:00+00:00",
          "2021-04-30T00:00:00+00:00",
          "2021-05-03T00:00:00+00:00",
          "2021-05-04T00:00:00+00:00",
          "2021-05-05T00:00:00+00:00",
          "2021-05-06T00:00:00+00:00",
          "2021-05-07T00:00:00+00:00",
          "2021-05-10T00:00:00+00:00",
          "2021-05-11T00:00:00+00:00",
          "2021-05-12T00:00:00+00:00",
          "2021-05-13T00:00:00+00:00",
          "2021-05-14T00:00:00+00:00",
          "2021-05-17T00:00:00+00:00",
          "2021-05-18T00:00:00+00:00",
          "2021-05-19T00:00:00+00:00",
          "2021-05-20T00:00:00+00:00",
          "2021-05-21T00:00:00+00:00",
          "2021-05-24T00:00:00+00:00",
          "2021-05-25T00:00:00+00:00",
          "2021-05-26T00:00:00+00:00",
          "2021-05-27T00:00:00+00:00",
          "2021-05-28T00:00:00+00:00",
          "2021-06-01T00:00:00+00:00",
          "2021-06-02T00:00:00+00:00",
          "2021-06-03T00:00:00+00:00",
          "2021-06-04T00:00:00+00:00",
          "2021-06-07T00:00:00+00:00",
          "2021-06-08T00:00:00+00:00",
          "2021-06-09T00:00:00+00:00",
          "2021-06-10T00:00:00+00:00",
          "2021-06-11T00:00:00+00:00",
          "2021-06-14T00:00:00+00:00"
         ],
         "xaxis": "x",
         "y": [
          [
           1.5774999856948853
          ],
          [
           1.4700000286102295
          ],
          [
           1.462499976158142
          ],
          [
           1.3799999952316284
          ],
          [
           1.4299999475479126
          ],
          [
           1.3875000476837158
          ],
          [
           1.3574999570846558
          ],
          [
           1.3574999570846558
          ],
          [
           1.1775000095367432
          ],
          [
           1.152500033378601
          ],
          [
           1.1549999713897705
          ],
          [
           1.1875
          ],
          [
           1.1475000381469727
          ],
          [
           1.1399999856948853
          ],
          [
           1.1549999713897705
          ],
          [
           1.0800000429153442
          ],
          [
           1.0700000524520874
          ],
          [
           1.0525000095367432
          ],
          [
           1.0325000286102295
          ],
          [
           0.9825000166893005
          ],
          [
           0.9599999785423279
          ],
          [
           0.987500011920929
          ],
          [
           1.0175000429153442
          ],
          [
           1.0449999570846558
          ],
          [
           1.034999966621399
          ],
          [
           0.9524999856948853
          ],
          [
           0.9850000143051147
          ],
          [
           1.0049999952316284
          ],
          [
           1.0475000143051147
          ],
          [
           1.027500033378601
          ],
          [
           1.0049999952316284
          ],
          [
           1.0149999856948853
          ],
          [
           1.037500023841858
          ],
          [
           1.034999966621399
          ],
          [
           1.0099999904632568
          ],
          [
           0.925000011920929
          ],
          [
           0.8899999856948853
          ],
          [
           0.8475000262260437
          ],
          [
           0.8675000071525574
          ],
          [
           0.8999999761581421
          ],
          [
           0.9574999809265137
          ],
          [
           0.9075000286102295
          ],
          [
           0.9424999952316284
          ],
          [
           0.9900000095367432
          ],
          [
           0.9800000190734863
          ],
          [
           0.925000011920929
          ],
          [
           1.0575000047683716
          ],
          [
           1.034999966621399
          ],
          [
           0.9950000047683716
          ],
          [
           1.1475000381469727
          ],
          [
           1.0924999713897705
          ],
          [
           1.0575000047683716
          ],
          [
           0.9424999952316284
          ],
          [
           1.0475000143051147
          ],
          [
           0.9399999976158142
          ],
          [
           0.9524999856948853
          ],
          [
           1.0399999618530273
          ],
          [
           1.0425000190734863
          ],
          [
           1.1024999618530273
          ],
          [
           1.0549999475479126
          ],
          [
           0.9125000238418579
          ],
          [
           0.875
          ],
          [
           0.8125
          ],
          [
           0.7124999761581421
          ],
          [
           0.699999988079071
          ],
          [
           0.7724999785423279
          ],
          [
           0.8174999952316284
          ],
          [
           0.8525000214576721
          ],
          [
           0.9725000262260437
          ],
          [
           1.184999942779541
          ],
          [
           1.4874999523162842
          ],
          [
           1.3174999952316284
          ],
          [
           1.2575000524520874
          ],
          [
           1.2200000286102295
          ],
          [
           1.402500033378601
          ],
          [
           1.1950000524520874
          ],
          [
           1.222499966621399
          ],
          [
           1.1749999523162842
          ],
          [
           1.1924999952316284
          ],
          [
           1.4550000429153442
          ],
          [
           1.409999966621399
          ],
          [
           1.5099999904632568
          ],
          [
           1.4325000047683716
          ],
          [
           1.5125000476837158
          ],
          [
           1.3700000047683716
          ],
          [
           1.347499966621399
          ],
          [
           1.2324999570846558
          ],
          [
           1.2174999713897705
          ],
          [
           1.2450000047683716
          ],
          [
           1.190000057220459
          ],
          [
           1.1349999904632568
          ],
          [
           1.0525000095367432
          ],
          [
           1.0325000286102295
          ],
          [
           1.0549999475479126
          ],
          [
           1.1449999809265137
          ],
          [
           1.1100000143051147
          ],
          [
           1.1074999570846558
          ],
          [
           1.1100000143051147
          ],
          [
           1.0449999570846558
          ],
          [
           1.1050000190734863
          ],
          [
           1.1725000143051147
          ],
          [
           1.0824999809265137
          ],
          [
           1.0149999856948853
          ],
          [
           1.0325000286102295
          ],
          [
           1.0449999570846558
          ],
          [
           1.1100000143051147
          ],
          [
           1.1174999475479126
          ],
          [
           1.034999966621399
          ],
          [
           1.252500057220459
          ],
          [
           1.2400000095367432
          ],
          [
           1.2675000429153442
          ],
          [
           1.0924999713897705
          ],
          [
           1.1799999475479126
          ],
          [
           1.1725000143051147
          ],
          [
           1.159999966621399
          ],
          [
           1.190000057220459
          ],
          [
           1.2374999523162842
          ],
          [
           1.2200000286102295
          ],
          [
           1.2174999713897705
          ],
          [
           1.2074999809265137
          ],
          [
           1.1024999618530273
          ],
          [
           1.1150000095367432
          ],
          [
           1.087499976158142
          ],
          [
           1.0950000286102295
          ],
          [
           1.0850000381469727
          ],
          [
           1.1100000143051147
          ],
          [
           1.0724999904632568
          ],
          [
           1.059999942779541
          ],
          [
           1.0225000381469727
          ],
          [
           1.065000057220459
          ],
          [
           1.0525000095367432
          ],
          [
           1.0850000381469727
          ],
          [
           1.065000057220459
          ],
          [
           1.0199999809265137
          ],
          [
           1.0475000143051147
          ],
          [
           1.0425000190734863
          ],
          [
           0.9900000095367432
          ],
          [
           0.9624999761581421
          ],
          [
           1.002500057220459
          ],
          [
           1.027500033378601
          ],
          [
           1.027500033378601
          ],
          [
           1.0075000524520874
          ],
          [
           1.002500057220459
          ],
          [
           0.9850000143051147
          ],
          [
           1.0149999856948853
          ],
          [
           1.024999976158142
          ],
          [
           1.002500057220459
          ],
          [
           1.037500023841858
          ],
          [
           1.1074999570846558
          ],
          [
           1.1575000286102295
          ],
          [
           1.1074999570846558
          ],
          [
           1.0399999618530273
          ],
          [
           1.0824999809265137
          ],
          [
           1.087499976158142
          ],
          [
           1.1299999952316284
          ],
          [
           1.159999966621399
          ],
          [
           1.1875
          ],
          [
           1.1575000286102295
          ],
          [
           1.2024999856948853
          ],
          [
           1.1799999475479126
          ],
          [
           1.152500033378601
          ],
          [
           1.2575000524520874
          ],
          [
           1.2174999713897705
          ],
          [
           1.2450000047683716
          ],
          [
           1.277500033378601
          ],
          [
           1.3125
          ],
          [
           1.347499966621399
          ],
          [
           1.6699999570846558
          ],
          [
           1.912500023841858
          ],
          [
           1.9275000095367432
          ],
          [
           1.9550000429153442
          ],
          [
           1.912500023841858
          ],
          [
           1.9249999523162842
          ],
          [
           1.837499976158142
          ],
          [
           1.5575000047683716
          ],
          [
           1.5225000381469727
          ],
          [
           1.7274999618530273
          ],
          [
           1.7725000381469727
          ],
          [
           2.1700000762939453
          ],
          [
           2.299999952316284
          ],
          [
           2.367500066757202
          ],
          [
           2.1875
          ],
          [
           2.640000104904175
          ],
          [
           2.509999990463257
          ],
          [
           2.2850000858306885
          ],
          [
           2.505000114440918
          ],
          [
           2.5225000381469727
          ],
          [
           2.5875000953674316
          ],
          [
           2.549999952316284
          ],
          [
           2.442500114440918
          ],
          [
           2.3475000858306885
          ],
          [
           2.365000009536743
          ],
          [
           2.2825000286102295
          ],
          [
           2.3399999141693115
          ],
          [
           3.372499942779541
          ],
          [
           3.005000114440918
          ],
          [
           2.950000047683716
          ],
          [
           2.9700000286102295
          ],
          [
           3.0625
          ],
          [
           3.4574999809265137
          ],
          [
           3.327500104904175
          ],
          [
           3.4774999618530273
          ],
          [
           3.4649999141693115
          ],
          [
           3.5250000953674316
          ],
          [
           3.7274999618530273
          ],
          [
           3.75
          ],
          [
           3.362499952316284
          ],
          [
           3.172499895095825
          ],
          [
           2.9549999237060547
          ],
          [
           2.932499885559082
          ],
          [
           2.617500066757202
          ],
          [
           2.6875
          ],
          [
           2.8924999237060547
          ],
          [
           2.7274999618530273
          ],
          [
           2.862499952316284
          ],
          [
           2.9649999141693115
          ],
          [
           2.872499942779541
          ],
          [
           2.7750000953674316
          ],
          [
           2.9375
          ],
          [
           2.7825000286102295
          ],
          [
           2.752500057220459
          ],
          [
           3.015000104904175
          ],
          [
           2.9075000286102295
          ],
          [
           2.8924999237060547
          ],
          [
           3.115000009536743
          ],
          [
           3.177500009536743
          ],
          [
           3.4749999046325684
          ],
          [
           3.4175000190734863
          ],
          [
           3.6875
          ],
          [
           4.019999980926514
          ],
          [
           4.139999866485596
          ],
          [
           3.950000047683716
          ],
          [
           4.144999980926514
          ],
          [
           4.03000020980835
          ],
          [
           4.224999904632568
          ],
          [
           4.087500095367432
          ],
          [
           4.235000133514404
          ],
          [
           3.4149999618530273
          ],
          [
           3.5299999713897705
          ],
          [
           3.327500104904175
          ],
          [
           3.180000066757202
          ],
          [
           3.4625000953674316
          ],
          [
           3.4625000953674316
          ],
          [
           3.7074999809265137
          ],
          [
           3.9075000286102295
          ],
          [
           3.882499933242798
          ],
          [
           4.864999771118164
          ],
          [
           5.142499923706055
          ],
          [
           5.037499904632568
          ],
          [
           5.247499942779541
          ],
          [
           4.84499979019165
          ],
          [
           4.815000057220459
          ],
          [
           4.710000038146973
          ],
          [
           4.3125
          ],
          [
           4.34250020980835
          ],
          [
           4.590000152587891
          ],
          [
           4.519999980926514
          ],
          [
           4.422500133514404
          ],
          [
           4.985000133514404
          ],
          [
           4.987500190734863
          ],
          [
           7.849999904632568
          ],
          [
           9.977499961853027
          ],
          [
           8.875
          ],
          [
           9.84000015258789
          ],
          [
           9.779999732971191
          ],
          [
           10.757499694824219
          ],
          [
           16.252500534057617
          ],
          [
           19.197500228881836
          ],
          [
           36.994998931884766
          ],
          [
           86.87750244140625
          ],
          [
           48.400001525878906
          ],
          [
           81.25
          ],
          [
           56.25
          ],
          [
           22.5
          ],
          [
           23.102500915527344
          ],
          [
           13.375
          ],
          [
           15.942500114440918
          ],
          [
           15
          ],
          [
           12.577500343322754
          ],
          [
           12.800000190734863
          ],
          [
           12.774999618530273
          ],
          [
           13.100000381469727
          ],
          [
           12.3774995803833
          ],
          [
           11.484999656677246
          ],
          [
           10.172499656677246
          ],
          [
           10.147500038146973
          ],
          [
           11.5
          ],
          [
           11.242500305175781
          ],
          [
           22.927499771118164
          ],
          [
           27.1825008392334
          ],
          [
           25.434999465942383
          ],
          [
           30.100000381469727
          ],
          [
           29.545000076293945
          ],
          [
           31.045000076293945
          ],
          [
           33.087501525878906
          ],
          [
           34.435001373291016
          ],
          [
           48.625
          ],
          [
           61.724998474121094
          ],
          [
           66.25
          ],
          [
           65
          ],
          [
           66.125
          ],
          [
           55.03499984741211
          ],
          [
           52.04249954223633
          ],
          [
           52.45249938964844
          ],
          [
           50.4375
          ],
          [
           50.067501068115234
          ],
          [
           48.622501373291016
          ],
          [
           45.4375
          ],
          [
           30.084999084472656
          ],
          [
           45.9375
          ],
          [
           45.25
          ],
          [
           45.32500076293945
          ],
          [
           48.6150016784668
          ],
          [
           47.45500183105469
          ],
          [
           47.86249923706055
          ],
          [
           46.73749923706055
          ],
          [
           46.125
          ],
          [
           44.49250030517578
          ],
          [
           42.564998626708984
          ],
          [
           39.59000015258789
          ],
          [
           35.272499084472656
          ],
          [
           35.247501373291016
          ],
          [
           41.63249969482422
          ],
          [
           39.11000061035156
          ],
          [
           38.67250061035156
          ],
          [
           41.092498779296875
          ],
          [
           39.63249969482422
          ],
          [
           39.627498626708984
          ],
          [
           37.79249954223633
          ],
          [
           37.79499816894531
          ],
          [
           42.23249816894531
          ],
          [
           44.442501068115234
          ],
          [
           44.64500045776367
          ],
          [
           44.04750061035156
          ],
          [
           43.397499084472656
          ],
          [
           40.54999923706055
          ],
          [
           40.182498931884766
          ],
          [
           39.869998931884766
          ],
          [
           40.252498626708984
          ],
          [
           40.27750015258789
          ],
          [
           35.80500030517578
          ],
          [
           36.72999954223633
          ],
          [
           36.1974983215332
          ],
          [
           41.125
          ],
          [
           39.97999954223633
          ],
          [
           45.150001525878906
          ],
          [
           45.16749954223633
          ],
          [
           42.20750045776367
          ],
          [
           42.622501373291016
          ],
          [
           44.1974983215332
          ],
          [
           45.002498626708984
          ],
          [
           52.35749816894531
          ],
          [
           60.63999938964844
          ],
          [
           63.532501220703125
          ],
          [
           55.5
          ],
          [
           62.255001068115234
          ],
          [
           70.55999755859375
          ],
          [
           64.54499816894531
          ],
          [
           62.09000015258789
          ],
          [
           70.00250244140625
          ],
          [
           75
          ],
          [
           75.63999938964844
          ],
          [
           55.09749984741211
          ],
          [
           58.334999084472656
          ],
          [
           57.36000061035156
          ]
         ],
         "yaxis": "y"
        },
        {
         "name": "Volume",
         "type": "scatter",
         "x": [
          "2020-01-02T00:00:00+00:00",
          "2020-01-03T00:00:00+00:00",
          "2020-01-06T00:00:00+00:00",
          "2020-01-07T00:00:00+00:00",
          "2020-01-08T00:00:00+00:00",
          "2020-01-09T00:00:00+00:00",
          "2020-01-10T00:00:00+00:00",
          "2020-01-13T00:00:00+00:00",
          "2020-01-14T00:00:00+00:00",
          "2020-01-15T00:00:00+00:00",
          "2020-01-16T00:00:00+00:00",
          "2020-01-17T00:00:00+00:00",
          "2020-01-21T00:00:00+00:00",
          "2020-01-22T00:00:00+00:00",
          "2020-01-23T00:00:00+00:00",
          "2020-01-24T00:00:00+00:00",
          "2020-01-27T00:00:00+00:00",
          "2020-01-28T00:00:00+00:00",
          "2020-01-29T00:00:00+00:00",
          "2020-01-30T00:00:00+00:00",
          "2020-01-31T00:00:00+00:00",
          "2020-02-03T00:00:00+00:00",
          "2020-02-04T00:00:00+00:00",
          "2020-02-05T00:00:00+00:00",
          "2020-02-06T00:00:00+00:00",
          "2020-02-07T00:00:00+00:00",
          "2020-02-10T00:00:00+00:00",
          "2020-02-11T00:00:00+00:00",
          "2020-02-12T00:00:00+00:00",
          "2020-02-13T00:00:00+00:00",
          "2020-02-14T00:00:00+00:00",
          "2020-02-18T00:00:00+00:00",
          "2020-02-19T00:00:00+00:00",
          "2020-02-20T00:00:00+00:00",
          "2020-02-21T00:00:00+00:00",
          "2020-02-24T00:00:00+00:00",
          "2020-02-25T00:00:00+00:00",
          "2020-02-26T00:00:00+00:00",
          "2020-02-27T00:00:00+00:00",
          "2020-02-28T00:00:00+00:00",
          "2020-03-02T00:00:00+00:00",
          "2020-03-03T00:00:00+00:00",
          "2020-03-04T00:00:00+00:00",
          "2020-03-05T00:00:00+00:00",
          "2020-03-06T00:00:00+00:00",
          "2020-03-09T00:00:00+00:00",
          "2020-03-10T00:00:00+00:00",
          "2020-03-11T00:00:00+00:00",
          "2020-03-12T00:00:00+00:00",
          "2020-03-13T00:00:00+00:00",
          "2020-03-16T00:00:00+00:00",
          "2020-03-17T00:00:00+00:00",
          "2020-03-18T00:00:00+00:00",
          "2020-03-19T00:00:00+00:00",
          "2020-03-20T00:00:00+00:00",
          "2020-03-23T00:00:00+00:00",
          "2020-03-24T00:00:00+00:00",
          "2020-03-25T00:00:00+00:00",
          "2020-03-26T00:00:00+00:00",
          "2020-03-27T00:00:00+00:00",
          "2020-03-30T00:00:00+00:00",
          "2020-03-31T00:00:00+00:00",
          "2020-04-01T00:00:00+00:00",
          "2020-04-02T00:00:00+00:00",
          "2020-04-03T00:00:00+00:00",
          "2020-04-06T00:00:00+00:00",
          "2020-04-07T00:00:00+00:00",
          "2020-04-08T00:00:00+00:00",
          "2020-04-09T00:00:00+00:00",
          "2020-04-13T00:00:00+00:00",
          "2020-04-14T00:00:00+00:00",
          "2020-04-15T00:00:00+00:00",
          "2020-04-16T00:00:00+00:00",
          "2020-04-17T00:00:00+00:00",
          "2020-04-20T00:00:00+00:00",
          "2020-04-21T00:00:00+00:00",
          "2020-04-22T00:00:00+00:00",
          "2020-04-23T00:00:00+00:00",
          "2020-04-24T00:00:00+00:00",
          "2020-04-27T00:00:00+00:00",
          "2020-04-28T00:00:00+00:00",
          "2020-04-29T00:00:00+00:00",
          "2020-04-30T00:00:00+00:00",
          "2020-05-01T00:00:00+00:00",
          "2020-05-04T00:00:00+00:00",
          "2020-05-05T00:00:00+00:00",
          "2020-05-06T00:00:00+00:00",
          "2020-05-07T00:00:00+00:00",
          "2020-05-08T00:00:00+00:00",
          "2020-05-11T00:00:00+00:00",
          "2020-05-12T00:00:00+00:00",
          "2020-05-13T00:00:00+00:00",
          "2020-05-14T00:00:00+00:00",
          "2020-05-15T00:00:00+00:00",
          "2020-05-18T00:00:00+00:00",
          "2020-05-19T00:00:00+00:00",
          "2020-05-20T00:00:00+00:00",
          "2020-05-21T00:00:00+00:00",
          "2020-05-22T00:00:00+00:00",
          "2020-05-26T00:00:00+00:00",
          "2020-05-27T00:00:00+00:00",
          "2020-05-28T00:00:00+00:00",
          "2020-05-29T00:00:00+00:00",
          "2020-06-01T00:00:00+00:00",
          "2020-06-02T00:00:00+00:00",
          "2020-06-03T00:00:00+00:00",
          "2020-06-04T00:00:00+00:00",
          "2020-06-05T00:00:00+00:00",
          "2020-06-08T00:00:00+00:00",
          "2020-06-09T00:00:00+00:00",
          "2020-06-10T00:00:00+00:00",
          "2020-06-11T00:00:00+00:00",
          "2020-06-12T00:00:00+00:00",
          "2020-06-15T00:00:00+00:00",
          "2020-06-16T00:00:00+00:00",
          "2020-06-17T00:00:00+00:00",
          "2020-06-18T00:00:00+00:00",
          "2020-06-19T00:00:00+00:00",
          "2020-06-22T00:00:00+00:00",
          "2020-06-23T00:00:00+00:00",
          "2020-06-24T00:00:00+00:00",
          "2020-06-25T00:00:00+00:00",
          "2020-06-26T00:00:00+00:00",
          "2020-06-29T00:00:00+00:00",
          "2020-06-30T00:00:00+00:00",
          "2020-07-01T00:00:00+00:00",
          "2020-07-02T00:00:00+00:00",
          "2020-07-06T00:00:00+00:00",
          "2020-07-07T00:00:00+00:00",
          "2020-07-08T00:00:00+00:00",
          "2020-07-09T00:00:00+00:00",
          "2020-07-10T00:00:00+00:00",
          "2020-07-13T00:00:00+00:00",
          "2020-07-14T00:00:00+00:00",
          "2020-07-15T00:00:00+00:00",
          "2020-07-16T00:00:00+00:00",
          "2020-07-17T00:00:00+00:00",
          "2020-07-20T00:00:00+00:00",
          "2020-07-21T00:00:00+00:00",
          "2020-07-22T00:00:00+00:00",
          "2020-07-23T00:00:00+00:00",
          "2020-07-24T00:00:00+00:00",
          "2020-07-27T00:00:00+00:00",
          "2020-07-28T00:00:00+00:00",
          "2020-07-29T00:00:00+00:00",
          "2020-07-30T00:00:00+00:00",
          "2020-07-31T00:00:00+00:00",
          "2020-08-03T00:00:00+00:00",
          "2020-08-04T00:00:00+00:00",
          "2020-08-05T00:00:00+00:00",
          "2020-08-06T00:00:00+00:00",
          "2020-08-07T00:00:00+00:00",
          "2020-08-10T00:00:00+00:00",
          "2020-08-11T00:00:00+00:00",
          "2020-08-12T00:00:00+00:00",
          "2020-08-13T00:00:00+00:00",
          "2020-08-14T00:00:00+00:00",
          "2020-08-17T00:00:00+00:00",
          "2020-08-18T00:00:00+00:00",
          "2020-08-19T00:00:00+00:00",
          "2020-08-20T00:00:00+00:00",
          "2020-08-21T00:00:00+00:00",
          "2020-08-24T00:00:00+00:00",
          "2020-08-25T00:00:00+00:00",
          "2020-08-26T00:00:00+00:00",
          "2020-08-27T00:00:00+00:00",
          "2020-08-28T00:00:00+00:00",
          "2020-08-31T00:00:00+00:00",
          "2020-09-01T00:00:00+00:00",
          "2020-09-02T00:00:00+00:00",
          "2020-09-03T00:00:00+00:00",
          "2020-09-04T00:00:00+00:00",
          "2020-09-08T00:00:00+00:00",
          "2020-09-09T00:00:00+00:00",
          "2020-09-10T00:00:00+00:00",
          "2020-09-11T00:00:00+00:00",
          "2020-09-14T00:00:00+00:00",
          "2020-09-15T00:00:00+00:00",
          "2020-09-16T00:00:00+00:00",
          "2020-09-17T00:00:00+00:00",
          "2020-09-18T00:00:00+00:00",
          "2020-09-21T00:00:00+00:00",
          "2020-09-22T00:00:00+00:00",
          "2020-09-23T00:00:00+00:00",
          "2020-09-24T00:00:00+00:00",
          "2020-09-25T00:00:00+00:00",
          "2020-09-28T00:00:00+00:00",
          "2020-09-29T00:00:00+00:00",
          "2020-09-30T00:00:00+00:00",
          "2020-10-01T00:00:00+00:00",
          "2020-10-02T00:00:00+00:00",
          "2020-10-05T00:00:00+00:00",
          "2020-10-06T00:00:00+00:00",
          "2020-10-07T00:00:00+00:00",
          "2020-10-08T00:00:00+00:00",
          "2020-10-09T00:00:00+00:00",
          "2020-10-12T00:00:00+00:00",
          "2020-10-13T00:00:00+00:00",
          "2020-10-14T00:00:00+00:00",
          "2020-10-15T00:00:00+00:00",
          "2020-10-16T00:00:00+00:00",
          "2020-10-19T00:00:00+00:00",
          "2020-10-20T00:00:00+00:00",
          "2020-10-21T00:00:00+00:00",
          "2020-10-22T00:00:00+00:00",
          "2020-10-23T00:00:00+00:00",
          "2020-10-26T00:00:00+00:00",
          "2020-10-27T00:00:00+00:00",
          "2020-10-28T00:00:00+00:00",
          "2020-10-29T00:00:00+00:00",
          "2020-10-30T00:00:00+00:00",
          "2020-11-02T00:00:00+00:00",
          "2020-11-03T00:00:00+00:00",
          "2020-11-04T00:00:00+00:00",
          "2020-11-05T00:00:00+00:00",
          "2020-11-06T00:00:00+00:00",
          "2020-11-09T00:00:00+00:00",
          "2020-11-10T00:00:00+00:00",
          "2020-11-11T00:00:00+00:00",
          "2020-11-12T00:00:00+00:00",
          "2020-11-13T00:00:00+00:00",
          "2020-11-16T00:00:00+00:00",
          "2020-11-17T00:00:00+00:00",
          "2020-11-18T00:00:00+00:00",
          "2020-11-19T00:00:00+00:00",
          "2020-11-20T00:00:00+00:00",
          "2020-11-23T00:00:00+00:00",
          "2020-11-24T00:00:00+00:00",
          "2020-11-25T00:00:00+00:00",
          "2020-11-27T00:00:00+00:00",
          "2020-11-30T00:00:00+00:00",
          "2020-12-01T00:00:00+00:00",
          "2020-12-02T00:00:00+00:00",
          "2020-12-03T00:00:00+00:00",
          "2020-12-04T00:00:00+00:00",
          "2020-12-07T00:00:00+00:00",
          "2020-12-08T00:00:00+00:00",
          "2020-12-09T00:00:00+00:00",
          "2020-12-10T00:00:00+00:00",
          "2020-12-11T00:00:00+00:00",
          "2020-12-14T00:00:00+00:00",
          "2020-12-15T00:00:00+00:00",
          "2020-12-16T00:00:00+00:00",
          "2020-12-17T00:00:00+00:00",
          "2020-12-18T00:00:00+00:00",
          "2020-12-21T00:00:00+00:00",
          "2020-12-22T00:00:00+00:00",
          "2020-12-23T00:00:00+00:00",
          "2020-12-24T00:00:00+00:00",
          "2020-12-28T00:00:00+00:00",
          "2020-12-29T00:00:00+00:00",
          "2020-12-30T00:00:00+00:00",
          "2020-12-31T00:00:00+00:00",
          "2021-01-04T00:00:00+00:00",
          "2021-01-05T00:00:00+00:00",
          "2021-01-06T00:00:00+00:00",
          "2021-01-07T00:00:00+00:00",
          "2021-01-08T00:00:00+00:00",
          "2021-01-11T00:00:00+00:00",
          "2021-01-12T00:00:00+00:00",
          "2021-01-13T00:00:00+00:00",
          "2021-01-14T00:00:00+00:00",
          "2021-01-15T00:00:00+00:00",
          "2021-01-19T00:00:00+00:00",
          "2021-01-20T00:00:00+00:00",
          "2021-01-21T00:00:00+00:00",
          "2021-01-22T00:00:00+00:00",
          "2021-01-25T00:00:00+00:00",
          "2021-01-26T00:00:00+00:00",
          "2021-01-27T00:00:00+00:00",
          "2021-01-28T00:00:00+00:00",
          "2021-01-29T00:00:00+00:00",
          "2021-02-01T00:00:00+00:00",
          "2021-02-02T00:00:00+00:00",
          "2021-02-03T00:00:00+00:00",
          "2021-02-04T00:00:00+00:00",
          "2021-02-05T00:00:00+00:00",
          "2021-02-08T00:00:00+00:00",
          "2021-02-09T00:00:00+00:00",
          "2021-02-10T00:00:00+00:00",
          "2021-02-11T00:00:00+00:00",
          "2021-02-12T00:00:00+00:00",
          "2021-02-16T00:00:00+00:00",
          "2021-02-17T00:00:00+00:00",
          "2021-02-18T00:00:00+00:00",
          "2021-02-19T00:00:00+00:00",
          "2021-02-22T00:00:00+00:00",
          "2021-02-23T00:00:00+00:00",
          "2021-02-24T00:00:00+00:00",
          "2021-02-25T00:00:00+00:00",
          "2021-02-26T00:00:00+00:00",
          "2021-03-01T00:00:00+00:00",
          "2021-03-02T00:00:00+00:00",
          "2021-03-03T00:00:00+00:00",
          "2021-03-04T00:00:00+00:00",
          "2021-03-05T00:00:00+00:00",
          "2021-03-08T00:00:00+00:00",
          "2021-03-09T00:00:00+00:00",
          "2021-03-10T00:00:00+00:00",
          "2021-03-11T00:00:00+00:00",
          "2021-03-12T00:00:00+00:00",
          "2021-03-15T00:00:00+00:00",
          "2021-03-16T00:00:00+00:00",
          "2021-03-17T00:00:00+00:00",
          "2021-03-18T00:00:00+00:00",
          "2021-03-19T00:00:00+00:00",
          "2021-03-22T00:00:00+00:00",
          "2021-03-23T00:00:00+00:00",
          "2021-03-24T00:00:00+00:00",
          "2021-03-25T00:00:00+00:00",
          "2021-03-26T00:00:00+00:00",
          "2021-03-29T00:00:00+00:00",
          "2021-03-30T00:00:00+00:00",
          "2021-03-31T00:00:00+00:00",
          "2021-04-01T00:00:00+00:00",
          "2021-04-05T00:00:00+00:00",
          "2021-04-06T00:00:00+00:00",
          "2021-04-07T00:00:00+00:00",
          "2021-04-08T00:00:00+00:00",
          "2021-04-09T00:00:00+00:00",
          "2021-04-12T00:00:00+00:00",
          "2021-04-13T00:00:00+00:00",
          "2021-04-14T00:00:00+00:00",
          "2021-04-15T00:00:00+00:00",
          "2021-04-16T00:00:00+00:00",
          "2021-04-19T00:00:00+00:00",
          "2021-04-20T00:00:00+00:00",
          "2021-04-21T00:00:00+00:00",
          "2021-04-22T00:00:00+00:00",
          "2021-04-23T00:00:00+00:00",
          "2021-04-26T00:00:00+00:00",
          "2021-04-27T00:00:00+00:00",
          "2021-04-28T00:00:00+00:00",
          "2021-04-29T00:00:00+00:00",
          "2021-04-30T00:00:00+00:00"
         ],
         "xaxis": "x2",
         "y": [
          [
           17814400
          ],
          [
           14175600
          ],
          [
           13579200
          ],
          [
           20912000
          ],
          [
           22517600
          ],
          [
           10572000
          ],
          [
           11125600
          ],
          [
           14500800
          ],
          [
           50247600
          ],
          [
           19924400
          ],
          [
           17148400
          ],
          [
           16078000
          ],
          [
           14128400
          ],
          [
           10510000
          ],
          [
           7520800
          ],
          [
           16654400
          ],
          [
           8490000
          ],
          [
           8579600
          ],
          [
           6210400
          ],
          [
           12026000
          ],
          [
           11566800
          ],
          [
           8102400
          ],
          [
           14252400
          ],
          [
           10566800
          ],
          [
           6041200
          ],
          [
           10969200
          ],
          [
           11108000
          ],
          [
           13660000
          ],
          [
           19282400
          ],
          [
           8326800
          ],
          [
           6330800
          ],
          [
           5870400
          ],
          [
           10372400
          ],
          [
           6249200
          ],
          [
           6782800
          ],
          [
           14265200
          ],
          [
           17791600
          ],
          [
           18899200
          ],
          [
           15518000
          ],
          [
           18768800
          ],
          [
           12833600
          ],
          [
           17130000
          ],
          [
           17030400
          ],
          [
           14397600
          ],
          [
           8387200
          ],
          [
           10928000
          ],
          [
           19452800
          ],
          [
           17656400
          ],
          [
           20493600
          ],
          [
           23148800
          ],
          [
           19466800
          ],
          [
           14248800
          ],
          [
           14606800
          ],
          [
           20158000
          ],
          [
           30888800
          ],
          [
           24039200
          ],
          [
           27222400
          ],
          [
           14368400
          ],
          [
           24742800
          ],
          [
           28099200
          ],
          [
           13402400
          ],
          [
           9203600
          ],
          [
           18274800
          ],
          [
           16257200
          ],
          [
           15321600
          ],
          [
           13362000
          ],
          [
           11347600
          ],
          [
           11538000
          ],
          [
           23634400
          ],
          [
           27378000
          ],
          [
           54026400
          ],
          [
           29999600
          ],
          [
           13487600
          ],
          [
           22612800
          ],
          [
           24340000
          ],
          [
           16568400
          ],
          [
           10711200
          ],
          [
           9063600
          ],
          [
           8944800
          ],
          [
           29100400
          ],
          [
           20800800
          ],
          [
           13478400
          ],
          [
           8693200
          ],
          [
           16022400
          ],
          [
           16272400
          ],
          [
           8423600
          ],
          [
           13478400
          ],
          [
           10003200
          ],
          [
           9410400
          ],
          [
           6796800
          ],
          [
           10556800
          ],
          [
           11531600
          ],
          [
           8019600
          ],
          [
           7762400
          ],
          [
           9456800
          ],
          [
           7362800
          ],
          [
           10174400
          ],
          [
           7887600
          ],
          [
           9519600
          ],
          [
           14182800
          ],
          [
           12586400
          ],
          [
           8735600
          ],
          [
           15846800
          ],
          [
           10446400
          ],
          [
           9477600
          ],
          [
           12149600
          ],
          [
           14057200
          ],
          [
           25097600
          ],
          [
           40534800
          ],
          [
           32293600
          ],
          [
           42425600
          ],
          [
           24944000
          ],
          [
           17512800
          ],
          [
           15636000
          ],
          [
           12485200
          ],
          [
           14374000
          ],
          [
           13695200
          ],
          [
           29466400
          ],
          [
           12715600
          ],
          [
           12821600
          ],
          [
           11904800
          ],
          [
           9803200
          ],
          [
           15204800
          ],
          [
           8524800
          ],
          [
           15556000
          ],
          [
           9214800
          ],
          [
           7550400
          ],
          [
           8563600
          ],
          [
           9826400
          ],
          [
           8211200
          ],
          [
           7970400
          ],
          [
           5643200
          ],
          [
           16864800
          ],
          [
           9046400
          ],
          [
           5896400
          ],
          [
           5320400
          ],
          [
           12263600
          ],
          [
           13604400
          ],
          [
           13351600
          ],
          [
           10094000
          ],
          [
           12948800
          ],
          [
           8863600
          ],
          [
           9890800
          ],
          [
           18221600
          ],
          [
           11518400
          ],
          [
           9594000
          ],
          [
           7517600
          ],
          [
           10070400
          ],
          [
           41445600
          ],
          [
           19677200
          ],
          [
           7604800
          ],
          [
           13364400
          ],
          [
           18247200
          ],
          [
           12555200
          ],
          [
           12230400
          ],
          [
           8513200
          ],
          [
           13897600
          ],
          [
           9484000
          ],
          [
           15337600
          ],
          [
           10450400
          ],
          [
           9764800
          ],
          [
           42570400
          ],
          [
           18341600
          ],
          [
           11994800
          ],
          [
           11118800
          ],
          [
           13537600
          ],
          [
           16947600
          ],
          [
           151904000
          ],
          [
           92634400
          ],
          [
           52044400
          ],
          [
           57378000
          ],
          [
           30648000
          ],
          [
           39266400
          ],
          [
           36272400
          ],
          [
           62233200
          ],
          [
           24244800
          ],
          [
           40476000
          ],
          [
           22974000
          ],
          [
           77025200
          ],
          [
           68106800
          ],
          [
           69630000
          ],
          [
           30559200
          ],
          [
           139010000
          ],
          [
           42604800
          ],
          [
           31755200
          ],
          [
           30060800
          ],
          [
           27057200
          ],
          [
           20950400
          ],
          [
           24316000
          ],
          [
           18216400
          ],
          [
           17362000
          ],
          [
           11220000
          ],
          [
           18141600
          ],
          [
           13234400
          ],
          [
           305814400
          ],
          [
           308611200
          ],
          [
           94622800
          ],
          [
           40718800
          ],
          [
           43045600
          ],
          [
           159579200
          ],
          [
           46606400
          ],
          [
           52676400
          ],
          [
           26416000
          ],
          [
           21447600
          ],
          [
           64848800
          ],
          [
           26029200
          ],
          [
           53505200
          ],
          [
           28924000
          ],
          [
           25554400
          ],
          [
           16663200
          ],
          [
           46187600
          ],
          [
           20908000
          ],
          [
           29818000
          ],
          [
           23231600
          ],
          [
           18820800
          ],
          [
           22072800
          ],
          [
           24979600
          ],
          [
           15304000
          ],
          [
           19530400
          ],
          [
           17413200
          ],
          [
           14143600
          ],
          [
           39099200
          ],
          [
           26712800
          ],
          [
           12676800
          ],
          [
           47150400
          ],
          [
           33581600
          ],
          [
           38396400
          ],
          [
           28732800
          ],
          [
           35440400
          ],
          [
           50016800
          ],
          [
           127934000
          ],
          [
           50615600
          ],
          [
           31533600
          ],
          [
           25180000
          ],
          [
           35890800
          ],
          [
           29545200
          ],
          [
           64480800
          ],
          [
           97431600
          ],
          [
           30235600
          ],
          [
           29987600
          ],
          [
           40028400
          ],
          [
           32759200
          ],
          [
           23460400
          ],
          [
           32779600
          ],
          [
           66475200
          ],
          [
           39504400
          ],
          [
           122610800
          ],
          [
           103321200
          ],
          [
           25048800
          ],
          [
           35863600
          ],
          [
           36965600
          ],
          [
           23737600
          ],
          [
           27690800
          ],
          [
           40090000
          ],
          [
           19846000
          ],
          [
           24224800
          ],
          [
           24517200
          ],
          [
           25928000
          ],
          [
           59632000
          ],
          [
           28242800
          ],
          [
           578006800
          ],
          [
           374869600
          ],
          [
           187465600
          ],
          [
           298887600
          ],
          [
           133887200
          ],
          [
           224867600
          ],
          [
           788631600
          ],
          [
           711496000
          ],
          [
           714352000
          ],
          [
           373586800
          ],
          [
           235263200
          ],
          [
           202264400
          ],
          [
           149528800
          ],
          [
           312732400
          ],
          [
           170794000
          ],
          [
           249709200
          ],
          [
           325380000
          ],
          [
           102749200
          ],
          [
           107372400
          ],
          [
           145820000
          ],
          [
           52226800
          ],
          [
           58293200
          ],
          [
           32700000
          ],
          [
           36747200
          ],
          [
           95962400
          ],
          [
           59312800
          ],
          [
           77904000
          ],
          [
           30260800
          ],
          [
           332446800
          ],
          [
           601235200
          ],
          [
           368776800
          ],
          [
           199176000
          ],
          [
           135132000
          ],
          [
           77095600
          ],
          [
           130427600
          ],
          [
           122934800
          ],
          [
           254262400
          ],
          [
           156397200
          ],
          [
           286282400
          ],
          [
           113250000
          ],
          [
           103383600
          ],
          [
           96401600
          ],
          [
           141691600
          ],
          [
           65926400
          ],
          [
           47059600
          ],
          [
           98709200
          ],
          [
           40246000
          ],
          [
           57716400
          ],
          [
           96711600
          ],
          [
           203849200
          ],
          [
           149722800
          ],
          [
           40168800
          ],
          [
           68379600
          ],
          [
           33575200
          ],
          [
           37337200
          ],
          [
           56282000
          ],
          [
           24873200
          ],
          [
           19073200
          ],
          [
           40189600
          ],
          [
           37849600
          ],
          [
           66734400
          ],
          [
           27227600
          ],
          [
           84552400
          ],
          [
           31427200
          ],
          [
           20858800
          ],
          [
           42080800
          ],
          [
           18634400
          ],
          [
           15251200
          ],
          [
           17383200
          ],
          [
           16116400
          ],
          [
           42128400
          ],
          [
           35730800
          ],
          [
           23155600
          ],
          [
           15041200
          ],
          [
           17734400
          ]
         ],
         "yaxis": "y2"
        }
       ],
       "layout": {
        "annotations": [
         {
          "font": {
           "size": 16
          },
          "showarrow": false,
          "text": "Historical share price",
          "x": 0.5,
          "xanchor": "center",
          "xref": "paper",
          "y": 0.9999999999999999,
          "yanchor": "bottom",
          "yref": "paper"
         },
         {
          "font": {
           "size": 16
          },
          "showarrow": false,
          "text": "Historical revenue",
          "x": 0.5,
          "xanchor": "center",
          "xref": "paper",
          "y": 0.35,
          "yanchor": "bottom",
          "yref": "paper"
         }
        ],
        "height": 900,
        "showlegend": false,
        "template": {
         "data": {
          "bar": [
           {
            "error_x": {
             "color": "#2a3f5f"
            },
            "error_y": {
             "color": "#2a3f5f"
            },
            "marker": {
             "line": {
              "color": "#E5ECF6",
              "width": 0.5
             },
             "pattern": {
              "fillmode": "overlay",
              "size": 10,
              "solidity": 0.2
             }
            },
            "type": "bar"
           }
          ],
          "barpolar": [
           {
            "marker": {
             "line": {
              "color": "#E5ECF6",
              "width": 0.5
             },
             "pattern": {
              "fillmode": "overlay",
              "size": 10,
              "solidity": 0.2
             }
            },
            "type": "barpolar"
           }
          ],
          "carpet": [
           {
            "aaxis": {
             "endlinecolor": "#2a3f5f",
             "gridcolor": "white",
             "linecolor": "white",
             "minorgridcolor": "white",
             "startlinecolor": "#2a3f5f"
            },
            "baxis": {
             "endlinecolor": "#2a3f5f",
             "gridcolor": "white",
             "linecolor": "white",
             "minorgridcolor": "white",
             "startlinecolor": "#2a3f5f"
            },
            "type": "carpet"
           }
          ],
          "choropleth": [
           {
            "colorbar": {
             "outlinewidth": 0,
             "ticks": ""
            },
            "type": "choropleth"
           }
          ],
          "contour": [
           {
            "colorbar": {
             "outlinewidth": 0,
             "ticks": ""
            },
            "colorscale": [
             [
              0,
              "#0d0887"
             ],
             [
              0.1111111111111111,
              "#46039f"
             ],
             [
              0.2222222222222222,
              "#7201a8"
             ],
             [
              0.3333333333333333,
              "#9c179e"
             ],
             [
              0.4444444444444444,
              "#bd3786"
             ],
             [
              0.5555555555555556,
              "#d8576b"
             ],
             [
              0.6666666666666666,
              "#ed7953"
             ],
             [
              0.7777777777777778,
              "#fb9f3a"
             ],
             [
              0.8888888888888888,
              "#fdca26"
             ],
             [
              1,
              "#f0f921"
             ]
            ],
            "type": "contour"
           }
          ],
          "contourcarpet": [
           {
            "colorbar": {
             "outlinewidth": 0,
             "ticks": ""
            },
            "type": "contourcarpet"
           }
          ],
          "heatmap": [
           {
            "colorbar": {
             "outlinewidth": 0,
             "ticks": ""
            },
            "colorscale": [
             [
              0,
              "#0d0887"
             ],
             [
              0.1111111111111111,
              "#46039f"
             ],
             [
              0.2222222222222222,
              "#7201a8"
             ],
             [
              0.3333333333333333,
              "#9c179e"
             ],
             [
              0.4444444444444444,
              "#bd3786"
             ],
             [
              0.5555555555555556,
              "#d8576b"
             ],
             [
              0.6666666666666666,
              "#ed7953"
             ],
             [
              0.7777777777777778,
              "#fb9f3a"
             ],
             [
              0.8888888888888888,
              "#fdca26"
             ],
             [
              1,
              "#f0f921"
             ]
            ],
            "type": "heatmap"
           }
          ],
          "heatmapgl": [
           {
            "colorbar": {
             "outlinewidth": 0,
             "ticks": ""
            },
            "colorscale": [
             [
              0,
              "#0d0887"
             ],
             [
              0.1111111111111111,
              "#46039f"
             ],
             [
              0.2222222222222222,
              "#7201a8"
             ],
             [
              0.3333333333333333,
              "#9c179e"
             ],
             [
              0.4444444444444444,
              "#bd3786"
             ],
             [
              0.5555555555555556,
              "#d8576b"
             ],
             [
              0.6666666666666666,
              "#ed7953"
             ],
             [
              0.7777777777777778,
              "#fb9f3a"
             ],
             [
              0.8888888888888888,
              "#fdca26"
             ],
             [
              1,
              "#f0f921"
             ]
            ],
            "type": "heatmapgl"
           }
          ],
          "histogram": [
           {
            "marker": {
             "pattern": {
              "fillmode": "overlay",
              "size": 10,
              "solidity": 0.2
             }
            },
            "type": "histogram"
           }
          ],
          "histogram2d": [
           {
            "colorbar": {
             "outlinewidth": 0,
             "ticks": ""
            },
            "colorscale": [
             [
              0,
              "#0d0887"
             ],
             [
              0.1111111111111111,
              "#46039f"
             ],
             [
              0.2222222222222222,
              "#7201a8"
             ],
             [
              0.3333333333333333,
              "#9c179e"
             ],
             [
              0.4444444444444444,
              "#bd3786"
             ],
             [
              0.5555555555555556,
              "#d8576b"
             ],
             [
              0.6666666666666666,
              "#ed7953"
             ],
             [
              0.7777777777777778,
              "#fb9f3a"
             ],
             [
              0.8888888888888888,
              "#fdca26"
             ],
             [
              1,
              "#f0f921"
             ]
            ],
            "type": "histogram2d"
           }
          ],
          "histogram2dcontour": [
           {
            "colorbar": {
             "outlinewidth": 0,
             "ticks": ""
            },
            "colorscale": [
             [
              0,
              "#0d0887"
             ],
             [
              0.1111111111111111,
              "#46039f"
             ],
             [
              0.2222222222222222,
              "#7201a8"
             ],
             [
              0.3333333333333333,
              "#9c179e"
             ],
             [
              0.4444444444444444,
              "#bd3786"
             ],
             [
              0.5555555555555556,
              "#d8576b"
             ],
             [
              0.6666666666666666,
              "#ed7953"
             ],
             [
              0.7777777777777778,
              "#fb9f3a"
             ],
             [
              0.8888888888888888,
              "#fdca26"
             ],
             [
              1,
              "#f0f921"
             ]
            ],
            "type": "histogram2dcontour"
           }
          ],
          "mesh3d": [
           {
            "colorbar": {
             "outlinewidth": 0,
             "ticks": ""
            },
            "type": "mesh3d"
           }
          ],
          "parcoords": [
           {
            "line": {
             "colorbar": {
              "outlinewidth": 0,
              "ticks": ""
             }
            },
            "type": "parcoords"
           }
          ],
          "pie": [
           {
            "automargin": true,
            "type": "pie"
           }
          ],
          "scatter": [
           {
            "fillpattern": {
             "fillmode": "overlay",
             "size": 10,
             "solidity": 0.2
            },
            "type": "scatter"
           }
          ],
          "scatter3d": [
           {
            "line": {
             "colorbar": {
              "outlinewidth": 0,
              "ticks": ""
             }
            },
            "marker": {
             "colorbar": {
              "outlinewidth": 0,
              "ticks": ""
             }
            },
            "type": "scatter3d"
           }
          ],
          "scattercarpet": [
           {
            "marker": {
             "colorbar": {
              "outlinewidth": 0,
              "ticks": ""
             }
            },
            "type": "scattercarpet"
           }
          ],
          "scattergeo": [
           {
            "marker": {
             "colorbar": {
              "outlinewidth": 0,
              "ticks": ""
             }
            },
            "type": "scattergeo"
           }
          ],
          "scattergl": [
           {
            "marker": {
             "colorbar": {
              "outlinewidth": 0,
              "ticks": ""
             }
            },
            "type": "scattergl"
           }
          ],
          "scattermapbox": [
           {
            "marker": {
             "colorbar": {
              "outlinewidth": 0,
              "ticks": ""
             }
            },
            "type": "scattermapbox"
           }
          ],
          "scatterpolar": [
           {
            "marker": {
             "colorbar": {
              "outlinewidth": 0,
              "ticks": ""
             }
            },
            "type": "scatterpolar"
           }
          ],
          "scatterpolargl": [
           {
            "marker": {
             "colorbar": {
              "outlinewidth": 0,
              "ticks": ""
             }
            },
            "type": "scatterpolargl"
           }
          ],
          "scatterternary": [
           {
            "marker": {
             "colorbar": {
              "outlinewidth": 0,
              "ticks": ""
             }
            },
            "type": "scatterternary"
           }
          ],
          "surface": [
           {
            "colorbar": {
             "outlinewidth": 0,
             "ticks": ""
            },
            "colorscale": [
             [
              0,
              "#0d0887"
             ],
             [
              0.1111111111111111,
              "#46039f"
             ],
             [
              0.2222222222222222,
              "#7201a8"
             ],
             [
              0.3333333333333333,
              "#9c179e"
             ],
             [
              0.4444444444444444,
              "#bd3786"
             ],
             [
              0.5555555555555556,
              "#d8576b"
             ],
             [
              0.6666666666666666,
              "#ed7953"
             ],
             [
              0.7777777777777778,
              "#fb9f3a"
             ],
             [
              0.8888888888888888,
              "#fdca26"
             ],
             [
              1,
              "#f0f921"
             ]
            ],
            "type": "surface"
           }
          ],
          "table": [
           {
            "cells": {
             "fill": {
              "color": "#EBF0F8"
             },
             "line": {
              "color": "white"
             }
            },
            "header": {
             "fill": {
              "color": "#C8D4E3"
             },
             "line": {
              "color": "white"
             }
            },
            "type": "table"
           }
          ]
         },
         "layout": {
          "annotationdefaults": {
           "arrowcolor": "#2a3f5f",
           "arrowhead": 0,
           "arrowwidth": 1
          },
          "autotypenumbers": "strict",
          "coloraxis": {
           "colorbar": {
            "outlinewidth": 0,
            "ticks": ""
           }
          },
          "colorscale": {
           "diverging": [
            [
             0,
             "#8e0152"
            ],
            [
             0.1,
             "#c51b7d"
            ],
            [
             0.2,
             "#de77ae"
            ],
            [
             0.3,
             "#f1b6da"
            ],
            [
             0.4,
             "#fde0ef"
            ],
            [
             0.5,
             "#f7f7f7"
            ],
            [
             0.6,
             "#e6f5d0"
            ],
            [
             0.7,
             "#b8e186"
            ],
            [
             0.8,
             "#7fbc41"
            ],
            [
             0.9,
             "#4d9221"
            ],
            [
             1,
             "#276419"
            ]
           ],
           "sequential": [
            [
             0,
             "#0d0887"
            ],
            [
             0.1111111111111111,
             "#46039f"
            ],
            [
             0.2222222222222222,
             "#7201a8"
            ],
            [
             0.3333333333333333,
             "#9c179e"
            ],
            [
             0.4444444444444444,
             "#bd3786"
            ],
            [
             0.5555555555555556,
             "#d8576b"
            ],
            [
             0.6666666666666666,
             "#ed7953"
            ],
            [
             0.7777777777777778,
             "#fb9f3a"
            ],
            [
             0.8888888888888888,
             "#fdca26"
            ],
            [
             1,
             "#f0f921"
            ]
           ],
           "sequentialminus": [
            [
             0,
             "#0d0887"
            ],
            [
             0.1111111111111111,
             "#46039f"
            ],
            [
             0.2222222222222222,
             "#7201a8"
            ],
            [
             0.3333333333333333,
             "#9c179e"
            ],
            [
             0.4444444444444444,
             "#bd3786"
            ],
            [
             0.5555555555555556,
             "#d8576b"
            ],
            [
             0.6666666666666666,
             "#ed7953"
            ],
            [
             0.7777777777777778,
             "#fb9f3a"
            ],
            [
             0.8888888888888888,
             "#fdca26"
            ],
            [
             1,
             "#f0f921"
            ]
           ]
          },
          "colorway": [
           "#636efa",
           "#EF553B",
           "#00cc96",
           "#ab63fa",
           "#FFA15A",
           "#19d3f3",
           "#FF6692",
           "#B6E880",
           "#FF97FF",
           "#FECB52"
          ],
          "font": {
           "color": "#2a3f5f"
          },
          "geo": {
           "bgcolor": "white",
           "lakecolor": "white",
           "landcolor": "#E5ECF6",
           "showlakes": true,
           "showland": true,
           "subunitcolor": "white"
          },
          "hoverlabel": {
           "align": "left"
          },
          "hovermode": "closest",
          "mapbox": {
           "style": "light"
          },
          "paper_bgcolor": "white",
          "plot_bgcolor": "#E5ECF6",
          "polar": {
           "angularaxis": {
            "gridcolor": "white",
            "linecolor": "white",
            "ticks": ""
           },
           "bgcolor": "#E5ECF6",
           "radialaxis": {
            "gridcolor": "white",
            "linecolor": "white",
            "ticks": ""
           }
          },
          "scene": {
           "xaxis": {
            "backgroundcolor": "#E5ECF6",
            "gridcolor": "white",
            "gridwidth": 2,
            "linecolor": "white",
            "showbackground": true,
            "ticks": "",
            "zerolinecolor": "white"
           },
           "yaxis": {
            "backgroundcolor": "#E5ECF6",
            "gridcolor": "white",
            "gridwidth": 2,
            "linecolor": "white",
            "showbackground": true,
            "ticks": "",
            "zerolinecolor": "white"
           },
           "zaxis": {
            "backgroundcolor": "#E5ECF6",
            "gridcolor": "white",
            "gridwidth": 2,
            "linecolor": "white",
            "showbackground": true,
            "ticks": "",
            "zerolinecolor": "white"
           }
          },
          "shapedefaults": {
           "line": {
            "color": "#2a3f5f"
           }
          },
          "ternary": {
           "aaxis": {
            "gridcolor": "white",
            "linecolor": "white",
            "ticks": ""
           },
           "baxis": {
            "gridcolor": "white",
            "linecolor": "white",
            "ticks": ""
           },
           "bgcolor": "#E5ECF6",
           "caxis": {
            "gridcolor": "white",
            "linecolor": "white",
            "ticks": ""
           }
          },
          "title": {
           "x": 0.05
          },
          "xaxis": {
           "automargin": true,
           "gridcolor": "white",
           "linecolor": "white",
           "ticks": "",
           "title": {
            "standoff": 15
           },
           "zerolinecolor": "white",
           "zerolinewidth": 2
          },
          "yaxis": {
           "automargin": true,
           "gridcolor": "white",
           "linecolor": "white",
           "ticks": "",
           "title": {
            "standoff": 15
           },
           "zerolinecolor": "white",
           "zerolinewidth": 2
          }
         }
        },
        "title": {
         "text": "GameStop"
        },
        "xaxis": {
         "anchor": "y",
         "domain": [
          0,
          1
         ],
         "matches": "x2",
         "rangeslider": {
          "visible": true
         },
         "showticklabels": false,
         "title": {
          "text": "price ($US)"
         }
        },
        "xaxis2": {
         "anchor": "y2",
         "domain": [
          0,
          1
         ],
         "title": {
          "text": "Revenue"
         }
        },
        "yaxis": {
         "anchor": "x",
         "domain": [
          0.6499999999999999,
          0.9999999999999999
         ]
        },
        "yaxis2": {
         "anchor": "x2",
         "domain": [
          0,
          0.35
         ]
        }
       }
      }
     },
     "metadata": {},
     "output_type": "display_data"
    }
   ],
   "source": [
    "gme_data = yf.download (\"GME\" ,start= \"2020-01-01\", end=\"2021-09-30\", progress=False)\n",
    "gme_data.reset_index(inplace=True)\n",
    "\n",
    "gme_revenue=gme_data.copy()\n",
    "gme_revenue.reset_index(inplace=True)\n",
    "\n",
    "gme_data['Date']=pd.to_datetime(gme_data['Date'])\n",
    "gme_revenue['Date']=pd.to_datetime(gme_revenue['Date'])\n",
    "\n",
    "def make_graph(stock_data, revenue_data, stock):\n",
    "    fig = make_subplots (\n",
    "        rows=2,\n",
    "        cols=1,\n",
    "        shared_xaxes= True,\n",
    "        subplot_titles=(\"Historical share price\", \"Historical revenue\"),\n",
    "        vertical_spacing=0.3\n",
    "    )\n",
    "    stock_data_specific = stock_data[stock_data['Date']<='2021-06-14']\n",
    "    revenue_data_specific= revenue_data[revenue_data['Date']<='2021-04-30']\n",
    "\n",
    "    fig.add_trace(go.Scatter(\n",
    "        x=stock_data_specific['Date'],\n",
    "        y=stock_data_specific['Close'].astype(float),\n",
    "        name=\"share Price\"\n",
    "        ), row=1, col=1)\n",
    "\n",
    "    fig.add_trace(go.Scatter(\n",
    "        x= revenue_data_specific['Date'],\n",
    "        y=revenue_data_specific['Volume'].astype(float),\n",
    "        name= \"Volume\"\n",
    "        ), row=2, col=1)\n",
    "\n",
    "    fig.update_xaxes(title_text = \"Date\", row=1, col=1)\n",
    "    fig.update_xaxes(title_text = \"Date\", row=2,col=1)\n",
    "    fig.update_xaxes(title_text = \"price ($US)\", row=1, col=1)\n",
    "    fig.update_xaxes(title_text = \"Revenue\", row=2, col=1)\n",
    "\n",
    "    fig.update_layout(\n",
    "    showlegend=False,\n",
    "    height= 900,\n",
    "    title=stock,\n",
    "    xaxis_rangeslider_visible= True\n",
    "\n",
    "\n",
    "    )\n",
    "    fig.show()\n",
    "\n",
    "\n",
    "make_graph(gme_data, gme_revenue, \"GameStop\")\n"
   ]
  },
  {
   "cell_type": "markdown",
   "id": "6e62addb-6514-47c9-9bd5-f5388c13b9b5",
   "metadata": {},
   "source": [
    "<h2>About the Authors:</h2> \n",
    "\n",
    "<a href=\"https://www.linkedin.com/in/joseph-s-50398b136/\">Joseph Santarcangelo</a> has a PhD in Electrical Engineering, his research focused on using machine learning, signal processing, and computer vision to determine how videos impact human cognition. Joseph has been working for IBM since he completed his PhD.\n",
    "\n",
    "Azim Hirjani\n"
   ]
  },
  {
   "cell_type": "markdown",
   "id": "849332f1-a89d-4a50-bf72-6af3f290e4b0",
   "metadata": {},
   "source": [
    "## Change Log\n",
    "\n",
    "| Date (YYYY-MM-DD) | Version | Changed By    | Change Description        |\n",
    "| ----------------- | ------- | ------------- | ------------------------- |\n",
    "| 2022-02-28        | 1.2     | Lakshmi Holla | Changed the URL of GameStop |\n",
    "| 2020-11-10        | 1.1     | Malika Singla | Deleted the Optional part |\n",
    "| 2020-08-27        | 1.0     | Malika Singla | Added lab to GitLab       |\n",
    "\n",
    "<hr>\n",
    "\n",
    "## <h3 align=\"center\"> © IBM Corporation 2020. All rights reserved. <h3/>\n",
    "\n",
    "<p>\n"
   ]
  }
 ],
 "metadata": {
  "kernelspec": {
   "display_name": "Python 3",
   "language": "python",
   "name": "python3"
  },
  "language_info": {
   "codemirror_mode": {
    "name": "ipython",
    "version": 3
   },
   "file_extension": ".py",
   "mimetype": "text/x-python",
   "name": "python",
   "nbconvert_exporter": "python",
   "pygments_lexer": "ipython3",
   "version": "3.12.4"
  },
  "prev_pub_hash": "83a07babb305ceb42e09cd85ba8721036292c63a89e4dfdc9f0eaa89fb9cd33d"
 },
 "nbformat": 4,
 "nbformat_minor": 4
}
